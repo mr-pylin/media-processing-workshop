{
  "cells": [
    {
      "cell_type": "markdown",
      "metadata": {},
      "source": [
        "📝 **Author:** Amirhossein Heydari - 📧 **Email:** <amirhosseinheydari78@gmail.com> - 📍 **Origin:** [mr-pylin/media-processing-workshop](https://github.com/mr-pylin/media-processing-workshop)\n",
        "\n",
        "---\n"
      ]
    },
    {
      "cell_type": "markdown",
      "metadata": {},
      "source": [
        "**Table of contents**<a id='toc0_'></a>    \n",
        "- [Dependencies](#toc1_)    \n",
        "- [Load Images](#toc2_)    \n",
        "- [Image Enhancement](#toc3_)    \n",
        "  - [Spatial Domain: Histogram Processing](#toc3_1_)    \n",
        "    - [Histogram](#toc3_1_1_)    \n",
        "      - [Using Matplotlib and NumPy](#toc3_1_1_1_)    \n",
        "      - [Using OpenCV](#toc3_1_1_2_)    \n",
        "      - [Using PIL](#toc3_1_1_3_)    \n",
        "      - [Using scikit-image](#toc3_1_1_4_)    \n",
        "    - [Histogram Sliding (Brightness Adjustment)](#toc3_1_2_)    \n",
        "    - [Histogram Stretching (Contrast Expansion) and  Shrinking (Contrast Compression)](#toc3_1_3_)    \n",
        "      - [Manual](#toc3_1_3_1_)    \n",
        "      - [Using OpenCV](#toc3_1_3_2_)    \n",
        "      - [Using scikit-image](#toc3_1_3_3_)    \n",
        "      - [Data Loss when Shrinking](#toc3_1_3_4_)    \n",
        "    - [Global Histogram Equalization](#toc3_1_4_)    \n",
        "      - [Manual](#toc3_1_4_1_)    \n",
        "      - [Using OpenCV](#toc3_1_4_2_)    \n",
        "      - [Using PIL](#toc3_1_4_3_)    \n",
        "    - [Local (Adaptive) Histogram Equalization](#toc3_1_5_)    \n",
        "      - [Manual](#toc3_1_5_1_)    \n",
        "      - [Using OpenCV](#toc3_1_5_2_)    \n",
        "    - [Historam Matching (Specification)](#toc3_1_6_)    \n",
        "      - [Manual](#toc3_1_6_1_)    \n",
        "      - [Using scikit-image](#toc3_1_6_2_)    \n",
        "    - [Intensity Transformation Effects on Histogram](#toc3_1_7_)    \n",
        "    - [Noise Effects on Histogram](#toc3_1_8_)    \n",
        "\n",
        "<!-- vscode-jupyter-toc-config\n",
        "\tnumbering=false\n",
        "\tanchor=true\n",
        "\tflat=false\n",
        "\tminLevel=1\n",
        "\tmaxLevel=6\n",
        "\t/vscode-jupyter-toc-config -->\n",
        "<!-- THIS CELL WILL BE REPLACED ON TOC UPDATE. DO NOT WRITE YOUR TEXT IN THIS CELL -->"
      ]
    },
    {
      "cell_type": "markdown",
      "metadata": {},
      "source": [
        "# <a id='toc1_'></a>[Dependencies](#toc0_)\n"
      ]
    },
    {
      "cell_type": "code",
      "execution_count": null,
      "metadata": {},
      "outputs": [],
      "source": [
        "import cv2\n",
        "import matplotlib.pyplot as plt\n",
        "import numpy as np\n",
        "import skimage\n",
        "from matplotlib.gridspec import GridSpec\n",
        "from PIL import Image, ImageOps"
      ]
    },
    {
      "cell_type": "markdown",
      "metadata": {},
      "source": [
        "# <a id='toc2_'></a>[Load Images](#toc0_)\n"
      ]
    },
    {
      "cell_type": "code",
      "execution_count": null,
      "metadata": {},
      "outputs": [],
      "source": [
        "im_1 = cv2.imread(\"../assets/images/dip_3rd/CH03_Fig0354(a)(einstein_orig).tif\", flags=cv2.IMREAD_GRAYSCALE)\n",
        "im_2 = cv2.imread(\"../assets/images/dip_3rd/CH03_Fig0309(a)(washed_out_aerial_image).tif\", flags=cv2.IMREAD_GRAYSCALE)\n",
        "im_3 = cv2.imread(\"../assets/images/dip_3rd/CH03_Fig0326(a)(embedded_square_noisy_512).tif\", flags=cv2.IMREAD_GRAYSCALE)\n",
        "im_4 = cv2.cvtColor(\n",
        "    cv2.imread(\"../assets/images/dip_3rd/CH06_Fig0638(a)(lenna_RGB).tif\"),\n",
        "    cv2.COLOR_BGR2RGB,\n",
        ")"
      ]
    },
    {
      "cell_type": "code",
      "execution_count": null,
      "metadata": {},
      "outputs": [],
      "source": [
        "img_1 = Image.fromarray(im_1)\n",
        "img_2 = Image.fromarray(im_2)\n",
        "img_3 = Image.fromarray(im_3)\n",
        "img_4 = Image.fromarray(im_4)"
      ]
    },
    {
      "cell_type": "code",
      "execution_count": null,
      "metadata": {},
      "outputs": [],
      "source": [
        "# plot\n",
        "fig, axs = plt.subplots(nrows=1, ncols=4, figsize=(16, 4), layout=\"constrained\")\n",
        "axs[0].imshow(im_1, vmin=0, vmax=255, cmap=\"gray\")\n",
        "axs[0].set_title(\"(einstein_orig).tif\")\n",
        "axs[1].imshow(im_2, vmin=0, vmax=255, cmap=\"gray\")\n",
        "axs[1].set_title(\"(washed_out_aerial_image).tif\")\n",
        "axs[2].imshow(im_3, vmin=0, vmax=255, cmap=\"gray\")\n",
        "axs[2].set_title(\"(embedded_square_noisy_512).tif\")\n",
        "axs[3].imshow(im_4, vmin=0, vmax=255)\n",
        "axs[3].set_title(\"(lenna_RGB).tif\")\n",
        "for ax in fig.axes:\n",
        "    ax.set_xticks([])\n",
        "    ax.set_yticks([])\n",
        "plt.show()"
      ]
    },
    {
      "cell_type": "markdown",
      "metadata": {},
      "source": [
        "# <a id='toc3_'></a>[Image Enhancement](#toc0_)\n",
        "\n",
        "Image enhancement is the procedure of improving the quality for a specific purpose!\n",
        "\n",
        "- Spatial Domain\n",
        "  - Intensity Transformation\n",
        "  - **Histogram Processing**\n",
        "  - Spatial Filtering\n",
        "- Frequency Domain\n",
        "  - Fourier Transform\n",
        "  - Cosine Transform\n",
        "- Hybrid Domain\n",
        "  - Wavelet Transform\n"
      ]
    },
    {
      "cell_type": "markdown",
      "metadata": {},
      "source": [
        "## <a id='toc3_1_'></a>[Spatial Domain: Histogram Processing](#toc0_)\n"
      ]
    },
    {
      "cell_type": "markdown",
      "metadata": {},
      "source": [
        "### <a id='toc3_1_1_'></a>[Histogram](#toc0_)\n",
        "\n",
        "A graphical representation of the number of pixels in an image as a function of their intensity.\n",
        "\n",
        "📝 **Docs**:\n",
        "\n",
        "- `numpy.histogram`: [numpy.org/doc/stable/reference/generated/numpy.histogram.html](https://numpy.org/doc/stable/reference/generated/numpy.histogram.html)\n",
        "- `matplotlib.pyplot.hist`: [matplotlib.org/stable/api/_as_gen/matplotlib.pyplot.hist.html](https://matplotlib.org/stable/api/_as_gen/matplotlib.pyplot.hist.html)\n",
        "- Histogram Calculation: [docs.opencv.org/5.x/d8/dbc/tutorial_histogram_calculation.html](https://docs.opencv.org/5.x/d8/dbc/tutorial_histogram_calculation.html)\n",
        "- `PIL.Image.Image.histogram`: [pillow.readthedocs.io/en/stable/reference/Image.html#PIL.Image.Image.histogram](https://pillow.readthedocs.io/en/stable/reference/Image.html#PIL.Image.Image.histogram)\n",
        "- `skimage.exposure`: [scikit-image.org/docs/stable/api/skimage.exposure.html](https://scikit-image.org/docs/stable/api/skimage.exposure.html)\n"
      ]
    },
    {
      "cell_type": "markdown",
      "metadata": {},
      "source": [
        "#### <a id='toc3_1_1_1_'></a>[Using Matplotlib and NumPy](#toc0_)\n"
      ]
    },
    {
      "cell_type": "code",
      "execution_count": null,
      "metadata": {},
      "outputs": [],
      "source": [
        "hist_1, bin_edges_1 = np.histogram(im_1.ravel(), bins=range(0, 260, 10))\n",
        "hist_2, bin_edges_2 = np.histogram(im_1.ravel(), bins=255, range=(0, 256))"
      ]
    },
    {
      "cell_type": "code",
      "execution_count": null,
      "metadata": {},
      "outputs": [],
      "source": [
        "# plot\n",
        "fig = plt.figure(figsize=(16, 8), layout=\"constrained\")\n",
        "gs = GridSpec(nrows=2, ncols=3, figure=fig)\n",
        "ax1 = fig.add_subplot(gs[:, 0])\n",
        "ax2 = fig.add_subplot(gs[0, 1])\n",
        "ax3 = fig.add_subplot(gs[0, 2])\n",
        "ax4 = fig.add_subplot(gs[1, 1])\n",
        "ax5 = fig.add_subplot(gs[1, 2])\n",
        "ax1.imshow(im_1, cmap=\"gray\", vmin=0, vmax=255)\n",
        "ax1.set_title(\"(einstein_orig).tif\")\n",
        "ax2.hist(im_1.ravel(), bins=255, range=(0, 256))\n",
        "ax2.set_title(\"plt.hist\")\n",
        "ax3.hist(im_1.ravel(), bins=26, range=(0, 260), width=9)\n",
        "ax3.set_title(\"plt.hist\")\n",
        "ax4.stem(bin_edges_1[:-1], hist_1)\n",
        "ax4.set_title(\"plt.stem\")\n",
        "ax5.plot(bin_edges_2[:-1], hist_2)\n",
        "ax5.set_title(\"plt.plot\")\n",
        "plt.show()"
      ]
    },
    {
      "cell_type": "markdown",
      "metadata": {},
      "source": [
        "#### <a id='toc3_1_1_2_'></a>[Using OpenCV](#toc0_)\n"
      ]
    },
    {
      "cell_type": "code",
      "execution_count": null,
      "metadata": {},
      "outputs": [],
      "source": [
        "hist_r = cv2.calcHist([im_4], channels=[0], mask=None, histSize=[256], ranges=[0, 256])\n",
        "hist_g = cv2.calcHist([im_4], channels=[1], mask=None, histSize=[256], ranges=[0, 256])\n",
        "hist_b = cv2.calcHist([im_4], channels=[2], mask=None, histSize=[256], ranges=[0, 256])"
      ]
    },
    {
      "cell_type": "code",
      "execution_count": null,
      "metadata": {},
      "outputs": [],
      "source": [
        "# plot\n",
        "fig = plt.figure(figsize=(20, 8), layout=\"constrained\")\n",
        "gs = GridSpec(nrows=2, ncols=4, figure=fig)\n",
        "ax1 = fig.add_subplot(gs[:, 0])\n",
        "ax2 = fig.add_subplot(gs[0, 1])\n",
        "ax3 = fig.add_subplot(gs[0, 2])\n",
        "ax4 = fig.add_subplot(gs[0, 3])\n",
        "ax5 = fig.add_subplot(gs[1, 1])\n",
        "ax6 = fig.add_subplot(gs[1, 2])\n",
        "ax7 = fig.add_subplot(gs[1, 3])\n",
        "ax1.imshow(im_4, vmin=0, vmax=255)\n",
        "ax1.set_title(\"(lenna_RGB).tif\")\n",
        "ax2.imshow(im_4[:, :, 0], cmap=\"gray\", vmin=0, vmax=255)\n",
        "ax2.set_title(\"Red\")\n",
        "ax3.imshow(im_4[:, :, 1], cmap=\"gray\", vmin=0, vmax=255)\n",
        "ax3.set_title(\"Green\")\n",
        "ax4.imshow(im_4[:, :, 2], cmap=\"gray\", vmin=0, vmax=255)\n",
        "ax4.set_title(\"Blue\")\n",
        "ax5.plot(hist_r, color=\"red\")\n",
        "ax5.set_title(\"Histogram\")\n",
        "ax6.plot(hist_g, color=\"green\")\n",
        "ax6.set_title(\"Histogram\")\n",
        "ax7.plot(hist_b, color=\"blue\")\n",
        "ax7.set_title(\"Histogram\")\n",
        "plt.show()"
      ]
    },
    {
      "cell_type": "markdown",
      "metadata": {},
      "source": [
        "#### <a id='toc3_1_1_3_'></a>[Using PIL](#toc0_)\n"
      ]
    },
    {
      "cell_type": "code",
      "execution_count": null,
      "metadata": {},
      "outputs": [],
      "source": [
        "hist = img_4.histogram()\n",
        "hist_r = hist[:256]\n",
        "hist_g = hist[256:512]\n",
        "hist_b = hist[512:]"
      ]
    },
    {
      "cell_type": "code",
      "execution_count": null,
      "metadata": {},
      "outputs": [],
      "source": [
        "# plot\n",
        "fig = plt.figure(figsize=(20, 8), layout=\"constrained\")\n",
        "gs = GridSpec(nrows=2, ncols=4, figure=fig)\n",
        "ax1 = fig.add_subplot(gs[:, 0])\n",
        "ax2 = fig.add_subplot(gs[0, 1])\n",
        "ax3 = fig.add_subplot(gs[0, 2])\n",
        "ax4 = fig.add_subplot(gs[0, 3])\n",
        "ax5 = fig.add_subplot(gs[1, 1])\n",
        "ax6 = fig.add_subplot(gs[1, 2])\n",
        "ax7 = fig.add_subplot(gs[1, 3])\n",
        "ax1.imshow(im_4, vmin=0, vmax=255)\n",
        "ax1.set_title(\"(lenna_RGB).tif\")\n",
        "ax2.imshow(im_4[:, :, 0], cmap=\"gray\", vmin=0, vmax=255)\n",
        "ax2.set_title(\"Red\")\n",
        "ax3.imshow(im_4[:, :, 1], cmap=\"gray\", vmin=0, vmax=255)\n",
        "ax3.set_title(\"Green\")\n",
        "ax4.imshow(im_4[:, :, 2], cmap=\"gray\", vmin=0, vmax=255)\n",
        "ax4.set_title(\"Blue\")\n",
        "ax5.plot(hist_r, color=\"red\")\n",
        "ax5.set_title(\"Histogram\")\n",
        "ax6.plot(hist_g, color=\"green\")\n",
        "ax6.set_title(\"Histogram\")\n",
        "ax7.plot(hist_b, color=\"blue\")\n",
        "ax7.set_title(\"Histogram\")\n",
        "plt.show()"
      ]
    },
    {
      "cell_type": "markdown",
      "metadata": {},
      "source": [
        "#### <a id='toc3_1_1_4_'></a>[Using scikit-image](#toc0_)\n"
      ]
    },
    {
      "cell_type": "code",
      "execution_count": null,
      "metadata": {},
      "outputs": [],
      "source": [
        "hist, _ = skimage.exposure.histogram(im_4, channel_axis=2)\n",
        "hist_r, hist_g, hist_b = hist"
      ]
    },
    {
      "cell_type": "code",
      "execution_count": null,
      "metadata": {},
      "outputs": [],
      "source": [
        "# plot\n",
        "fig = plt.figure(figsize=(20, 8), layout=\"constrained\")\n",
        "gs = GridSpec(nrows=2, ncols=4, figure=fig)\n",
        "ax1 = fig.add_subplot(gs[:, 0])\n",
        "ax2 = fig.add_subplot(gs[0, 1])\n",
        "ax3 = fig.add_subplot(gs[0, 2])\n",
        "ax4 = fig.add_subplot(gs[0, 3])\n",
        "ax5 = fig.add_subplot(gs[1, 1])\n",
        "ax6 = fig.add_subplot(gs[1, 2])\n",
        "ax7 = fig.add_subplot(gs[1, 3])\n",
        "ax1.imshow(im_4, vmin=0, vmax=255)\n",
        "ax1.set_title(\"(lenna_RGB).tif\")\n",
        "ax2.imshow(im_4[:, :, 0], cmap=\"gray\", vmin=0, vmax=255)\n",
        "ax2.set_title(\"Red\")\n",
        "ax3.imshow(im_4[:, :, 1], cmap=\"gray\", vmin=0, vmax=255)\n",
        "ax3.set_title(\"Green\")\n",
        "ax4.imshow(im_4[:, :, 2], cmap=\"gray\", vmin=0, vmax=255)\n",
        "ax4.set_title(\"Blue\")\n",
        "ax5.plot(hist_r, color=\"red\")\n",
        "ax5.set_title(\"Histogram\")\n",
        "ax6.plot(hist_g, color=\"green\")\n",
        "ax6.set_title(\"Histogram\")\n",
        "ax7.plot(hist_b, color=\"blue\")\n",
        "ax7.set_title(\"Histogram\")\n",
        "plt.show()"
      ]
    },
    {
      "cell_type": "markdown",
      "metadata": {},
      "source": [
        "### <a id='toc3_1_2_'></a>[Histogram Sliding (Brightness Adjustment)](#toc0_)\n"
      ]
    },
    {
      "cell_type": "code",
      "execution_count": null,
      "metadata": {},
      "outputs": [],
      "source": [
        "im_1_sliding_1 = im_1 - im_1.min()\n",
        "im_1_sliding_2 = im_1 + (255 - im_1.max())"
      ]
    },
    {
      "cell_type": "code",
      "execution_count": null,
      "metadata": {},
      "outputs": [],
      "source": [
        "# plot\n",
        "fig, axs = plt.subplots(2, 3, figsize=(12, 8), layout=\"compressed\")\n",
        "axs[0, 0].imshow(im_1, cmap=\"gray\", vmin=0, vmax=255)\n",
        "axs[0, 0].set_title(\"im_1\")\n",
        "axs[0, 1].imshow(im_1_sliding_1, cmap=\"gray\", vmin=0, vmax=255)\n",
        "axs[0, 1].set_title(\"im_1_sliding_1\")\n",
        "axs[0, 2].imshow(im_1_sliding_2, cmap=\"gray\", vmin=0, vmax=255)\n",
        "axs[0, 2].set_title(\"im_1_sliding_2\")\n",
        "axs[1, 0].hist(im_1.ravel(), bins=range(256))\n",
        "axs[1, 0].set_title(\"Histogram\")\n",
        "axs[1, 1].hist(im_1_sliding_1.ravel(), bins=range(256))\n",
        "axs[1, 1].set_title(\"Histogram\")\n",
        "axs[1, 2].hist(im_1_sliding_2.ravel(), bins=range(256))\n",
        "axs[1, 2].set_title(\"Histogram\")\n",
        "plt.show()"
      ]
    },
    {
      "cell_type": "markdown",
      "metadata": {},
      "source": [
        "### <a id='toc3_1_3_'></a>[Histogram Stretching (Contrast Expansion) and  Shrinking (Contrast Compression)](#toc0_)\n",
        "\n",
        "📝 **Docs**:\n",
        "\n",
        "- `cv2.normalize`: [docs.opencv.org/5.x/d2/de8/group__core__array.html#ga87eef7ee3970f86906d69a92cbf064bd](https://docs.opencv.org/5.x/d2/de8/group__core__array.html#ga87eef7ee3970f86906d69a92cbf064bd)\n",
        "- `skimage.exposure`: [scikit-image.org/docs/stable/api/skimage.exposure.html](https://scikit-image.org/docs/stable/api/skimage.exposure.html)\n"
      ]
    },
    {
      "cell_type": "markdown",
      "metadata": {},
      "source": [
        "#### <a id='toc3_1_3_1_'></a>[Manual](#toc0_)\n"
      ]
    },
    {
      "cell_type": "code",
      "execution_count": null,
      "metadata": {},
      "outputs": [],
      "source": [
        "im_1_stretch_1 = 255 * ((im_1 - im_1.min()) / (im_1.max() - im_1.min()))\n",
        "im_1_stretch_1 = im_1_stretch_1.astype(np.uint8)\n",
        "im_1_shrink_1 = 50 * ((im_1 - im_1.min()) / (im_1.max() - im_1.min())) + 205\n",
        "im_1_shrink_1 = im_1_shrink_1.astype(np.uint8)"
      ]
    },
    {
      "cell_type": "code",
      "execution_count": null,
      "metadata": {},
      "outputs": [],
      "source": [
        "# plot\n",
        "fig, axs = plt.subplots(2, 3, figsize=(12, 8), layout=\"compressed\")\n",
        "axs[0, 0].imshow(im_1, cmap=\"gray\", vmin=0, vmax=255)\n",
        "axs[0, 0].set_title(\"im_1\")\n",
        "axs[0, 1].imshow(im_1_stretch_1, cmap=\"gray\", vmin=0, vmax=255)\n",
        "axs[0, 1].set_title(\"im_1_stretch_1\")\n",
        "axs[0, 2].imshow(im_1_shrink_1, cmap=\"gray\", vmin=0, vmax=255)\n",
        "axs[0, 2].set_title(\"im_1_shrink_1\")\n",
        "axs[1, 0].hist(im_1.ravel(), bins=range(256))\n",
        "axs[1, 0].set_title(\"Histogram\")\n",
        "axs[1, 1].hist(im_1_stretch_1.ravel(), bins=range(256))\n",
        "axs[1, 1].set_title(\"Histogram\")\n",
        "axs[1, 2].hist(im_1_shrink_1.ravel(), bins=range(256))\n",
        "axs[1, 2].set_title(\"Histogram\")\n",
        "plt.show()"
      ]
    },
    {
      "cell_type": "markdown",
      "metadata": {},
      "source": [
        "#### <a id='toc3_1_3_2_'></a>[Using OpenCV](#toc0_)\n"
      ]
    },
    {
      "cell_type": "code",
      "execution_count": null,
      "metadata": {},
      "outputs": [],
      "source": [
        "im_1_stretch_2 = cv2.normalize(im_1, None, 0, 255, cv2.NORM_MINMAX)\n",
        "im_1_shrink_2 = cv2.normalize(im_1, None, 205, 255, cv2.NORM_MINMAX)\n",
        "\n",
        "# plot\n",
        "fig, axs = plt.subplots(2, 3, figsize=(12, 8), layout=\"compressed\")\n",
        "axs[0, 0].imshow(im_1, cmap=\"gray\", vmin=0, vmax=255)\n",
        "axs[0, 0].set_title(\"im_1\")\n",
        "axs[0, 1].imshow(im_1_stretch_2, cmap=\"gray\", vmin=0, vmax=255)\n",
        "axs[0, 1].set_title(\"im_1_stretch_2\")\n",
        "axs[0, 2].imshow(im_1_shrink_2, cmap=\"gray\", vmin=0, vmax=255)\n",
        "axs[0, 2].set_title(\"im_1_shrink_2\")\n",
        "axs[1, 0].hist(im_1.ravel(), bins=range(256))\n",
        "axs[1, 0].set_title(\"Histogram\")\n",
        "axs[1, 1].hist(im_1_stretch_2.ravel(), bins=range(256))\n",
        "axs[1, 1].set_title(\"Histogram\")\n",
        "axs[1, 2].hist(im_1_shrink_2.ravel(), bins=range(256))\n",
        "axs[1, 2].set_title(\"Histogram\")\n",
        "plt.show()"
      ]
    },
    {
      "cell_type": "markdown",
      "metadata": {},
      "source": [
        "#### <a id='toc3_1_3_3_'></a>[Using scikit-image](#toc0_)\n"
      ]
    },
    {
      "cell_type": "code",
      "execution_count": null,
      "metadata": {},
      "outputs": [],
      "source": [
        "im_1_stretch_3 = skimage.exposure.rescale_intensity(im_1, in_range=\"image\", out_range=(0, 255))\n",
        "im_1_shrink_3 = skimage.exposure.rescale_intensity(im_1, in_range=\"image\", out_range=(205, 255))\n",
        "\n",
        "# plot\n",
        "fig, axs = plt.subplots(2, 3, figsize=(12, 8), layout=\"compressed\")\n",
        "axs[0, 0].imshow(im_1, cmap=\"gray\", vmin=0, vmax=255)\n",
        "axs[0, 0].set_title(\"im_1\")\n",
        "axs[0, 1].imshow(im_1_stretch_3, cmap=\"gray\", vmin=0, vmax=255)\n",
        "axs[0, 1].set_title(\"im_1_stretch_3\")\n",
        "axs[0, 2].imshow(im_1_shrink_3, cmap=\"gray\", vmin=0, vmax=255)\n",
        "axs[0, 2].set_title(\"im_1_shrink_3\")\n",
        "axs[1, 0].hist(im_1.ravel(), bins=range(256))\n",
        "axs[1, 0].set_title(\"Histogram\")\n",
        "axs[1, 1].hist(im_1_stretch_3.ravel(), bins=range(256))\n",
        "axs[1, 1].set_title(\"Histogram\")\n",
        "axs[1, 2].hist(im_1_shrink_3.ravel(), bins=range(256))\n",
        "axs[1, 2].set_title(\"Histogram\")\n",
        "plt.show()"
      ]
    },
    {
      "cell_type": "markdown",
      "metadata": {},
      "source": [
        "#### <a id='toc3_1_3_4_'></a>[Data Loss when Shrinking](#toc0_)\n"
      ]
    },
    {
      "cell_type": "code",
      "execution_count": null,
      "metadata": {},
      "outputs": [],
      "source": [
        "# histogram stretching\n",
        "im_1_stretch_3 = cv2.normalize(im_1, None, 0, 255, cv2.NORM_MINMAX)\n",
        "im_1_shrink_3 = cv2.normalize(im_1_stretch_3, None, im_1.min(), im_1.max(), cv2.NORM_MINMAX)\n",
        "\n",
        "\n",
        "# plot\n",
        "fig, axs = plt.subplots(nrows=2, ncols=3, figsize=(16, 8), layout=\"compressed\")\n",
        "axs[0, 0].imshow(im_1, cmap=\"gray\", vmin=0, vmax=255)\n",
        "axs[0, 0].set_title(\"Original\")\n",
        "axs[0, 1].imshow(im_1_stretch_3, cmap=\"gray\", vmin=0, vmax=255)\n",
        "axs[0, 1].set_title(\"stretch(Original)\")\n",
        "axs[0, 2].imshow(im_1_shrink_3, cmap=\"gray\", vmin=0, vmax=255)\n",
        "axs[0, 2].set_title(\"shrink(stretch(Original))\")\n",
        "axs[1, 0].hist(im_1.ravel(), bins=range(256))\n",
        "axs[1, 0].set_title(\"Histogram\")\n",
        "axs[1, 1].hist(im_1_stretch_3.ravel(), bins=range(256))\n",
        "axs[1, 1].set_title(\"Histogram\")\n",
        "axs[1, 2].hist(im_1_shrink_3.ravel(), bins=range(256))\n",
        "axs[1, 2].set_title(\"Histogram\")\n",
        "plt.show()"
      ]
    },
    {
      "cell_type": "code",
      "execution_count": null,
      "metadata": {},
      "outputs": [],
      "source": [
        "# histogram shrinking\n",
        "im_1_shrink_4 = cv2.normalize(im_1, None, 0, 10, cv2.NORM_MINMAX)\n",
        "im_1_stretch_4 = cv2.normalize(im_1_shrink_4, None, im_1.min(), im_1.max(), cv2.NORM_MINMAX)\n",
        "\n",
        "\n",
        "# plot\n",
        "fig, axs = plt.subplots(nrows=2, ncols=3, figsize=(16, 8), layout=\"compressed\")\n",
        "axs[0, 0].imshow(im_1, cmap=\"gray\", vmin=0, vmax=255)\n",
        "axs[0, 0].set_title(\"Original\")\n",
        "axs[0, 1].imshow(im_1_shrink_4, cmap=\"gray\", vmin=0, vmax=255)\n",
        "axs[0, 1].set_title(\"shrink(Original)\")\n",
        "axs[0, 2].imshow(im_1_stretch_4, cmap=\"gray\", vmin=0, vmax=255)\n",
        "axs[0, 2].set_title(\"stretch(shrink(Original))\")\n",
        "axs[1, 0].hist(im_1.ravel(), bins=range(256))\n",
        "axs[1, 0].set_title(\"Histogram\")\n",
        "axs[1, 1].hist(im_1_shrink_4.ravel(), bins=range(256))\n",
        "axs[1, 1].set_title(\"Histogram\")\n",
        "axs[1, 2].hist(im_1_stretch_4.ravel(), bins=range(256))\n",
        "axs[1, 2].set_title(\"Histogram\")\n",
        "plt.show()"
      ]
    },
    {
      "cell_type": "markdown",
      "metadata": {},
      "source": [
        "### <a id='toc3_1_4_'></a>[Global Histogram Equalization](#toc0_)\n",
        "\n",
        "- Use Global Histogram Equalization if:\n",
        "  - The image has uniform lighting.\n",
        "  - You want simple contrast enhancement.\n",
        "  - The image is not too dark or too bright in specific areas.\n",
        "\n",
        "🔢 **Mathematics:**\n",
        "\n",
        "$$s_k = \\frac{(L - 1)}{MN} \\sum_{j=0}^{k} h(j)$$\n",
        "\n",
        "- $s_k$​ is the new intensity level after equalization.\n",
        "- $L$ is the total number of intensity levels (e.g., 256 for 8-bit images).\n",
        "- $M$ and $N$ are the image dimensions (total number of pixels $MN$).\n",
        "- $h(j)$ is the histogram count of intensity level $j$.\n",
        "- The summation represents the cumulative distribution function (CDF).\n",
        "\n",
        "📝 **Docs**:\n",
        "\n",
        "- `cv2.equalizeHist`: [docs.opencv.org/5.x/d6/dc7/group__imgproc__hist.html#ga7e54091f0c937d49bf84152a16f76d6e](https://docs.opencv.org/5.x/d6/dc7/group__imgproc__hist.html#ga7e54091f0c937d49bf84152a16f76d6e)\n",
        "- `PIL.ImageOps.equalize`: [pillow.readthedocs.io/en/stable/reference/ImageOps.html#PIL.ImageOps.equalize](https://pillow.readthedocs.io/en/stable/reference/ImageOps.html#PIL.ImageOps.equalize)\n"
      ]
    },
    {
      "cell_type": "markdown",
      "metadata": {},
      "source": [
        "#### <a id='toc3_1_4_1_'></a>[Manual](#toc0_)\n"
      ]
    },
    {
      "cell_type": "code",
      "execution_count": null,
      "metadata": {},
      "outputs": [],
      "source": [
        "def global_histogram_equalization(img: np.ndarray) -> np.ndarray:\n",
        "    hist, _ = np.histogram(img.flatten(), bins=256, range=[0, 256])\n",
        "    cdf = hist.cumsum()\n",
        "    cdf_norm = (cdf - cdf.min()) / (cdf.max() - cdf.min()) * 255\n",
        "    equalized_img = np.round(cdf_norm).astype(np.uint8)[img]\n",
        "    return equalized_img"
      ]
    },
    {
      "cell_type": "code",
      "execution_count": null,
      "metadata": {},
      "outputs": [],
      "source": [
        "im_1_histeq_1 = global_histogram_equalization(im_1)\n",
        "im_2_histeq_1 = global_histogram_equalization(im_2)\n",
        "im_3_histeq_1 = global_histogram_equalization(im_3)\n",
        "\n",
        "\n",
        "# plot\n",
        "fig, axs = plt.subplots(nrows=3, ncols=4, figsize=(16, 8), layout=\"compressed\")\n",
        "axs[0, 0].imshow(im_1, cmap=\"gray\", vmin=0, vmax=255)\n",
        "axs[0, 0].set_title(\"Original\")\n",
        "axs[0, 1].hist(im_1.ravel(), bins=range(256))\n",
        "axs[0, 1].set_title(\"Histogram\")\n",
        "axs[0, 2].imshow(im_1_histeq_1, cmap=\"gray\", vmin=0, vmax=255)\n",
        "axs[0, 2].set_title(\"im_1_histeq_1\")\n",
        "axs[0, 3].hist(im_1_histeq_1.ravel(), bins=range(256))\n",
        "axs[0, 3].set_title(\"Histogram\")\n",
        "axs[1, 0].imshow(im_2, cmap=\"gray\", vmin=0, vmax=255)\n",
        "axs[1, 0].set_title(\"Original\")\n",
        "axs[1, 1].hist(im_2.ravel(), bins=range(256))\n",
        "axs[1, 1].set_title(\"Histogram\")\n",
        "axs[1, 2].imshow(im_2_histeq_1, cmap=\"gray\", vmin=0, vmax=255)\n",
        "axs[1, 2].set_title(\"im_2_histeq_1\")\n",
        "axs[1, 3].hist(im_2_histeq_1.ravel(), bins=range(256))\n",
        "axs[1, 3].set_title(\"Histogram\")\n",
        "axs[2, 0].imshow(im_3, cmap=\"gray\", vmin=0, vmax=255)\n",
        "axs[2, 0].set_title(\"Original\")\n",
        "axs[2, 1].hist(im_3.ravel(), bins=range(256))\n",
        "axs[2, 1].set_title(\"Histogram\")\n",
        "axs[2, 2].imshow(im_3_histeq_1, cmap=\"gray\", vmin=0, vmax=255)\n",
        "axs[2, 2].set_title(\"im_3_histeq_1\")\n",
        "axs[2, 3].hist(im_3_histeq_1.ravel(), bins=range(256))\n",
        "axs[2, 3].set_title(\"Histogram\")\n",
        "plt.show()"
      ]
    },
    {
      "cell_type": "markdown",
      "metadata": {},
      "source": [
        "#### <a id='toc3_1_4_2_'></a>[Using OpenCV](#toc0_)\n"
      ]
    },
    {
      "cell_type": "code",
      "execution_count": null,
      "metadata": {},
      "outputs": [],
      "source": [
        "im_1_histeq_2 = cv2.equalizeHist(im_1)\n",
        "im_2_histeq_2 = cv2.equalizeHist(im_2)\n",
        "im_3_histeq_2 = cv2.equalizeHist(im_3)\n",
        "\n",
        "\n",
        "# plot\n",
        "fig, axs = plt.subplots(nrows=3, ncols=4, figsize=(16, 8), layout=\"compressed\")\n",
        "axs[0, 0].imshow(im_1, cmap=\"gray\", vmin=0, vmax=255)\n",
        "axs[0, 0].set_title(\"Original\")\n",
        "axs[0, 1].hist(im_1.ravel(), bins=range(256))\n",
        "axs[0, 1].set_title(\"Histogram\")\n",
        "axs[0, 2].imshow(im_1_histeq_2, cmap=\"gray\", vmin=0, vmax=255)\n",
        "axs[0, 2].set_title(\"im_1_histeq_2\")\n",
        "axs[0, 3].hist(im_1_histeq_2.ravel(), bins=range(256))\n",
        "axs[0, 3].set_title(\"Histogram\")\n",
        "axs[1, 0].imshow(im_2, cmap=\"gray\", vmin=0, vmax=255)\n",
        "axs[1, 0].set_title(\"Original\")\n",
        "axs[1, 1].hist(im_2.ravel(), bins=range(256))\n",
        "axs[1, 1].set_title(\"Histogram\")\n",
        "axs[1, 2].imshow(im_2_histeq_2, cmap=\"gray\", vmin=0, vmax=255)\n",
        "axs[1, 2].set_title(\"im_2_histeq_2\")\n",
        "axs[1, 3].hist(im_2_histeq_2.ravel(), bins=range(256))\n",
        "axs[1, 3].set_title(\"Histogram\")\n",
        "axs[2, 0].imshow(im_3, cmap=\"gray\", vmin=0, vmax=255)\n",
        "axs[2, 0].set_title(\"Original\")\n",
        "axs[2, 1].hist(im_3.ravel(), bins=range(256))\n",
        "axs[2, 1].set_title(\"Histogram\")\n",
        "axs[2, 2].imshow(im_3_histeq_2, cmap=\"gray\", vmin=0, vmax=255)\n",
        "axs[2, 2].set_title(\"im_3_histeq_2\")\n",
        "axs[2, 3].hist(im_3_histeq_2.ravel(), bins=range(256))\n",
        "axs[2, 3].set_title(\"Histogram\")\n",
        "plt.show()"
      ]
    },
    {
      "cell_type": "markdown",
      "metadata": {},
      "source": [
        "#### <a id='toc3_1_4_3_'></a>[Using PIL](#toc0_)\n",
        "\n",
        "It **clips** extreme values slightly to **reduce** excessive contrast changes, but it is still **global**.\n"
      ]
    },
    {
      "cell_type": "code",
      "execution_count": null,
      "metadata": {},
      "outputs": [],
      "source": [
        "im_1_histeq_3 = np.array(ImageOps.equalize(img_1))\n",
        "im_2_histeq_3 = np.array(ImageOps.equalize(img_2))\n",
        "im_3_histeq_3 = np.array(ImageOps.equalize(img_3))\n",
        "\n",
        "\n",
        "# plot\n",
        "fig, axs = plt.subplots(nrows=3, ncols=4, figsize=(16, 8), layout=\"compressed\")\n",
        "axs[0, 0].imshow(im_1, cmap=\"gray\", vmin=0, vmax=255)\n",
        "axs[0, 0].set_title(\"Original\")\n",
        "axs[0, 1].hist(im_1.ravel(), bins=range(256))\n",
        "axs[0, 1].set_title(\"Histogram\")\n",
        "axs[0, 2].imshow(im_1_histeq_3, cmap=\"gray\", vmin=0, vmax=255)\n",
        "axs[0, 2].set_title(\"im_1_histeq_3\")\n",
        "axs[0, 3].hist(im_1_histeq_3.ravel(), bins=range(256))\n",
        "axs[0, 3].set_title(\"Histogram\")\n",
        "axs[1, 0].imshow(im_2, cmap=\"gray\", vmin=0, vmax=255)\n",
        "axs[1, 0].set_title(\"Original\")\n",
        "axs[1, 1].hist(im_2.ravel(), bins=range(256))\n",
        "axs[1, 1].set_title(\"Histogram\")\n",
        "axs[1, 2].imshow(im_2_histeq_3, cmap=\"gray\", vmin=0, vmax=255)\n",
        "axs[1, 2].set_title(\"im_2_histeq_3\")\n",
        "axs[1, 3].hist(im_2_histeq_3.ravel(), bins=range(256))\n",
        "axs[1, 3].set_title(\"Histogram\")\n",
        "axs[2, 0].imshow(im_3, cmap=\"gray\", vmin=0, vmax=255)\n",
        "axs[2, 0].set_title(\"Original\")\n",
        "axs[2, 1].hist(im_3.ravel(), bins=range(256))\n",
        "axs[2, 1].set_title(\"Histogram\")\n",
        "axs[2, 2].imshow(im_3_histeq_3, cmap=\"gray\", vmin=0, vmax=255)\n",
        "axs[2, 2].set_title(\"im_3_histeq_3\")\n",
        "axs[2, 3].hist(im_3_histeq_3.ravel(), bins=range(256))\n",
        "axs[2, 3].set_title(\"Histogram\")\n",
        "plt.show()"
      ]
    },
    {
      "cell_type": "markdown",
      "metadata": {},
      "source": [
        "### <a id='toc3_1_5_'></a>[Local (Adaptive) Histogram Equalization](#toc0_)\n",
        "\n",
        "- Use Local  Histogram Equalization if:\n",
        "  - The image has uneven lighting (e.g., medical images, foggy scenes).\n",
        "  - You need detail enhancement without excessive noise.\n",
        "\n",
        "📝 **Docs**:\n",
        "\n",
        "- `cv2.createCLAHE`: [docs.opencv.org/5.x/d6/dc7/group__imgproc__hist.html#gad3b7f72da85b821fda2bc41687573974](https://docs.opencv.org/5.x/d6/dc7/group__imgproc__hist.html#gad3b7f72da85b821fda2bc41687573974)\n",
        "- `cv2.CLAHE`: [docs.opencv.org/5.x/d6/db6/classcv_1_1CLAHE.html](https://docs.opencv.org/5.x/d6/db6/classcv_1_1CLAHE.html)\n"
      ]
    },
    {
      "cell_type": "markdown",
      "metadata": {},
      "source": [
        "#### <a id='toc3_1_5_1_'></a>[Manual](#toc0_)\n"
      ]
    },
    {
      "cell_type": "code",
      "execution_count": null,
      "metadata": {},
      "outputs": [],
      "source": [
        "def local_histogram_equalization(img: np.ndarray, tile_size: int) -> np.ndarray:\n",
        "    h, w = img.shape\n",
        "    img_eq = np.zeros_like(img, dtype=np.uint8)\n",
        "    pad_h = tile_size - (h % tile_size) if h % tile_size != 0 else 0\n",
        "    pad_w = tile_size - (w % tile_size) if w % tile_size != 0 else 0\n",
        "    img_padded = np.pad(img, ((0, pad_h), (0, pad_w)), mode=\"reflect\")\n",
        "\n",
        "    for i in range(0, h + pad_h, tile_size):\n",
        "        for j in range(0, w + pad_w, tile_size):\n",
        "            tile = img_padded[i : i + tile_size, j : j + tile_size]\n",
        "\n",
        "            hist, _ = np.histogram(tile.flatten(), bins=256, range=[0, 256])\n",
        "            cdf = hist.cumsum()\n",
        "            cdf_min, cdf_max = cdf.min(), cdf.max()\n",
        "\n",
        "            if cdf_max == cdf_min:\n",
        "                tile_eq = np.full_like(tile, fill_value=tile[0, 0], dtype=np.uint8)\n",
        "            else:\n",
        "                cdf_norm = (cdf - cdf_min) / (cdf_max - cdf_min) * 255\n",
        "                tile_eq = cdf_norm[tile].astype(np.uint8)\n",
        "\n",
        "            crop_h, crop_w = min(tile_size, h - i), min(tile_size, w - j)\n",
        "            img_eq[i : i + crop_h, j : j + crop_w] = tile_eq[:crop_h, :crop_w]\n",
        "\n",
        "    return img_eq"
      ]
    },
    {
      "cell_type": "code",
      "execution_count": null,
      "metadata": {},
      "outputs": [],
      "source": [
        "im_1_lhisteq_1 = local_histogram_equalization(im_1, tile_size=2)\n",
        "im_1_lhisteq_2 = local_histogram_equalization(im_1, tile_size=8)\n",
        "im_1_lhisteq_3 = local_histogram_equalization(im_1, tile_size=16)\n",
        "im_1_lhisteq_4 = local_histogram_equalization(im_1, tile_size=64)\n",
        "im_2_lhisteq_1 = local_histogram_equalization(im_2, tile_size=2)\n",
        "im_2_lhisteq_2 = local_histogram_equalization(im_2, tile_size=8)\n",
        "im_2_lhisteq_3 = local_histogram_equalization(im_2, tile_size=16)\n",
        "im_2_lhisteq_4 = local_histogram_equalization(im_2, tile_size=64)\n",
        "im_3_lhisteq_1 = local_histogram_equalization(im_3, tile_size=2)\n",
        "im_3_lhisteq_2 = local_histogram_equalization(im_3, tile_size=8)\n",
        "im_3_lhisteq_3 = local_histogram_equalization(im_3, tile_size=16)\n",
        "im_3_lhisteq_4 = local_histogram_equalization(im_3, tile_size=64)\n",
        "\n",
        "\n",
        "# plot\n",
        "fig, axs = plt.subplots(nrows=6, ncols=5, figsize=(20, 24), layout=\"compressed\")\n",
        "axs[0, 0].imshow(im_1, cmap=\"gray\", vmin=0, vmax=255)\n",
        "axs[0, 0].set_title(\"Original\")\n",
        "axs[0, 1].imshow(im_1_lhisteq_1, cmap=\"gray\", vmin=0, vmax=255)\n",
        "axs[0, 1].set_title(\"tile_size=2\")\n",
        "axs[0, 2].imshow(im_1_lhisteq_2, cmap=\"gray\", vmin=0, vmax=255)\n",
        "axs[0, 2].set_title(\"tile_size=8\")\n",
        "axs[0, 3].imshow(im_1_lhisteq_3, cmap=\"gray\", vmin=0, vmax=255)\n",
        "axs[0, 3].set_title(\"tile_size=16\")\n",
        "axs[0, 4].imshow(im_1_lhisteq_4, cmap=\"gray\", vmin=0, vmax=255)\n",
        "axs[0, 4].set_title(\"tile_size=64\")\n",
        "axs[1, 0].hist(im_1.ravel(), bins=range(256))\n",
        "axs[1, 0].set_title(\"Histogram\")\n",
        "axs[1, 1].hist(im_1_lhisteq_1.ravel(), bins=range(256))\n",
        "axs[1, 1].set_title(\"Histogram\")\n",
        "axs[1, 2].hist(im_1_lhisteq_2.ravel(), bins=range(256))\n",
        "axs[1, 2].set_title(\"Histogram\")\n",
        "axs[1, 3].hist(im_1_lhisteq_3.ravel(), bins=range(256))\n",
        "axs[1, 3].set_title(\"Histogram\")\n",
        "axs[1, 4].hist(im_1_lhisteq_4.ravel(), bins=range(256))\n",
        "axs[1, 4].set_title(\"Histogram\")\n",
        "axs[2, 0].imshow(im_2, cmap=\"gray\", vmin=0, vmax=255)\n",
        "axs[2, 0].set_title(\"Original\")\n",
        "axs[2, 1].imshow(im_2_lhisteq_1, cmap=\"gray\", vmin=0, vmax=255)\n",
        "axs[2, 1].set_title(\"tile_size=2\")\n",
        "axs[2, 2].imshow(im_2_lhisteq_2, cmap=\"gray\", vmin=0, vmax=255)\n",
        "axs[2, 2].set_title(\"tile_size=8\")\n",
        "axs[2, 3].imshow(im_2_lhisteq_3, cmap=\"gray\", vmin=0, vmax=255)\n",
        "axs[2, 3].set_title(\"tile_size=16\")\n",
        "axs[2, 4].imshow(im_2_lhisteq_4, cmap=\"gray\", vmin=0, vmax=255)\n",
        "axs[2, 4].set_title(\"tile_size=64\")\n",
        "axs[3, 0].hist(im_2.ravel(), bins=range(256))\n",
        "axs[3, 0].set_title(\"Histogram\")\n",
        "axs[3, 1].hist(im_2_lhisteq_1.ravel(), bins=range(256))\n",
        "axs[3, 1].set_title(\"Histogram\")\n",
        "axs[3, 2].hist(im_2_lhisteq_2.ravel(), bins=range(256))\n",
        "axs[3, 2].set_title(\"Histogram\")\n",
        "axs[3, 3].hist(im_2_lhisteq_3.ravel(), bins=range(256))\n",
        "axs[3, 3].set_title(\"Histogram\")\n",
        "axs[3, 4].hist(im_2_lhisteq_4.ravel(), bins=range(256))\n",
        "axs[3, 4].set_title(\"Histogram\")\n",
        "axs[4, 0].imshow(im_3, cmap=\"gray\", vmin=0, vmax=255)\n",
        "axs[4, 0].set_title(\"Original\")\n",
        "axs[4, 1].imshow(im_3_lhisteq_1, cmap=\"gray\", vmin=0, vmax=255)\n",
        "axs[4, 1].set_title(\"tile_size=2\")\n",
        "axs[4, 2].imshow(im_3_lhisteq_2, cmap=\"gray\", vmin=0, vmax=255)\n",
        "axs[4, 2].set_title(\"tile_size=8\")\n",
        "axs[4, 3].imshow(im_3_lhisteq_3, cmap=\"gray\", vmin=0, vmax=255)\n",
        "axs[4, 3].set_title(\"tile_size=16\")\n",
        "axs[4, 4].imshow(im_3_lhisteq_4, cmap=\"gray\", vmin=0, vmax=255)\n",
        "axs[4, 4].set_title(\"tile_size=64\")\n",
        "axs[5, 0].hist(im_3.ravel(), bins=range(256))\n",
        "axs[5, 0].set_title(\"Histogram\")\n",
        "axs[5, 1].hist(im_3_lhisteq_1.ravel(), bins=range(256))\n",
        "axs[5, 1].set_title(\"Histogram\")\n",
        "axs[5, 2].hist(im_3_lhisteq_2.ravel(), bins=range(256))\n",
        "axs[5, 2].set_title(\"Histogram\")\n",
        "axs[5, 3].hist(im_3_lhisteq_3.ravel(), bins=range(256))\n",
        "axs[5, 3].set_title(\"Histogram\")\n",
        "axs[5, 4].hist(im_3_lhisteq_4.ravel(), bins=range(256))\n",
        "axs[5, 4].set_title(\"Histogram\")\n",
        "plt.show()"
      ]
    },
    {
      "cell_type": "markdown",
      "metadata": {},
      "source": [
        "#### <a id='toc3_1_5_2_'></a>[Using OpenCV](#toc0_)\n"
      ]
    },
    {
      "cell_type": "code",
      "execution_count": null,
      "metadata": {},
      "outputs": [],
      "source": [
        "im_3_lhisteq_5 = cv2.createCLAHE(clipLimit=50, tileGridSize=(2, 2)).apply(im_3)\n",
        "im_3_lhisteq_6 = cv2.createCLAHE(clipLimit=50, tileGridSize=(8, 8)).apply(im_3)\n",
        "im_3_lhisteq_7 = cv2.createCLAHE(clipLimit=50, tileGridSize=(16, 16)).apply(im_3)\n",
        "im_3_lhisteq_8 = cv2.createCLAHE(clipLimit=50, tileGridSize=(64, 64)).apply(im_3)"
      ]
    },
    {
      "cell_type": "code",
      "execution_count": null,
      "metadata": {},
      "outputs": [],
      "source": [
        "# plot\n",
        "fig, axs = plt.subplots(nrows=2, ncols=5, figsize=(20, 8), layout=\"compressed\")\n",
        "axs[0, 0].imshow(im_3, cmap=\"gray\", vmin=0, vmax=255)\n",
        "axs[0, 0].set_title(\"Original\")\n",
        "axs[0, 1].imshow(im_3_lhisteq_5, cmap=\"gray\", vmin=0, vmax=255)\n",
        "axs[0, 1].set_title(\"tile_size=2\")\n",
        "axs[0, 2].imshow(im_3_lhisteq_6, cmap=\"gray\", vmin=0, vmax=255)\n",
        "axs[0, 2].set_title(\"tile_size=8\")\n",
        "axs[0, 3].imshow(im_3_lhisteq_7, cmap=\"gray\", vmin=0, vmax=255)\n",
        "axs[0, 3].set_title(\"tile_size=16\")\n",
        "axs[0, 4].imshow(im_3_lhisteq_8, cmap=\"gray\", vmin=0, vmax=255)\n",
        "axs[0, 4].set_title(\"tile_size=64\")\n",
        "axs[1, 0].hist(im_3.ravel(), bins=range(256))\n",
        "axs[1, 0].set_title(\"Histogram\")\n",
        "axs[1, 1].hist(im_3_lhisteq_1.ravel(), bins=range(256))\n",
        "axs[1, 1].set_title(\"Histogram\")\n",
        "axs[1, 2].hist(im_3_lhisteq_2.ravel(), bins=range(256))\n",
        "axs[1, 2].set_title(\"Histogram\")\n",
        "axs[1, 3].hist(im_3_lhisteq_3.ravel(), bins=range(256))\n",
        "axs[1, 3].set_title(\"Histogram\")\n",
        "axs[1, 4].hist(im_3_lhisteq_4.ravel(), bins=range(256))\n",
        "axs[1, 4].set_title(\"Histogram\")\n",
        "plt.show()"
      ]
    },
    {
      "cell_type": "markdown",
      "metadata": {},
      "source": [
        "### <a id='toc3_1_6_'></a>[Historam Matching (Specification)](#toc0_)\n",
        "\n",
        "- It is a technique used to adjust the pixel intensities of an image so that its histogram matches that of a reference image.\n",
        "\n",
        "📝 **Docs**:\n",
        "\n",
        "- `skimage.exposure`: [scikit-image.org/docs/stable/api/skimage.exposure.html](https://scikit-image.org/docs/stable/api/skimage.exposure.html)\n"
      ]
    },
    {
      "cell_type": "markdown",
      "metadata": {},
      "source": [
        "#### <a id='toc3_1_6_1_'></a>[Manual](#toc0_)\n"
      ]
    },
    {
      "cell_type": "code",
      "execution_count": null,
      "metadata": {},
      "outputs": [],
      "source": [
        "def histogram_matching(source: np.ndarray, reference: np.ndarray) -> np.ndarray:\n",
        "    hist_src, _ = np.histogram(source.flatten(), bins=256, range=[0, 256])\n",
        "    cdf_src = hist_src.cumsum() / hist_src.sum()\n",
        "\n",
        "    hist_ref, _ = np.histogram(reference.flatten(), bins=256, range=[0, 256])\n",
        "    cdf_ref = hist_ref.cumsum() / hist_ref.sum()\n",
        "\n",
        "    # create a mapping from source to reference\n",
        "    mapping = np.interp(cdf_src, cdf_ref, np.arange(256))\n",
        "    matched_img = np.round(mapping[source]).astype(np.uint8)\n",
        "\n",
        "    return matched_img"
      ]
    },
    {
      "cell_type": "code",
      "execution_count": null,
      "metadata": {},
      "outputs": [],
      "source": [
        "im_1_match_1 = histogram_matching(im_1, im_2)\n",
        "im_1_match_2 = histogram_matching(im_1, im_3)"
      ]
    },
    {
      "cell_type": "code",
      "execution_count": null,
      "metadata": {},
      "outputs": [],
      "source": [
        "# plot\n",
        "fig, axs = plt.subplots(nrows=2, ncols=3, figsize=(12, 8), layout=\"compressed\")\n",
        "axs[0, 0].imshow(im_1, cmap=\"gray\", vmin=0, vmax=255)\n",
        "axs[0, 0].set_title(\"Original\")\n",
        "axs[0, 1].imshow(im_1_match_1, cmap=\"gray\", vmin=0, vmax=255)\n",
        "axs[0, 1].set_title(\"im_1_match_1\")\n",
        "axs[0, 2].imshow(im_1_match_2, cmap=\"gray\", vmin=0, vmax=255)\n",
        "axs[0, 2].set_title(\"im_1_match_2\")\n",
        "axs[1, 0].hist(im_1.ravel(), bins=range(256))\n",
        "axs[1, 0].set_title(\"Histogram\")\n",
        "axs[1, 1].hist(im_1_match_1.ravel(), bins=range(256))\n",
        "axs[1, 1].set_title(\"Histogram\")\n",
        "axs[1, 2].hist(im_1_match_2.ravel(), bins=range(256))\n",
        "axs[1, 2].set_title(\"Histogram\")\n",
        "plt.show()"
      ]
    },
    {
      "cell_type": "markdown",
      "metadata": {},
      "source": [
        "#### <a id='toc3_1_6_2_'></a>[Using scikit-image](#toc0_)\n"
      ]
    },
    {
      "cell_type": "code",
      "execution_count": null,
      "metadata": {},
      "outputs": [],
      "source": [
        "im_1_match_3 = np.round(skimage.exposure.match_histograms(im_1, im_2)).astype(\"uint8\")\n",
        "im_1_match_4 = np.round(skimage.exposure.match_histograms(im_1, im_3)).astype(\"uint8\")"
      ]
    },
    {
      "cell_type": "code",
      "execution_count": null,
      "metadata": {},
      "outputs": [],
      "source": [
        "# plot\n",
        "fig, axs = plt.subplots(nrows=2, ncols=3, figsize=(12, 8), layout=\"compressed\")\n",
        "axs[0, 0].imshow(im_1, cmap=\"gray\", vmin=0, vmax=255)\n",
        "axs[0, 0].set_title(\"Original\")\n",
        "axs[0, 1].imshow(im_1_match_3, cmap=\"gray\", vmin=0, vmax=255)\n",
        "axs[0, 1].set_title(\"im_1_match_3\")\n",
        "axs[0, 2].imshow(im_1_match_4, cmap=\"gray\", vmin=0, vmax=255)\n",
        "axs[0, 2].set_title(\"im_1_match_4\")\n",
        "axs[1, 0].hist(im_1.ravel(), bins=range(256))\n",
        "axs[1, 0].set_title(\"Histogram\")\n",
        "axs[1, 1].hist(im_1_match_3.ravel(), bins=range(256))\n",
        "axs[1, 1].set_title(\"Histogram\")\n",
        "axs[1, 2].hist(im_1_match_4.ravel(), bins=range(256))\n",
        "axs[1, 2].set_title(\"Histogram\")\n",
        "plt.show()"
      ]
    },
    {
      "cell_type": "markdown",
      "metadata": {},
      "source": [
        "### <a id='toc3_1_7_'></a>[Intensity Transformation Effects on Histogram](#toc0_)\n"
      ]
    },
    {
      "cell_type": "code",
      "execution_count": null,
      "metadata": {},
      "outputs": [],
      "source": [
        "im_1_negative = 255 - im_1\n",
        "im_1_log = 20 * np.log(im_1.astype(np.float64) + 1).astype(np.uint8)\n",
        "im_1_power = np.clip(((im_1 / 255) ** 1.5) * 255, 0, 255).astype(np.uint8)"
      ]
    },
    {
      "cell_type": "code",
      "execution_count": null,
      "metadata": {},
      "outputs": [],
      "source": [
        "# plot\n",
        "fig, axs = plt.subplots(nrows=2, ncols=4, figsize=(16, 8), layout=\"compressed\")\n",
        "axs[0, 0].imshow(im_1, cmap=\"gray\", vmin=0, vmax=255)\n",
        "axs[0, 0].set_title(\"Original\")\n",
        "axs[0, 1].imshow(im_1_negative, cmap=\"gray\", vmin=0, vmax=255)\n",
        "axs[0, 1].set_title(\"im_1_negative\")\n",
        "axs[0, 2].imshow(im_1_log, cmap=\"gray\", vmin=0, vmax=255)\n",
        "axs[0, 2].set_title(\"im_1_log\")\n",
        "axs[0, 3].imshow(im_1_power, cmap=\"gray\", vmin=0, vmax=255)\n",
        "axs[0, 3].set_title(\"im_1_power\")\n",
        "axs[1, 0].hist(im_1.ravel(), bins=range(256))\n",
        "axs[1, 0].set_title(\"Histogram\")\n",
        "axs[1, 1].hist(im_1_negative.ravel(), bins=range(256))\n",
        "axs[1, 1].set_title(\"Histogram\")\n",
        "axs[1, 2].hist(im_1_log.ravel(), bins=range(256))\n",
        "axs[1, 2].set_title(\"Histogram\")\n",
        "axs[1, 3].hist(im_1_power.ravel(), bins=range(256))\n",
        "axs[1, 3].set_title(\"Histogram\")\n",
        "plt.show()"
      ]
    },
    {
      "cell_type": "markdown",
      "metadata": {},
      "source": [
        "### <a id='toc3_1_8_'></a>[Noise Effects on Histogram](#toc0_)\n"
      ]
    },
    {
      "cell_type": "code",
      "execution_count": null,
      "metadata": {},
      "outputs": [],
      "source": [
        "rng = np.random.default_rng()"
      ]
    },
    {
      "cell_type": "code",
      "execution_count": null,
      "metadata": {},
      "outputs": [],
      "source": [
        "# gaussian noise\n",
        "gaussian_noise_1 = rng.normal(loc=0, scale=15, size=im_1.shape)\n",
        "gaussian_noise_2 = rng.normal(loc=25, scale=15, size=im_1.shape)\n",
        "\n",
        "# salt & pepper noise\n",
        "mask = rng.random(im_1.shape)\n",
        "p = 0.1\n",
        "salt_idx = mask < (p / 2)\n",
        "pepper_idx = mask > (1 - p / 2)\n",
        "\n",
        "# plot\n",
        "temp_image = np.full_like(im_1, 128)\n",
        "temp_image[salt_idx] = 255\n",
        "temp_image[pepper_idx] = 0\n",
        "\n",
        "fig, axs = plt.subplots(nrows=2, ncols=3, figsize=(16, 8), layout=\"compressed\")\n",
        "axs[0, 0].imshow(gaussian_noise_1, cmap=\"gray\", vmin=-100, vmax=100)\n",
        "axs[0, 0].set_title(\"gaussian_noise_1\")\n",
        "axs[0, 1].imshow(gaussian_noise_2, cmap=\"gray\", vmin=-100, vmax=100)\n",
        "axs[0, 1].set_title(\"gaussian_noise_2\")\n",
        "axs[0, 2].imshow(temp_image, cmap=\"gray\", vmin=0, vmax=255)\n",
        "axs[0, 2].set_title(\"salt-and-pepper\")\n",
        "axs[1, 0].hist(gaussian_noise_1.ravel(), bins=256, range=(-100, 100))\n",
        "axs[1, 0].set_title(\"Histogram\")\n",
        "axs[1, 1].hist(gaussian_noise_2.ravel(), bins=256, range=(-100, 100))\n",
        "axs[1, 1].set_title(\"Histogram\")\n",
        "axs[1, 2].hist(temp_image.ravel(), bins=range(256))\n",
        "axs[1, 2].set_title(\"Histogram\")\n",
        "plt.show()"
      ]
    },
    {
      "cell_type": "code",
      "execution_count": null,
      "metadata": {},
      "outputs": [],
      "source": [
        "im_1_noise_1 = np.clip(im_1 + gaussian_noise_1, 0, 255).astype(np.uint8)\n",
        "im_1_noise_2 = np.clip(im_1 + gaussian_noise_2, 0, 255).astype(np.uint8)\n",
        "im_1_noise_3 = im_1.copy()\n",
        "im_1_noise_3[salt_idx] = 0\n",
        "im_1_noise_3[pepper_idx] = 255\n",
        "\n",
        "# plot\n",
        "fig, axs = plt.subplots(nrows=2, ncols=4, figsize=(16, 8), layout=\"compressed\")\n",
        "axs[0, 0].imshow(im_1, cmap=\"gray\", vmin=0, vmax=255)\n",
        "axs[0, 0].set_title(\"Original\")\n",
        "axs[0, 1].imshow(im_1_noise_1, cmap=\"gray\", vmin=0, vmax=255)\n",
        "axs[0, 1].set_title(\"im_1_noise_1\")\n",
        "axs[0, 2].imshow(im_1_noise_2, cmap=\"gray\", vmin=0, vmax=255)\n",
        "axs[0, 2].set_title(\"im_1_noise_2\")\n",
        "axs[0, 3].imshow(im_1_noise_3, cmap=\"gray\", vmin=0, vmax=255)\n",
        "axs[0, 3].set_title(\"im_1_noise_3\")\n",
        "axs[1, 0].hist(im_1.ravel(), bins=range(256))\n",
        "axs[1, 0].set_title(\"Histogram\")\n",
        "axs[1, 1].hist(im_1_noise_1.ravel(), bins=range(256))\n",
        "axs[1, 1].set_title(\"Histogram\")\n",
        "axs[1, 2].hist(im_1_noise_2.ravel(), bins=range(256))\n",
        "axs[1, 2].set_title(\"Histogram\")\n",
        "axs[1, 3].hist(im_1_noise_3.ravel(), bins=range(256))\n",
        "axs[1, 3].set_title(\"Histogram\")\n",
        "plt.show()"
      ]
    }
  ],
  "metadata": {
    "author_email": "AmirhosseinHeydari78@gmail.com",
    "author_github": "https://github.com/mr-pylin",
    "author_name": "Amirhossein Heydari",
    "kernelspec": {
      "display_name": "media-processing-workshop-9l4de3Xu-py3.13",
      "language": "python",
      "name": "python3"
    },
    "language_info": {
      "codemirror_mode": {
        "name": "ipython",
        "version": 3
      },
      "file_extension": ".py",
      "mimetype": "text/x-python",
      "name": "python",
      "nbconvert_exporter": "python",
      "pygments_lexer": "ipython3",
      "version": "3.13.1"
    },
    "origin_repo": "https://github.com/mr-pylin/media-processing-workshop"
  },
  "nbformat": 4,
  "nbformat_minor": 2
}
