{
  "cells": [
    {
      "cell_type": "markdown",
      "metadata": {},
      "source": [
        "📝 **Author:** Amirhossein Heydari - 📧 **Email:** <amirhosseinheydari78@gmail.com> - 📍 **Origin:** [mr-pylin/media-processing-workshop](https://github.com/mr-pylin/media-processing-workshop)\n",
        "\n",
        "---\n"
      ]
    },
    {
      "cell_type": "markdown",
      "metadata": {},
      "source": [
        "**Table of contents**<a id='toc0_'></a>    \n",
        "- [Dependencies](#toc1_)    \n",
        "- [Complex Numbers](#toc2_)    \n",
        "  - [Complex Arithmetic](#toc2_1_)    \n",
        "  - [Polar and Rectangular Forms](#toc2_2_)    \n",
        "  - [Complex Conjugate and Magnitude](#toc2_3_)    \n",
        "  - [Euler's Formula](#toc2_4_)    \n",
        "  - [Complex Exponentials](#toc2_5_)    \n",
        "  - [Roots of Complex Numbers](#toc2_6_)    \n",
        "\n",
        "<!-- vscode-jupyter-toc-config\n",
        "\tnumbering=false\n",
        "\tanchor=true\n",
        "\tflat=false\n",
        "\tminLevel=1\n",
        "\tmaxLevel=6\n",
        "\t/vscode-jupyter-toc-config -->\n",
        "<!-- THIS CELL WILL BE REPLACED ON TOC UPDATE. DO NOT WRITE YOUR TEXT IN THIS CELL -->"
      ]
    },
    {
      "cell_type": "markdown",
      "metadata": {},
      "source": [
        "# <a id='toc1_'></a>[Dependencies](#toc0_)\n"
      ]
    },
    {
      "cell_type": "code",
      "execution_count": null,
      "metadata": {},
      "outputs": [],
      "source": [
        "import matplotlib.pyplot as plt\n",
        "import numpy as np"
      ]
    },
    {
      "cell_type": "code",
      "execution_count": null,
      "metadata": {},
      "outputs": [],
      "source": [
        "# reduce default marker size for stem plots\n",
        "plt.rcParams[\"lines.markersize\"] = 5"
      ]
    },
    {
      "cell_type": "markdown",
      "metadata": {},
      "source": [
        "# <a id='toc2_'></a>[Complex Numbers](#toc0_)\n"
      ]
    },
    {
      "cell_type": "markdown",
      "metadata": {},
      "source": [
        "## <a id='toc2_1_'></a>[Complex Arithmetic](#toc0_)\n",
        "\n",
        "- A complex number is expressed as:\n",
        "  $$z = a + bi$$\n",
        "\n",
        "- where:\n",
        "  - $a$ is the real part\n",
        "  - $b$ is the imaginary part\n",
        "  - $i$ is the imaginary unit with $i^2 = -1$\n",
        "\n",
        "➕ **Basic Operations:**\n",
        "\n",
        "- Addition:\n",
        "  $$(a + bi) + (c + di) = (a + c) + (b + d)i$$\n",
        "\n",
        "- Subtraction:\n",
        "  $$(a + bi) - (c + di) = (a - c) + (b - d)i$$\n",
        "\n",
        "- Multiplication:\n",
        "  $$(a + bi)(c + di) = (ac - bd) + (ad + bc)i$$\n",
        "\n",
        "- Division:\n",
        "  $$\\frac{a + bi}{c + di} = \\frac{(a + bi)(c - di)}{c^2 + d^2} = \\frac{ac + bd}{c^2 + d^2} + \\frac{bc - ad}{c^2 + d^2} i$$\n",
        "\n",
        "✍️ **Note:**  \n",
        "\n",
        "- NumPy uses the `j` notation for imaginary numbers (`3 + 4j`).\n"
      ]
    },
    {
      "cell_type": "code",
      "execution_count": null,
      "metadata": {},
      "outputs": [],
      "source": [
        "# define two complex numbers\n",
        "z1 = np.complex128(3 + 4j)\n",
        "z2 = np.complex128(1 - 2j)\n",
        "\n",
        "# log\n",
        "print(f\"z1: {z1}\")\n",
        "print(f\"z2: {z2}\")"
      ]
    },
    {
      "cell_type": "code",
      "execution_count": null,
      "metadata": {},
      "outputs": [],
      "source": [
        "# basic operations\n",
        "add = z1 + z2\n",
        "sub = z1 - z2\n",
        "mul = z1 * z2\n",
        "div = z1 / z2\n",
        "\n",
        "# log\n",
        "print(f\"add: {add}\")\n",
        "print(f\"sub: {sub}\")\n",
        "print(f\"mul: {mul}\")\n",
        "print(f\"div: {div}\")"
      ]
    },
    {
      "cell_type": "code",
      "execution_count": null,
      "metadata": {},
      "outputs": [],
      "source": [
        "# extract real/imag parts\n",
        "real_z1 = np.real(z1)\n",
        "imag_z1 = np.imag(z1)\n",
        "\n",
        "# log\n",
        "print(f\"real_z1: {real_z1}\")\n",
        "print(f\"imag_z1: {imag_z1}\")"
      ]
    },
    {
      "cell_type": "markdown",
      "metadata": {},
      "source": [
        "## <a id='toc2_2_'></a>[Polar and Rectangular Forms](#toc0_)\n",
        "\n",
        "- Complex numbers can be represented in two common forms:\n",
        "\n",
        "  **Rectangular (Cartesian) form:**  \n",
        "  $$z = a + bi$$  \n",
        "  where $a$ is the real part and $b$ is the imaginary part.\n",
        "\n",
        "  **Polar form:**  \n",
        "  $$z = r(\\cos \\theta + i \\sin \\theta)$$  \n",
        "  or equivalently  \n",
        "  $$z = r e^{i \\theta}$$  \n",
        "  where  \n",
        "  - $r = |z| = \\sqrt{a^2 + b^2}$ is the magnitude (modulus)  \n",
        "  - $\\theta = \\arg(z) = \\tan^{-1}\\left(\\frac{b}{a}\\right)$ is the argument (angle)\n",
        "\n",
        "- Conversion between forms:\n",
        "\n",
        "  - From rectangular to polar:  \n",
        "    - Magnitude: $r = \\sqrt{a^2 + b^2}$  \n",
        "    - Angle: $\\theta = \\tan^{-1}\\left(\\frac{b}{a}\\right)$\n",
        "\n",
        "  - From polar to rectangular:  \n",
        "    - Real part: $a = r \\cos \\theta$  \n",
        "    - Imaginary part: $b = r \\sin \\theta$\n",
        "\n",
        "- Polar form simplifies multiplication, division, and powers of complex numbers.\n"
      ]
    },
    {
      "cell_type": "code",
      "execution_count": null,
      "metadata": {},
      "outputs": [],
      "source": [
        "# single complex number in rectangular form\n",
        "z = 3 + 4j\n",
        "\n",
        "# convert to polar form\n",
        "r = np.abs(z)        # magnitude\n",
        "theta = np.angle(z)  # angle in radians\n",
        "\n",
        "# convert back to rectangular\n",
        "z_rect = r * np.exp(1j * theta)\n",
        "\n",
        "# log\n",
        "print(f\"z      : {z}\")\n",
        "print(f\"r      : {r}\")\n",
        "print(f\"theta  : {theta}\")\n",
        "print(f\"z_rect : {z_rect}\")"
      ]
    },
    {
      "cell_type": "code",
      "execution_count": null,
      "metadata": {},
      "outputs": [],
      "source": [
        "# simulating 2D DFT output (used in image filtering)\n",
        "dft_output = np.array(\n",
        "    [\n",
        "        [3 + 4j, 1 - 1j],\n",
        "        [0 + 2j, -2 + 2j],\n",
        "    ]\n",
        ")\n",
        "\n",
        "# extract magnitude and phase\n",
        "magnitude = np.abs(dft_output)\n",
        "phase = np.angle(dft_output)\n",
        "\n",
        "# log\n",
        "print(f\"magnitude:\\n{magnitude}\\n\")\n",
        "print(f\"phase:\\n{phase}\\n\")"
      ]
    },
    {
      "cell_type": "markdown",
      "metadata": {},
      "source": [
        "## <a id='toc2_3_'></a>[Complex Conjugate and Magnitude](#toc0_)\n",
        "\n",
        "- The **complex conjugate** of a complex number\n",
        "  $$z = a + bi$$\n",
        "  is defined as\n",
        "  $$\\bar{z} = a - bi$$\n",
        "\n",
        "- Properties of the complex conjugate:\n",
        "  - Reflects $z$ across the real axis in the complex plane.\n",
        "  - Used to simplify division of complex numbers.\n",
        "  - Satisfies:\n",
        "    $$z \\cdot \\bar{z} = a^2 + b^2 = |z|^2$$\n",
        "\n",
        "- The **magnitude (modulus)** of $z$ is:\n",
        "  $$|z| = \\sqrt{a^2 + b^2} = \\sqrt{z \\cdot \\bar{z}}$$\n",
        "\n",
        "- Properties of magnitude:\n",
        "  - Represents the distance from the origin to $z$ in the complex plane.\n",
        "  - Always a non-negative real number.\n",
        "  - Multiplicative property:\n",
        "    $$|z_1 z_2| = |z_1| \\cdot |z_2|$$\n",
        "  - The magnitude of the conjugate equals the magnitude of the original number:\n",
        "    $$|\\bar{z}| = |z|$$\n"
      ]
    },
    {
      "cell_type": "code",
      "execution_count": null,
      "metadata": {},
      "outputs": [],
      "source": [
        "z1 = 2 + 3j\n",
        "z2 = 1 - 4j\n",
        "\n",
        "# multiplicative property: |z₁ * z₂| = |z₁| * |z₂|\n",
        "lhs = np.abs(z1 * z2)\n",
        "rhs = np.abs(z1) * np.abs(z2)\n",
        "\n",
        "# log\n",
        "print(f\"lhs: {lhs}\")\n",
        "print(f\"rhs: {rhs}\")"
      ]
    },
    {
      "cell_type": "code",
      "execution_count": null,
      "metadata": {},
      "outputs": [],
      "source": [
        "z = 5 - 12j\n",
        "\n",
        "# z * conj(z) = |z|^2\n",
        "z_conj = np.conj(z)\n",
        "product = z * z_conj\n",
        "magnitude_squared = np.abs(z) ** 2\n",
        "\n",
        "# log\n",
        "print(f\"product           : {product}\")\n",
        "print(f\"magnitude_squared : {magnitude_squared}\")"
      ]
    },
    {
      "cell_type": "markdown",
      "metadata": {},
      "source": [
        "## <a id='toc2_4_'></a>[Euler's Formula](#toc0_)\n",
        "\n",
        "- Euler's formula links complex exponentials and trigonometric functions:\n",
        "  $$e^{i \\theta} = \\cos(\\theta) + i \\sin(\\theta)$$\n",
        "\n",
        "- where:\n",
        "  - $e$ is Euler's number (≈ 2.718)\n",
        "  - $i$ is the imaginary unit\n",
        "  - $\\theta$ is the angle in radians\n",
        "\n",
        "- Using Euler's formula, a complex number in polar form can be expressed as:\n",
        "  $$z = r e^{i \\theta}$$\n",
        "  where\n",
        "  $$r = |z|, \\quad \\theta = \\arg(z)$$\n",
        "\n",
        "- A special case is **Euler's identity**:\n",
        "  $$e^{i \\pi} + 1 = 0$$\n",
        "  which elegantly connects five fundamental mathematical constants.\n"
      ]
    },
    {
      "cell_type": "code",
      "execution_count": null,
      "metadata": {},
      "outputs": [],
      "source": [
        "# verify Euler's formula for a given theta\n",
        "theta = np.pi / 4\n",
        "\n",
        "# compute using Euler's formula\n",
        "euler_complex = np.exp(1j * theta)\n",
        "\n",
        "# compute cos and sin parts separately\n",
        "cos_theta = np.cos(theta)\n",
        "sin_theta = np.sin(theta)\n",
        "manual_complex = cos_theta + 1j * sin_theta\n",
        "\n",
        "# log\n",
        "print(f\"euler_complex  : {euler_complex}\")\n",
        "print(f\"manual_complex : {manual_complex}\")"
      ]
    },
    {
      "cell_type": "code",
      "execution_count": null,
      "metadata": {},
      "outputs": [],
      "source": [
        "# Euler's identity demonstration\n",
        "identity = np.exp(1j * np.pi) + 1\n",
        "\n",
        "# log\n",
        "print(f\"identity: {identity}\")"
      ]
    },
    {
      "cell_type": "markdown",
      "metadata": {},
      "source": [
        "## <a id='toc2_5_'></a>[Complex Exponentials](#toc0_)\n",
        "\n",
        "- Euler's formula is key to understanding complex exponentials and is fundamental in Fourier transforms:\n",
        "  $$e^{i \\omega t} = \\cos(\\omega t) + i \\sin(\\omega t)$$\n",
        "\n",
        "- where:\n",
        "  - $\\omega$ is the **angular frequency**, measured in radians per unit time (e.g., radians per second).\n",
        "  - $t$ is the time variable or, more generally, the independent variable (can also represent spatial position in images).\n",
        "  \n",
        "- Additional details about $\\omega$ and $t$:\n",
        "\n",
        "  - The angular frequency $\\omega$ relates to the ordinary frequency $f$ (in cycles per second or Hz) by:\n",
        "    $$\\omega = 2 \\pi f$$\n",
        "\n",
        "  - Frequency $f$ indicates how many oscillations occur per unit time.\n",
        "\n",
        "  - The variable $t$ can represent:\n",
        "    - Time in 1D signals (audio, temporal data).\n",
        "    - Spatial position in 2D or higher-dimensional signals (e.g., pixel coordinates in image processing).\n",
        "\n",
        "  - Using angular frequency in radians simplifies mathematical expressions and derivations in Fourier analysis and signal processing.\n",
        "\n",
        "✍️ **Notes:**\n",
        "\n",
        "- Complex exponentials represent sinusoidal oscillations, encapsulating both amplitude and phase information.\n",
        "- Any periodic signal can be decomposed into a sum (or integral) of complex exponentials at different frequencies (Fourier series and Fourier transform).\n",
        "- The exponential form simplifies algebraic manipulation, especially when analyzing or filtering signals in the frequency domain.\n",
        "- In digital image processing, complex exponentials underpin frequency-domain filtering, texture analysis, and image reconstruction.\n"
      ]
    },
    {
      "cell_type": "code",
      "execution_count": null,
      "metadata": {},
      "outputs": [],
      "source": [
        "# angular frequency = 5 Hz\n",
        "omega = 2 * np.pi * 5\n",
        "\n",
        "# time vector\n",
        "t = np.linspace(0, 1, 500)\n",
        "\n",
        "# complex exponential\n",
        "complex_exp = np.exp(1j * omega * t)\n",
        "\n",
        "# extract real (cos) and imaginary (sin) parts\n",
        "cos_part = np.real(complex_exp)\n",
        "sin_part = np.imag(complex_exp)\n",
        "\n",
        "# plot\n",
        "fig, axs = plt.subplots(1, 2, figsize=(18, 4), layout=\"compressed\")\n",
        "axs[0].plot(t, cos_part, color=\"g\")\n",
        "axs[0].set_title(\"Cosine (Real part)\")\n",
        "axs[0].set_xlabel(\"Time\")\n",
        "axs[0].set_ylabel(\"Amplitude\")\n",
        "axs[0].grid(True)\n",
        "axs[1].plot(t, sin_part, color=\"y\")\n",
        "axs[1].set_title(\"Sine (Imaginary part)\")\n",
        "axs[1].set_xlabel(\"Time\")\n",
        "axs[1].set_ylabel(\"Amplitude\")\n",
        "axs[1].grid(True)\n",
        "plt.show()"
      ]
    },
    {
      "cell_type": "markdown",
      "metadata": {},
      "source": [
        "## <a id='toc2_6_'></a>[Roots of Complex Numbers](#toc0_)\n",
        "\n",
        "- To find the **nth roots** of a complex number\n",
        "  $$z = r e^{i \\theta}$$\n",
        "  where\n",
        "  - $r$ is the magnitude\n",
        "  - $\\theta$ is the argument (angle),\n",
        "\n",
        "- Use **De Moivre's Theorem**:\n",
        "  $$z^{1/n} = r^{1/n} e^{i \\frac{\\theta + 2k\\pi}{n}}, \\quad k = 0, 1, \\dots, n-1$$\n",
        "\n",
        "- This yields **n distinct roots** evenly spaced on the complex plane, each separated by an angle of\n",
        "  $$\\frac{2\\pi}{n}$$\n",
        "\n",
        "- In rectangular form, the roots are:\n",
        "  $$z_k = r^{1/n} \\left[\\cos\\left(\\frac{\\theta + 2k\\pi}{n}\\right) + i \\sin\\left(\\frac{\\theta + 2k\\pi}{n}\\right)\\right]$$\n",
        "  for\n",
        "  $$k = 0, 1, \\dots, n-1$$\n",
        "\n",
        "- The roots lie on a circle of radius $r^{1/n}$ centered at the origin.\n"
      ]
    },
    {
      "cell_type": "code",
      "execution_count": null,
      "metadata": {},
      "outputs": [],
      "source": [
        "z = 1 + 1j\n",
        "\n",
        "# compute magnitude and angle\n",
        "r = np.abs(z)\n",
        "theta = np.angle(z)\n",
        "\n",
        "# number of roots\n",
        "n = 4\n",
        "\n",
        "# compute nth roots using De Moivre's theorem\n",
        "roots = np.array([r ** (1 / n) * np.exp(1j * (theta + 2 * np.pi * k) / n) for k in range(n)])"
      ]
    },
    {
      "cell_type": "code",
      "execution_count": null,
      "metadata": {},
      "outputs": [],
      "source": [
        "# log\n",
        "print(\"Nth roots:\")\n",
        "for i, root in enumerate(roots):\n",
        "    print(f\"Root {i}: {root}\")"
      ]
    },
    {
      "cell_type": "code",
      "execution_count": null,
      "metadata": {},
      "outputs": [],
      "source": [
        "# plot\n",
        "plt.figure(figsize=(6, 6))\n",
        "plt.scatter(roots.real, roots.imag, color=\"red\", label=\"Roots\")\n",
        "plt.plot(\n",
        "    np.cos(np.linspace(0, 2 * np.pi, 100)),\n",
        "    np.sin(np.linspace(0, 2 * np.pi, 100)),\n",
        "    \"w--\",\n",
        "    alpha=0.5,\n",
        "    label=\"Unit circle\",\n",
        ")\n",
        "plt.title(f\"{n}th Roots of {z}\")\n",
        "plt.xlabel(\"Real\")\n",
        "plt.ylabel(\"Imaginary\")\n",
        "plt.axhline(0, color=\"gray\", lw=0.5)\n",
        "plt.axvline(0, color=\"gray\", lw=0.5)\n",
        "plt.axis(\"equal\")\n",
        "plt.legend()\n",
        "plt.grid(True)\n",
        "plt.show()"
      ]
    }
  ],
  "metadata": {
    "author_email": "AmirhosseinHeydari78@gmail.com",
    "author_github": "https://github.com/mr-pylin",
    "author_name": "Amirhossein Heydari",
    "kernelspec": {
      "display_name": "media-processing-workshop-py3.13 (3.13.1)",
      "language": "python",
      "name": "python3"
    },
    "language_info": {
      "codemirror_mode": {
        "name": "ipython",
        "version": 3
      },
      "file_extension": ".py",
      "mimetype": "text/x-python",
      "name": "python",
      "nbconvert_exporter": "python",
      "pygments_lexer": "ipython3",
      "version": "3.13.1"
    },
    "origin_repo": "https://github.com/mr-pylin/media-processing-workshop"
  },
  "nbformat": 4,
  "nbformat_minor": 2
}
