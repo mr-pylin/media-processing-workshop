{
  "cells": [
    {
      "cell_type": "markdown",
      "metadata": {},
      "source": [
        "\ud83d\udcdd **Author:** Amirhossein Heydari - \ud83d\udce7 **Email:** <amirhosseinheydari78@gmail.com> - \ud83d\udccd **Origin:** [mr-pylin/media-processing-workshop](https://github.com/mr-pylin/media-processing-workshop)\n",
        "\n",
        "---\n"
      ]
    },
    {
      "cell_type": "markdown",
      "metadata": {},
      "source": [
        "**Table of contents**<a id='toc0_'></a>    \n",
        "- [Dependencies](#toc1_)    \n",
        "- [Read Images](#toc2_)    \n",
        "- [Types of Digital Images](#toc3_)    \n",
        "  - [Binary Image](#toc3_1_)    \n",
        "    - [Bit Plane Extraction](#toc3_1_1_)    \n",
        "  - [GrayScale Image](#toc3_2_)    \n",
        "  - [RGB image](#toc3_3_)    \n",
        "  - [RGBA images](#toc3_4_)    \n",
        "  - [Indexed Color Images (Palette-Based)](#toc3_5_)    \n",
        "  - [CMYK Images](#toc3_6_)    \n",
        "  - [Multispectral & Hyperspectral Image](#toc3_7_)    \n",
        "  - [HDR (High Dynamic Range) Images](#toc3_8_)    \n",
        "  - [Depth Maps & Alpha Masks](#toc3_9_)    \n",
        "- [Save Images](#toc4_)    \n",
        "    - [Pillow](#toc4_1_1_)    \n",
        "    - [Matplotlib](#toc4_1_2_)    \n",
        "    - [OpenCV](#toc4_1_3_)    \n",
        "\n",
        "<!-- vscode-jupyter-toc-config\n",
        "\tnumbering=false\n",
        "\tanchor=true\n",
        "\tflat=false\n",
        "\tminLevel=1\n",
        "\tmaxLevel=6\n",
        "\t/vscode-jupyter-toc-config -->\n",
        "<!-- THIS CELL WILL BE REPLACED ON TOC UPDATE. DO NOT WRITE YOUR TEXT IN THIS CELL -->"
      ]
    },
    {
      "cell_type": "markdown",
      "metadata": {},
      "source": [
        "# <a id='toc1_'></a>[Dependencies](#toc0_)\n"
      ]
    },
    {
      "cell_type": "code",
      "execution_count": null,
      "metadata": {},
      "outputs": [],
      "source": [
        "from pathlib import Path\n",
        "\n",
        "import cv2\n",
        "import matplotlib.pyplot as plt\n",
        "import numpy as np\n",
        "from matplotlib.gridspec import GridSpec\n",
        "from PIL import Image"
      ]
    },
    {
      "cell_type": "markdown",
      "metadata": {},
      "source": [
        "# <a id='toc2_'></a>[Read Images](#toc0_)\n",
        "\n",
        "<table style=\"margin:0 auto;\">\n",
        "  <tr>\n",
        "    <th>Library</th>\n",
        "    <th>Color Type</th>\n",
        "    <th>Color Layout</th>\n",
        "    <th>Depth Dimension</th>\n",
        "    <th>Output Object Type</th>\n",
        "    <th>Documentation</th>\n",
        "  </tr>\n",
        "  <tr>\n",
        "    <td rowspan=\"3\"><code>matplotlib.pyplot.imread</code></td>\n",
        "    <td>Grayscale</td>\n",
        "    <td>Single-channel</td>\n",
        "    <td>(H, W)</td>\n",
        "    <td><code>numpy.ndarray</code></td>\n",
        "    <td rowspan=\"3\"><a href=\"https://matplotlib.org/stable/api/_as_gen/matplotlib.pyplot.imread.html\">Link</a></td>\n",
        "  </tr>\n",
        "  <tr>\n",
        "    <td>RGB</td>\n",
        "    <td>RGB</td>\n",
        "    <td>(H, W, 3)</td>\n",
        "    <td><code>numpy.ndarray</code></td>\n",
        "  </tr>\n",
        "  <tr>\n",
        "    <td>RGBA</td>\n",
        "    <td>RGBA</td>\n",
        "    <td>(H, W, 4)</td>\n",
        "    <td><code>numpy.ndarray</code></td>\n",
        "  </tr>\n",
        "  <tr>\n",
        "    <td rowspan=\"3\"><code>cv2.imread</code></td>\n",
        "    <td>Grayscale</td>\n",
        "    <td>Single-channel</td>\n",
        "    <td>(H, W)</td>\n",
        "    <td><code>numpy.ndarray</code></td>\n",
        "    <td rowspan=\"3\"><a href=\"https://docs.opencv.org/master/d4/da8/group__imgcodecs.html#gacbaa02cffc4ec2422dfa2e24412a99e2\">Link</a></td>\n",
        "  </tr>\n",
        "  <tr>\n",
        "    <td>RGB</td>\n",
        "    <td><b>BGR</b></td>\n",
        "    <td>(H, W, 3)</td>\n",
        "    <td><code>numpy.ndarray</code></td>\n",
        "  </tr>\n",
        "  <tr>\n",
        "    <td>RGBA</td>\n",
        "    <td><b>BGRA</b></td>\n",
        "    <td>(H, W, 4)</td>\n",
        "    <td><code>numpy.ndarray</code></td>\n",
        "  </tr>\n",
        "  <tr>\n",
        "    <td rowspan=\"3\"><code>skimage.io.imread</code></td>\n",
        "    <td>Grayscale</td>\n",
        "    <td>Single-channel</td>\n",
        "    <td>(H, W)</td>\n",
        "    <td><code>numpy.ndarray</code></td>\n",
        "    <td rowspan=\"3\"><a href=\"https://scikit-image.org/docs/stable/api/skimage.io.html#skimage.io.imread\">Link</a></td>\n",
        "  </tr>\n",
        "  <tr>\n",
        "    <td>RGB</td>\n",
        "    <td>RGB</td>\n",
        "    <td>(H, W, 3)</td>\n",
        "    <td><code>numpy.ndarray</code></td>\n",
        "  </tr>\n",
        "  <tr>\n",
        "    <td>RGBA</td>\n",
        "    <td>RGBA</td>\n",
        "    <td>(H, W, 4)</td>\n",
        "    <td><code>numpy.ndarray</code></td>\n",
        "  </tr>\n",
        "  <tr>\n",
        "    <td rowspan=\"3\"><code>PIL.Image.open</code></td>\n",
        "    <td>Grayscale</td>\n",
        "    <td>Single-channel</td>\n",
        "    <td>(H, W)</td>\n",
        "    <td><code>PIL.Image.Image</code></td>\n",
        "    <td rowspan=\"3\"><a href=\"https://pillow.readthedocs.io/en/stable/reference/Image.html#PIL.Image.open\">Link</a></td>\n",
        "  </tr>\n",
        "  <tr>\n",
        "    <td>RGB</td>\n",
        "    <td>RGB</td>\n",
        "    <td>(H, W, 3)</td>\n",
        "    <td><code>PIL.Image.Image</code></td>\n",
        "  </tr>\n",
        "  <tr>\n",
        "    <td>RGBA</td>\n",
        "    <td>RGBA</td>\n",
        "    <td>(H, W, 4)</td>\n",
        "    <td><code>PIL.Image.Image</code></td>\n",
        "  </tr>\n",
        "</table>\n"
      ]
    },
    {
      "cell_type": "code",
      "execution_count": null,
      "metadata": {},
      "outputs": [],
      "source": [
        "# PIL.Image.Image\n",
        "image_1 = Image.open(fp=\"../assets/images/original/raster/test_binary.tif\")\n",
        "image_2 = Image.open(fp=\"../assets/images/dip_3rd/CH02_Fig0222(b)(cameraman).tif\")\n",
        "image_3 = Image.open(fp=\"../assets/images/dip_3rd/CH06_Fig0638(a)(lenna_RGB).tif\")\n",
        "image_4 = Image.open(fp=\"../assets/images/misc/lenna_rgba.png\")\n",
        "image_5 = Image.open(fp=\"../assets/images/misc/lenna_rgba_indexed.png\")\n",
        "image_6 = Image.open(fp=\"../assets/images/misc/color_bars_cmyk.tif\")"
      ]
    },
    {
      "cell_type": "code",
      "execution_count": null,
      "metadata": {},
      "outputs": [],
      "source": [
        "# PIL.Image.Image to np.ndarray\n",
        "im_1 = np.array(image_1)\n",
        "im_2 = np.array(image_2)\n",
        "im_3 = np.array(image_3)\n",
        "im_4 = np.array(image_4)\n",
        "im_5 = np.array(image_5)\n",
        "im_6 = np.array(image_6)"
      ]
    },
    {
      "cell_type": "code",
      "execution_count": null,
      "metadata": {},
      "outputs": [],
      "source": [
        "# plot\n",
        "fig, axs = plt.subplots(nrows=2, ncols=3, figsize=(15, 8), layout=\"compressed\")\n",
        "fig.suptitle(\"Visualize Images using matplotlib package\")\n",
        "axs[0, 0].imshow(image_1, cmap=\"gray\", vmin=0, vmax=1)\n",
        "axs[0, 0].set_title(\"Binary\")\n",
        "axs[0, 1].imshow(image_2, cmap=\"gray\", vmin=0, vmax=255)\n",
        "axs[0, 1].set_title(\"GrayScale\")\n",
        "axs[0, 2].imshow(image_3, vmin=0, vmax=255)\n",
        "axs[0, 2].set_title(\"RGB\")\n",
        "axs[1, 0].imshow(image_4, vmin=0, vmax=255)\n",
        "axs[1, 0].set_title(\"RGBA\")\n",
        "axs[1, 1].imshow(image_5, vmin=0, vmax=255)\n",
        "axs[1, 1].set_title(\"Indexed\")\n",
        "axs[1, 2].imshow(image_6, vmin=0, vmax=255)\n",
        "axs[1, 2].set_title(\"CMYK\")\n",
        "plt.show()"
      ]
    },
    {
      "cell_type": "markdown",
      "metadata": {},
      "source": [
        "# <a id='toc3_'></a>[Types of Digital Images](#toc0_)\n",
        "\n",
        "\ud83d\udcdd **Docs**:\n",
        "\n",
        "- The Image Class: [pillow.readthedocs.io/en/stable/reference/Image.html#the-image-class](https://pillow.readthedocs.io/en/stable/reference/Image.html#the-image-class)\n",
        "- image Attributes: [pillow.readthedocs.io/en/stable/reference/Image.html#image-attributes](https://pillow.readthedocs.io/en/stable/reference/Image.html#image-attributes)\n"
      ]
    },
    {
      "cell_type": "markdown",
      "metadata": {},
      "source": [
        "## <a id='toc3_1_'></a>[Binary Image](#toc0_)\n",
        "\n",
        "- Each pixel is either black (0) or white (1), with no shades of gray.\n",
        "- **Bit Depth**: 1-bit per pixel (only two possible values).\n",
        "- **File Formats**:\n",
        "  - **PBM (Portable Bitmap)** \u2013 part of Netpbm format\n",
        "  - **BMP (1-bit mode)**\n",
        "  - **TIFF (bi-level mode)**\n"
      ]
    },
    {
      "cell_type": "code",
      "execution_count": null,
      "metadata": {},
      "outputs": [],
      "source": [
        "# log\n",
        "print(f\"type(image_1)                 : {type(image_1)}\")\n",
        "print(f\"image_1.format                : {image_1.format}\")\n",
        "print(f\"image_1.mode                  : {image_1.mode}\")\n",
        "print(f\"image_1.size                  : {image_1.size}\")\n",
        "print(f\"image_1.info['compression']   : {image_1.info[\"compression\"]}\")\n",
        "print(f\"image_1.info['dpi']           : {image_1.info[\"dpi\"]}\")\n",
        "print(f\"image_1.has_transparency_data : {image_1.has_transparency_data}\\n\")\n",
        "print(f\"type(im_1)                    : {type(im_1)}\")\n",
        "print(f\"im_1.ndim                     : {im_1.ndim}\")\n",
        "print(f\"im_1.shape                    : {im_1.shape}\")\n",
        "print(f\"im_1.dtype                    : {im_1.dtype}\")"
      ]
    },
    {
      "cell_type": "code",
      "execution_count": null,
      "metadata": {},
      "outputs": [],
      "source": [
        "# plot\n",
        "plt.figure(figsize=(4, 5), layout=\"compressed\")\n",
        "plt.title(image_1.filename.split(\"/\")[-1])\n",
        "im = plt.imshow(im_1, cmap=\"gray\", vmin=0, vmax=1)\n",
        "plt.colorbar(im, location=\"bottom\", label=\"Binary\").set_ticks([0, 1])\n",
        "plt.axis(\"off\")\n",
        "plt.show()"
      ]
    },
    {
      "cell_type": "markdown",
      "metadata": {},
      "source": [
        "### <a id='toc3_1_1_'></a>[Bit Plane Extraction](#toc0_)\n",
        "\n",
        "- Bit-plane extraction is a technique used in image processing to visualize and analyze the significance of individual bits in an image."
      ]
    },
    {
      "cell_type": "code",
      "execution_count": null,
      "metadata": {},
      "outputs": [],
      "source": [
        "bit_planes = []\n",
        "for i in range(8):\n",
        "    bit_plane = (im_2 >> i) & 1  # shift and mask\n",
        "    bit_planes.append(bit_plane * 255)"
      ]
    },
    {
      "cell_type": "code",
      "execution_count": null,
      "metadata": {},
      "outputs": [],
      "source": [
        "# plot\n",
        "fig, axes = plt.subplots(2, 4, figsize=(12, 6), layout=\"compressed\")\n",
        "for i, ax in enumerate(axes.flat):\n",
        "    ax.imshow(bit_planes[i], cmap=\"gray\")\n",
        "    ax.set_title(f\"Bit {i}\")\n",
        "    ax.axis(\"off\")\n",
        "plt.show()"
      ]
    },
    {
      "cell_type": "markdown",
      "metadata": {},
      "source": [
        "## <a id='toc3_2_'></a>[GrayScale Image](#toc0_)\n",
        "\n",
        "- Images with varying shades of gray, ranging from black (0 intensity) to white (max intensity).\n",
        "- **Bit Depth**:\n",
        "  - **8-bit** (0-255 intensity levels, standard grayscale)\n",
        "  - **16-bit** (0-65,535 intensity levels, used in high-precision imaging)\n",
        "- **File Formats**:\n",
        "  - **JPEG (grayscale mode)**\n",
        "  - **PNG (supports 8-bit and 16-bit grayscale)**\n",
        "  - **TIFF (widely used in medical and scientific imaging)**\n",
        "  - **PGM (Portable GrayMap, part of Netpbm format)**\n"
      ]
    },
    {
      "cell_type": "code",
      "execution_count": null,
      "metadata": {},
      "outputs": [],
      "source": [
        "# log\n",
        "print(f\"type(image_2)                 : {type(image_2)}\")\n",
        "print(f\"image_2.format                : {image_2.format}\")\n",
        "print(f\"image_2.mode                  : {image_2.mode}\")\n",
        "print(f\"image_2.size                  : {image_2.size}\")\n",
        "print(f\"image_2.info['compression']   : {image_2.info[\"compression\"]}\")\n",
        "print(f\"image_2.info['dpi']           : {image_2.info[\"dpi\"]}\")\n",
        "print(f\"image_2.has_transparency_data : {image_2.has_transparency_data}\\n\")\n",
        "print(f\"type(im_2)                    : {type(im_2)}\")\n",
        "print(f\"im_2.ndim                     : {im_2.ndim}\")\n",
        "print(f\"im_2.shape                    : {im_2.shape}\")\n",
        "print(f\"im_2.dtype                    : {im_2.dtype}\")"
      ]
    },
    {
      "cell_type": "code",
      "execution_count": null,
      "metadata": {},
      "outputs": [],
      "source": [
        "# plot\n",
        "plt.figure(figsize=(4, 5), layout=\"compressed\")\n",
        "plt.title(image_2.filename.split(\"/\")[-1])\n",
        "im = plt.imshow(im_2, cmap=\"gray\", vmin=0, vmax=255)\n",
        "plt.colorbar(im, location=\"bottom\", label=\"GrayLevels\").set_ticks([0, 255])\n",
        "plt.axis(\"off\")\n",
        "plt.show()"
      ]
    },
    {
      "cell_type": "markdown",
      "metadata": {},
      "source": [
        "## <a id='toc3_3_'></a>[RGB image](#toc0_)\n",
        "\n",
        "- Each pixel consists of three color channels\u2014Red (R), Green (G), and Blue (B)\u2014combined to produce various colors.\n",
        "- **Bit Depth**:\n",
        "  - **24-bit (8-bit per channel)** \u2192 16.7 million possible colors.\n",
        "  - **48-bit (16-bit per channel)** \u2192 High dynamic range (HDR) images.\n",
        "- **File Formats**:\n",
        "  - **JPEG** (lossy compression, widely used for photos).\n",
        "  - **PNG** (lossless compression, used for web graphics).\n",
        "  - **BMP** (uncompressed, used in early Windows applications).\n",
        "  - **TIFF** (used in professional photography and printing).\n",
        "  - **PPM (Portable PixMap)** (simple raw format used in Netpbm).\n"
      ]
    },
    {
      "cell_type": "code",
      "execution_count": null,
      "metadata": {},
      "outputs": [],
      "source": [
        "# log\n",
        "print(f\"type(image_3)                 : {type(image_3)}\")\n",
        "print(f\"image_3.format                : {image_3.format}\")\n",
        "print(f\"image_3.mode                  : {image_3.mode}\")\n",
        "print(f\"image_3.size                  : {image_3.size}\")\n",
        "print(f\"image_3.info['compression']   : {image_3.info[\"compression\"]}\")\n",
        "print(f\"image_3.info['dpi']           : {image_3.info[\"dpi\"]}\")\n",
        "print(f\"image_3.has_transparency_data : {image_3.has_transparency_data}\\n\")\n",
        "print(f\"type(im_3)                    : {type(im_3)}\")\n",
        "print(f\"im_3.ndim                     : {im_3.ndim}\")\n",
        "print(f\"im_3.shape                    : {im_3.shape}\")\n",
        "print(f\"im_3.dtype                    : {im_3.dtype}\")"
      ]
    },
    {
      "cell_type": "code",
      "execution_count": null,
      "metadata": {},
      "outputs": [],
      "source": [
        "# separate RGB channels\n",
        "im_3_r = im_3[:, :, 0]\n",
        "im_3_g = im_3[:, :, 1]\n",
        "im_3_b = im_3[:, :, 2]"
      ]
    },
    {
      "cell_type": "code",
      "execution_count": null,
      "metadata": {},
      "outputs": [],
      "source": [
        "# plot\n",
        "fig = plt.figure(figsize=(16, 10), layout=\"compressed\")\n",
        "gs = GridSpec(2, 4, figure=fig)\n",
        "ax1 = fig.add_subplot(gs[:, 0])\n",
        "ax1.imshow(im_3, vmin=0, vmax=255)\n",
        "ax1.set_title(image_3.filename.split(\"/\")[-1])\n",
        "ax2 = fig.add_subplot(gs[0, 1])\n",
        "im = ax2.imshow(im_3_r, cmap=\"Reds\", vmin=0, vmax=255)\n",
        "ax2.set_title(\"R[256 distinct colors]\")\n",
        "ax3 = fig.add_subplot(gs[0, 2])\n",
        "im = ax3.imshow(im_3_g, cmap=\"Greens\", vmin=0, vmax=255)\n",
        "ax3.set_title(\"G[256 distinct colors]\")\n",
        "ax4 = fig.add_subplot(gs[0, 3])\n",
        "im = ax4.imshow(im_3_b, cmap=\"Blues\", vmin=0, vmax=255)\n",
        "ax4.set_title(\"B[256 distinct colors]\")\n",
        "ax5 = fig.add_subplot(gs[1, 1])\n",
        "im = ax5.imshow(im_3_r, cmap=\"gray\", vmin=0, vmax=255)\n",
        "ax5.set_title(\"R[256 distinct colors]\")\n",
        "ax6 = fig.add_subplot(gs[1, 2])\n",
        "im = ax6.imshow(im_3_g, cmap=\"gray\", vmin=0, vmax=255)\n",
        "ax6.set_title(\"G[256 distinct colors]\")\n",
        "ax7 = fig.add_subplot(gs[1, 3])\n",
        "im = ax7.imshow(im_3_b, cmap=\"gray\", vmin=0, vmax=255)\n",
        "ax7.set_title(\"B[256 distinct colors]\")\n",
        "for ax in fig.axes:\n",
        "    ax.set_xticks([])\n",
        "    ax.set_yticks([])\n",
        "fig.colorbar(im, ax=ax2, location=\"top\", label=\"Red\").set_ticks([0, 255])\n",
        "fig.colorbar(im, ax=ax3, location=\"top\", label=\"Green\").set_ticks([0, 255])\n",
        "fig.colorbar(im, ax=ax4, location=\"top\", label=\"Blue\").set_ticks([0, 255])\n",
        "fig.colorbar(im, ax=ax5, location=\"bottom\", label=\"Red\").set_ticks([0, 255])\n",
        "fig.colorbar(im, ax=ax6, location=\"bottom\", label=\"Green\").set_ticks([0, 255])\n",
        "fig.colorbar(im, ax=ax7, location=\"bottom\", label=\"Blue\").set_ticks([0, 255])\n",
        "plt.show()"
      ]
    },
    {
      "cell_type": "markdown",
      "metadata": {},
      "source": [
        "## <a id='toc3_4_'></a>[RGBA images](#toc0_)\n",
        "\n",
        "- Similar to RGB, but includes an **Alpha (A) channel** for transparency control.\n",
        "- **Bit Depth**:\n",
        "  - **32-bit (8-bit per channel + 8-bit alpha)** \u2192 Standard RGBA format.\n",
        "  - **64-bit (16-bit per channel + 16-bit alpha)** \u2192 Used in HDR and high-precision applications.\n",
        "- **File Formats**:\n",
        "  - **PNG** (supports alpha transparency, widely used).\n",
        "  - **TIFF** (supports alpha, used in printing and professional editing).\n",
        "  - **TGA (Targa)** (used in game development and 3D rendering).\n",
        "  - **EXR (OpenEXR)** (used in visual effects and HDR imaging).\n"
      ]
    },
    {
      "cell_type": "code",
      "execution_count": null,
      "metadata": {},
      "outputs": [],
      "source": [
        "# log\n",
        "print(f\"type(image_4)                 : {type(image_4)}\")\n",
        "print(f\"image_4.format                : {image_4.format}\")\n",
        "print(f\"image_4.mode                  : {image_4.mode}\")\n",
        "print(f\"image_4.size                  : {image_4.size}\")\n",
        "print(f\"image_4.info['dpi']           : {image_4.info[\"dpi\"]}\")\n",
        "print(f\"image_4.has_transparency_data : {image_4.has_transparency_data}\\n\")\n",
        "print(f\"type(im_4)                    : {type(im_4)}\")\n",
        "print(f\"im_4.ndim                     : {im_4.ndim}\")\n",
        "print(f\"im_4.shape                    : {im_4.shape}\")\n",
        "print(f\"im_4.dtype                    : {im_4.dtype}\")"
      ]
    },
    {
      "cell_type": "code",
      "execution_count": null,
      "metadata": {},
      "outputs": [],
      "source": [
        "# separate RGBA channels\n",
        "im_4_r = im_4[:, :, 0]\n",
        "im_4_g = im_4[:, :, 1]\n",
        "im_4_b = im_4[:, :, 2]\n",
        "im_4_a = im_4[:, :, 3]"
      ]
    },
    {
      "cell_type": "code",
      "execution_count": null,
      "metadata": {},
      "outputs": [],
      "source": [
        "# plot\n",
        "fig = plt.figure(figsize=(14, 8), layout=\"compressed\")\n",
        "gs = GridSpec(2, 4, figure=fig)\n",
        "ax1 = fig.add_subplot(gs[0, :])\n",
        "ax1.imshow(im_4, vmin=0, vmax=1)\n",
        "ax1.set_title(image_4.filename.split(\"/\")[-1])\n",
        "ax2 = fig.add_subplot(gs[1, 0])\n",
        "ax2.imshow(im_4_r, cmap=\"Reds\", vmin=0, vmax=255)\n",
        "ax2.set_title(\"red channel\")\n",
        "ax3 = fig.add_subplot(gs[1, 1])\n",
        "ax3.imshow(im_4_g, cmap=\"Greens\", vmin=0, vmax=255)\n",
        "ax3.set_title(\"green channel\")\n",
        "ax4 = fig.add_subplot(gs[1, 2])\n",
        "ax4.imshow(im_4_b, cmap=\"Blues\", vmin=0, vmax=255)\n",
        "ax4.set_title(\"blue channel\")\n",
        "ax5 = fig.add_subplot(gs[1, 3])\n",
        "ax5.imshow(im_4_a, cmap=\"gray\", vmin=0, vmax=255)\n",
        "ax5.set_title(\"alpha channel\")\n",
        "for ax in fig.axes:\n",
        "    ax.set_xticks([])\n",
        "    ax.set_yticks([])\n",
        "plt.show()"
      ]
    },
    {
      "cell_type": "markdown",
      "metadata": {},
      "source": [
        "## <a id='toc3_5_'></a>[Indexed Color Images (Palette-Based)](#toc0_)\n",
        "\n",
        "- Uses a limited color palette, with each pixel storing an index to a predefined color table.\n",
        "- **Bit Depth**:\n",
        "  - **8-bit (256 colors)**\n",
        "  - **4-bit (16 colors), 2-bit (4 colors), 1-bit (monochrome)**\n",
        "- **File Formats**:\n",
        "  - **GIF** (supports animation and transparency).\n",
        "  - **PNG-8** (optimized lossless compression).\n"
      ]
    },
    {
      "cell_type": "code",
      "execution_count": null,
      "metadata": {},
      "outputs": [],
      "source": [
        "# log\n",
        "print(f\"type(image_5)                 : {type(image_5)}\")\n",
        "print(f\"image_5.format                : {image_5.format}\")\n",
        "print(f\"image_5.mode                  : {image_5.mode}\")\n",
        "print(f\"image_5.size                  : {image_5.size}\")\n",
        "print(f\"image_5.info['dpi']           : {image_5.info[\"dpi\"]}\")\n",
        "print(f\"image_5.has_transparency_data : {image_5.has_transparency_data}\\n\")\n",
        "print(f\"type(im_5)                    : {type(im_5)}\")\n",
        "print(f\"im_5.ndim                     : {im_5.ndim}\")\n",
        "print(f\"im_5.shape                    : {im_5.shape}\")\n",
        "print(f\"im_5.dtype                    : {im_5.dtype}\")"
      ]
    },
    {
      "cell_type": "code",
      "execution_count": null,
      "metadata": {},
      "outputs": [],
      "source": [
        "colors = np.array(image_5.getpalette()).reshape(-1, 3)\n",
        "\n",
        "# log\n",
        "print(f\"colors.shape : {colors.shape}\")\n",
        "print(f\"colors :\\n{colors}\")"
      ]
    },
    {
      "cell_type": "markdown",
      "metadata": {},
      "source": [
        "## <a id='toc3_6_'></a>[CMYK Images](#toc0_)\n",
        "\n",
        "- A subtractive color model used in printing.\n",
        "- **Bit Depth**:\n",
        "  - **32-bit (8-bit per channel)**\n",
        "  - **Higher precision (16-bit per channel)**\n",
        "- **File Formats**:\n",
        "  - **TIFF** (used in print production).\n",
        "  - **PDF** (for print-ready documents).\n"
      ]
    },
    {
      "cell_type": "code",
      "execution_count": null,
      "metadata": {},
      "outputs": [],
      "source": [
        "# log\n",
        "print(f\"type(image_6)                 : {type(image_6)}\")\n",
        "print(f\"image_6.format                : {image_6.format}\")\n",
        "print(f\"image_6.mode                  : {image_6.mode}\")\n",
        "print(f\"image_6.size                  : {image_6.size}\")\n",
        "print(f\"image_6.info['dpi']           : {image_6.info[\"dpi\"]}\")\n",
        "print(f\"image_6.has_transparency_data : {image_6.has_transparency_data}\\n\")\n",
        "print(f\"type(im_6)                    : {type(im_6)}\")\n",
        "print(f\"im_6.ndim                     : {im_6.ndim}\")\n",
        "print(f\"im_6.shape                    : {im_6.shape}\")\n",
        "print(f\"im_6.dtype                    : {im_6.dtype}\")"
      ]
    },
    {
      "cell_type": "code",
      "execution_count": null,
      "metadata": {},
      "outputs": [],
      "source": [
        "# separate CMYK channels\n",
        "im_6_c, im_6_m, im_6_y, im_6_k = image_6.split()"
      ]
    },
    {
      "cell_type": "code",
      "execution_count": null,
      "metadata": {},
      "outputs": [],
      "source": [
        "# plot\n",
        "fig = plt.figure(figsize=(14, 8), layout=\"compressed\")\n",
        "gs = GridSpec(2, 4, figure=fig)\n",
        "ax1 = fig.add_subplot(gs[0, :])\n",
        "ax1.imshow(image_6, vmin=0, vmax=1)\n",
        "ax1.set_title(image_6.filename.split(\"/\")[-1])\n",
        "ax2 = fig.add_subplot(gs[1, 0])\n",
        "ax2.imshow(im_6_c, cmap=\"gray\", vmin=0, vmax=255)\n",
        "ax2.set_title(\"cyan channel\")\n",
        "ax3 = fig.add_subplot(gs[1, 1])\n",
        "ax3.imshow(im_6_m, cmap=\"gray\", vmin=0, vmax=255)\n",
        "ax3.set_title(\"magenta channel\")\n",
        "ax4 = fig.add_subplot(gs[1, 2])\n",
        "ax4.imshow(im_6_y, cmap=\"gray\", vmin=0, vmax=255)\n",
        "ax4.set_title(\"yellow channel\")\n",
        "ax5 = fig.add_subplot(gs[1, 3])\n",
        "ax5.imshow(im_6_k, cmap=\"gray\", vmin=0, vmax=255)\n",
        "ax5.set_title(\"key/black channel\")\n",
        "for ax in fig.axes:\n",
        "    ax.set_xticks([])\n",
        "    ax.set_yticks([])\n",
        "plt.show()"
      ]
    },
    {
      "cell_type": "markdown",
      "metadata": {},
      "source": [
        "## <a id='toc3_7_'></a>[Multispectral & Hyperspectral Image](#toc0_)\n",
        "\n",
        "- Captured across multiple bands of the electromagnetic spectrum beyond visible light.\n",
        "- **Bit Depth**: **Often 16-bit or higher per channel.**\n",
        "- **File Formats**:\n",
        "  - **ENVI** (hyperspectral imaging format).\n",
        "  - **GeoTIFF** (for GIS applications).\n",
        "  - **DICOM** (for medical imaging).\n"
      ]
    },
    {
      "cell_type": "code",
      "execution_count": null,
      "metadata": {},
      "outputs": [],
      "source": []
    },
    {
      "cell_type": "markdown",
      "metadata": {},
      "source": [
        "## <a id='toc3_8_'></a>[HDR (High Dynamic Range) Images](#toc0_)\n",
        "- Stores a wider range of brightness and color depth.\n",
        "- **Bit Depth**: **10-bit, 12-bit, 16-bit, or 32-bit floating point per channel**.\n",
        "- **File Formats**:\n",
        "  - **EXR (OpenEXR)** (used in professional CGI and VFX).\n",
        "  - **HDR (Radiance HDR)** (for HDR photography).\n"
      ]
    },
    {
      "cell_type": "code",
      "execution_count": null,
      "metadata": {},
      "outputs": [],
      "source": []
    },
    {
      "cell_type": "markdown",
      "metadata": {},
      "source": [
        "## <a id='toc3_9_'></a>[Depth Maps & Alpha Masks](#toc0_)\n",
        "\n",
        "- Stores depth information (distance from the camera) or transparency levels.\n",
        "- **Bit Depth**:\n",
        "  - **8-bit (0\u2013255 depth levels or transparency values).**\n",
        "  - **16-bit / 32-bit for higher precision.**\n",
        "- **File Formats**:\n",
        "  - **EXR** (for depth and transparency maps in 3D rendering).\n",
        "  - **PNG** (grayscale alpha masks).\n"
      ]
    },
    {
      "cell_type": "code",
      "execution_count": null,
      "metadata": {},
      "outputs": [],
      "source": []
    },
    {
      "cell_type": "markdown",
      "metadata": {},
      "source": [
        "# <a id='toc4_'></a>[Save Images](#toc0_)\n"
      ]
    },
    {
      "cell_type": "code",
      "execution_count": null,
      "metadata": {},
      "outputs": [],
      "source": [
        "output_path = Path(\"../output/images\")\n",
        "output_path.mkdir(parents=True, exist_ok=True)"
      ]
    },
    {
      "cell_type": "markdown",
      "metadata": {},
      "source": [
        "### <a id='toc4_1_1_'></a>[Pillow](#toc0_)\n",
        "\n",
        "- Simple and intuitive API, supports a wide range of image formats.\n",
        "- Best for basic image I/O and manipulation tasks.\n",
        "\n",
        "\ud83d\udcdd **Docs**:\n",
        "\n",
        "- `Image.save`: [pillow.readthedocs.io/en/stable/reference/Image.html#PIL.Image.Image.save](https://pillow.readthedocs.io/en/stable/reference/Image.html#PIL.Image.Image.save)\n",
        "- `PIL.Image.Image.convert`: [pillow.readthedocs.io/en/stable/reference/Image.html#PIL.Image.Image.convert](https://pillow.readthedocs.io/en/stable/reference/Image.html#PIL.Image.Image.convert)\n",
        "- Image file formats: [pillow.readthedocs.io/en/stable/handbook/image-file-formats.html](https://pillow.readthedocs.io/en/stable/handbook/image-file-formats.html)\n"
      ]
    },
    {
      "cell_type": "code",
      "execution_count": null,
      "metadata": {},
      "outputs": [],
      "source": [
        "image_7 = Image.open(fp=\"../assets/images/misc/lenna_rgba.png\")"
      ]
    },
    {
      "cell_type": "code",
      "execution_count": null,
      "metadata": {},
      "outputs": [],
      "source": [
        "# save as a png file\n",
        "image_7.save(\n",
        "    fp=f\"{output_path}/png_1.png\",\n",
        "    format=\"png\",\n",
        "    optimize=True,\n",
        ")"
      ]
    },
    {
      "cell_type": "code",
      "execution_count": null,
      "metadata": {},
      "outputs": [],
      "source": [
        "# save as a jpeg file\n",
        "image_7.convert(\"RGB\").save(\n",
        "    fp=f\"{output_path}/jpg_1.jpg\",\n",
        "    format=\"jpeg\",\n",
        "    quality=95,\n",
        "    optimize=True,\n",
        ")"
      ]
    },
    {
      "cell_type": "markdown",
      "metadata": {},
      "source": [
        "### <a id='toc4_1_2_'></a>[Matplotlib](#toc0_)\n",
        "\n",
        "- Integrated with plotting, supports RGBA images, and automatically scales pixel values.\n",
        "- Best for visualizing images and saving plots as images.\n",
        "- It uses the Pillow library under the hood to save images!\n",
        "\n",
        "\ud83d\udcdd **Docs**:\n",
        "\n",
        "- `plt.imsave`: [matplotlib.org/stable/api/_as_gen/matplotlib.pyplot.imsave.html](https://matplotlib.org/stable/api/_as_gen/matplotlib.pyplot.imsave.html)\n",
        "- Image file formats: [pillow.readthedocs.io/en/stable/handbook/image-file-formats.html](https://pillow.readthedocs.io/en/stable/handbook/image-file-formats.html)\n"
      ]
    },
    {
      "cell_type": "code",
      "execution_count": null,
      "metadata": {},
      "outputs": [],
      "source": [
        "image_8 = plt.imread(fname=\"../assets/images/misc/lenna_rgba.png\")"
      ]
    },
    {
      "cell_type": "code",
      "execution_count": null,
      "metadata": {},
      "outputs": [],
      "source": [
        "image_8.shape"
      ]
    },
    {
      "cell_type": "code",
      "execution_count": null,
      "metadata": {},
      "outputs": [],
      "source": [
        "# save as a png file\n",
        "plt.imsave(\n",
        "    fname=f\"{output_path}/png_2.png\",\n",
        "    arr=image_8,\n",
        "    vmin=0,\n",
        "    vmax=255,\n",
        "    format=\"png\",\n",
        "    pil_kwargs={\"optimize\": True},\n",
        ")"
      ]
    },
    {
      "cell_type": "code",
      "execution_count": null,
      "metadata": {},
      "outputs": [],
      "source": [
        "# save as a jpeg file\n",
        "image_8 = image_8[:, :, :3]\n",
        "plt.imsave(\n",
        "    fname=f\"{output_path}/jpg_2.jpg\",\n",
        "    arr=image_8,\n",
        "    vmin=0,\n",
        "    vmax=255,\n",
        "    format=\"jpg\",\n",
        "    pil_kwargs={\"quality\": 95, \"optimize\": True},\n",
        ")"
      ]
    },
    {
      "cell_type": "markdown",
      "metadata": {},
      "source": [
        "### <a id='toc4_1_3_'></a>[OpenCV](#toc0_)\n",
        "\n",
        "- High performance [implemented in C++], supports advanced image processing, and handles BGR format natively.\n",
        "- Best for computer vision tasks and real-time image processing.\n",
        "\n",
        "\ud83d\udcdd **Docs**:\n",
        "\n",
        "- `cv2.imwrite`: [docs.opencv.org/master/d4/da8/group__imgcodecs.html#ga8ac397bd09e48851665edbe12aa28f25](https://docs.opencv.org/master/d4/da8/group__imgcodecs.html#ga8ac397bd09e48851665edbe12aa28f25)\n",
        "- `cv2.cvtColor`: [docs.opencv.org/master/d8/d01/group__imgproc__color__conversions.html#gaf86c09fe702ed037c03c2bc603ceab14](https://docs.opencv.org/master/d8/d01/group__imgproc__color__conversions.html#gaf86c09fe702ed037c03c2bc603ceab14)\n",
        "- `ImwriteFlags`: [docs.opencv.org/master/d8/d6a/group__imgcodecs__flags.html#ga292d81be8d76901bff7988d18d2b42ac](https://docs.opencv.org/master/d8/d6a/group__imgcodecs__flags.html#ga292d81be8d76901bff7988d18d2b42ac)\n",
        "- `ImreadModes`: [docs.opencv.org/master/d8/d6a/group__imgcodecs__flags.html#ga61d9b0126a3e57d9277ac48327799c80](https://docs.opencv.org/master/d8/d6a/group__imgcodecs__flags.html#ga61d9b0126a3e57d9277ac48327799c80)\n"
      ]
    },
    {
      "cell_type": "code",
      "execution_count": null,
      "metadata": {},
      "outputs": [],
      "source": [
        "image_9 = cv2.imread(filename=\"../assets/images/misc/lenna_rgba.png\", flags=cv2.IMREAD_UNCHANGED)"
      ]
    },
    {
      "cell_type": "code",
      "execution_count": null,
      "metadata": {},
      "outputs": [],
      "source": [
        "# save as a png file\n",
        "cv2.imwrite(\n",
        "    filename=f\"{output_path}/png_3.png\",\n",
        "    img=image_9,\n",
        "    params=[cv2.IMWRITE_PNG_COMPRESSION, 9],\n",
        ")"
      ]
    },
    {
      "cell_type": "code",
      "execution_count": null,
      "metadata": {},
      "outputs": [],
      "source": [
        "# convert RGBA to BGR\n",
        "bgr_image = cv2.cvtColor(image_9, code=cv2.COLOR_BGRA2BGR)\n",
        "\n",
        "# save as a jpeg file\n",
        "cv2.imwrite(\n",
        "    filename=f\"{output_path}/jpg_3.jpg\",\n",
        "    img=bgr_image,\n",
        "    params=[cv2.IMWRITE_JPEG_QUALITY, 95, cv2.IMWRITE_JPEG_OPTIMIZE, 1],\n",
        ")"
      ]
    }
  ],
  "metadata": {
    "author_email": "AmirhosseinHeydari78@gmail.com",
    "author_github": "https://github.com/mr-pylin",
    "author_name": "Amirhossein Heydari",
    "kernelspec": {
      "display_name": "media-processing-workshop-9l4de3Xu-py3.13",
      "language": "python",
      "name": "python3"
    },
    "language_info": {
      "codemirror_mode": {
        "name": "ipython",
        "version": 3
      },
      "file_extension": ".py",
      "mimetype": "text/x-python",
      "name": "python",
      "nbconvert_exporter": "python",
      "pygments_lexer": "ipython3",
      "version": "3.13.1"
    },
    "orig_nbformat": 4,
    "origin_repo": "https://github.com/mr-pylin/media-processing-workshop"
  },
  "nbformat": 4,
  "nbformat_minor": 2
}