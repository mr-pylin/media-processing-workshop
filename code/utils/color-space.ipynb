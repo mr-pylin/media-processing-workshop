{
  "cells": [
    {
      "cell_type": "markdown",
      "metadata": {},
      "source": [
        "📝 **Author:** Amirhossein Heydari - 📧 **Email:** <amirhosseinheydari78@gmail.com> - 📍 **Origin:** [mr-pylin/media-processing-workshop](https://github.com/mr-pylin/media-processing-workshop)\n",
        "\n",
        "---\n"
      ]
    },
    {
      "cell_type": "markdown",
      "metadata": {},
      "source": [
        "**Table of contents**<a id='toc0_'></a>    \n",
        "- [Dependencies](#toc1_)    \n",
        "- [Load Images](#toc2_)    \n",
        "- [Color Space Conversion](#toc3_)    \n",
        "  - [RGB - Grayscale](#toc3_1_)    \n",
        "    - [Manual](#toc3_1_1_)    \n",
        "    - [Using OpenCV](#toc3_1_2_)    \n",
        "    - [Using PIL](#toc3_1_3_)    \n",
        "    - [Using Scikit-Image](#toc3_1_4_)    \n",
        "  - [RGB - BGR](#toc3_2_)    \n",
        "    - [Manual](#toc3_2_1_)    \n",
        "    - [Using OpenCV](#toc3_2_2_)    \n",
        "  - [RGB - YUV](#toc3_3_)    \n",
        "    - [Manual](#toc3_3_1_)    \n",
        "    - [Using OpenCV](#toc3_3_2_)    \n",
        "  - [RGB - YCbCr](#toc3_4_)    \n",
        "    - [Manual](#toc3_4_1_)    \n",
        "    - [Using OpenCV](#toc3_4_2_)    \n",
        "  - [RGB - HSV](#toc3_5_)    \n",
        "    - [Using OpenCV](#toc3_5_1_)    \n",
        "  - [RGB - CMYK](#toc3_6_)    \n",
        "    - [Using PIL](#toc3_6_1_)    \n",
        "- [Visualize using Custom Color Maps](#toc4_)    \n",
        "  - [Indexed Image](#toc4_1_)    \n",
        "\n",
        "<!-- vscode-jupyter-toc-config\n",
        "\tnumbering=false\n",
        "\tanchor=true\n",
        "\tflat=false\n",
        "\tminLevel=1\n",
        "\tmaxLevel=6\n",
        "\t/vscode-jupyter-toc-config -->\n",
        "<!-- THIS CELL WILL BE REPLACED ON TOC UPDATE. DO NOT WRITE YOUR TEXT IN THIS CELL -->"
      ]
    },
    {
      "cell_type": "markdown",
      "metadata": {},
      "source": [
        "# <a id='toc1_'></a>[Dependencies](#toc0_)"
      ]
    },
    {
      "cell_type": "code",
      "execution_count": null,
      "metadata": {},
      "outputs": [],
      "source": [
        "import cv2\n",
        "import matplotlib.pyplot as plt\n",
        "import numpy as np\n",
        "import skimage as ski\n",
        "from matplotlib.colors import ListedColormap\n",
        "from numpy.typing import NDArray\n",
        "from PIL import Image"
      ]
    },
    {
      "cell_type": "code",
      "execution_count": null,
      "metadata": {},
      "outputs": [],
      "source": [
        "np.set_printoptions(linewidth=120)"
      ]
    },
    {
      "cell_type": "markdown",
      "metadata": {},
      "source": [
        "# <a id='toc2_'></a>[Load Images](#toc0_)"
      ]
    },
    {
      "cell_type": "code",
      "execution_count": null,
      "metadata": {},
      "outputs": [],
      "source": [
        "image_1 = Image.open(fp=\"../../assets/images/dip_3rd/CH06_Fig0638(a)(lenna_RGB).tif\")\n",
        "image_2 = Image.open(fp=\"../../assets/images/misc/lenna_rgba_indexed.png\")\n",
        "\n",
        "# PIL.Image.Image to np.ndarray\n",
        "im_1 = np.array(image_1)\n",
        "im_2 = np.array(image_2)\n",
        "\n",
        "# plot\n",
        "fig, axs = plt.subplots(1, 2, figsize=(8, 4), layout=\"compressed\")\n",
        "axs[0].imshow(image_1, vmin=0, vmax=255)\n",
        "axs[0].set_title(\"RGB\")\n",
        "axs[0].axis(\"off\")\n",
        "axs[1].imshow(image_2, vmin=0, vmax=255)\n",
        "axs[1].set_title(\"Indexed RGBA\")\n",
        "axs[1].axis(\"off\")\n",
        "plt.show()"
      ]
    },
    {
      "cell_type": "code",
      "execution_count": null,
      "metadata": {},
      "outputs": [],
      "source": [
        "# plot\n",
        "fig, axs = plt.subplots(1, 4, figsize=(16, 4), layout=\"compressed\")\n",
        "titles = [\"Original\", \"Red Channel\", \"Green Channel\", \"Blue Channel\"]\n",
        "images = [im_1, im_1[:, :, 0], im_1[:, :, 1], im_1[:, :, 2]]\n",
        "for ax, img, title in zip(axs, images, titles):\n",
        "    ax.imshow(img, cmap=\"gray\" if len(img.shape) == 2 else None, vmin=0, vmax=255)\n",
        "    ax.set_title(title)\n",
        "    ax.axis(\"off\")\n",
        "plt.show()"
      ]
    },
    {
      "cell_type": "markdown",
      "metadata": {},
      "source": [
        "# <a id='toc3_'></a>[Color Space Conversion](#toc0_)\n",
        "\n",
        "📝 **Docs**:\n",
        "\n",
        "- `cv2.cvtColor`: [docs.opencv.org/master/d8/d01/group__imgproc__color__conversions.html#gaf86c09fe702ed037c03c2bc603ceab14](https://docs.opencv.org/master/d8/d01/group__imgproc__color__conversions.html#gaf86c09fe702ed037c03c2bc603ceab14)\n",
        "- Color Space Conversions [`cv2`]: [docs.opencv.org/master/d8/d01/group__imgproc__color__conversions.html](https://docs.opencv.org/master/d8/d01/group__imgproc__color__conversions.html)\n",
        "- Modes [`PIL`]: [pillow.readthedocs.io/en/stable/handbook/concepts.html#concept-modes](https://pillow.readthedocs.io/en/stable/handbook/concepts.html#concept-modes)\n",
        "- Colormap reference [`matplotlib`]: [matplotlib.org/stable/gallery/color/colormap_reference.html](https://matplotlib.org/stable/gallery/color/colormap_reference.html)\n",
        "- ITU-R Recommendation BT.601-7 [an international technical standard]: [itu.int/dms_pubrec/itu-r/rec/bt/r-rec-bt.601-7-201103-i!!pdf-e.pdf](http://itu.int/dms_pubrec/itu-r/rec/bt/r-rec-bt.601-7-201103-i!!pdf-e.pdf)"
      ]
    },
    {
      "cell_type": "markdown",
      "metadata": {},
      "source": [
        "## <a id='toc3_1_'></a>[RGB - Grayscale](#toc0_)"
      ]
    },
    {
      "cell_type": "markdown",
      "metadata": {},
      "source": [
        "### <a id='toc3_1_1_'></a>[Manual](#toc0_)\n"
      ]
    },
    {
      "cell_type": "code",
      "execution_count": null,
      "metadata": {},
      "outputs": [],
      "source": [
        "RGB_TO_GS = np.array(\n",
        "    [\n",
        "        [0.299, 0.587, 0.114],\n",
        "    ],\n",
        "    dtype=np.float32,\n",
        ")\n",
        "\n",
        "# approximation using pseudo-inverse [best linear least-squares approximation]\n",
        "GS_TO_RGB = np.linalg.pinv(RGB_TO_GS)"
      ]
    },
    {
      "cell_type": "code",
      "execution_count": null,
      "metadata": {},
      "outputs": [],
      "source": [
        "def rgb_to_gs(image: NDArray) -> NDArray[np.uint8]:\n",
        "    im = (image.reshape(-1, 3) @ RGB_TO_GS.T).reshape(image.shape[:2])\n",
        "    return np.clip(im, 0, 255).astype(np.uint8)\n",
        "\n",
        "\n",
        "def gs_to_rgb(image: NDArray) -> NDArray[np.uint8]:\n",
        "    rgb = (image.reshape(-1, 1) @ GS_TO_RGB.T).reshape(*image.shape, 3)\n",
        "    return np.clip(rgb, 0, 255).astype(np.uint8)"
      ]
    },
    {
      "cell_type": "code",
      "execution_count": null,
      "metadata": {},
      "outputs": [],
      "source": [
        "im_1_to_gs_1  = rgb_to_gs(im_1)\n",
        "gs_1_to_rgb_1 = gs_to_rgb(im_1_to_gs_1)\n",
        "\n",
        "# plot\n",
        "fig, axs = plt.subplots(1, 3, figsize=(12, 4), layout=\"compressed\")\n",
        "titles = [\"Original\", \"RGB to GS\", \"GS to RGB (data loss)\"]\n",
        "images = [im_1, im_1_to_gs_1, gs_1_to_rgb_1]\n",
        "for ax, img, title in zip(axs, images, titles):\n",
        "    ax.imshow(img, cmap=\"gray\" if img.ndim == 2 else None, vmin=0, vmax=255)\n",
        "    ax.set_title(title)\n",
        "    ax.axis(\"off\")\n",
        "plt.show()"
      ]
    },
    {
      "cell_type": "markdown",
      "metadata": {},
      "source": [
        "### <a id='toc3_1_2_'></a>[Using OpenCV](#toc0_)\n"
      ]
    },
    {
      "cell_type": "code",
      "execution_count": null,
      "metadata": {},
      "outputs": [],
      "source": [
        "im_1_to_gs_2 = cv2.cvtColor(im_1, cv2.COLOR_RGB2GRAY)\n",
        "\n",
        "# replicates the grayscale channel into all three RGB channels (still grayish image)\n",
        "gs_2_to_rgb_2 = cv2.cvtColor(im_1_to_gs_2, cv2.COLOR_GRAY2RGB)\n",
        "\n",
        "# plot\n",
        "fig, axs = plt.subplots(1, 3, figsize=(12, 4), layout=\"compressed\")\n",
        "titles = [\"Original\", \"RGB to GS\", \"GS to RGB (data loss)\"]\n",
        "images = [im_1, im_1_to_gs_2, gs_2_to_rgb_2]\n",
        "for ax, img, title in zip(axs, images, titles):\n",
        "    ax.imshow(img, cmap=\"gray\" if img.ndim == 2 else None, vmin=0, vmax=255)\n",
        "    ax.set_title(title)\n",
        "    ax.axis(\"off\")\n",
        "plt.show()"
      ]
    },
    {
      "cell_type": "markdown",
      "metadata": {},
      "source": [
        "### <a id='toc3_1_3_'></a>[Using PIL](#toc0_)\n"
      ]
    },
    {
      "cell_type": "code",
      "execution_count": null,
      "metadata": {},
      "outputs": [],
      "source": [
        "im_1_to_gs_3 = Image.fromarray(im_1).convert(\"L\")\n",
        "gs_3_to_rgb_3 = im_1_to_gs_3.convert(\"RGB\")\n",
        "\n",
        "# plot\n",
        "fig, axs = plt.subplots(1, 3, figsize=(12, 4), layout=\"compressed\")\n",
        "titles = [\"Original\", \"RGB to GS\", \"GS to RGB (data loss)\"]\n",
        "images = [im_1, im_1_to_gs_3, gs_3_to_rgb_3]\n",
        "for ax, img, title in zip(axs, images, titles):\n",
        "    ax.imshow(img, cmap=\"gray\", vmin=0, vmax=255)\n",
        "    ax.set_title(title)\n",
        "    ax.axis(\"off\")\n",
        "plt.show()"
      ]
    },
    {
      "cell_type": "markdown",
      "metadata": {},
      "source": [
        "### <a id='toc3_1_4_'></a>[Using Scikit-Image](#toc0_)\n"
      ]
    },
    {
      "cell_type": "code",
      "execution_count": null,
      "metadata": {},
      "outputs": [],
      "source": [
        "im_1_to_gs_4 = ski.color.rgb2gray(im_1)\n",
        "gs_4_to_rgb_4 = ski.color.gray2rgb(im_1_to_gs_4)\n",
        "\n",
        "# plot\n",
        "fig, axs = plt.subplots(1, 3, figsize=(12, 4), layout=\"compressed\")\n",
        "titles = [\"Original\", \"RGB to GS\", \"GS to RGB (data loss)\"]\n",
        "images = [im_1, im_1_to_gs_4, gs_4_to_rgb_4]\n",
        "for ax, img, title in zip(axs, images, titles):\n",
        "    ax.imshow(img, cmap=\"gray\" if img.ndim == 2 else None)\n",
        "    ax.set_title(title)\n",
        "    ax.axis(\"off\")\n",
        "plt.show()"
      ]
    },
    {
      "cell_type": "markdown",
      "metadata": {},
      "source": [
        "## <a id='toc3_2_'></a>[RGB - BGR](#toc0_)"
      ]
    },
    {
      "cell_type": "markdown",
      "metadata": {},
      "source": [
        "### <a id='toc3_2_1_'></a>[Manual](#toc0_)\n"
      ]
    },
    {
      "cell_type": "code",
      "execution_count": null,
      "metadata": {},
      "outputs": [],
      "source": [
        "RGB_TO_BGR = np.array(\n",
        "    [\n",
        "        [0, 0, 1],\n",
        "        [0, 1, 0],\n",
        "        [1, 0, 0],\n",
        "    ],\n",
        "    dtype=np.float32,\n",
        ")\n",
        "\n",
        "BGR_TO_RGB = np.linalg.inv(RGB_TO_BGR)"
      ]
    },
    {
      "cell_type": "code",
      "execution_count": null,
      "metadata": {},
      "outputs": [],
      "source": [
        "def rgb_to_bgr(image: NDArray) -> NDArray[np.uint8]:\n",
        "    im = (image.reshape(-1, 3) @ RGB_TO_BGR.T).reshape(image.shape)\n",
        "    return np.clip(im, 0, 255).astype(np.uint8)\n",
        "\n",
        "\n",
        "def bgr_to_rgb(image: NDArray) -> NDArray[np.uint8]:\n",
        "    im = (image.reshape(-1, 3) @ BGR_TO_RGB.T).reshape(image.shape)\n",
        "    return np.clip(im, 0, 255).astype(np.uint8)"
      ]
    },
    {
      "cell_type": "code",
      "execution_count": null,
      "metadata": {},
      "outputs": [],
      "source": [
        "im_1_to_bgr = rgb_to_bgr(im_1)\n",
        "\n",
        "# plot\n",
        "fig, axs = plt.subplots(1, 4, figsize=(16, 4), layout=\"compressed\")\n",
        "titles = [\"BGR Image\", \"Red Channel\", \"Green Channel\", \"Blue Channel\"]\n",
        "images = [im_1_to_bgr] + [im_1_to_bgr[:, :, i] for i in range(3)]\n",
        "for ax, img, title in zip(axs, images, titles):\n",
        "    ax.imshow(img, cmap=\"gray\" if img.ndim == 2 else None, vmin=0, vmax=255)\n",
        "    ax.set_title(title)\n",
        "    ax.axis(\"off\")\n",
        "plt.show()"
      ]
    },
    {
      "cell_type": "markdown",
      "metadata": {},
      "source": [
        "### <a id='toc3_2_2_'></a>[Using OpenCV](#toc0_)\n"
      ]
    },
    {
      "cell_type": "code",
      "execution_count": null,
      "metadata": {},
      "outputs": [],
      "source": [
        "im_1_to_bgr = cv2.cvtColor(im_1, cv2.COLOR_RGB2BGR)\n",
        "\n",
        "# plot\n",
        "fig, axs = plt.subplots(1, 4, figsize=(16, 4), layout=\"compressed\")\n",
        "titles = [\"BGR Image\", \"Blue Channel\", \"Green Channel\", \"Red Channel\"]\n",
        "images = [im_1_to_bgr] + [im_1_to_bgr[:, :, i] for i in range(3)]\n",
        "for ax, img, title in zip(axs, images, titles):\n",
        "    ax.imshow(img, cmap=\"gray\" if img.ndim == 2 else None, vmin=0, vmax=255)\n",
        "    ax.set_title(title)\n",
        "    ax.axis(\"off\")\n",
        "plt.show()"
      ]
    },
    {
      "cell_type": "markdown",
      "metadata": {},
      "source": [
        "## <a id='toc3_3_'></a>[RGB - YUV](#toc0_)"
      ]
    },
    {
      "cell_type": "markdown",
      "metadata": {},
      "source": [
        "### <a id='toc3_3_1_'></a>[Manual](#toc0_)\n"
      ]
    },
    {
      "cell_type": "code",
      "execution_count": null,
      "metadata": {},
      "outputs": [],
      "source": [
        "RGB_TO_YUV = np.array(\n",
        "    [\n",
        "        [0.29900, 0.58700, 0.11400],\n",
        "        [-0.14713, -0.28886, 0.43600],\n",
        "        [0.61500, -0.51499, -0.10001],\n",
        "    ],\n",
        "    dtype=np.float32,\n",
        ")\n",
        "\n",
        "YUV_TO_RGB = np.linalg.inv(RGB_TO_YUV)\n",
        "YUV_OFFSET = np.array([0, 128, 128])"
      ]
    },
    {
      "cell_type": "code",
      "execution_count": null,
      "metadata": {},
      "outputs": [],
      "source": [
        "def rgb_to_yuv(image: NDArray) -> NDArray[np.uint8]:\n",
        "    im = (image.reshape(-1, 3) @ RGB_TO_YUV.T + YUV_OFFSET).reshape(image.shape)\n",
        "    return np.clip(im, 0, 255).astype(np.uint8)\n",
        "\n",
        "\n",
        "def yuv_to_rgb(image: NDArray) -> NDArray[np.uint8]:\n",
        "    im = ((image.reshape(-1, 3) - YUV_OFFSET) @ YUV_TO_RGB.T).reshape(image.shape)\n",
        "    return np.clip(im, 0, 255).astype(np.uint8)"
      ]
    },
    {
      "cell_type": "code",
      "execution_count": null,
      "metadata": {},
      "outputs": [],
      "source": [
        "im_1_to_yuv = rgb_to_yuv(im_1)\n",
        "\n",
        "# plot\n",
        "fig, axs = plt.subplots(1, 4, figsize=(16, 4), layout=\"compressed\")\n",
        "titles = [\"YUV Image\", \"Y Channel\", \"U Channel\", \"V Channel\"]\n",
        "images = [im_1_to_yuv] + [im_1_to_yuv[:, :, i] for i in range(3)]\n",
        "for ax, img, title in zip(axs, images, titles):\n",
        "    ax.imshow(img, cmap=\"gray\" if img.ndim == 2 else None, vmin=0, vmax=255)\n",
        "    ax.set_title(title)\n",
        "    ax.axis(\"off\")\n",
        "plt.show()"
      ]
    },
    {
      "cell_type": "markdown",
      "metadata": {},
      "source": [
        "### <a id='toc3_3_2_'></a>[Using OpenCV](#toc0_)\n"
      ]
    },
    {
      "cell_type": "code",
      "execution_count": null,
      "metadata": {},
      "outputs": [],
      "source": [
        "im_1_to_yuv = cv2.cvtColor(im_1, cv2.COLOR_RGB2YUV)\n",
        "\n",
        "# plot\n",
        "fig, axs = plt.subplots(1, 4, figsize=(16, 4), layout=\"compressed\")\n",
        "titles = [\"YUV Image\", \"Y Channel\", \"U Channel\", \"V Channel\"]\n",
        "images = [im_1_to_yuv] + [im_1_to_yuv[:, :, i] for i in range(3)]\n",
        "for ax, img, title in zip(axs, images, titles):\n",
        "    ax.imshow(img, cmap=\"gray\" if img.ndim == 2 else None, vmin=0, vmax=255)\n",
        "    ax.set_title(title)\n",
        "    ax.axis(\"off\")\n",
        "plt.show()"
      ]
    },
    {
      "cell_type": "markdown",
      "metadata": {},
      "source": [
        "## <a id='toc3_4_'></a>[RGB - YCbCr](#toc0_)"
      ]
    },
    {
      "cell_type": "markdown",
      "metadata": {},
      "source": [
        "### <a id='toc3_4_1_'></a>[Manual](#toc0_)\n"
      ]
    },
    {
      "cell_type": "code",
      "execution_count": null,
      "metadata": {},
      "outputs": [],
      "source": [
        "RGB_TO_YCBCR = np.array(\n",
        "    [\n",
        "        [0.299, 0.587, 0.114],\n",
        "        [-0.168736, -0.331264, 0.5],\n",
        "        [0.5, -0.418688, -0.081312],\n",
        "    ],\n",
        "    dtype=np.float32,\n",
        ")\n",
        "\n",
        "YCBCR_TO_RGB = np.linalg.inv(RGB_TO_YCBCR)\n",
        "YCBCR_OFFSET = np.array([0, 128, 128])"
      ]
    },
    {
      "cell_type": "code",
      "execution_count": null,
      "metadata": {},
      "outputs": [],
      "source": [
        "def rgb_to_ycbcr(image: NDArray) -> NDArray[np.uint8]:\n",
        "    im = (image.reshape(-1, 3) @ RGB_TO_YCBCR.T + YCBCR_OFFSET).reshape(image.shape)\n",
        "    return np.clip(im, 0, 255).astype(np.uint8)\n",
        "\n",
        "\n",
        "def ycbcr_to_rgb(image: NDArray) -> NDArray[np.uint8]:\n",
        "    im = ((image.reshape(-1, 3) - YCBCR_OFFSET) @ YCBCR_TO_RGB.T).reshape(image.shape)\n",
        "    return np.clip(im, 0, 255).astype(np.uint8)"
      ]
    },
    {
      "cell_type": "code",
      "execution_count": null,
      "metadata": {},
      "outputs": [],
      "source": [
        "im_1_to_ycrcb = rgb_to_ycbcr(im_1)\n",
        "\n",
        "# plot\n",
        "fig, axs = plt.subplots(1, 4, figsize=(16, 4), layout=\"compressed\")\n",
        "titles = [\"YCbCr Image\", \"Y Channel\", \"Cb Channel\", \"Cr Channel\"]\n",
        "images = [im_1_to_ycrcb] + [im_1_to_ycrcb[:, :, i] for i in range(3)]\n",
        "for ax, img, title in zip(axs, images, titles):\n",
        "    ax.imshow(img, cmap=\"gray\" if img.ndim == 2 else None, vmin=0, vmax=255)\n",
        "    ax.set_title(title)\n",
        "    ax.axis(\"off\")\n",
        "plt.show()"
      ]
    },
    {
      "cell_type": "markdown",
      "metadata": {},
      "source": [
        "### <a id='toc3_4_2_'></a>[Using OpenCV](#toc0_)\n"
      ]
    },
    {
      "cell_type": "code",
      "execution_count": null,
      "metadata": {},
      "outputs": [],
      "source": [
        "im_1_to_ycrcb = cv2.cvtColor(im_1, cv2.COLOR_RGB2YCrCb)\n",
        "\n",
        "# plot\n",
        "fig, axs = plt.subplots(1, 4, figsize=(16, 4), layout=\"compressed\")\n",
        "titles = [\"YCbCr Image\", \"Y Channel\", \"Cb Channel\", \"Cr Channel\"]\n",
        "images = [im_1_to_ycrcb] + [im_1_to_ycrcb[:, :, i] for i in range(3)]\n",
        "for ax, img, title in zip(axs, images, titles):\n",
        "    ax.imshow(img, cmap=\"gray\" if img.ndim == 2 else None, vmin=0, vmax=255)\n",
        "    ax.set_title(title)\n",
        "    ax.axis(\"off\")\n",
        "plt.show()"
      ]
    },
    {
      "cell_type": "markdown",
      "metadata": {},
      "source": [
        "## <a id='toc3_5_'></a>[RGB - HSV](#toc0_)"
      ]
    },
    {
      "cell_type": "markdown",
      "metadata": {},
      "source": [
        "### <a id='toc3_5_1_'></a>[Using OpenCV](#toc0_)\n"
      ]
    },
    {
      "cell_type": "code",
      "execution_count": null,
      "metadata": {},
      "outputs": [],
      "source": [
        "im_1_to_hsv = cv2.cvtColor(im_1, cv2.COLOR_RGB2HSV)\n",
        "\n",
        "# plot\n",
        "fig, axs = plt.subplots(1, 4, figsize=(16, 4), layout=\"compressed\")\n",
        "titles = [\"HSV Image\", \"Hue Channel\", \"Saturation Channel\", \"Value Channel\"]\n",
        "images = [im_1_to_hsv] + [im_1_to_hsv[:, :, i] for i in range(3)]\n",
        "for ax, img, title in zip(axs, images, titles):\n",
        "    ax.imshow(img, cmap=\"gray\" if img.ndim == 2 else None, vmin=0, vmax=255)\n",
        "    ax.set_title(title)\n",
        "    ax.axis(\"off\")\n",
        "plt.show()"
      ]
    },
    {
      "cell_type": "markdown",
      "metadata": {},
      "source": [
        "## <a id='toc3_6_'></a>[RGB - CMYK](#toc0_)\n"
      ]
    },
    {
      "cell_type": "markdown",
      "metadata": {},
      "source": [
        "### <a id='toc3_6_1_'></a>[Using PIL](#toc0_)\n"
      ]
    },
    {
      "cell_type": "code",
      "execution_count": null,
      "metadata": {},
      "outputs": [],
      "source": [
        "im_1_to_cmyk = np.array(Image.fromarray(im_1).convert('CMYK'))\n",
        "\n",
        "\n",
        "# plot\n",
        "fig, axs = plt.subplots(1, 5, figsize=(20, 4), layout=\"compressed\")\n",
        "titles = [\"CMYK Image\", \"Cyan\", \"Magenta\", \"Yellow\", \"Key\"]\n",
        "images = [Image.fromarray(im_1).convert('CMYK')] + [im_1_to_cmyk[:, :, i] for i in range(4)]\n",
        "for ax, img, title in zip(axs, images, titles):\n",
        "    ax.imshow(img, cmap=\"gray\", vmin=0, vmax=255)\n",
        "    ax.set_title(title)\n",
        "    ax.axis(\"off\")\n",
        "plt.show()"
      ]
    },
    {
      "cell_type": "markdown",
      "metadata": {},
      "source": [
        "# <a id='toc4_'></a>[Visualize using Custom Color Maps](#toc0_)\n"
      ]
    },
    {
      "cell_type": "markdown",
      "metadata": {},
      "source": [
        "## <a id='toc4_1_'></a>[Indexed Image](#toc0_)\n"
      ]
    },
    {
      "cell_type": "code",
      "execution_count": null,
      "metadata": {},
      "outputs": [],
      "source": [
        "# fetch color palletes\n",
        "colors = np.array(image_2.getpalette(), dtype=np.uint8).reshape(-1, 3)\n",
        "num_colors =colors.shape[0]\n",
        "\n",
        "# find alpha index\n",
        "alpha_idx = np.ones(num_colors)\n",
        "if 'transparency' in image_2.info:\n",
        "    t = image_2.info['transparency']\n",
        "    if isinstance(t, bytes):\n",
        "        alpha_idx = np.array(list(t), dtype=np.uint8) / 255.0\n",
        "    elif isinstance(t, int):\n",
        "        alpha_idx[t] = 0.0\n",
        "\n",
        "# add alpha channel + normalization\n",
        "colors_norm = np.concatenate([colors / 255.0, alpha_idx[:, None]], axis=1)\n",
        "\n",
        "# log\n",
        "print(f\"num colors : {num_colors}\")\n",
        "print(f\"alpha idx  : {alpha_idx}\")\n",
        "print(f\"colors:\\n{colors_norm}\")"
      ]
    },
    {
      "cell_type": "code",
      "execution_count": null,
      "metadata": {},
      "outputs": [],
      "source": [
        "# create a color map\n",
        "cmap = ListedColormap(colors_norm)\n",
        "\n",
        "# plot\n",
        "fig, axs = plt.subplots(1, 2, figsize=(8, 4), layout=\"compressed\")\n",
        "axs[0].imshow(im_2, cmap='gray', vmin=0, vmax=im_2.max())\n",
        "axs[0].set_title(\"Wrong cmap\")\n",
        "axs[0].axis(\"off\")\n",
        "axs[1].imshow(im_2, cmap=cmap, vmin=0, vmax=num_colors)\n",
        "axs[1].set_title(\"Correct cmap\")\n",
        "axs[1].axis(\"off\")\n",
        "plt.show()"
      ]
    }
  ],
  "metadata": {
    "author_email": "AmirhosseinHeydari78@gmail.com",
    "author_github": "https://github.com/mr-pylin",
    "author_name": "Amirhossein Heydari",
    "kernelspec": {
      "display_name": "media-processing-workshop-sxUc00b2-py3.13",
      "language": "python",
      "name": "python3"
    },
    "language_info": {
      "codemirror_mode": {
        "name": "ipython",
        "version": 3
      },
      "file_extension": ".py",
      "mimetype": "text/x-python",
      "name": "python",
      "nbconvert_exporter": "python",
      "pygments_lexer": "ipython3",
      "version": "3.13.1"
    },
    "origin_repo": "https://github.com/mr-pylin/media-processing-workshop"
  },
  "nbformat": 4,
  "nbformat_minor": 2
}
