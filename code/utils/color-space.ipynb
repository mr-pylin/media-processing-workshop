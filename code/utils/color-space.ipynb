{
  "cells": [
    {
      "cell_type": "markdown",
      "metadata": {},
      "source": [
        "📝 **Author:** Amirhossein Heydari - 📧 **Email:** <amirhosseinheydari78@gmail.com> - 📍 **Origin:** [mr-pylin/media-processing-workshop](https://github.com/mr-pylin/media-processing-workshop)\n",
        "\n",
        "---\n"
      ]
    },
    {
      "cell_type": "markdown",
      "metadata": {},
      "source": [
        "**Table of contents**<a id='toc0_'></a>    \n",
        "- [Dependencies](#toc1_)    \n",
        "- [Load an Image](#toc2_)    \n",
        "- [Color Space Conversion](#toc3_)    \n",
        "  - [RGB - Grayscale](#toc3_1_)    \n",
        "    - [Manual](#toc3_1_1_)    \n",
        "    - [Using OpenCV](#toc3_1_2_)    \n",
        "    - [Using PIL](#toc3_1_3_)    \n",
        "    - [Using Scikit-Image](#toc3_1_4_)    \n",
        "  - [RGB - BGR](#toc3_2_)    \n",
        "    - [Manual](#toc3_2_1_)    \n",
        "    - [Using OpenCV](#toc3_2_2_)    \n",
        "  - [RGB - YUV](#toc3_3_)    \n",
        "    - [Manual](#toc3_3_1_)    \n",
        "    - [Using OpenCV](#toc3_3_2_)    \n",
        "  - [RGB - YCrCb](#toc3_4_)    \n",
        "    - [Manual](#toc3_4_1_)    \n",
        "    - [Using OpenCV](#toc3_4_2_)    \n",
        "  - [RGB - HSV](#toc3_5_)    \n",
        "    - [Using OpenCV](#toc3_5_1_)    \n",
        "\n",
        "<!-- vscode-jupyter-toc-config\n",
        "\tnumbering=false\n",
        "\tanchor=true\n",
        "\tflat=false\n",
        "\tminLevel=1\n",
        "\tmaxLevel=6\n",
        "\t/vscode-jupyter-toc-config -->\n",
        "<!-- THIS CELL WILL BE REPLACED ON TOC UPDATE. DO NOT WRITE YOUR TEXT IN THIS CELL -->"
      ]
    },
    {
      "cell_type": "markdown",
      "metadata": {},
      "source": [
        "# <a id='toc1_'></a>[Dependencies](#toc0_)"
      ]
    },
    {
      "cell_type": "code",
      "execution_count": null,
      "metadata": {},
      "outputs": [],
      "source": [
        "import cv2\n",
        "import matplotlib.pyplot as plt\n",
        "import numpy as np\n",
        "import skimage as ski\n",
        "from numpy.typing import NDArray\n",
        "from PIL import Image"
      ]
    },
    {
      "cell_type": "markdown",
      "metadata": {},
      "source": [
        "# <a id='toc2_'></a>[Load an Image](#toc0_)"
      ]
    },
    {
      "cell_type": "code",
      "execution_count": null,
      "metadata": {},
      "outputs": [],
      "source": [
        "im_bgr = cv2.imread(filename=\"../../assets/images/dip_3rd/CH06_Fig0638(a)(lenna_RGB).tif\")\n",
        "im_rgb = cv2.cvtColor(im_bgr, cv2.COLOR_BGR2RGB)\n",
        "im_rgb_2 = Image.fromarray(im_rgb)\n",
        "\n",
        "# plot\n",
        "fig, axs = plt.subplots(1, 4, figsize=(16, 4), layout=\"compressed\")\n",
        "titles = [\"Original\", \"Red Channel\", \"Green Channel\", \"Blue Channel\"]\n",
        "images = [im_rgb, im_rgb[:, :, 0], im_rgb[:, :, 1], im_rgb[:, :, 2]]\n",
        "for ax, img, title in zip(axs, images, titles):\n",
        "    ax.imshow(img, cmap=\"gray\" if len(img.shape) == 2 else None, vmin=0, vmax=255)\n",
        "    ax.set_title(title)\n",
        "    ax.axis(\"off\")\n",
        "plt.show()"
      ]
    },
    {
      "cell_type": "markdown",
      "metadata": {},
      "source": [
        "# <a id='toc3_'></a>[Color Space Conversion](#toc0_)\n",
        "\n",
        "📝 **Docs**:\n",
        "\n",
        "- `cv2.cvtColor`: [docs.opencv.org/master/d8/d01/group__imgproc__color__conversions.html#gaf86c09fe702ed037c03c2bc603ceab14](https://docs.opencv.org/master/d8/d01/group__imgproc__color__conversions.html#gaf86c09fe702ed037c03c2bc603ceab14)\n",
        "- Color Space Conversions [`cv2`]: [docs.opencv.org/master/d8/d01/group__imgproc__color__conversions.html](https://docs.opencv.org/master/d8/d01/group__imgproc__color__conversions.html)\n",
        "- Modes [`PIL`]: [pillow.readthedocs.io/en/stable/handbook/concepts.html#concept-modes](https://pillow.readthedocs.io/en/stable/handbook/concepts.html#concept-modes)\n",
        "- Colormap reference [`matplotlib`]: [matplotlib.org/stable/gallery/color/colormap_reference.html](https://matplotlib.org/stable/gallery/color/colormap_reference.html)\n",
        "- ITU-R Recommendation BT.601-7 [an international technical standard]: [itu.int/dms_pubrec/itu-r/rec/bt/r-rec-bt.601-7-201103-i!!pdf-e.pdf](http://itu.int/dms_pubrec/itu-r/rec/bt/r-rec-bt.601-7-201103-i!!pdf-e.pdf)"
      ]
    },
    {
      "cell_type": "markdown",
      "metadata": {},
      "source": [
        "## <a id='toc3_1_'></a>[RGB - Grayscale](#toc0_)"
      ]
    },
    {
      "cell_type": "markdown",
      "metadata": {},
      "source": [
        "### <a id='toc3_1_1_'></a>[Manual](#toc0_)\n"
      ]
    },
    {
      "cell_type": "code",
      "execution_count": null,
      "metadata": {},
      "outputs": [],
      "source": [
        "RGB_TO_GS = np.array(\n",
        "    [\n",
        "        [0.299, 0.587, 0.114],\n",
        "    ],\n",
        "    dtype=np.float64,\n",
        ")"
      ]
    },
    {
      "cell_type": "code",
      "execution_count": null,
      "metadata": {},
      "outputs": [],
      "source": [
        "def rgb_to_gs(image: NDArray) -> NDArray[np.uint8]:\n",
        "    im = (image.reshape(-1, 3) @ RGB_TO_GS.T).reshape(image.shape[:2])\n",
        "    return np.clip(im, 0, 255).astype(np.uint8)"
      ]
    },
    {
      "cell_type": "code",
      "execution_count": null,
      "metadata": {},
      "outputs": [],
      "source": [
        "im_rgb_to_gs_1 = rgb_to_gs(im_rgb)\n",
        "\n",
        "# plot\n",
        "plt.imshow(im_rgb_to_gs_1, cmap=\"gray\")\n",
        "plt.title(\"GrayScale\")\n",
        "plt.axis(\"off\")\n",
        "plt.show()"
      ]
    },
    {
      "cell_type": "markdown",
      "metadata": {},
      "source": [
        "### <a id='toc3_1_2_'></a>[Using OpenCV](#toc0_)\n"
      ]
    },
    {
      "cell_type": "code",
      "execution_count": null,
      "metadata": {},
      "outputs": [],
      "source": [
        "im_rgb_to_gs_2 = cv2.cvtColor(im_rgb, cv2.COLOR_RGB2GRAY)\n",
        "\n",
        "# plot\n",
        "plt.imshow(im_rgb_to_gs_2, cmap=\"gray\")\n",
        "plt.title(\"GrayScale\")\n",
        "plt.axis(\"off\")\n",
        "plt.show()"
      ]
    },
    {
      "cell_type": "markdown",
      "metadata": {},
      "source": [
        "### <a id='toc3_1_3_'></a>[Using PIL](#toc0_)\n"
      ]
    },
    {
      "cell_type": "code",
      "execution_count": null,
      "metadata": {},
      "outputs": [],
      "source": [
        "im_rgb_to_gs_3 = Image.fromarray(im_rgb).convert(\"L\")\n",
        "\n",
        "# plot\n",
        "plt.imshow(im_rgb_to_gs_3, cmap=\"gray\")\n",
        "plt.title(\"GrayScale\")\n",
        "plt.axis(\"off\")\n",
        "plt.show()"
      ]
    },
    {
      "cell_type": "markdown",
      "metadata": {},
      "source": [
        "### <a id='toc3_1_4_'></a>[Using Scikit-Image](#toc0_)\n"
      ]
    },
    {
      "cell_type": "code",
      "execution_count": null,
      "metadata": {},
      "outputs": [],
      "source": [
        "im_rgb_to_gs_4 = ski.color.rgb2gray(im_rgb)\n",
        "\n",
        "# plot\n",
        "plt.imshow(im_rgb_to_gs_4, cmap=\"gray\")\n",
        "plt.title(\"GrayScale\")\n",
        "plt.axis(\"off\")\n",
        "plt.show()"
      ]
    },
    {
      "cell_type": "markdown",
      "metadata": {},
      "source": [
        "## <a id='toc3_2_'></a>[RGB - BGR](#toc0_)"
      ]
    },
    {
      "cell_type": "markdown",
      "metadata": {},
      "source": [
        "### <a id='toc3_2_1_'></a>[Manual](#toc0_)\n"
      ]
    },
    {
      "cell_type": "code",
      "execution_count": null,
      "metadata": {},
      "outputs": [],
      "source": [
        "RGB_TO_BGR = np.array(\n",
        "    [\n",
        "        [0, 0, 1],\n",
        "        [0, 1, 0],\n",
        "        [1, 0, 0],\n",
        "    ],\n",
        "    dtype=np.float64,\n",
        ")\n",
        "\n",
        "BGR_TO_RGB = np.array(\n",
        "    [\n",
        "        [0, 0, 1],\n",
        "        [0, 1, 0],\n",
        "        [1, 0, 0],\n",
        "    ],\n",
        "    dtype=np.float64,\n",
        ")"
      ]
    },
    {
      "cell_type": "code",
      "execution_count": null,
      "metadata": {},
      "outputs": [],
      "source": [
        "def rgb_to_bgr(image: NDArray) -> NDArray[np.uint8]:\n",
        "    im = (image.reshape(-1, 3) @ RGB_TO_BGR.T).reshape(image.shape)\n",
        "    return np.clip(im, 0, 255).astype(np.uint8)\n",
        "\n",
        "\n",
        "def bgr_to_rgb(image: NDArray) -> NDArray[np.uint8]:\n",
        "    im = (image.reshape(-1, 3) @ BGR_TO_RGB.T).reshape(image.shape)\n",
        "    return np.clip(im, 0, 255).astype(np.uint8)"
      ]
    },
    {
      "cell_type": "code",
      "execution_count": null,
      "metadata": {},
      "outputs": [],
      "source": [
        "im_rgb_to_bgr = rgb_to_bgr(im_rgb)\n",
        "\n",
        "# plot\n",
        "fig, axs = plt.subplots(1, 4, figsize=(16, 4), layout=\"compressed\")\n",
        "titles = [\"BGR Image\", \"Red Channel\", \"Green Channel\", \"Blue Channel\"]\n",
        "images = [im_rgb_to_bgr] + [im_rgb_to_bgr[:, :, i] for i in range(3)]\n",
        "for ax, img, title in zip(axs, images, titles):\n",
        "    ax.imshow(img, cmap=\"gray\" if img.ndim == 2 else None, vmin=0, vmax=255)\n",
        "    ax.set_title(title)\n",
        "    ax.axis(\"off\")\n",
        "plt.show()"
      ]
    },
    {
      "cell_type": "markdown",
      "metadata": {},
      "source": [
        "### <a id='toc3_2_2_'></a>[Using OpenCV](#toc0_)\n"
      ]
    },
    {
      "cell_type": "code",
      "execution_count": null,
      "metadata": {},
      "outputs": [],
      "source": [
        "im_rgb_to_bgr = cv2.cvtColor(im_rgb, cv2.COLOR_RGB2BGR)\n",
        "\n",
        "# plot\n",
        "fig, axs = plt.subplots(1, 4, figsize=(16, 4), layout=\"compressed\")\n",
        "titles = [\"BGR Image\", \"Blue Channel\", \"Green Channel\", \"Red Channel\"]\n",
        "images = [im_rgb_to_bgr] + [im_rgb_to_bgr[:, :, i] for i in range(3)]\n",
        "for ax, img, title in zip(axs, images, titles):\n",
        "    ax.imshow(img, cmap=\"gray\" if img.ndim == 2 else None, vmin=0, vmax=255)\n",
        "    ax.set_title(title)\n",
        "    ax.axis(\"off\")\n",
        "plt.show()"
      ]
    },
    {
      "cell_type": "markdown",
      "metadata": {},
      "source": [
        "## <a id='toc3_3_'></a>[RGB - YUV](#toc0_)"
      ]
    },
    {
      "cell_type": "markdown",
      "metadata": {},
      "source": [
        "### <a id='toc3_3_1_'></a>[Manual](#toc0_)\n"
      ]
    },
    {
      "cell_type": "code",
      "execution_count": null,
      "metadata": {},
      "outputs": [],
      "source": [
        "RGB_TO_YUV = np.array(\n",
        "    [\n",
        "        [0.299, 0.587, 0.114],\n",
        "        [-0.14713, -0.28886, 0.436],\n",
        "        [0.615, -0.51499, -0.10001],\n",
        "    ],\n",
        "    dtype=np.float64,\n",
        ")\n",
        "\n",
        "YUV_TO_RGB = np.array(\n",
        "    [\n",
        "        [1.0, 0.0, 1.13983],\n",
        "        [1.0, -0.39465, -0.58060],\n",
        "        [1.0, 2.03211, 0.0],\n",
        "    ],\n",
        "    dtype=np.float64,\n",
        ")\n",
        "\n",
        "YUV_OFFSET = np.array([0, 128, 128])"
      ]
    },
    {
      "cell_type": "code",
      "execution_count": null,
      "metadata": {},
      "outputs": [],
      "source": [
        "def rgb_to_yuv(image: NDArray) -> NDArray[np.uint8]:\n",
        "    im = (image.reshape(-1, 3) @ RGB_TO_YUV.T + YUV_OFFSET).reshape(image.shape)\n",
        "    return np.clip(im, 0, 255).astype(np.uint8)\n",
        "\n",
        "\n",
        "def yuv_to_rgb(image: NDArray) -> NDArray[np.uint8]:\n",
        "    im = ((image.reshape(-1, 3) - YUV_OFFSET) @ YUV_TO_RGB.T).reshape(image.shape)\n",
        "    return np.clip(im, 0, 255).astype(np.uint8)"
      ]
    },
    {
      "cell_type": "code",
      "execution_count": null,
      "metadata": {},
      "outputs": [],
      "source": [
        "im_rgb_to_yuv = rgb_to_yuv(im_rgb)\n",
        "\n",
        "# plot\n",
        "fig, axs = plt.subplots(1, 4, figsize=(16, 4), layout=\"compressed\")\n",
        "titles = [\"YUV Image\", \"Y Channel\", \"U Channel\", \"V Channel\"]\n",
        "images = [im_rgb_to_yuv] + [im_rgb_to_yuv[:, :, i] for i in range(3)]\n",
        "for ax, img, title in zip(axs, images, titles):\n",
        "    ax.imshow(img, cmap=\"gray\" if img.ndim == 2 else None, vmin=0, vmax=255)\n",
        "    ax.set_title(title)\n",
        "    ax.axis(\"off\")\n",
        "plt.show()"
      ]
    },
    {
      "cell_type": "markdown",
      "metadata": {},
      "source": [
        "### <a id='toc3_3_2_'></a>[Using OpenCV](#toc0_)\n"
      ]
    },
    {
      "cell_type": "code",
      "execution_count": null,
      "metadata": {},
      "outputs": [],
      "source": [
        "im_rgb_to_yuv = cv2.cvtColor(im_rgb, cv2.COLOR_RGB2YUV)\n",
        "\n",
        "# plot\n",
        "fig, axs = plt.subplots(1, 4, figsize=(16, 4), layout=\"compressed\")\n",
        "titles = [\"YUV Image\", \"Y Channel\", \"U Channel\", \"V Channel\"]\n",
        "images = [im_rgb_to_yuv] + [im_rgb_to_yuv[:, :, i] for i in range(3)]\n",
        "for ax, img, title in zip(axs, images, titles):\n",
        "    ax.imshow(img, cmap=\"gray\" if img.ndim == 2 else None, vmin=0, vmax=255)\n",
        "    ax.set_title(title)\n",
        "    ax.axis(\"off\")\n",
        "plt.show()"
      ]
    },
    {
      "cell_type": "markdown",
      "metadata": {},
      "source": [
        "## <a id='toc3_4_'></a>[RGB - YCrCb](#toc0_)"
      ]
    },
    {
      "cell_type": "markdown",
      "metadata": {},
      "source": [
        "### <a id='toc3_4_1_'></a>[Manual](#toc0_)\n"
      ]
    },
    {
      "cell_type": "code",
      "execution_count": null,
      "metadata": {},
      "outputs": [],
      "source": [
        "np.array(\n",
        "    [\n",
        "        [65.481, 128.553, 24.966],\n",
        "        [-37.797, -74.203, 112.0],\n",
        "        [112.0, -93.786, -18.214],\n",
        "    ],\n",
        "    dtype=np.float64,\n",
        ") / 255.0"
      ]
    },
    {
      "cell_type": "code",
      "execution_count": null,
      "metadata": {},
      "outputs": [],
      "source": [
        "RGB_TO_YCRCB = (\n",
        "    np.array(\n",
        "        [\n",
        "            [65.481, 128.553, 24.966],\n",
        "            [112.0, -93.786, -18.214],\n",
        "            [-37.797, -74.203, 112.0],\n",
        "        ],\n",
        "        dtype=np.float64,\n",
        "    )\n",
        "    / 255.0\n",
        ")\n",
        "\n",
        "YCRCB_TO_RGB = np.array(\n",
        "    [\n",
        "        [1.164, 0.000, 1.596],\n",
        "        [1.164, 2.017, 0.000],\n",
        "        [1.164, -0.392, -0.813],\n",
        "    ],\n",
        "    dtype=np.float64,\n",
        ")\n",
        "\n",
        "YCRCB_OFFSET = np.array([16, 128, 128])"
      ]
    },
    {
      "cell_type": "code",
      "execution_count": null,
      "metadata": {},
      "outputs": [],
      "source": [
        "def rgb_to_ycrcb(image: NDArray) -> NDArray[np.uint8]:\n",
        "    im = (image.reshape(-1, 3) @ RGB_TO_YCRCB.T + YCRCB_OFFSET).reshape(image.shape)\n",
        "    return np.clip(im, 0, 255).astype(np.uint8)\n",
        "\n",
        "\n",
        "def ycrcb_to_rgb(image: NDArray) -> NDArray[np.uint8]:\n",
        "    im = ((image.reshape(-1, 3) - YCRCB_OFFSET) @ YCRCB_TO_RGB.T).reshape(image.shape)\n",
        "    return np.clip(im, 0, 255).astype(np.uint8)"
      ]
    },
    {
      "cell_type": "code",
      "execution_count": null,
      "metadata": {},
      "outputs": [],
      "source": [
        "im_rgb_to_ycrcb = rgb_to_ycrcb(im_rgb)\n",
        "\n",
        "# plot\n",
        "fig, axs = plt.subplots(1, 4, figsize=(16, 4), layout=\"compressed\")\n",
        "titles = [\"YCbCr Image\", \"Y Channel\", \"Cb Channel\", \"Cr Channel\"]\n",
        "images = [im_rgb_to_ycrcb] + [im_rgb_to_ycrcb[:, :, i] for i in range(3)]\n",
        "for ax, img, title in zip(axs, images, titles):\n",
        "    ax.imshow(img, cmap=\"gray\" if img.ndim == 2 else None, vmin=0, vmax=255)\n",
        "    ax.set_title(title)\n",
        "    ax.axis(\"off\")\n",
        "plt.show()"
      ]
    },
    {
      "cell_type": "markdown",
      "metadata": {},
      "source": [
        "### <a id='toc3_4_2_'></a>[Using OpenCV](#toc0_)\n"
      ]
    },
    {
      "cell_type": "code",
      "execution_count": null,
      "metadata": {},
      "outputs": [],
      "source": [
        "im_rgb_to_ycrcb = cv2.cvtColor(im_rgb, cv2.COLOR_RGB2YCrCb)\n",
        "\n",
        "# plot\n",
        "fig, axs = plt.subplots(1, 4, figsize=(16, 4), layout=\"compressed\")\n",
        "titles = [\"YCbCr Image\", \"Y Channel\", \"Cb Channel\", \"Cr Channel\"]\n",
        "images = [im_rgb_to_ycrcb] + [im_rgb_to_ycrcb[:, :, i] for i in range(3)]\n",
        "for ax, img, title in zip(axs, images, titles):\n",
        "    ax.imshow(img, cmap=\"gray\" if img.ndim == 2 else None, vmin=0, vmax=255)\n",
        "    ax.set_title(title)\n",
        "    ax.axis(\"off\")\n",
        "plt.show()"
      ]
    },
    {
      "cell_type": "markdown",
      "metadata": {},
      "source": [
        "## <a id='toc3_5_'></a>[RGB - HSV](#toc0_)"
      ]
    },
    {
      "cell_type": "markdown",
      "metadata": {},
      "source": [
        "### <a id='toc3_5_1_'></a>[Using OpenCV](#toc0_)\n"
      ]
    },
    {
      "cell_type": "code",
      "execution_count": null,
      "metadata": {},
      "outputs": [],
      "source": [
        "im_rgb_to_hsv = cv2.cvtColor(im_rgb, cv2.COLOR_RGB2HSV)\n",
        "\n",
        "# plot\n",
        "fig, axs = plt.subplots(1, 4, figsize=(16, 4), layout=\"compressed\")\n",
        "titles = [\"HSV Image\", \"Hue Channel\", \"Saturation Channel\", \"Value Channel\"]\n",
        "images = [im_rgb_to_hsv] + [im_rgb_to_hsv[:, :, i] for i in range(3)]\n",
        "for ax, img, title in zip(axs, images, titles):\n",
        "    ax.imshow(img, cmap=\"gray\" if img.ndim == 2 else None, vmin=0, vmax=255)\n",
        "    ax.set_title(title)\n",
        "    ax.axis(\"off\")\n",
        "plt.show()"
      ]
    }
  ],
  "metadata": {
    "author_email": "AmirhosseinHeydari78@gmail.com",
    "author_github": "https://github.com/mr-pylin",
    "author_name": "Amirhossein Heydari",
    "kernelspec": {
      "display_name": "media-processing-workshop-sxUc00b2-py3.13",
      "language": "python",
      "name": "python3"
    },
    "language_info": {
      "codemirror_mode": {
        "name": "ipython",
        "version": 3
      },
      "file_extension": ".py",
      "mimetype": "text/x-python",
      "name": "python",
      "nbconvert_exporter": "python",
      "pygments_lexer": "ipython3",
      "version": "3.13.1"
    },
    "origin_repo": "https://github.com/mr-pylin/media-processing-workshop"
  },
  "nbformat": 4,
  "nbformat_minor": 2
}
