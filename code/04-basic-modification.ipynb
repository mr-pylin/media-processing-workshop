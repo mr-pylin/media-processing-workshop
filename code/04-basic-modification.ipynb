{
  "cells": [
    {
      "cell_type": "markdown",
      "metadata": {},
      "source": [
        "📝 **Author:** Amirhossein Heydari - 📧 **Email:** <amirhosseinheydari78@gmail.com> - 📍 **Origin:** [mr-pylin/media-processing-workshop](https://github.com/mr-pylin/media-processing-workshop)\n",
        "\n",
        "---\n"
      ]
    },
    {
      "cell_type": "markdown",
      "metadata": {},
      "source": [
        "**Table of contents**<a id='toc0_'></a>    \n",
        "- [Dependencies](#toc1_)    \n",
        "- [Load Images](#toc2_)    \n",
        "- [Basic Modifications](#toc3_)    \n",
        "  - [✂️ Cropping](#toc3_1_)    \n",
        "    - [Manual](#toc3_1_1_)    \n",
        "    - [Using PIL](#toc3_1_2_)    \n",
        "  - [🔄 Flipping](#toc3_2_)    \n",
        "    - [Manual](#toc3_2_1_)    \n",
        "    - [Using OpenCV](#toc3_2_2_)    \n",
        "    - [Using PIL](#toc3_2_3_)    \n",
        "  - [🔃 Circular Shift](#toc3_3_)    \n",
        "    - [Manual](#toc3_3_1_)    \n",
        "    - [Using NumPy](#toc3_3_2_)    \n",
        "  - [🔄 Rotation](#toc3_4_)    \n",
        "    - [Manual](#toc3_4_1_)    \n",
        "    - [Using PIL](#toc3_4_2_)    \n",
        "\n",
        "<!-- vscode-jupyter-toc-config\n",
        "\tnumbering=false\n",
        "\tanchor=true\n",
        "\tflat=false\n",
        "\tminLevel=1\n",
        "\tmaxLevel=6\n",
        "\t/vscode-jupyter-toc-config -->\n",
        "<!-- THIS CELL WILL BE REPLACED ON TOC UPDATE. DO NOT WRITE YOUR TEXT IN THIS CELL -->"
      ]
    },
    {
      "cell_type": "markdown",
      "metadata": {},
      "source": [
        "# <a id='toc1_'></a>[Dependencies](#toc0_)\n"
      ]
    },
    {
      "cell_type": "code",
      "execution_count": null,
      "metadata": {},
      "outputs": [],
      "source": [
        "import cv2\n",
        "import matplotlib.pyplot as plt\n",
        "import numpy as np\n",
        "from PIL import Image"
      ]
    },
    {
      "cell_type": "markdown",
      "metadata": {},
      "source": [
        "# <a id='toc2_'></a>[Load Images](#toc0_)\n"
      ]
    },
    {
      "cell_type": "code",
      "execution_count": null,
      "metadata": {},
      "outputs": [],
      "source": [
        "im_1 = cv2.imread(\"../assets/images/dip_3rd/CH02_Fig0222(b)(cameraman).tif\", flags=cv2.IMREAD_GRAYSCALE)\n",
        "im_2 = cv2.cvtColor(\n",
        "    cv2.imread(\"../assets/images/dip_3rd/CH06_Fig0638(a)(lenna_RGB).tif\"),\n",
        "    cv2.COLOR_BGR2RGB,\n",
        ")"
      ]
    },
    {
      "cell_type": "code",
      "execution_count": null,
      "metadata": {},
      "outputs": [],
      "source": [
        "img_1 = Image.fromarray(im_1)\n",
        "img_2 = Image.fromarray(im_2)"
      ]
    },
    {
      "cell_type": "code",
      "execution_count": null,
      "metadata": {},
      "outputs": [],
      "source": [
        "# plot\n",
        "fig, axs = plt.subplots(nrows=1, ncols=2, figsize=(8, 4), layout=\"compressed\")\n",
        "axs[0].imshow(im_1, cmap=\"gray\")\n",
        "axs[0].set_title(\"CH02_Fig0222(b)(cameraman).tif\")\n",
        "axs[0].axis(\"off\")\n",
        "axs[1].imshow(im_2)\n",
        "axs[1].set_title(\"CH06_Fig0638(a)(lenna_RGB).tif\")\n",
        "axs[1].axis(\"off\")\n",
        "plt.show()"
      ]
    },
    {
      "cell_type": "markdown",
      "metadata": {},
      "source": [
        "# <a id='toc3_'></a>[Basic Modifications](#toc0_)\n"
      ]
    },
    {
      "cell_type": "markdown",
      "metadata": {},
      "source": [
        "## <a id='toc3_1_'></a>[✂️ Cropping](#toc0_)\n",
        "\n",
        "Cropping an image involves selecting a region of interest (ROI) and discarding the rest.\n"
      ]
    },
    {
      "cell_type": "markdown",
      "metadata": {},
      "source": [
        "### <a id='toc3_1_1_'></a>[Manual](#toc0_)\n"
      ]
    },
    {
      "cell_type": "code",
      "execution_count": null,
      "metadata": {},
      "outputs": [],
      "source": [
        "def crop(image: np.ndarray, x_start: int, x_end: int, y_start: int, y_end: int) -> np.ndarray:\n",
        "    return image[y_start:y_end, x_start:x_end]"
      ]
    },
    {
      "cell_type": "code",
      "execution_count": null,
      "metadata": {},
      "outputs": [],
      "source": [
        "im_1_crop_1 = crop(im_1, 0, 128, 0, 128)\n",
        "im_1_crop_2 = crop(im_1, 64, 192, 64, 192)\n",
        "im_1_crop_3 = crop(im_1, 100, 150, 50, 100)\n",
        "im_2_crop_1 = crop(im_2, 0, 256, 0, 256)\n",
        "im_2_crop_2 = crop(im_2, 120, 300, 120, 300)\n",
        "im_2_crop_3 = crop(im_2, 240, 290, 250, 300)"
      ]
    },
    {
      "cell_type": "code",
      "execution_count": null,
      "metadata": {},
      "outputs": [],
      "source": [
        "# plot\n",
        "fig, axs = plt.subplots(nrows=2, ncols=4, figsize=(16, 8), layout=\"compressed\")\n",
        "images = [\n",
        "    [im_1, im_1_crop_1, im_1_crop_2, im_1_crop_3],\n",
        "    [im_2, im_2_crop_1, im_2_crop_2, im_2_crop_3],\n",
        "]\n",
        "titles = [\n",
        "    [\"im_1\", \"im_1[:128, :128]\", \"im_1[64:192, 64:192]\", \"im_1[50:100, 100:150]\"],\n",
        "    [\"im_2\", \"im_2[:256, :256]\", \"im_2[120:300, 120:300]\", \"im_2[250:300, 240:290]\"],\n",
        "]\n",
        "for i in range(2):\n",
        "    for j in range(4):\n",
        "        axs[i, j].imshow(images[i][j], cmap=\"gray\")\n",
        "        axs[i, j].set_title(titles[i][j], fontdict={\"family\": \"consolas\"})\n",
        "plt.show()"
      ]
    },
    {
      "cell_type": "markdown",
      "metadata": {},
      "source": [
        "### <a id='toc3_1_2_'></a>[Using PIL](#toc0_)\n",
        "\n",
        "📝 **Docs**:\n",
        "\n",
        "- `PIL.Image.Image.crop`: [pillow.readthedocs.io/en/stable/reference/Image.html#PIL.Image.Image.crop](https://pillow.readthedocs.io/en/stable/reference/Image.html#PIL.Image.Image.crop)\n"
      ]
    },
    {
      "cell_type": "code",
      "execution_count": null,
      "metadata": {},
      "outputs": [],
      "source": [
        "img_1_crop_1 = img_1.crop(box=(0, 0, 128, 128))\n",
        "img_1_crop_2 = img_1.crop(box=(64, 64, 192, 192))\n",
        "img_1_crop_3 = img_1.crop(box=(100, 50, 150, 100))\n",
        "img_2_crop_1 = img_2.crop(box=(0, 0, 256, 256))\n",
        "img_2_crop_2 = img_2.crop(box=(120, 120, 300, 300))\n",
        "img_2_crop_3 = img_2.crop(box=(240, 250, 290, 300))"
      ]
    },
    {
      "cell_type": "code",
      "execution_count": null,
      "metadata": {},
      "outputs": [],
      "source": [
        "# plot\n",
        "fig, axs = plt.subplots(nrows=2, ncols=4, figsize=(16, 8), layout=\"compressed\")\n",
        "images = [\n",
        "    [img_1, img_1_crop_1, img_1_crop_2, img_1_crop_3],\n",
        "    [img_2, img_2_crop_1, img_2_crop_2, img_2_crop_3],\n",
        "]\n",
        "titles = [\n",
        "    [\"img_1\", \"img_1_crop_1\", \"img_1_crop_2\", \"img_1_crop_3\"],\n",
        "    [\"img_2\", \"img_2_crop_1\", \"img_2_crop_2\", \"img_2_crop_3\"],\n",
        "]\n",
        "for i in range(2):\n",
        "    for j in range(4):\n",
        "        axs[i, j].imshow(images[i][j], cmap=\"gray\")\n",
        "        axs[i, j].set_title(titles[i][j], fontdict={\"family\": \"consolas\"})\n",
        "plt.show()"
      ]
    },
    {
      "cell_type": "markdown",
      "metadata": {},
      "source": [
        "## <a id='toc3_2_'></a>[🔄 Flipping](#toc0_)\n",
        "Flipping can be done horizontally or vertically."
      ]
    },
    {
      "cell_type": "markdown",
      "metadata": {},
      "source": [
        "### <a id='toc3_2_1_'></a>[Manual](#toc0_)\n"
      ]
    },
    {
      "cell_type": "code",
      "execution_count": null,
      "metadata": {},
      "outputs": [],
      "source": [
        "def flip(image: np.ndarray, axis: int) -> np.ndarray:\n",
        "    if axis == 0:\n",
        "        return image[::-1]\n",
        "    elif axis == 1:\n",
        "        return image[:, ::-1]\n",
        "    elif axis == 2:\n",
        "        return image[:, :, ::-1]"
      ]
    },
    {
      "cell_type": "code",
      "execution_count": null,
      "metadata": {},
      "outputs": [],
      "source": [
        "im_1_flip_1 = flip(im_1, axis=0)\n",
        "im_1_flip_2 = flip(im_1, axis=1)\n",
        "im_1_flip_3 = flip(im_1_flip_1, axis=1)\n",
        "im_2_flip_1 = flip(im_2, axis=0)\n",
        "im_2_flip_2 = flip(im_2, axis=1)\n",
        "im_2_flip_3 = flip(im_2_flip_1, axis=1)"
      ]
    },
    {
      "cell_type": "code",
      "execution_count": null,
      "metadata": {},
      "outputs": [],
      "source": [
        "# plot\n",
        "fig, axs = plt.subplots(2, 4, figsize=(16, 8), layout=\"compressed\")\n",
        "images = [\n",
        "    [im_1, im_1_flip_1, im_1_flip_2, im_1_flip_3],\n",
        "    [im_2, im_2_flip_1, im_2_flip_2, im_2_flip_3],\n",
        "]\n",
        "titles = [\n",
        "    [\"im_1\", \"im_1_flip_1\", \"im_1_flip_2\", \"im_1_flip_3\"],\n",
        "    [\"im_2\", \"im_2_flip_1\", \"im_2_flip_2\", \"im_2_flip_3\"],\n",
        "]\n",
        "for i in range(2):\n",
        "    for j in range(4):\n",
        "        axs[i, j].imshow(images[i][j], cmap=\"gray\")\n",
        "        axs[i, j].set_title(titles[i][j], fontdict={\"family\": \"consolas\"})\n",
        "plt.show()"
      ]
    },
    {
      "cell_type": "markdown",
      "metadata": {},
      "source": [
        "### <a id='toc3_2_2_'></a>[Using OpenCV](#toc0_)\n",
        "\n",
        "📝 **Docs**:\n",
        "\n",
        "- `cv2.flip`: [docs.opencv.org/5.x/d2/de8/group__core__array.html#gaca7be533e3dac7feb70fc60635adf441](https://docs.opencv.org/5.x/d2/de8/group__core__array.html#gaca7be533e3dac7feb70fc60635adf441)\n"
      ]
    },
    {
      "cell_type": "code",
      "execution_count": null,
      "metadata": {},
      "outputs": [],
      "source": [
        "im_1_flip_4 = cv2.flip(im_1, 0)\n",
        "im_1_flip_5 = cv2.flip(im_1, 1)\n",
        "im_1_flip_6 = cv2.flip(im_1_flip_4, 1)\n",
        "im_2_flip_4 = cv2.flip(im_2, 0)\n",
        "im_2_flip_5 = cv2.flip(im_2, 1)\n",
        "im_2_flip_6 = cv2.flip(im_2_flip_4, 1)"
      ]
    },
    {
      "cell_type": "code",
      "execution_count": null,
      "metadata": {},
      "outputs": [],
      "source": [
        "fig, axs = plt.subplots(2, 4, figsize=(16, 8), layout=\"compressed\")\n",
        "images = [\n",
        "    [im_1, im_1_flip_4, im_1_flip_5, im_1_flip_6],\n",
        "    [im_2, im_2_flip_4, im_2_flip_5, im_2_flip_6],\n",
        "]\n",
        "titles = [\n",
        "    [\"im_1\", \"im_1_flip_4\", \"im_1_flip_5\", \"im_1_flip_6\"],\n",
        "    [\"im_2\", \"im_2_flip_4\", \"im_2_flip_5\", \"im_2_flip_6\"],\n",
        "]\n",
        "for i in range(2):\n",
        "    for j in range(4):\n",
        "        axs[i, j].imshow(images[i][j], cmap=\"gray\")\n",
        "        axs[i, j].set_title(titles[i][j], fontdict={\"family\": \"consolas\"})\n",
        "plt.show()"
      ]
    },
    {
      "cell_type": "markdown",
      "metadata": {},
      "source": [
        "### <a id='toc3_2_3_'></a>[Using PIL](#toc0_)\n",
        "\n",
        "📝 **Docs**:\n",
        "\n",
        "- `PIL.Image.Image.transpose`: [pillow.readthedocs.io/en/stable/reference/Image.html#PIL.Image.Image.transpose](https://pillow.readthedocs.io/en/stable/reference/Image.html#PIL.Image.Image.transpose)\n"
      ]
    },
    {
      "cell_type": "code",
      "execution_count": null,
      "metadata": {},
      "outputs": [],
      "source": [
        "img_1_flip_1 = img_1.transpose(Image.FLIP_TOP_BOTTOM)\n",
        "img_1_flip_2 = img_1.transpose(Image.FLIP_LEFT_RIGHT)\n",
        "img_1_flip_3 = img_1_flip_1.transpose(Image.FLIP_LEFT_RIGHT)\n",
        "img_2_flip_1 = img_2.transpose(Image.FLIP_TOP_BOTTOM)\n",
        "img_2_flip_2 = img_2.transpose(Image.FLIP_LEFT_RIGHT)\n",
        "img_2_flip_3 = img_2_flip_1.transpose(Image.FLIP_LEFT_RIGHT)"
      ]
    },
    {
      "cell_type": "code",
      "execution_count": null,
      "metadata": {},
      "outputs": [],
      "source": [
        "# plot\n",
        "fig, axs = plt.subplots(2, 4, figsize=(16, 8), layout=\"compressed\")\n",
        "images = [\n",
        "    [img_1, img_1_flip_1, img_1_flip_2, img_1_flip_3],\n",
        "    [img_2, img_2_flip_1, img_2_flip_2, img_2_flip_3],\n",
        "]\n",
        "titles = [\n",
        "    [\"img_1\", \"img_1_flip_1\", \"img_1_flip_2\", \"img_1_flip_3\"],\n",
        "    [\"img_2\", \"img_2_flip_1\", \"img_2_flip_2\", \"img_2_flip_3\"],\n",
        "]\n",
        "for i in range(2):\n",
        "    for j in range(4):\n",
        "        axs[i, j].imshow(images[i][j], cmap=\"gray\")\n",
        "        axs[i, j].set_title(titles[i][j], fontdict={\"family\": \"consolas\"})\n",
        "plt.show()"
      ]
    },
    {
      "cell_type": "markdown",
      "metadata": {},
      "source": [
        "## <a id='toc3_3_'></a>[🔃 Circular Shift](#toc0_)\n",
        "\n",
        "Circular shifting moves pixels in a cyclic manner.\n"
      ]
    },
    {
      "cell_type": "markdown",
      "metadata": {},
      "source": [
        "### <a id='toc3_3_1_'></a>[Manual](#toc0_)\n"
      ]
    },
    {
      "cell_type": "code",
      "execution_count": null,
      "metadata": {},
      "outputs": [],
      "source": [
        "def circular_shift(image: np.ndarray, dx: int, dy: int) -> np.ndarray:\n",
        "    x_shift = np.hstack((image[:, dx:], image[:, :dx]))\n",
        "    y_shift = np.vstack((x_shift[dy:], x_shift[:dy]))\n",
        "    return y_shift"
      ]
    },
    {
      "cell_type": "code",
      "execution_count": null,
      "metadata": {},
      "outputs": [],
      "source": [
        "im_1_cshift_1 = circular_shift(im_1, dx=0, dy=128)\n",
        "im_1_cshift_2 = circular_shift(im_1, dx=128, dy=0)\n",
        "im_1_cshift_3 = circular_shift(im_1, dx=128, dy=128)\n",
        "im_2_cshift_1 = circular_shift(im_2, dx=0, dy=256)\n",
        "im_2_cshift_2 = circular_shift(im_2, dx=256, dy=0)\n",
        "im_2_cshift_3 = circular_shift(im_2, dx=256, dy=256)"
      ]
    },
    {
      "cell_type": "code",
      "execution_count": null,
      "metadata": {},
      "outputs": [],
      "source": [
        "# plot\n",
        "fig, axs = plt.subplots(2, 4, figsize=(16, 8), layout=\"compressed\")\n",
        "images = [\n",
        "    [im_1, im_1_cshift_1, im_1_cshift_2, im_1_cshift_3],\n",
        "    [im_2, im_2_cshift_1, im_2_cshift_2, im_2_cshift_3],\n",
        "]\n",
        "titles = [\n",
        "    [\"im_1\", \"im_1_cshift_1\", \"im_1_cshift_2\", \"im_1_cshift_3\"],\n",
        "    [\"im_2\", \"im_2_cshift_1\", \"im_2_cshift_2\", \"im_2_cshift_3\"],\n",
        "]\n",
        "for i in range(2):\n",
        "    for j in range(4):\n",
        "        axs[i, j].imshow(images[i][j], cmap=\"gray\")\n",
        "        axs[i, j].set_title(titles[i][j], fontdict={\"family\": \"consolas\"})\n",
        "plt.show()"
      ]
    },
    {
      "cell_type": "markdown",
      "metadata": {},
      "source": [
        "### <a id='toc3_3_2_'></a>[Using NumPy](#toc0_)\n",
        "\n",
        "📝 **Docs**:\n",
        "\n",
        "- `numpy.roll`: [numpy.org/doc/stable/reference/generated/numpy.roll.html](https://numpy.org/doc/stable/reference/generated/numpy.roll.html)\n"
      ]
    },
    {
      "cell_type": "code",
      "execution_count": null,
      "metadata": {},
      "outputs": [],
      "source": [
        "im_1_cshift_4 = np.roll(im_1, shift=(128, 0), axis=(0, 1))\n",
        "im_1_cshift_5 = np.roll(im_1, shift=(0, 128), axis=(0, 1))\n",
        "im_1_cshift_6 = np.roll(im_1, shift=(128, 128), axis=(0, 1))\n",
        "im_2_cshift_4 = np.roll(im_2, shift=(256, 0), axis=(0, 1))\n",
        "im_2_cshift_5 = np.roll(im_2, shift=(0, 256), axis=(0, 1))\n",
        "im_2_cshift_6 = np.roll(im_2, shift=(256, 256), axis=(0, 1))"
      ]
    },
    {
      "cell_type": "code",
      "execution_count": null,
      "metadata": {},
      "outputs": [],
      "source": [
        "# plot\n",
        "fig, axs = plt.subplots(2, 4, figsize=(16, 8), layout=\"compressed\")\n",
        "images = [\n",
        "    [im_1, im_1_cshift_4, im_1_cshift_5, im_1_cshift_6],\n",
        "    [im_2, im_2_cshift_4, im_2_cshift_5, im_2_cshift_6],\n",
        "]\n",
        "titles = [\n",
        "    [\"im_1\", \"im_1_cshift_4\", \"im_1_cshift_5\", \"im_1_cshift_6\"],\n",
        "    [\"im_2\", \"im_2_cshift_4\", \"im_2_cshift_5\", \"im_2_cshift_6\"],\n",
        "]\n",
        "for i in range(2):\n",
        "    for j in range(4):\n",
        "        axs[i, j].imshow(images[i][j], cmap=\"gray\")\n",
        "        axs[i, j].set_title(titles[i][j], fontdict={\"family\": \"consolas\"})\n",
        "plt.show()"
      ]
    },
    {
      "cell_type": "markdown",
      "metadata": {},
      "source": [
        "## <a id='toc3_4_'></a>[🔄 Rotation](#toc0_)\n",
        "\n",
        "Rotating an image by an angle θ.\n"
      ]
    },
    {
      "cell_type": "markdown",
      "metadata": {},
      "source": [
        "### <a id='toc3_4_1_'></a>[Manual](#toc0_)\n"
      ]
    },
    {
      "cell_type": "code",
      "execution_count": null,
      "metadata": {},
      "outputs": [],
      "source": [
        "def rotate(image: np.ndarray, angle: float, expand: bool = False) -> np.ndarray:\n",
        "    theta = np.radians(angle)\n",
        "    height, width = image.shape\n",
        "    rotation_matrix = np.array([[np.cos(theta), -np.sin(theta)], [np.sin(theta), np.cos(theta)]])\n",
        "    center_old = np.array([height // 2, width // 2])\n",
        "\n",
        "    if expand:\n",
        "        new_height = int(abs(height * np.cos(theta)) + abs(width * np.sin(theta)))\n",
        "        new_width = int(abs(height * np.sin(theta)) + abs(width * np.cos(theta)))\n",
        "        center_new = np.array([new_height // 2, new_width // 2])\n",
        "        rotated_image = np.zeros((new_height, new_width), dtype=image.dtype)\n",
        "    else:\n",
        "        new_height, new_width = height, width\n",
        "        center_new = center_old\n",
        "        rotated_image = np.zeros_like(image)\n",
        "\n",
        "    # perform rotation\n",
        "    for y in range(new_height):\n",
        "        for x in range(new_width):\n",
        "            source_coords = np.array([y - center_new[0], x - center_new[1]])\n",
        "            src_y, src_x = (source_coords @ rotation_matrix + center_old).astype(int)\n",
        "            if 0 <= src_y < height and 0 <= src_x < width:\n",
        "                rotated_image[y, x] = image[src_y, src_x]\n",
        "\n",
        "    return rotated_image"
      ]
    },
    {
      "cell_type": "code",
      "execution_count": null,
      "metadata": {},
      "outputs": [],
      "source": [
        "im_1_rotate_45 = rotate(im_1, angle=45)\n",
        "im_1_rotate_90 = rotate(im_1, angle=90)\n",
        "im_1_rotate_257 = rotate(im_1, angle=257)\n",
        "im_1_rotate_45_expand = rotate(im_1, angle=45, expand=True)\n",
        "im_1_rotate_90_expand = rotate(im_1, angle=90, expand=True)\n",
        "im_1_rotate_257_expand = rotate(im_1, angle=257, expand=True)\n",
        "\n",
        "# plot\n",
        "fig, axs = plt.subplots(1, 6, figsize=(18, 4), layout=\"compressed\")\n",
        "images = [\n",
        "    im_1_rotate_45,\n",
        "    im_1_rotate_90,\n",
        "    im_1_rotate_257,\n",
        "    im_1_rotate_45_expand,\n",
        "    im_1_rotate_90_expand,\n",
        "    im_1_rotate_257_expand,\n",
        "]\n",
        "titles = [\"45 degree\", \"90 degree\", \"257 degree\", \"45 degree + expand\", \"90 degree + expand\", \"257 degree + expand\"]\n",
        "for ax, img, title in zip(axs, images, titles):\n",
        "    ax.imshow(img, cmap=\"gray\")\n",
        "    ax.set_title(title)\n",
        "plt.show()"
      ]
    },
    {
      "cell_type": "markdown",
      "metadata": {},
      "source": [
        "### <a id='toc3_4_2_'></a>[Using PIL](#toc0_)\n",
        "\n",
        "📝 **Docs**:\n",
        "\n",
        "- `PIL.Image.Image.rotate`: [pillow.readthedocs.io/en/stable/reference/Image.html#PIL.Image.Image.rotate](https://pillow.readthedocs.io/en/stable/reference/Image.html#PIL.Image.Image.rotate)\n"
      ]
    },
    {
      "cell_type": "code",
      "execution_count": null,
      "metadata": {},
      "outputs": [],
      "source": [
        "im_2_rotate_45 = img_2.rotate(angle=45)\n",
        "im_2_rotate_90 = img_2.rotate(angle=90)\n",
        "im_2_rotate_257 = img_2.rotate(angle=257)\n",
        "im_2_rotate_45_expand = img_2.rotate(angle=45, expand=True)\n",
        "im_2_rotate_90_expand = img_2.rotate(angle=90, expand=True)\n",
        "im_2_rotate_257_expand = img_2.rotate(angle=257, expand=True)\n",
        "\n",
        "# plot\n",
        "fig, axs = plt.subplots(1, 6, figsize=(18, 4), layout=\"compressed\")\n",
        "images = [\n",
        "    im_2_rotate_45,\n",
        "    im_2_rotate_90,\n",
        "    im_2_rotate_257,\n",
        "    im_2_rotate_45_expand,\n",
        "    im_2_rotate_90_expand,\n",
        "    im_2_rotate_257_expand,\n",
        "]\n",
        "titles = [\"45 degree\", \"90 degree\", \"257 degree\", \"45 degree + expand\", \"90 degree + expand\", \"257 degree + expand\"]\n",
        "for ax, img, title in zip(axs, images, titles):\n",
        "    ax.imshow(img)\n",
        "    ax.set_title(title)\n",
        "plt.show()"
      ]
    }
  ],
  "metadata": {
    "author_email": "AmirhosseinHeydari78@gmail.com",
    "author_github": "https://github.com/mr-pylin",
    "author_name": "Amirhossein Heydari",
    "kernelspec": {
      "display_name": "media-processing-workshop-9l4de3Xu-py3.13",
      "language": "python",
      "name": "python3"
    },
    "language_info": {
      "codemirror_mode": {
        "name": "ipython",
        "version": 3
      },
      "file_extension": ".py",
      "mimetype": "text/x-python",
      "name": "python",
      "nbconvert_exporter": "python",
      "pygments_lexer": "ipython3",
      "version": "3.13.1"
    },
    "origin_repo": "https://github.com/mr-pylin/media-processing-workshop"
  },
  "nbformat": 4,
  "nbformat_minor": 2
}
