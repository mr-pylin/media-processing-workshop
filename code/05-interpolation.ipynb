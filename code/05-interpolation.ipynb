{
  "cells": [
    {
      "cell_type": "markdown",
      "metadata": {},
      "source": [
        "\ud83d\udcdd **Author:** Amirhossein Heydari - \ud83d\udce7 **Email:** <amirhosseinheydari78@gmail.com> - \ud83d\udccd **Origin:** [mr-pylin/media-processing-workshop](https://github.com/mr-pylin/media-processing-workshop)\n",
        "\n",
        "---\n"
      ]
    },
    {
      "cell_type": "markdown",
      "metadata": {},
      "source": [
        "**Table of contents**<a id='toc0_'></a>    \n",
        "- [Dependencies](#toc1_)    \n",
        "- [Load Images](#toc2_)    \n",
        "- [Image Interpolation](#toc3_)    \n",
        "  - [Nearest Neighbor Interpolation](#toc3_1_)    \n",
        "    - [Manual](#toc3_1_1_)    \n",
        "    - [Using OpenCV](#toc3_1_2_)    \n",
        "    - [Using PIL](#toc3_1_3_)    \n",
        "  - [Bilinear Interpolation](#toc3_2_)    \n",
        "    - [Manual](#toc3_2_1_)    \n",
        "    - [Using OpenCV](#toc3_2_2_)    \n",
        "    - [Using PIL](#toc3_2_3_)    \n",
        "  - [Fourier Transform Interpolation](#toc3_3_)    \n",
        "    - [Manual](#toc3_3_1_)    \n",
        "  - [Comparison](#toc3_4_)    \n",
        "\n",
        "<!-- vscode-jupyter-toc-config\n",
        "\tnumbering=false\n",
        "\tanchor=true\n",
        "\tflat=false\n",
        "\tminLevel=1\n",
        "\tmaxLevel=6\n",
        "\t/vscode-jupyter-toc-config -->\n",
        "<!-- THIS CELL WILL BE REPLACED ON TOC UPDATE. DO NOT WRITE YOUR TEXT IN THIS CELL -->"
      ]
    },
    {
      "cell_type": "markdown",
      "metadata": {},
      "source": [
        "# <a id='toc1_'></a>[Dependencies](#toc0_)\n"
      ]
    },
    {
      "cell_type": "code",
      "execution_count": null,
      "metadata": {},
      "outputs": [],
      "source": [
        "import cv2\n",
        "import matplotlib.pyplot as plt\n",
        "import numpy as np\n",
        "from matplotlib.gridspec import GridSpec\n",
        "from PIL import Image"
      ]
    },
    {
      "cell_type": "markdown",
      "metadata": {},
      "source": [
        "# <a id='toc2_'></a>[Load Images](#toc0_)\n"
      ]
    },
    {
      "cell_type": "code",
      "execution_count": null,
      "metadata": {},
      "outputs": [],
      "source": [
        "im_1 = cv2.imread(\"../assets/images/dip_3rd/CH02_Fig0222(b)(cameraman).tif\", flags=cv2.IMREAD_GRAYSCALE)\n",
        "im_2 = cv2.cvtColor(\n",
        "    cv2.imread(\"../assets/images/dip_3rd/CH06_Fig0638(a)(lenna_RGB).tif\"),\n",
        "    cv2.COLOR_BGR2RGB,\n",
        ")"
      ]
    },
    {
      "cell_type": "code",
      "execution_count": null,
      "metadata": {},
      "outputs": [],
      "source": [
        "img_1 = Image.fromarray(im_1)\n",
        "img_2 = Image.fromarray(im_2)"
      ]
    },
    {
      "cell_type": "code",
      "execution_count": null,
      "metadata": {},
      "outputs": [],
      "source": [
        "# plot\n",
        "fig, axs = plt.subplots(nrows=1, ncols=2, figsize=(8, 4), layout=\"compressed\")\n",
        "axs[0].imshow(im_1, cmap=\"gray\")\n",
        "axs[0].set_title(\"CH02_Fig0222(b)(cameraman).tif\")\n",
        "axs[0].axis(\"off\")\n",
        "axs[1].imshow(im_2)\n",
        "axs[1].set_title(\"CH06_Fig0638(a)(lenna_RGB).tif\")\n",
        "axs[1].axis(\"off\")\n",
        "plt.show()"
      ]
    },
    {
      "cell_type": "markdown",
      "metadata": {},
      "source": [
        "# <a id='toc3_'></a>[Image Interpolation](#toc0_)\n",
        "\n",
        "It refers to the \u201cguess\u201d of intensity values at missing locations When resizing an image [Mostly in Down Scaling]\n",
        "\n",
        "| Interpolation Method | Downscaling Quality | Upscaling Quality | Performance   |\n",
        "| -------------------- | ------------------- | ----------------- | ------------- |\n",
        "| Nearest Neighbor     |                     |                   | \u2b50\u2b50\u2b50\u2b50\u2b50 |\n",
        "| Box                  | \u2b50                 |                   | \u2b50\u2b50\u2b50\u2b50    |\n",
        "| Bilinear             | \u2b50                 | \u2b50                | \u2b50\u2b50\u2b50      |\n",
        "| Hamming              | \u2b50\u2b50               |                   | \u2b50\u2b50\u2b50      |\n",
        "| Bicubic              | \u2b50\u2b50\u2b50            | \u2b50\u2b50\u2b50           | \u2b50\u2b50        |\n",
        "| Lanczos              | \u2b50\u2b50\u2b50\u2b50          | \u2b50\u2b50\u2b50\u2b50        | \u2b50           |\n",
        "| Fourier Transform    | \u2b50\u2b50\u2b50\u2b50          | \u2b50\u2b50\u2b50\u2b50        | \u2b50           |\n",
        "\n",
        "Reference [except Fouriet Transform]: [pillow.readthedocs.io/en/stable/handbook/concepts.html#filters-comparison-table](https://pillow.readthedocs.io/en/stable/handbook/concepts.html#filters-comparison-table)\n",
        "\n",
        "\ud83d\udcdd **Docs**:\n",
        "\n",
        "- `PIL.Image.Image.resize`: [pillow.readthedocs.io/en/stable/reference/Image.html#PIL.Image.Image.resize](https://pillow.readthedocs.io/en/stable/reference/Image.html#PIL.Image.Image.resize)\n",
        "- Filters: [pillow.readthedocs.io/en/stable/handbook/concepts.html#concept-filters](https://pillow.readthedocs.io/en/stable/handbook/concepts.html#concept-filters)\n",
        "- `cv2.resize`: [docs.opencv.org/5.x/da/d54/group__imgproc__transform.html#ga47a974309e9102f5f08231edc7e7529d](https://docs.opencv.org/5.x/da/d54/group__imgproc__transform.html#ga47a974309e9102f5f08231edc7e7529d)\n",
        "- `InterpolationFlags`: [docs.opencv.org/5.x/da/d54/group__imgproc__transform.html#gga5bb5a1fea74ea38e1a5445ca803ff121ac97d8e4880d8b5d509e96825c7522deb](https://docs.opencv.org/5.x/da/d54/group__imgproc__transform.html#gga5bb5a1fea74ea38e1a5445ca803ff121ac97d8e4880d8b5d509e96825c7522deb)\n"
      ]
    },
    {
      "cell_type": "markdown",
      "metadata": {},
      "source": [
        "## <a id='toc3_1_'></a>[Nearest Neighbor Interpolation](#toc0_)\n"
      ]
    },
    {
      "cell_type": "markdown",
      "metadata": {},
      "source": [
        "### <a id='toc3_1_1_'></a>[Manual](#toc0_)\n"
      ]
    },
    {
      "cell_type": "code",
      "execution_count": null,
      "metadata": {},
      "outputs": [],
      "source": [
        "def nearest_neighbor_interpolation(image: np.ndarray, new_height: int, new_width: int) -> np.ndarray:\n",
        "    height, width = image.shape[:2]\n",
        "    new_image = np.zeros((new_height, new_width, *image.shape[2:]))\n",
        "    x_ratio = width / new_width\n",
        "    y_ratio = height / new_height\n",
        "\n",
        "    for i in range(new_height):\n",
        "        for j in range(new_width):\n",
        "            x = int(j * x_ratio)\n",
        "            y = int(i * y_ratio)\n",
        "            new_image[i, j] = image[y, x]\n",
        "\n",
        "    return new_image.astype(image.dtype)"
      ]
    },
    {
      "cell_type": "code",
      "execution_count": null,
      "metadata": {},
      "outputs": [],
      "source": [
        "im1_nni_1 = nearest_neighbor_interpolation(im_1, new_height=128, new_width=128)\n",
        "im1_nni_2 = nearest_neighbor_interpolation(im_1, new_height=32, new_width=32)\n",
        "im1_nni_3 = nearest_neighbor_interpolation(im_1, new_height=555, new_width=555)\n",
        "im1_nni_4 = nearest_neighbor_interpolation(im_1, new_height=256, new_width=128)\n",
        "im1_nni_5 = nearest_neighbor_interpolation(im_1, new_height=128, new_width=256)\n",
        "im1_nni_6 = nearest_neighbor_interpolation(im_1, new_height=64, new_width=512)"
      ]
    },
    {
      "cell_type": "code",
      "execution_count": null,
      "metadata": {},
      "outputs": [],
      "source": [
        "# plot\n",
        "fig = plt.figure(figsize=(16, 10), layout=\"compressed\")\n",
        "gs = GridSpec(nrows=2, ncols=4, figure=fig)\n",
        "axes = [fig.add_subplot(i) for i in [gs[:, 0], gs[0, 1], gs[0, 2], gs[0, 3], gs[1, 1], gs[1, 2], gs[1, 3]]]\n",
        "images = [im_1, im1_nni_1, im1_nni_2, im1_nni_3, im1_nni_4, im1_nni_5, im1_nni_6]\n",
        "titles = [\n",
        "    f\"Original {im_1.shape}\",\n",
        "    f\"{im1_nni_1.shape} [down scaled]\",\n",
        "    f\"{im1_nni_2.shape} [down scaled]\",\n",
        "    f\"{im1_nni_3.shape} [up Scaled]\",\n",
        "    f\"{im1_nni_4.shape}\",\n",
        "    f\"{im1_nni_5.shape}\",\n",
        "    f\"{im1_nni_6.shape}\",\n",
        "]\n",
        "for ax, img, title in zip(axes, images, titles):\n",
        "    ax.imshow(img, cmap=\"gray\", vmin=0, vmax=255)\n",
        "    ax.set_title(title)\n",
        "plt.show()"
      ]
    },
    {
      "cell_type": "markdown",
      "metadata": {},
      "source": [
        "### <a id='toc3_1_2_'></a>[Using OpenCV](#toc0_)\n"
      ]
    },
    {
      "cell_type": "code",
      "execution_count": null,
      "metadata": {},
      "outputs": [],
      "source": [
        "im2_nni_1 = cv2.resize(im_2, dsize=(128, 128), interpolation=cv2.INTER_NEAREST_EXACT)\n",
        "im2_nni_2 = cv2.resize(im_2, dsize=(32, 32), interpolation=cv2.INTER_NEAREST_EXACT)\n",
        "im2_nni_3 = cv2.resize(im_2, dsize=(555, 555), interpolation=cv2.INTER_NEAREST_EXACT)\n",
        "im2_nni_4 = cv2.resize(im_2, dsize=(256, 128), interpolation=cv2.INTER_NEAREST_EXACT)\n",
        "im2_nni_5 = cv2.resize(im_2, dsize=(128, 256), interpolation=cv2.INTER_NEAREST_EXACT)\n",
        "im2_nni_6 = cv2.resize(im_2, dsize=(64, 512), interpolation=cv2.INTER_NEAREST_EXACT)"
      ]
    },
    {
      "cell_type": "code",
      "execution_count": null,
      "metadata": {},
      "outputs": [],
      "source": [
        "# plot\n",
        "fig = plt.figure(figsize=(16, 8), layout=\"compressed\")\n",
        "gs = GridSpec(nrows=2, ncols=4, figure=fig)\n",
        "axes = [fig.add_subplot(i) for i in [gs[:, 0], gs[0, 1], gs[0, 2], gs[0, 3], gs[1, 1], gs[1, 2], gs[1, 3]]]\n",
        "images = [im_2, im2_nni_1, im2_nni_2, im2_nni_3, im2_nni_4, im2_nni_5, im2_nni_6]\n",
        "titles = [\n",
        "    f\"Original {im_2.shape[:2]}\",\n",
        "    f\"{im2_nni_1.shape[:2]} [down scaled]\",\n",
        "    f\"{im2_nni_2.shape[:2]} [down scaled]\",\n",
        "    f\"{im2_nni_3.shape[:2]} [up Scaled]\",\n",
        "    f\"{im2_nni_4.shape[:2]}\",\n",
        "    f\"{im2_nni_5.shape[:2]}\",\n",
        "    f\"{im2_nni_6.shape[:2]}\",\n",
        "]\n",
        "for ax, img, title in zip(axes, images, titles):\n",
        "    ax.imshow(img, cmap=\"gray\", vmin=0, vmax=255)\n",
        "    ax.set_title(title)\n",
        "plt.show()"
      ]
    },
    {
      "cell_type": "markdown",
      "metadata": {},
      "source": [
        "### <a id='toc3_1_3_'></a>[Using PIL](#toc0_)\n"
      ]
    },
    {
      "cell_type": "code",
      "execution_count": null,
      "metadata": {},
      "outputs": [],
      "source": [
        "im2_nni_1 = img_2.resize(size=(128, 128), resample=Image.Resampling.NEAREST)\n",
        "im2_nni_2 = img_2.resize(size=(32, 32), resample=Image.Resampling.NEAREST)\n",
        "im2_nni_3 = img_2.resize(size=(555, 555), resample=Image.Resampling.NEAREST)\n",
        "im2_nni_4 = img_2.resize(size=(256, 128), resample=Image.Resampling.NEAREST)\n",
        "im2_nni_5 = img_2.resize(size=(128, 256), resample=Image.Resampling.NEAREST)\n",
        "im2_nni_6 = img_2.resize(size=(64, 512), resample=Image.Resampling.NEAREST)"
      ]
    },
    {
      "cell_type": "code",
      "execution_count": null,
      "metadata": {},
      "outputs": [],
      "source": [
        "# plot\n",
        "fig = plt.figure(figsize=(16, 8), layout=\"compressed\")\n",
        "gs = GridSpec(2, 4, figure=fig)\n",
        "axes = [fig.add_subplot(i) for i in [gs[:, 0], gs[0, 1], gs[0, 2], gs[0, 3], gs[1, 1], gs[1, 2], gs[1, 3]]]\n",
        "images = [im_2, im2_nni_1, im2_nni_2, im2_nni_3, im2_nni_4, im2_nni_5, im2_nni_6]\n",
        "titles = [\n",
        "    f\"Original {im_2.size}\",\n",
        "    f\"{im2_nni_1.size} [down scaled]\",\n",
        "    f\"{im2_nni_2.size} [down scaled]\",\n",
        "    f\"{im2_nni_3.size} [up Scaled]\",\n",
        "    im2_nni_4.size,\n",
        "    im2_nni_5.size,\n",
        "    im2_nni_6.size,\n",
        "]\n",
        "for ax, img, title in zip(axes, images, titles):\n",
        "    ax.imshow(img, cmap=\"gray\", vmin=0, vmax=255)\n",
        "    ax.set_title(title)\n",
        "plt.show()"
      ]
    },
    {
      "cell_type": "markdown",
      "metadata": {},
      "source": [
        "## <a id='toc3_2_'></a>[Bilinear Interpolation](#toc0_)\n"
      ]
    },
    {
      "cell_type": "markdown",
      "metadata": {},
      "source": [
        "### <a id='toc3_2_1_'></a>[Manual](#toc0_)\n"
      ]
    },
    {
      "cell_type": "code",
      "execution_count": null,
      "metadata": {},
      "outputs": [],
      "source": [
        "def bilinear_interpolation(image: np.ndarray, new_height: int, new_width: int) -> np.ndarray:\n",
        "    height, width = image.shape[:2]\n",
        "    new_image = np.zeros((new_height, new_width, *image.shape[2:]))\n",
        "    x_ratio = float(width - 1) / new_width\n",
        "    y_ratio = float(height - 1) / new_height\n",
        "\n",
        "    for i in range(new_height):\n",
        "        for j in range(new_width):\n",
        "            x = j * x_ratio\n",
        "            y = i * y_ratio\n",
        "            x1, y1 = int(x), int(y)\n",
        "            x2, y2 = min(x1 + 1, width - 1), min(y1 + 1, height - 1)\n",
        "\n",
        "            dx = x - x1\n",
        "            dy = y - y1\n",
        "\n",
        "            new_image[i, j] = (\n",
        "                (1 - dx) * (1 - dy) * image[y1, x1] + dx * (1 - dy) * image[y1, x2] + (1 - dx) * dy * image[y2, x1] + dx * dy * image[y2, x2]\n",
        "            )\n",
        "\n",
        "    return new_image.astype(image.dtype)"
      ]
    },
    {
      "cell_type": "code",
      "execution_count": null,
      "metadata": {},
      "outputs": [],
      "source": [
        "im1_bli_1 = bilinear_interpolation(im_1, new_height=128, new_width=128)\n",
        "im1_bli_2 = bilinear_interpolation(im_1, new_height=32, new_width=32)\n",
        "im1_bli_3 = bilinear_interpolation(im_1, new_height=555, new_width=555)\n",
        "im1_bli_4 = bilinear_interpolation(im_1, new_height=256, new_width=128)\n",
        "im1_bli_5 = bilinear_interpolation(im_1, new_height=128, new_width=256)\n",
        "im1_bli_6 = bilinear_interpolation(im_1, new_height=64, new_width=512)"
      ]
    },
    {
      "cell_type": "code",
      "execution_count": null,
      "metadata": {},
      "outputs": [],
      "source": [
        "# plot\n",
        "fig = plt.figure(figsize=(16, 8), layout=\"compressed\")\n",
        "gs = GridSpec(2, 4, figure=fig)\n",
        "axes = [fig.add_subplot(i) for i in [gs[:, 0], gs[0, 1], gs[0, 2], gs[0, 3], gs[1, 1], gs[1, 2], gs[1, 3]]]\n",
        "images = [im_1, im1_bli_1, im1_bli_2, im1_bli_3, im1_bli_4, im1_bli_5, im1_bli_6]\n",
        "titles = [\n",
        "    f\"Original {im_2.shape[:2]}\",\n",
        "    f\"{im1_bli_1.shape} [down scaled]\",\n",
        "    f\"{im1_bli_2.shape} [down scaled]\",\n",
        "    f\"{im1_bli_3.shape} [up Scaled]\",\n",
        "    im1_bli_4.shape,\n",
        "    im1_bli_5.shape,\n",
        "    im1_bli_6.shape,\n",
        "]\n",
        "for ax, img, title in zip(axes, images, titles):\n",
        "    ax.imshow(img, cmap=\"gray\", vmin=0, vmax=255)\n",
        "    ax.set_title(title)\n",
        "plt.show()"
      ]
    },
    {
      "cell_type": "markdown",
      "metadata": {},
      "source": [
        "### <a id='toc3_2_2_'></a>[Using OpenCV](#toc0_)\n"
      ]
    },
    {
      "cell_type": "code",
      "execution_count": null,
      "metadata": {},
      "outputs": [],
      "source": [
        "im2_bli_1 = cv2.resize(im_2, dsize=(128, 128), interpolation=cv2.INTER_LINEAR)\n",
        "im2_bli_2 = cv2.resize(im_2, dsize=(32, 32), interpolation=cv2.INTER_LINEAR)\n",
        "im2_bli_3 = cv2.resize(im_2, dsize=(555, 555), interpolation=cv2.INTER_LINEAR)\n",
        "im2_bli_4 = cv2.resize(im_2, dsize=(256, 128), interpolation=cv2.INTER_LINEAR)\n",
        "im2_bli_5 = cv2.resize(im_2, dsize=(128, 256), interpolation=cv2.INTER_LINEAR)\n",
        "im2_bli_6 = cv2.resize(im_2, dsize=(64, 512), interpolation=cv2.INTER_LINEAR)"
      ]
    },
    {
      "cell_type": "code",
      "execution_count": null,
      "metadata": {},
      "outputs": [],
      "source": [
        "# plot\n",
        "fig = plt.figure(figsize=(16, 8), layout=\"compressed\")\n",
        "gs = GridSpec(2, 4, figure=fig)\n",
        "axes = [fig.add_subplot(i) for i in [gs[:, 0], gs[0, 1], gs[0, 2], gs[0, 3], gs[1, 1], gs[1, 2], gs[1, 3]]]\n",
        "images = [im_2, im2_bli_1, im2_bli_2, im2_bli_3, im2_bli_4, im2_bli_5, im2_bli_6]\n",
        "titles = [\n",
        "    f\"Original {im_2.shape[:2]}\",\n",
        "    f\"{im2_bli_1.shape[:2]} [down scaled]\",\n",
        "    f\"{im2_bli_2.shape[:2]} [down scaled]\",\n",
        "    f\"{im2_bli_3.shape[:2]} [up Scaled]\",\n",
        "    im2_bli_4.shape[:2],\n",
        "    im2_bli_5.shape[:2],\n",
        "    im2_bli_6.shape[:2],\n",
        "]\n",
        "for ax, img, title in zip(axes, images, titles):\n",
        "    ax.imshow(img, cmap=\"gray\", vmin=0, vmax=255)\n",
        "    ax.set_title(title)\n",
        "plt.show()"
      ]
    },
    {
      "cell_type": "markdown",
      "metadata": {},
      "source": [
        "### <a id='toc3_2_3_'></a>[Using PIL](#toc0_)\n"
      ]
    },
    {
      "cell_type": "code",
      "execution_count": null,
      "metadata": {},
      "outputs": [],
      "source": [
        "im2_bli_1 = img_2.resize(size=(128, 128), resample=Image.Resampling.BILINEAR)\n",
        "im2_bli_2 = img_2.resize(size=(32, 32), resample=Image.Resampling.BILINEAR)\n",
        "im2_bli_3 = img_2.resize(size=(555, 555), resample=Image.Resampling.BILINEAR)\n",
        "im2_bli_4 = img_2.resize(size=(256, 128), resample=Image.Resampling.BILINEAR)\n",
        "im2_bli_5 = img_2.resize(size=(128, 256), resample=Image.Resampling.BILINEAR)\n",
        "im2_bli_6 = img_2.resize(size=(64, 512), resample=Image.Resampling.BILINEAR)"
      ]
    },
    {
      "cell_type": "code",
      "execution_count": null,
      "metadata": {},
      "outputs": [],
      "source": [
        "# plot\n",
        "fig = plt.figure(figsize=(16, 8), layout=\"compressed\")\n",
        "gs = GridSpec(2, 4, figure=fig)\n",
        "axes = [fig.add_subplot(i) for i in [gs[:, 0], gs[0, 1], gs[0, 2], gs[0, 3], gs[1, 1], gs[1, 2], gs[1, 3]]]\n",
        "images = [im_2, im2_bli_1, im2_bli_2, im2_bli_3, im2_bli_4, im2_bli_5, im2_bli_6]\n",
        "titles = [\n",
        "    f\"Original {im_2.shape[:2]}\",\n",
        "    f\"{im2_bli_1.size} [down scaled]\",\n",
        "    f\"{im2_bli_2.size} [down scaled]\",\n",
        "    f\"{im2_bli_3.size} [up Scaled]\",\n",
        "    im2_bli_4.size,\n",
        "    im2_bli_5.size,\n",
        "    im2_bli_6.size,\n",
        "]\n",
        "for ax, img, title in zip(axes, images, titles):\n",
        "    ax.imshow(img, cmap=\"gray\", vmin=0, vmax=255)\n",
        "    ax.set_title(title)\n",
        "plt.show()"
      ]
    },
    {
      "cell_type": "markdown",
      "metadata": {},
      "source": [
        "## <a id='toc3_3_'></a>[Fourier Transform Interpolation](#toc0_)\n"
      ]
    },
    {
      "cell_type": "markdown",
      "metadata": {},
      "source": [
        "### <a id='toc3_3_1_'></a>[Manual](#toc0_)\n"
      ]
    },
    {
      "cell_type": "code",
      "execution_count": null,
      "metadata": {},
      "outputs": [],
      "source": [
        "def fourier_transform_interpolation(image: np.ndarray, new_height: int, new_width: int) -> np.ndarray:\n",
        "    old_height, old_width = image.shape[:2]\n",
        "\n",
        "    fft_image_old_shifted = np.fft.fftshift(np.fft.fft2(image))\n",
        "    fft_image_new_shifted = np.zeros((new_height, new_width), dtype=np.complex128)\n",
        "\n",
        "    # compute slicing indices for centered placement\n",
        "    min_h, min_w = min(old_height, new_height), min(old_width, new_width)\n",
        "    start_h_old, start_h_new = (old_height - min_h) // 2, (new_height - min_h) // 2\n",
        "    start_w_old, start_w_new = (old_width - min_w) // 2, (new_width - min_w) // 2\n",
        "\n",
        "    # copy relevant portion of frequency domain\n",
        "    fft_image_new_shifted[start_h_new : start_h_new + min_h, start_w_new : start_w_new + min_w] = fft_image_old_shifted[\n",
        "        start_h_old : start_h_old + min_h, start_w_old : start_w_old + min_w\n",
        "    ]\n",
        "\n",
        "    # perform inverse FFT and normalize output\n",
        "    ifft_image_new = np.fft.ifft2(np.fft.ifftshift(fft_image_new_shifted)).real\n",
        "    new_image = 255 * (ifft_image_new - ifft_image_new.min()) / (ifft_image_new.max() - ifft_image_new.min())\n",
        "\n",
        "    return new_image.astype(np.uint8)"
      ]
    },
    {
      "cell_type": "code",
      "execution_count": null,
      "metadata": {},
      "outputs": [],
      "source": [
        "im1_fti_1 = fourier_transform_interpolation(im_1, new_height=128, new_width=128)\n",
        "im1_fti_2 = fourier_transform_interpolation(im_1, new_height=32, new_width=32)\n",
        "im1_fti_3 = fourier_transform_interpolation(im_1, new_height=555, new_width=555)\n",
        "im1_fti_4 = fourier_transform_interpolation(im_1, new_height=256, new_width=128)\n",
        "im1_fti_5 = fourier_transform_interpolation(im_1, new_height=128, new_width=256)\n",
        "im1_fti_6 = fourier_transform_interpolation(im_1, new_height=64, new_width=512)"
      ]
    },
    {
      "cell_type": "code",
      "execution_count": null,
      "metadata": {},
      "outputs": [],
      "source": [
        "# plot\n",
        "fig = plt.figure(figsize=(16, 8), layout=\"compressed\")\n",
        "gs = GridSpec(2, 4, figure=fig)\n",
        "axes = [fig.add_subplot(i) for i in [gs[:, 0], gs[0, 1], gs[0, 2], gs[0, 3], gs[1, 1], gs[1, 2], gs[1, 3]]]\n",
        "images = [im_1, im1_fti_1, im1_fti_2, im1_fti_3, im1_fti_4, im1_fti_5, im1_fti_6]\n",
        "titles = [\n",
        "    f\"Original {im_1.shape}\",\n",
        "    f\"{im1_fti_1.shape} [down scaled]\",\n",
        "    f\"{im1_fti_2.shape} [down scaled]\",\n",
        "    f\"{im1_fti_3.shape} [up Scaled]\",\n",
        "    f\"{im1_fti_4.shape}\",\n",
        "    f\"{im1_fti_5.shape}\",\n",
        "    f\"{im1_fti_6.shape}\",\n",
        "]\n",
        "for ax, img, title in zip(axes, images, titles):\n",
        "    ax.imshow(img, cmap=\"gray\", vmin=0, vmax=255)\n",
        "    ax.set_title(title)\n",
        "plt.show()"
      ]
    },
    {
      "cell_type": "markdown",
      "metadata": {},
      "source": [
        "## <a id='toc3_4_'></a>[Comparison](#toc0_)\n"
      ]
    },
    {
      "cell_type": "code",
      "execution_count": null,
      "metadata": {},
      "outputs": [],
      "source": [
        "# several interpolations [down scale]\n",
        "im1_nni_downscale = img_1.resize((100, 100), Image.Resampling.NEAREST)\n",
        "im1_bli_downscale = img_1.resize((100, 100), Image.Resampling.BILINEAR)\n",
        "im1_bci_downscale = img_1.resize((100, 100), Image.Resampling.BICUBIC)\n",
        "im1_li_downscale = img_1.resize((100, 100), Image.Resampling.LANCZOS)\n",
        "\n",
        "# plot\n",
        "fig, gs = plt.figure(figsize=(16, 8), layout=\"compressed\"), GridSpec(2, 4, figure=plt.gcf())\n",
        "axes = [fig.add_subplot(i) for i in [gs[:, 0], gs[0, 1], gs[0, 2], gs[1, 1], gs[1, 2]]]\n",
        "titles = [\"Original\", \"nearest\", \"bilinear\", \"bicubic\", \"lanczos\"]\n",
        "images = [img_1, im1_nni_downscale, im1_bli_downscale, im1_bci_downscale, im1_li_downscale]\n",
        "for ax, img, title in zip(axes, images, titles):\n",
        "    ax.imshow(img, cmap=\"gray\", vmin=0, vmax=255)\n",
        "    ax.set_title(title)\n",
        "plt.show()"
      ]
    },
    {
      "cell_type": "code",
      "execution_count": null,
      "metadata": {},
      "outputs": [],
      "source": [
        "im1_pil_2 = Image.fromarray(im_1[40:90, 100:150])\n",
        "\n",
        "# several interpolations [up scale]\n",
        "im1_nni_upscale = im1_pil_2.resize((256, 256), Image.Resampling.NEAREST)\n",
        "im1_bli_upscale = im1_pil_2.resize((256, 256), Image.Resampling.BILINEAR)\n",
        "im1_bci_upscale = im1_pil_2.resize((256, 256), Image.Resampling.BICUBIC)\n",
        "im1_li_upscale = im1_pil_2.resize((256, 256), Image.Resampling.LANCZOS)\n",
        "\n",
        "# plot\n",
        "fig, gs = plt.figure(figsize=(16, 8), layout=\"compressed\"), GridSpec(2, 4, figure=plt.gcf())\n",
        "axes = [fig.add_subplot(i) for i in [gs[:, 0], gs[0, 1], gs[0, 2], gs[1, 1], gs[1, 2]]]\n",
        "titles = [\"Original\", \"nearest\", \"bilinear\", \"bicubic\", \"lanczos\"]\n",
        "images = [im1_pil_2, im1_nni_upscale, im1_bli_upscale, im1_bci_upscale, im1_li_upscale]\n",
        "for ax, img, title in zip(axes, images, titles):\n",
        "    ax.imshow(img, cmap=\"gray\", vmin=0, vmax=255)\n",
        "    ax.set_title(title)\n",
        "plt.show()"
      ]
    }
  ],
  "metadata": {
    "author_email": "AmirhosseinHeydari78@gmail.com",
    "author_github": "https://github.com/mr-pylin",
    "author_name": "Amirhossein Heydari",
    "kernelspec": {
      "display_name": "media-processing-workshop-9l4de3Xu-py3.13",
      "language": "python",
      "name": "python3"
    },
    "language_info": {
      "codemirror_mode": {
        "name": "ipython",
        "version": 3
      },
      "file_extension": ".py",
      "mimetype": "text/x-python",
      "name": "python",
      "nbconvert_exporter": "python",
      "pygments_lexer": "ipython3",
      "version": "3.13.1"
    },
    "origin_repo": "https://github.com/mr-pylin/media-processing-workshop"
  },
  "nbformat": 4,
  "nbformat_minor": 2
}