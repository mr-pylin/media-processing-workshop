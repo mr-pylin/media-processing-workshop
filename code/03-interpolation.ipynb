{
 "cells": [
  {
   "cell_type": "markdown",
   "metadata": {},
   "source": [
    "<div style=\"display: flex; justify-content: space-between; align-items: center;\">\n",
    "    <div style=\"text-align: left; flex: 4;\">\n",
    "        <strong>Author:</strong> Amirhossein Heydari — \n",
    "        📧 <a href=\"mailto:amirhosseinheydari78@gmail.com\">amirhosseinheydari78@gmail.com</a> — \n",
    "        🐙 <a href=\"https://github.com/mr-pylin/media-processing-workshop\" target=\"_blank\" rel=\"noopener\">github.com/mr-pylin</a>\n",
    "    </div>\n",
    "    <div style=\"display: flex; justify-content: flex-end; flex: 1; gap: 8px; align-items: center; padding: 0;\">\n",
    "        <a href=\"https://opencv.org/\" target=\"_blank\" rel=\"noopener noreferrer\">\n",
    "            <img src=\"../assets/images/libraries/opencv/logo/OpenCV_logo_no_text-1.svg\"\n",
    "                 alt=\"OpenCV Logo\"\n",
    "                 style=\"max-height: 48px; width: auto;\">\n",
    "        </a>\n",
    "        <a href=\"https://pillow.readthedocs.io/\" target=\"_blank\" rel=\"noopener noreferrer\">\n",
    "            <img src=\"../assets/images/libraries/pillow/logo/pillow-logo-248x250.png\"\n",
    "                 alt=\"PIL Logo\"\n",
    "                 style=\"max-height: 48px; width: auto;\">\n",
    "        </a>\n",
    "        <a href=\"https://scikit-image.org/\" target=\"_blank\" rel=\"noopener noreferrer\">\n",
    "            <img src=\"../assets/images/libraries/scikit-image/logo/logo.png\"\n",
    "                 alt=\"scikit-image Logo\"\n",
    "                 style=\"max-height: 48px; width: auto;\">\n",
    "        </a>\n",
    "        <a href=\"https://scipy.org/\" target=\"_blank\" rel=\"noopener noreferrer\">\n",
    "            <img src=\"../assets/images/libraries/scipy/logo/logo.svg\"\n",
    "                 alt=\"SciPy Logo\"\n",
    "                 style=\"max-height: 48px; width: auto;\">\n",
    "        </a>\n",
    "    </div>\n",
    "</div>\n",
    "<hr>\n"
   ]
  },
  {
   "cell_type": "markdown",
   "metadata": {},
   "source": [
    "**Table of contents**<a id='toc0_'></a>    \n",
    "- [Dependencies](#toc1_)    \n",
    "- [Load Images](#toc2_)    \n",
    "- [Image Interpolation](#toc3_)    \n",
    "  - [Nearest Neighbor Interpolation](#toc3_1_)    \n",
    "    - [Manual](#toc3_1_1_)    \n",
    "    - [Using OpenCV](#toc3_1_2_)    \n",
    "    - [Using PIL](#toc3_1_3_)    \n",
    "    - [Using scikit-image](#toc3_1_4_)    \n",
    "  - [Box (Average) Interpolation](#toc3_2_)    \n",
    "    - [Manual](#toc3_2_1_)    \n",
    "    - [Using PIL](#toc3_2_2_)    \n",
    "  - [Bilinear Interpolation](#toc3_3_)    \n",
    "    - [Manual](#toc3_3_1_)    \n",
    "    - [Using OpenCV](#toc3_3_2_)    \n",
    "    - [Using PIL](#toc3_3_3_)    \n",
    "  - [Hamming Interpolation](#toc3_4_)    \n",
    "  - [Bicubic Interpolation](#toc3_5_)    \n",
    "  - [Lanczos Interpolation](#toc3_6_)    \n",
    "  - [Fourier Transform Interpolation](#toc3_7_)    \n",
    "    - [Manual](#toc3_7_1_)    \n",
    "  - [Comparison](#toc3_8_)    \n",
    "    - [Down Scaling](#toc3_8_1_)    \n",
    "    - [Up Scaling](#toc3_8_2_)    \n",
    "\n",
    "<!-- vscode-jupyter-toc-config\n",
    "\tnumbering=false\n",
    "\tanchor=true\n",
    "\tflat=false\n",
    "\tminLevel=1\n",
    "\tmaxLevel=6\n",
    "\t/vscode-jupyter-toc-config -->\n",
    "<!-- THIS CELL WILL BE REPLACED ON TOC UPDATE. DO NOT WRITE YOUR TEXT IN THIS CELL -->"
   ]
  },
  {
   "cell_type": "markdown",
   "metadata": {},
   "source": [
    "# <a id='toc1_'></a>[Dependencies](#toc0_)\n"
   ]
  },
  {
   "cell_type": "code",
   "execution_count": null,
   "metadata": {},
   "outputs": [],
   "source": [
    "import cv2\n",
    "import matplotlib.pyplot as plt\n",
    "import numpy as np\n",
    "import skimage as ski\n",
    "from matplotlib.gridspec import GridSpec\n",
    "from numpy.typing import NDArray\n",
    "from PIL import Image"
   ]
  },
  {
   "cell_type": "markdown",
   "metadata": {},
   "source": [
    "# <a id='toc2_'></a>[Load Images](#toc0_)\n"
   ]
  },
  {
   "cell_type": "code",
   "execution_count": null,
   "metadata": {},
   "outputs": [],
   "source": [
    "im_1 = cv2.imread(\"../assets/images/dip_3rd/CH02_Fig0222(b)(cameraman).tif\", flags=cv2.IMREAD_GRAYSCALE)\n",
    "im_2 = cv2.cvtColor(\n",
    "    cv2.imread(\"../assets/images/dip_3rd/CH06_Fig0638(a)(lenna_RGB).tif\"),\n",
    "    cv2.COLOR_BGR2RGB,\n",
    ")"
   ]
  },
  {
   "cell_type": "code",
   "execution_count": null,
   "metadata": {},
   "outputs": [],
   "source": [
    "img_1 = Image.fromarray(im_1)\n",
    "img_2 = Image.fromarray(im_2)"
   ]
  },
  {
   "cell_type": "code",
   "execution_count": null,
   "metadata": {},
   "outputs": [],
   "source": [
    "# plot\n",
    "fig, axs = plt.subplots(nrows=1, ncols=2, figsize=(8, 4), layout=\"compressed\")\n",
    "axs[0].imshow(im_1, cmap=\"gray\")\n",
    "axs[0].set_title(\"CH02_Fig0222(b)(cameraman).tif\")\n",
    "axs[0].axis(\"off\")\n",
    "axs[1].imshow(im_2)\n",
    "axs[1].set_title(\"CH06_Fig0638(a)(lenna_RGB).tif\")\n",
    "axs[1].axis(\"off\")\n",
    "plt.show()"
   ]
  },
  {
   "cell_type": "markdown",
   "metadata": {},
   "source": [
    "# <a id='toc3_'></a>[Image Interpolation](#toc0_)\n",
    "\n",
    "It refers to the **guess** of intensity values at missing locations When **resizing** an image.\n",
    "$$[x, y]=[\\frac{x^{\\prime}}{S_x}, \\frac{y^{\\prime}}{S_y}]$$\n",
    "\n",
    "**Preserve Aspect Ratio:**\n",
    "<figure style=\"text-align:center; margin:0;\">\n",
    "  <img src=\"../assets/images/original/vector/interpolation/preserve-aspect-ratio.svg\" alt=\"preserve-aspect-ratio.svg\" style=\"max-width:80%; height:auto;\">\n",
    "  <figcaption>Interpolation + Preserve Aspect Ratio</figcaption>\n",
    "</figure>\n",
    "\n",
    "**Ignore Aspect Ratio:**\n",
    "<figure style=\"text-align:center; margin:0;\">\n",
    "  <img src=\"../assets/images/original/vector/interpolation/ignore-aspect-ratio.svg\" alt=\"ignore-aspect-ratio.svg\" style=\"max-width:80%; height:auto;\">\n",
    "  <figcaption>Interpolation + Ignore Aspect Ratio</figcaption>\n",
    "</figure>\n",
    "\n",
    "**Interpolation Methods:**\n",
    "\n",
    "| Interpolation Method | Downscaling Quality | Upscaling Quality | Performance   |\n",
    "| -------------------- | ------------------- | ----------------- | ------------- |\n",
    "| Nearest Neighbor     |                     |                   | ⭐⭐⭐⭐⭐ |\n",
    "| Box                  | ⭐                 |                   | ⭐⭐⭐⭐    |\n",
    "| Bilinear             | ⭐                 | ⭐                | ⭐⭐⭐      |\n",
    "| Hamming              | ⭐⭐               |                   | ⭐⭐⭐      |\n",
    "| Bicubic              | ⭐⭐⭐            | ⭐⭐⭐           | ⭐⭐        |\n",
    "| Lanczos              | ⭐⭐⭐⭐          | ⭐⭐⭐⭐        | ⭐           |\n",
    "| Fourier Transform    | ⭐⭐⭐⭐          | ⭐⭐⭐⭐        | ⭐           |\n",
    "\n",
    "Reference [except Fouriet Transform]: [pillow.readthedocs.io/en/stable/handbook/concepts.html#filters-comparison-table](https://pillow.readthedocs.io/en/stable/handbook/concepts.html#filters-comparison-table)\n",
    "\n",
    "📝 **Docs**:\n",
    "\n",
    "- `PIL.Image.Image.resize`: [pillow.readthedocs.io/en/stable/reference/Image.html#PIL.Image.Image.resize](https://pillow.readthedocs.io/en/stable/reference/Image.html#PIL.Image.Image.resize)\n",
    "- Filters: [pillow.readthedocs.io/en/stable/handbook/concepts.html#concept-filters](https://pillow.readthedocs.io/en/stable/handbook/concepts.html#concept-filters)\n",
    "- `cv2.resize`: [docs.opencv.org/master/da/d54/group__imgproc__transform.html#ga47a974309e9102f5f08231edc7e7529d](https://docs.opencv.org/master/da/d54/group__imgproc__transform.html#ga47a974309e9102f5f08231edc7e7529d)\n",
    "- `InterpolationFlags`: [docs.opencv.org/master/da/d54/group__imgproc__transform.html#gga5bb5a1fea74ea38e1a5445ca803ff121ac97d8e4880d8b5d509e96825c7522deb](https://docs.opencv.org/master/da/d54/group__imgproc__transform.html#gga5bb5a1fea74ea38e1a5445ca803ff121ac97d8e4880d8b5d509e96825c7522deb)\n",
    "- `skimage.transform.resize`: [scikit-image.org/docs/stable/api/skimage.transform.html#skimage.transform.resize](https://scikit-image.org/docs/stable/api/skimage.transform.html#skimage.transform.resize)\n",
    "- `skimage.transform.warp`: [scikit-image.org/docs/stable/api/skimage.transform.html#skimage.transform.warp](https://scikit-image.org/docs/stable/api/skimage.transform.html#skimage.transform.warp)\n"
   ]
  },
  {
   "cell_type": "markdown",
   "metadata": {},
   "source": [
    "## <a id='toc3_1_'></a>[Nearest Neighbor Interpolation](#toc0_)\n",
    "\n",
    "- Selects the value of the closest pixel.\n",
    "\n",
    "🔢 **Formula:**\n",
    "\n",
    "$$I(x', y') = I(\\text{round}(x), \\text{round}(y))$$\n"
   ]
  },
  {
   "cell_type": "markdown",
   "metadata": {},
   "source": [
    "### <a id='toc3_1_1_'></a>[Manual](#toc0_)\n"
   ]
  },
  {
   "cell_type": "code",
   "execution_count": null,
   "metadata": {},
   "outputs": [],
   "source": [
    "def nearest_interpolation(image: NDArray, new_height: int, new_width: int, mode: str = \"efficient\") -> NDArray:\n",
    "    height, width = image.shape[:2]\n",
    "    x_ratio = new_width / width\n",
    "    y_ratio = new_height / height\n",
    "\n",
    "    if mode == \"inefficient\":\n",
    "        new_image = np.zeros((new_height, new_width, *image.shape[2:]))\n",
    "        for i in range(new_height):\n",
    "            for j in range(new_width):\n",
    "                x = np.clip(round(j / x_ratio), 0, width - 1)\n",
    "                y = np.clip(round(i / y_ratio), 0, height - 1)\n",
    "                new_image[i, j] = image[y, x]\n",
    "\n",
    "    elif mode == \"efficient\":\n",
    "        x_indices = np.clip(np.round(np.arange(new_width) / x_ratio).astype(int), 0, width - 1)\n",
    "        y_indices = np.clip(np.round(np.arange(new_height) / y_ratio).astype(int), 0, height - 1)\n",
    "        new_image = image[y_indices[:, np.newaxis], x_indices]\n",
    "\n",
    "    return new_image.astype(image.dtype)"
   ]
  },
  {
   "cell_type": "code",
   "execution_count": null,
   "metadata": {},
   "outputs": [],
   "source": [
    "im1_nni_1 = nearest_interpolation(im_1, new_height=128, new_width=128)\n",
    "im1_nni_2 = nearest_interpolation(im_1, new_height=32, new_width=32)\n",
    "im1_nni_3 = nearest_interpolation(im_1, new_height=555, new_width=555)\n",
    "im1_nni_4 = nearest_interpolation(im_1, new_height=256, new_width=128)\n",
    "im1_nni_5 = nearest_interpolation(im_1, new_height=128, new_width=256)\n",
    "im1_nni_6 = nearest_interpolation(im_1, new_height=64, new_width=512)\n",
    "\n",
    "# plot\n",
    "fig = plt.figure(figsize=(18, 10), layout=\"constrained\")\n",
    "gs = GridSpec(nrows=2, ncols=4, figure=fig)\n",
    "axes = [fig.add_subplot(i) for i in [gs[:, 0], gs[0, 1], gs[0, 2], gs[0, 3], gs[1, 1], gs[1, 2], gs[1, 3]]]\n",
    "images = [im_1, im1_nni_1, im1_nni_2, im1_nni_3, im1_nni_4, im1_nni_5, im1_nni_6]\n",
    "titles = [\n",
    "    f\"Original {im_1.shape}\",\n",
    "    f\"{im1_nni_1.shape} [down scaled]\",\n",
    "    f\"{im1_nni_2.shape} [down scaled]\",\n",
    "    f\"{im1_nni_3.shape} [up Scaled]\",\n",
    "    f\"{im1_nni_4.shape}\",\n",
    "    f\"{im1_nni_5.shape}\",\n",
    "    f\"{im1_nni_6.shape}\",\n",
    "]\n",
    "for ax, img, title in zip(axes, images, titles):\n",
    "    ax.imshow(img, cmap=\"gray\", vmin=0, vmax=255)\n",
    "    ax.set_title(title)\n",
    "plt.show()"
   ]
  },
  {
   "cell_type": "markdown",
   "metadata": {},
   "source": [
    "### <a id='toc3_1_2_'></a>[Using OpenCV](#toc0_)\n"
   ]
  },
  {
   "cell_type": "code",
   "execution_count": null,
   "metadata": {},
   "outputs": [],
   "source": [
    "im2_nni_1 = cv2.resize(im_2, dsize=(128, 128), interpolation=cv2.INTER_NEAREST_EXACT)\n",
    "im2_nni_2 = cv2.resize(im_2, dsize=(32, 32), interpolation=cv2.INTER_NEAREST_EXACT)\n",
    "im2_nni_3 = cv2.resize(im_2, dsize=(555, 555), interpolation=cv2.INTER_NEAREST_EXACT)\n",
    "im2_nni_4 = cv2.resize(im_2, dsize=(256, 128), interpolation=cv2.INTER_NEAREST_EXACT)\n",
    "im2_nni_5 = cv2.resize(im_2, dsize=(128, 256), interpolation=cv2.INTER_NEAREST_EXACT)\n",
    "im2_nni_6 = cv2.resize(im_2, dsize=(64, 512), interpolation=cv2.INTER_NEAREST_EXACT)\n",
    "\n",
    "# plot\n",
    "fig = plt.figure(figsize=(18, 10), layout=\"constrained\")\n",
    "gs = GridSpec(nrows=2, ncols=4, figure=fig)\n",
    "axes = [fig.add_subplot(i) for i in [gs[:, 0], gs[0, 1], gs[0, 2], gs[0, 3], gs[1, 1], gs[1, 2], gs[1, 3]]]\n",
    "images = [im_2, im2_nni_1, im2_nni_2, im2_nni_3, im2_nni_4, im2_nni_5, im2_nni_6]\n",
    "titles = [\n",
    "    f\"Original {im_2.shape[:2]}\",\n",
    "    f\"{im2_nni_1.shape[:2]} [down scaled]\",\n",
    "    f\"{im2_nni_2.shape[:2]} [down scaled]\",\n",
    "    f\"{im2_nni_3.shape[:2]} [up Scaled]\",\n",
    "    f\"{im2_nni_4.shape[:2]}\",\n",
    "    f\"{im2_nni_5.shape[:2]}\",\n",
    "    f\"{im2_nni_6.shape[:2]}\",\n",
    "]\n",
    "for ax, img, title in zip(axes, images, titles):\n",
    "    ax.imshow(img, cmap=\"gray\", vmin=0, vmax=255)\n",
    "    ax.set_title(title)\n",
    "plt.show()"
   ]
  },
  {
   "cell_type": "markdown",
   "metadata": {},
   "source": [
    "### <a id='toc3_1_3_'></a>[Using PIL](#toc0_)\n"
   ]
  },
  {
   "cell_type": "code",
   "execution_count": null,
   "metadata": {},
   "outputs": [],
   "source": [
    "im2_nni_1 = img_2.resize(size=(128, 128), resample=Image.Resampling.NEAREST)\n",
    "im2_nni_2 = img_2.resize(size=(32, 32), resample=Image.Resampling.NEAREST)\n",
    "im2_nni_3 = img_2.resize(size=(555, 555), resample=Image.Resampling.NEAREST)\n",
    "im2_nni_4 = img_2.resize(size=(256, 128), resample=Image.Resampling.NEAREST)\n",
    "im2_nni_5 = img_2.resize(size=(128, 256), resample=Image.Resampling.NEAREST)\n",
    "im2_nni_6 = img_2.resize(size=(64, 512), resample=Image.Resampling.NEAREST)\n",
    "\n",
    "# plot\n",
    "fig = plt.figure(figsize=(18, 10), layout=\"constrained\")\n",
    "gs = GridSpec(2, 4, figure=fig)\n",
    "axes = [fig.add_subplot(i) for i in [gs[:, 0], gs[0, 1], gs[0, 2], gs[0, 3], gs[1, 1], gs[1, 2], gs[1, 3]]]\n",
    "images = [im_2, im2_nni_1, im2_nni_2, im2_nni_3, im2_nni_4, im2_nni_5, im2_nni_6]\n",
    "titles = [\n",
    "    f\"Original {im_2.size}\",\n",
    "    f\"{im2_nni_1.size} [down scaled]\",\n",
    "    f\"{im2_nni_2.size} [down scaled]\",\n",
    "    f\"{im2_nni_3.size} [up Scaled]\",\n",
    "    im2_nni_4.size,\n",
    "    im2_nni_5.size,\n",
    "    im2_nni_6.size,\n",
    "]\n",
    "for ax, img, title in zip(axes, images, titles):\n",
    "    ax.imshow(img, cmap=\"gray\", vmin=0, vmax=255)\n",
    "    ax.set_title(title)\n",
    "plt.show()"
   ]
  },
  {
   "cell_type": "markdown",
   "metadata": {},
   "source": [
    "### <a id='toc3_1_4_'></a>[Using scikit-image](#toc0_)\n"
   ]
  },
  {
   "cell_type": "code",
   "execution_count": null,
   "metadata": {},
   "outputs": [],
   "source": [
    "im2_nni_1 = ski.transform.resize(im_2, output_shape=(128, 128), order=0)\n",
    "im2_nni_2 = ski.transform.resize(im_2, output_shape=(32, 32), order=0)\n",
    "im2_nni_3 = ski.transform.resize(im_2, output_shape=(555, 555), order=0)\n",
    "im2_nni_4 = ski.transform.resize(im_2, output_shape=(256, 128), order=0)\n",
    "im2_nni_5 = ski.transform.resize(im_2, output_shape=(128, 256), order=0)\n",
    "im2_nni_6 = ski.transform.resize(im_2, output_shape=(64, 512), order=0)\n",
    "\n",
    "# plot\n",
    "fig = plt.figure(figsize=(18, 10), layout=\"constrained\")\n",
    "gs = GridSpec(2, 4, figure=fig)\n",
    "axes = [fig.add_subplot(i) for i in [gs[:, 0], gs[0, 1], gs[0, 2], gs[0, 3], gs[1, 1], gs[1, 2], gs[1, 3]]]\n",
    "images = [im_2, im2_nni_1, im2_nni_2, im2_nni_3, im2_nni_4, im2_nni_5, im2_nni_6]\n",
    "titles = [\n",
    "    f\"Original {im_2.shape}\",\n",
    "    f\"{im2_nni_1.shape} [down scaled]\",\n",
    "    f\"{im2_nni_2.shape} [down scaled]\",\n",
    "    f\"{im2_nni_3.shape} [up Scaled]\",\n",
    "    im2_nni_4.shape,\n",
    "    im2_nni_5.shape,\n",
    "    im2_nni_6.shape,\n",
    "]\n",
    "for ax, img, title in zip(axes, images, titles):\n",
    "    ax.imshow(img, cmap=\"gray\", vmin=0, vmax=255)\n",
    "    ax.set_title(title)\n",
    "plt.show()"
   ]
  },
  {
   "cell_type": "markdown",
   "metadata": {},
   "source": [
    "## <a id='toc3_2_'></a>[Box (Average) Interpolation](#toc0_)\n",
    "\n",
    "🔢 **Formula:**\n",
    "\n",
    "$$I(x', y') = \\frac{1}{N} \\sum_{(i, j) \\in \\text{box}} I(i, j)$$\n"
   ]
  },
  {
   "cell_type": "markdown",
   "metadata": {},
   "source": [
    "### <a id='toc3_2_1_'></a>[Manual](#toc0_)\n"
   ]
  },
  {
   "cell_type": "code",
   "execution_count": null,
   "metadata": {},
   "outputs": [],
   "source": [
    "def box_interpolation(image: NDArray, new_height: int, new_width: int) -> NDArray:\n",
    "    height, width = image.shape[:2]\n",
    "    x_ratio = new_width / width\n",
    "    y_ratio = new_height / height\n",
    "\n",
    "    new_image = np.zeros((new_height, new_width, *image.shape[2:]), dtype=image.dtype)\n",
    "\n",
    "    for i in range(new_height):\n",
    "        for j in range(new_width):\n",
    "            x_start = int(j / x_ratio)\n",
    "            y_start = int(i / y_ratio)\n",
    "            x_end = min(int((j + 1) / x_ratio), width)\n",
    "            y_end = min(int((i + 1) / y_ratio), height)\n",
    "\n",
    "            if x_end > x_start and y_end > y_start:\n",
    "                new_image[i, j] = np.mean(image[y_start:y_end, x_start:x_end], axis=(0, 1))\n",
    "            else:\n",
    "                new_image[i, j] = image[min(y_start, height - 1), min(x_start, width - 1)]\n",
    "\n",
    "    return new_image"
   ]
  },
  {
   "cell_type": "code",
   "execution_count": null,
   "metadata": {},
   "outputs": [],
   "source": [
    "im1_box_1 = box_interpolation(im_1, new_height=128, new_width=128)\n",
    "im1_box_2 = box_interpolation(im_1, new_height=32, new_width=32)\n",
    "im1_box_3 = box_interpolation(im_1, new_height=555, new_width=555)\n",
    "im1_box_4 = box_interpolation(im_1, new_height=256, new_width=128)\n",
    "im1_box_5 = box_interpolation(im_1, new_height=128, new_width=256)\n",
    "im1_box_6 = box_interpolation(im_1, new_height=64, new_width=512)\n",
    "\n",
    "\n",
    "# plot\n",
    "fig = plt.figure(figsize=(18, 10), layout=\"constrained\")\n",
    "gs = GridSpec(nrows=2, ncols=4, figure=fig)\n",
    "axes = [fig.add_subplot(i) for i in [gs[:, 0], gs[0, 1], gs[0, 2], gs[0, 3], gs[1, 1], gs[1, 2], gs[1, 3]]]\n",
    "images = [im_1, im1_box_1, im1_box_2, im1_box_3, im1_box_4, im1_box_5, im1_box_6]\n",
    "titles = [\n",
    "    f\"Original {im_1.shape}\",\n",
    "    f\"{im1_box_1.shape} [down scaled]\",\n",
    "    f\"{im1_box_2.shape} [down scaled]\",\n",
    "    f\"{im1_box_3.shape} [up Scaled]\",\n",
    "    f\"{im1_box_4.shape}\",\n",
    "    f\"{im1_box_5.shape}\",\n",
    "    f\"{im1_box_6.shape}\",\n",
    "]\n",
    "for ax, img, title in zip(axes, images, titles):\n",
    "    ax.imshow(img, cmap=\"gray\", vmin=0, vmax=255)\n",
    "    ax.set_title(title)\n",
    "plt.show()"
   ]
  },
  {
   "cell_type": "markdown",
   "metadata": {},
   "source": [
    "### <a id='toc3_2_2_'></a>[Using PIL](#toc0_)\n"
   ]
  },
  {
   "cell_type": "code",
   "execution_count": null,
   "metadata": {},
   "outputs": [],
   "source": [
    "im2_box_1 = img_2.resize(size=(128, 128), resample=Image.Resampling.BOX)\n",
    "im2_box_2 = img_2.resize(size=(32, 32), resample=Image.Resampling.BOX)\n",
    "im2_box_3 = img_2.resize(size=(555, 555), resample=Image.Resampling.BOX)\n",
    "im2_box_4 = img_2.resize(size=(256, 128), resample=Image.Resampling.BOX)\n",
    "im2_box_5 = img_2.resize(size=(128, 256), resample=Image.Resampling.BOX)\n",
    "im2_box_6 = img_2.resize(size=(64, 512), resample=Image.Resampling.BOX)\n",
    "\n",
    "# plot\n",
    "fig = plt.figure(figsize=(18, 10), layout=\"constrained\")\n",
    "gs = GridSpec(2, 4, figure=fig)\n",
    "axes = [fig.add_subplot(i) for i in [gs[:, 0], gs[0, 1], gs[0, 2], gs[0, 3], gs[1, 1], gs[1, 2], gs[1, 3]]]\n",
    "images = [im_2, im2_box_1, im2_box_2, im2_box_3, im2_box_4, im2_box_5, im2_box_6]\n",
    "titles = [\n",
    "    f\"Original {im_2.shape[:2]}\",\n",
    "    f\"{im2_box_1.size} [down scaled]\",\n",
    "    f\"{im2_box_2.size} [down scaled]\",\n",
    "    f\"{im2_box_3.size} [up Scaled]\",\n",
    "    im2_box_4.size,\n",
    "    im2_box_5.size,\n",
    "    im2_box_6.size,\n",
    "]\n",
    "for ax, img, title in zip(axes, images, titles):\n",
    "    ax.imshow(img, cmap=\"gray\", vmin=0, vmax=255)\n",
    "    ax.set_title(title)\n",
    "plt.show()"
   ]
  },
  {
   "cell_type": "markdown",
   "metadata": {},
   "source": [
    "## <a id='toc3_3_'></a>[Bilinear Interpolation](#toc0_)\n",
    "\n",
    "- Weighted average of 4 nearest pixels.\n",
    "\n",
    "**Formula:**\n",
    "\n",
    "$$I(x', y') = (1 - \\alpha)(1 - \\beta) I(x_1, y_1) + \\alpha (1 - \\beta) I(x_2, y_1) + (1 - \\alpha) \\beta I(x_1, y_2) + \\alpha \\beta I(x_2, y_2)$$\n",
    "$$\\alpha = x - x_1, \\quad \\beta = y - y_1$$\n"
   ]
  },
  {
   "cell_type": "markdown",
   "metadata": {},
   "source": [
    "### <a id='toc3_3_1_'></a>[Manual](#toc0_)\n"
   ]
  },
  {
   "cell_type": "code",
   "execution_count": null,
   "metadata": {},
   "outputs": [],
   "source": [
    "def bilinear_interpolation(image: NDArray, new_height: int, new_width: int) -> NDArray:\n",
    "    height, width = image.shape[:2]\n",
    "    channels = image.shape[2] if image.ndim == 3 else 1\n",
    "    x_ratio = (new_width - 1) / (width - 1)\n",
    "    y_ratio = (new_height - 1) / (height - 1)\n",
    "    new_image = np.zeros((new_height, new_width, channels), dtype=image.dtype)\n",
    "\n",
    "    for i in range(new_height):\n",
    "        for j in range(new_width):\n",
    "            x = j / x_ratio\n",
    "            y = i / y_ratio\n",
    "\n",
    "            # find the four nearest pixels\n",
    "            x0 = int(np.floor(x))\n",
    "            y0 = int(np.floor(y))\n",
    "            x1 = min(x0 + 1, width - 1)\n",
    "            y1 = min(y0 + 1, height - 1)\n",
    "\n",
    "            # compute fractional parts\n",
    "            dx = x - x0\n",
    "            dy = y - y0\n",
    "\n",
    "            # interpolate in the horizontal direction\n",
    "            if channels > 1:\n",
    "                top = (1 - dx) * image[y0, x0] + dx * image[y0, x1]\n",
    "                bottom = (1 - dx) * image[y1, x0] + dx * image[y1, x1]\n",
    "            else:\n",
    "                top = (1 - dx) * image[y0, x0] + dx * image[y0, x1]\n",
    "                bottom = (1 - dx) * image[y1, x0] + dx * image[y1, x1]\n",
    "\n",
    "            # interpolate in the vertical direction\n",
    "            new_image[i, j] = (1 - dy) * top + dy * bottom\n",
    "\n",
    "    return new_image.squeeze()"
   ]
  },
  {
   "cell_type": "code",
   "execution_count": null,
   "metadata": {},
   "outputs": [],
   "source": [
    "im1_bli_1 = bilinear_interpolation(im_1, new_height=128, new_width=128)\n",
    "im1_bli_2 = bilinear_interpolation(im_1, new_height=32, new_width=32)\n",
    "im1_bli_3 = bilinear_interpolation(im_1, new_height=555, new_width=555)\n",
    "im1_bli_4 = bilinear_interpolation(im_1, new_height=256, new_width=128)\n",
    "im1_bli_5 = bilinear_interpolation(im_1, new_height=128, new_width=256)\n",
    "im1_bli_6 = bilinear_interpolation(im_1, new_height=64, new_width=512)\n",
    "\n",
    "# plot\n",
    "fig = plt.figure(figsize=(18, 10), layout=\"constrained\")\n",
    "gs = GridSpec(2, 4, figure=fig)\n",
    "axes = [fig.add_subplot(i) for i in [gs[:, 0], gs[0, 1], gs[0, 2], gs[0, 3], gs[1, 1], gs[1, 2], gs[1, 3]]]\n",
    "images = [im_1, im1_bli_1, im1_bli_2, im1_bli_3, im1_bli_4, im1_bli_5, im1_bli_6]\n",
    "titles = [\n",
    "    f\"Original {im_2.shape[:2]}\",\n",
    "    f\"{im1_bli_1.shape} [down scaled]\",\n",
    "    f\"{im1_bli_2.shape} [down scaled]\",\n",
    "    f\"{im1_bli_3.shape} [up Scaled]\",\n",
    "    im1_bli_4.shape,\n",
    "    im1_bli_5.shape,\n",
    "    im1_bli_6.shape,\n",
    "]\n",
    "for ax, img, title in zip(axes, images, titles):\n",
    "    ax.imshow(img, cmap=\"gray\", vmin=0, vmax=255)\n",
    "    ax.set_title(title)\n",
    "plt.show()"
   ]
  },
  {
   "cell_type": "markdown",
   "metadata": {},
   "source": [
    "### <a id='toc3_3_2_'></a>[Using OpenCV](#toc0_)\n"
   ]
  },
  {
   "cell_type": "code",
   "execution_count": null,
   "metadata": {},
   "outputs": [],
   "source": [
    "im2_bli_1 = cv2.resize(im_2, dsize=(128, 128), interpolation=cv2.INTER_LINEAR)\n",
    "im2_bli_2 = cv2.resize(im_2, dsize=(32, 32), interpolation=cv2.INTER_LINEAR)\n",
    "im2_bli_3 = cv2.resize(im_2, dsize=(555, 555), interpolation=cv2.INTER_LINEAR)\n",
    "im2_bli_4 = cv2.resize(im_2, dsize=(256, 128), interpolation=cv2.INTER_LINEAR)\n",
    "im2_bli_5 = cv2.resize(im_2, dsize=(128, 256), interpolation=cv2.INTER_LINEAR)\n",
    "im2_bli_6 = cv2.resize(im_2, dsize=(64, 512), interpolation=cv2.INTER_LINEAR)"
   ]
  },
  {
   "cell_type": "code",
   "execution_count": null,
   "metadata": {},
   "outputs": [],
   "source": [
    "# plot\n",
    "fig = plt.figure(figsize=(18, 10), layout=\"constrained\")\n",
    "gs = GridSpec(2, 4, figure=fig)\n",
    "axes = [fig.add_subplot(i) for i in [gs[:, 0], gs[0, 1], gs[0, 2], gs[0, 3], gs[1, 1], gs[1, 2], gs[1, 3]]]\n",
    "images = [im_2, im2_bli_1, im2_bli_2, im2_bli_3, im2_bli_4, im2_bli_5, im2_bli_6]\n",
    "titles = [\n",
    "    f\"Original {im_2.shape[:2]}\",\n",
    "    f\"{im2_bli_1.shape[:2]} [down scaled]\",\n",
    "    f\"{im2_bli_2.shape[:2]} [down scaled]\",\n",
    "    f\"{im2_bli_3.shape[:2]} [up Scaled]\",\n",
    "    im2_bli_4.shape[:2],\n",
    "    im2_bli_5.shape[:2],\n",
    "    im2_bli_6.shape[:2],\n",
    "]\n",
    "for ax, img, title in zip(axes, images, titles):\n",
    "    ax.imshow(img, cmap=\"gray\", vmin=0, vmax=255)\n",
    "    ax.set_title(title)\n",
    "plt.show()"
   ]
  },
  {
   "cell_type": "markdown",
   "metadata": {},
   "source": [
    "### <a id='toc3_3_3_'></a>[Using PIL](#toc0_)\n"
   ]
  },
  {
   "cell_type": "code",
   "execution_count": null,
   "metadata": {},
   "outputs": [],
   "source": [
    "im2_bli_1 = img_2.resize(size=(128, 128), resample=Image.Resampling.BILINEAR)\n",
    "im2_bli_2 = img_2.resize(size=(32, 32), resample=Image.Resampling.BILINEAR)\n",
    "im2_bli_3 = img_2.resize(size=(555, 555), resample=Image.Resampling.BILINEAR)\n",
    "im2_bli_4 = img_2.resize(size=(256, 128), resample=Image.Resampling.BILINEAR)\n",
    "im2_bli_5 = img_2.resize(size=(128, 256), resample=Image.Resampling.BILINEAR)\n",
    "im2_bli_6 = img_2.resize(size=(64, 512), resample=Image.Resampling.BILINEAR)\n",
    "\n",
    "# plot\n",
    "fig = plt.figure(figsize=(18, 10), layout=\"constrained\")\n",
    "gs = GridSpec(2, 4, figure=fig)\n",
    "axes = [fig.add_subplot(i) for i in [gs[:, 0], gs[0, 1], gs[0, 2], gs[0, 3], gs[1, 1], gs[1, 2], gs[1, 3]]]\n",
    "images = [im_2, im2_bli_1, im2_bli_2, im2_bli_3, im2_bli_4, im2_bli_5, im2_bli_6]\n",
    "titles = [\n",
    "    f\"Original {im_2.shape[:2]}\",\n",
    "    f\"{im2_bli_1.size} [down scaled]\",\n",
    "    f\"{im2_bli_2.size} [down scaled]\",\n",
    "    f\"{im2_bli_3.size} [up Scaled]\",\n",
    "    im2_bli_4.size,\n",
    "    im2_bli_5.size,\n",
    "    im2_bli_6.size,\n",
    "]\n",
    "for ax, img, title in zip(axes, images, titles):\n",
    "    ax.imshow(img, cmap=\"gray\", vmin=0, vmax=255)\n",
    "    ax.set_title(title)\n",
    "plt.show()"
   ]
  },
  {
   "cell_type": "markdown",
   "metadata": {},
   "source": [
    "## <a id='toc3_4_'></a>[Hamming Interpolation](#toc0_)\n",
    "\n",
    "- It is usually used in conjunction with windowed sinc interpolation.\n",
    "- It applies a Hamming window function to the sinc interpolation formula.\n",
    "\n",
    "🔢 **Formula:**\n",
    "\n",
    "$$I(x', y') = \\sum_{i=-a+1}^{a} \\sum_{j=-a+1}^{a} I(x_i, y_j) h(x - x_i) h(y - y_j)$$\n",
    "$$h(t) = 0.54 + 0.46 \\cos \\left( \\frac{\\pi t}{a} \\right)$$\n"
   ]
  },
  {
   "cell_type": "code",
   "execution_count": null,
   "metadata": {},
   "outputs": [],
   "source": []
  },
  {
   "cell_type": "markdown",
   "metadata": {},
   "source": [
    "## <a id='toc3_5_'></a>[Bicubic Interpolation](#toc0_)\n",
    "\n",
    "🔢 **Formula:**\n",
    "\n",
    "$$I(x', y') = \\sum_{i=-1}^{2} \\sum_{j=-1}^{2} I(x_i, y_j) w(x - x_i) w(y - y_j)$$\n",
    "$$\n",
    "w(t) =\n",
    "\\begin{cases} \n",
    "(1.5 |t|^3 - 2.5 |t|^2 + 1), & 0 \\leq |t| < 1 \\\\\n",
    "(-0.5 |t|^3 + 2.5 |t|^2 - 4 |t| + 2), & 1 \\leq |t| < 2 \\\\\n",
    "0, & |t| \\geq 2\n",
    "\\end{cases}\n",
    "$$\n"
   ]
  },
  {
   "cell_type": "code",
   "execution_count": null,
   "metadata": {},
   "outputs": [],
   "source": []
  },
  {
   "cell_type": "markdown",
   "metadata": {},
   "source": [
    "## <a id='toc3_6_'></a>[Lanczos Interpolation](#toc0_)\n",
    "\n",
    "🔢 **Formula:**\n",
    "- $a=3$ by default\n",
    "\n",
    "$$I(x', y') = \\sum_{i=-a+1}^{a} \\sum_{j=-a+1}^{a} I(x_i, y_j) \\text{sinc}(x - x_i) \\text{sinc}(y - y_j)$$\n",
    "$$\n",
    "\\text{sinc}(t) =\n",
    "\\begin{cases} \n",
    "\\frac{\\sin(\\pi t)}{\\pi t}, & t \\neq 0 \\\\\n",
    "1, & t = 0\n",
    "\\end{cases}\n",
    "$$\n"
   ]
  },
  {
   "cell_type": "code",
   "execution_count": null,
   "metadata": {},
   "outputs": [],
   "source": []
  },
  {
   "cell_type": "markdown",
   "metadata": {},
   "source": [
    "## <a id='toc3_7_'></a>[Fourier Transform Interpolation](#toc0_)\n"
   ]
  },
  {
   "cell_type": "markdown",
   "metadata": {},
   "source": [
    "### <a id='toc3_7_1_'></a>[Manual](#toc0_)\n"
   ]
  },
  {
   "cell_type": "code",
   "execution_count": null,
   "metadata": {},
   "outputs": [],
   "source": [
    "def fourier_transform_interpolation(image: NDArray, new_height: int, new_width: int) -> NDArray[np.uint8]:\n",
    "    old_height, old_width = image.shape[:2]\n",
    "\n",
    "    fft_image_old_shifted = np.fft.fftshift(np.fft.fft2(image))\n",
    "    fft_image_new_shifted = np.zeros((new_height, new_width), dtype=np.complex128)\n",
    "\n",
    "    # compute slicing indices for centered placement\n",
    "    min_h, min_w = min(old_height, new_height), min(old_width, new_width)\n",
    "    start_h_old, start_h_new = (old_height - min_h) // 2, (new_height - min_h) // 2\n",
    "    start_w_old, start_w_new = (old_width - min_w) // 2, (new_width - min_w) // 2\n",
    "\n",
    "    # copy relevant portion of frequency domain\n",
    "    fft_image_new_shifted[start_h_new : start_h_new + min_h, start_w_new : start_w_new + min_w] = fft_image_old_shifted[\n",
    "        start_h_old : start_h_old + min_h, start_w_old : start_w_old + min_w\n",
    "    ]\n",
    "\n",
    "    # perform inverse FFT and normalize output\n",
    "    ifft_image_new = np.fft.ifft2(np.fft.ifftshift(fft_image_new_shifted)).real\n",
    "    ifft_image_new *= (new_height * new_width) / (old_height * old_width)\n",
    "    new_image = np.clip(ifft_image_new, 0, 255)\n",
    "\n",
    "    return new_image.astype(np.uint8)"
   ]
  },
  {
   "cell_type": "code",
   "execution_count": null,
   "metadata": {},
   "outputs": [],
   "source": [
    "im1_fti_1 = fourier_transform_interpolation(im_1, new_height=128, new_width=128)\n",
    "im1_fti_2 = fourier_transform_interpolation(im_1, new_height=32, new_width=32)\n",
    "im1_fti_3 = fourier_transform_interpolation(im_1, new_height=555, new_width=555)\n",
    "im1_fti_4 = fourier_transform_interpolation(im_1, new_height=256, new_width=128)\n",
    "im1_fti_5 = fourier_transform_interpolation(im_1, new_height=128, new_width=256)\n",
    "im1_fti_6 = fourier_transform_interpolation(im_1, new_height=64, new_width=512)"
   ]
  },
  {
   "cell_type": "code",
   "execution_count": null,
   "metadata": {},
   "outputs": [],
   "source": [
    "# plot\n",
    "fig = plt.figure(figsize=(18, 10), layout=\"constrained\")\n",
    "gs = GridSpec(2, 4, figure=fig)\n",
    "axes = [fig.add_subplot(i) for i in [gs[:, 0], gs[0, 1], gs[0, 2], gs[0, 3], gs[1, 1], gs[1, 2], gs[1, 3]]]\n",
    "images = [im_1, im1_fti_1, im1_fti_2, im1_fti_3, im1_fti_4, im1_fti_5, im1_fti_6]\n",
    "titles = [\n",
    "    f\"Original {im_1.shape}\",\n",
    "    f\"{im1_fti_1.shape} [down scaled]\",\n",
    "    f\"{im1_fti_2.shape} [down scaled]\",\n",
    "    f\"{im1_fti_3.shape} [up Scaled]\",\n",
    "    f\"{im1_fti_4.shape}\",\n",
    "    f\"{im1_fti_5.shape}\",\n",
    "    f\"{im1_fti_6.shape}\",\n",
    "]\n",
    "for ax, img, title in zip(axes, images, titles):\n",
    "    ax.imshow(img, cmap=\"gray\", vmin=0, vmax=255)\n",
    "    ax.set_title(title)\n",
    "plt.show()"
   ]
  },
  {
   "cell_type": "markdown",
   "metadata": {},
   "source": [
    "## <a id='toc3_8_'></a>[Comparison](#toc0_)\n"
   ]
  },
  {
   "cell_type": "markdown",
   "metadata": {},
   "source": [
    "### <a id='toc3_8_1_'></a>[Down Scaling](#toc0_)\n"
   ]
  },
  {
   "cell_type": "code",
   "execution_count": null,
   "metadata": {},
   "outputs": [],
   "source": [
    "# several interpolations [down scale]\n",
    "im1_nni_downscale = np.asarray(img_1.resize((128, 128), Image.Resampling.NEAREST))\n",
    "im1_bli_downscale = np.asarray(img_1.resize((128, 128), Image.Resampling.BILINEAR))\n",
    "im1_bci_downscale = np.asarray(img_1.resize((128, 128), Image.Resampling.BICUBIC))\n",
    "im1_li_downscale = np.asarray(img_1.resize((128, 128), Image.Resampling.LANCZOS))\n",
    "\n",
    "# plot\n",
    "fig, gs = plt.figure(figsize=(18, 10), layout=\"constrained\"), GridSpec(2, 5, figure=plt.gcf())\n",
    "axes = [\n",
    "    fig.add_subplot(i)\n",
    "    for i in [gs[:, 0], gs[0, 1], gs[0, 2], gs[0, 3], gs[0, 4], gs[1, 1], gs[1, 2], gs[1, 3], gs[1, 4]]\n",
    "]\n",
    "titles = [\n",
    "    \"Original\",\n",
    "    \"nearest\",\n",
    "    \"bilinear\",\n",
    "    \"bicubic\",\n",
    "    \"lanczos\",\n",
    "    \"nearest [zoom]\",\n",
    "    \"bilinear [zoom]\",\n",
    "    \"bicubic [zoom]\",\n",
    "    \"lanczos [zoom]\",\n",
    "]\n",
    "images = [\n",
    "    img_1,\n",
    "    im1_nni_downscale,\n",
    "    im1_bli_downscale,\n",
    "    im1_bci_downscale,\n",
    "    im1_li_downscale,\n",
    "    im1_nni_downscale[20:45, 50:75],\n",
    "    im1_bli_downscale[20:45, 50:75],\n",
    "    im1_bci_downscale[20:45, 50:75],\n",
    "    im1_li_downscale[20:45, 50:75],\n",
    "]\n",
    "for ax, img, title in zip(axes, images, titles):\n",
    "    ax.imshow(img, cmap=\"gray\", vmin=0, vmax=255)\n",
    "    ax.set_title(title)\n",
    "plt.show()"
   ]
  },
  {
   "cell_type": "markdown",
   "metadata": {},
   "source": [
    "### <a id='toc3_8_2_'></a>[Up Scaling](#toc0_)\n"
   ]
  },
  {
   "cell_type": "code",
   "execution_count": null,
   "metadata": {},
   "outputs": [],
   "source": [
    "# several interpolations [down scale]\n",
    "im1_nni_downscale = np.asarray(img_1.resize((512, 512), Image.Resampling.NEAREST))\n",
    "im1_bli_downscale = np.asarray(img_1.resize((512, 512), Image.Resampling.BILINEAR))\n",
    "im1_bci_downscale = np.asarray(img_1.resize((512, 512), Image.Resampling.BICUBIC))\n",
    "im1_li_downscale = np.asarray(img_1.resize((512, 512), Image.Resampling.LANCZOS))\n",
    "\n",
    "# plot\n",
    "fig, gs = plt.figure(figsize=(18, 10), layout=\"constrained\"), GridSpec(2, 5, figure=plt.gcf())\n",
    "axes = [\n",
    "    fig.add_subplot(i)\n",
    "    for i in [gs[:, 0], gs[0, 1], gs[0, 2], gs[0, 3], gs[0, 4], gs[1, 1], gs[1, 2], gs[1, 3], gs[1, 4]]\n",
    "]\n",
    "titles = [\n",
    "    \"Original\",\n",
    "    \"nearest\",\n",
    "    \"bilinear\",\n",
    "    \"bicubic\",\n",
    "    \"lanczos\",\n",
    "    \"nearest [zoom]\",\n",
    "    \"bilinear [zoom]\",\n",
    "    \"bicubic [zoom]\",\n",
    "    \"lanczos [zoom]\",\n",
    "]\n",
    "images = [\n",
    "    img_1,\n",
    "    im1_nni_downscale,\n",
    "    im1_bli_downscale,\n",
    "    im1_bci_downscale,\n",
    "    im1_li_downscale,\n",
    "    im1_nni_downscale[80:180, 200:300],\n",
    "    im1_bli_downscale[80:180, 200:300],\n",
    "    im1_bci_downscale[80:180, 200:300],\n",
    "    im1_li_downscale[80:180, 200:300],\n",
    "]\n",
    "for ax, img, title in zip(axes, images, titles):\n",
    "    ax.imshow(img, cmap=\"gray\", vmin=0, vmax=255)\n",
    "    ax.set_title(title)\n",
    "plt.show()"
   ]
  }
 ],
 "metadata": {
  "author_email": "AmirhosseinHeydari78@gmail.com",
  "author_github": "https://github.com/mr-pylin",
  "author_name": "Amirhossein Heydari",
  "kernelspec": {
   "display_name": "media-processing-workshop (3.13.7)",
   "language": "python",
   "name": "python3"
  },
  "language_info": {
   "codemirror_mode": {
    "name": "ipython",
    "version": 3
   },
   "file_extension": ".py",
   "mimetype": "text/x-python",
   "name": "python",
   "nbconvert_exporter": "python",
   "pygments_lexer": "ipython3",
   "version": "3.13.7"
  },
  "origin_repo": "https://github.com/mr-pylin/media-processing-workshop"
 },
 "nbformat": 4,
 "nbformat_minor": 2
}
