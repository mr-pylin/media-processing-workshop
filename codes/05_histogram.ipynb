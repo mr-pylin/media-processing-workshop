{
  "cells": [
    {
      "cell_type": "markdown",
      "metadata": {},
      "source": [
        "# Dependencies"
      ]
    },
    {
      "cell_type": "code",
      "execution_count": 15,
      "metadata": {},
      "outputs": [],
      "source": [
        "import cv2\n",
        "import matplotlib.pyplot as plt\n",
        "import numpy as np\n",
        "from PIL import Image\n",
        "\n",
        "# local dependencies\n",
        "from utils.spatial_modification import (\n",
        "    histogram,\n",
        "    histogram_scale,\n",
        "    histogram_equalization,\n",
        "    local_histogram_equalization\n",
        ")"
      ]
    },
    {
      "cell_type": "markdown",
      "metadata": {},
      "source": [
        "# Load Images"
      ]
    },
    {
      "cell_type": "code",
      "execution_count": null,
      "metadata": {},
      "outputs": [],
      "source": [
        "einstein = plt.imread('../assets/images/dip_3rd/CH03_Fig0354(a)(einstein_orig).tif')\n",
        "aerial = plt.imread('../assets/images/dip_3rd/CH03_Fig0309(a)(washed_out_aerial_image).tif')\n",
        "lenna = plt.imread('../assets/images/dip_3rd/CH06_Fig0638(a)(lenna_RGB).tif')\n",
        "square = plt.imread('../assets/images/dip_3rd/CH03_Fig0326(a)(embedded_square_noisy_512).tif')\n",
        "\n",
        "# plot\n",
        "fig, axs = plt.subplots(nrows=1, ncols=4, figsize=(16, 4), layout='constrained')\n",
        "\n",
        "axs[0].imshow(einstein, vmin=0, vmax=255, cmap='gray')\n",
        "axs[0].set_title('Einstein')\n",
        "axs[1].imshow(aerial, vmin=0, vmax=255, cmap='gray')\n",
        "axs[1].set_title('City')\n",
        "axs[2].imshow(lenna, vmin=0, vmax=255)\n",
        "axs[2].set_title('Lenna')\n",
        "axs[3].imshow(square, vmin=0, vmax=255, cmap='gray')\n",
        "axs[3].set_title('square')\n",
        "\n",
        "for ax in fig.axes:\n",
        "    ax.set_xticks([])\n",
        "    ax.set_yticks([])\n",
        "\n",
        "plt.show()"
      ]
    },
    {
      "cell_type": "markdown",
      "metadata": {},
      "source": [
        "# Image Enhancement\n",
        "Image enhancement is the procedure of improving the quality for a specific purpose!\n",
        "\n",
        "   - Spatial Domain\n",
        "      - Intensity Transformation\n",
        "      - Histogram Processing\n",
        "      - Spatial FIltering (Convolution)\n",
        "   - Fraquency Domain\n",
        "      - Fourier Transform\n",
        "      - Cosine Transform"
      ]
    },
    {
      "cell_type": "markdown",
      "metadata": {},
      "source": [
        "## Spatial Domain"
      ]
    },
    {
      "cell_type": "markdown",
      "metadata": {},
      "source": [
        "### Histogram Processing\n",
        "   - Histogram Stretching, Shrinking, Sliding\n",
        "   - Global Histogram Equalization\n",
        "   - Local Histogram Equalization (Adaptive Histogram Equalization)\n",
        "   - Adaptive Contrast Enhancement (ACE)\n",
        "   - Historam Matching (Specification)"
      ]
    },
    {
      "cell_type": "markdown",
      "metadata": {},
      "source": [
        "#### Histogram\n",
        "A graphical representation of the number of pixels in an image as a function of their intensity"
      ]
    },
    {
      "cell_type": "code",
      "execution_count": 19,
      "metadata": {},
      "outputs": [],
      "source": [
        "# grayscale images\n",
        "einstein_hist = histogram(einstein, rng=256)                    # manual implementation\n",
        "aerial_hist, _ = np.histogram(aerial, bins=256, range=[0, 255])  # np.histogram\n",
        "\n",
        "# rgb images\n",
        "lenna_r = lenna[:, :, 0]\n",
        "lenna_g = lenna[:, :, 1]\n",
        "lenna_b = lenna[:, :, 2]\n",
        "\n",
        "lenna_r_hist = histogram(lenna_r, rng=256)\n",
        "lenna_g_hist = histogram(lenna_g, rng=256)\n",
        "lenna_b_hist = histogram(lenna_b, rng=256)"
      ]
    },
    {
      "cell_type": "code",
      "execution_count": null,
      "metadata": {},
      "outputs": [],
      "source": [
        "fig, axs = plt.subplots(nrows=2, ncols=3, figsize=(12, 6), layout='constrained')\n",
        "fig.suptitle('Histogram')\n",
        "\n",
        "axs[0, 0].imshow(einstein, vmin=0, vmax=255, cmap='gray')\n",
        "axs[0, 0].set_title('Einstein')\n",
        "axs[0, 1].imshow(aerial, vmin=0, vmax=255, cmap='gray')\n",
        "axs[0, 1].set_title('Aerial')\n",
        "axs[0, 2].imshow(lenna, vmin=0, vmax=255)\n",
        "axs[0, 2].set_title('Lenna')\n",
        "axs[1, 0].stem(einstein_hist, markerfmt=' ', linefmt='k')\n",
        "axs[1, 0].set_title('Histogram')\n",
        "axs[1, 1].stem(aerial_hist, markerfmt=' ', linefmt='k')\n",
        "axs[1, 1].set_title('Histogram')\n",
        "axs[1, 2].stem(lenna_r_hist, '',  markerfmt='-', linefmt='r')\n",
        "axs[1, 2].stem(lenna_g_hist, '',  markerfmt='-', linefmt='g')\n",
        "axs[1, 2].stem(lenna_b_hist, '',  markerfmt='-', linefmt='b')\n",
        "axs[1, 2].set_title('Histogram')\n",
        "\n",
        "for i, ax in enumerate(fig.axes):\n",
        "    if i < 3:\n",
        "        ax.set_xticks([])\n",
        "        ax.set_yticks([])\n",
        "    else:\n",
        "        ax.set_xticks([0, 255])\n",
        "\n",
        "plt.show()"
      ]
    },
    {
      "cell_type": "code",
      "execution_count": null,
      "metadata": {},
      "outputs": [],
      "source": [
        "fig, axs = plt.subplots(nrows=2, ncols=3, figsize=(10, 6), layout='constrained')\n",
        "fig.suptitle('Histogram')\n",
        "\n",
        "axs[0, 0].imshow(lenna_r, vmin=0, vmax=255, cmap='Reds')\n",
        "axs[0, 0].set_title('red')\n",
        "axs[0, 1].imshow(lenna_g, vmin=0, vmax=255, cmap='Greens')\n",
        "axs[0, 1].set_title('green')\n",
        "axs[0, 2].imshow(lenna_b, vmin=0, vmax=255, cmap='Blues')\n",
        "axs[0, 2].set_title('blue')\n",
        "axs[1, 0].stem(lenna_r_hist, markerfmt=' ', linefmt='r')\n",
        "axs[1, 0].set_title('Histogram')\n",
        "axs[1, 1].stem(lenna_g_hist, markerfmt=' ', linefmt='g')\n",
        "axs[1, 1].set_title('Histogram')\n",
        "axs[1, 2].stem(lenna_b_hist, markerfmt=' ', linefmt='b')\n",
        "axs[1, 2].set_title('Histogram')\n",
        "\n",
        "for i, ax in enumerate(fig.axes):\n",
        "    if i < 3:\n",
        "        ax.set_xticks([])\n",
        "        ax.set_yticks([])\n",
        "    else:\n",
        "        ax.set_xticks([0, 255])\n",
        "\n",
        "plt.show()"
      ]
    },
    {
      "cell_type": "markdown",
      "metadata": {},
      "source": [
        "#### 1. Histogram Stretching. Shrinking, Sliding"
      ]
    },
    {
      "cell_type": "code",
      "execution_count": null,
      "metadata": {},
      "outputs": [],
      "source": [
        "# histogram stretching\n",
        "einstein_stretch_1 = histogram_scale(einstein, 40, 200)\n",
        "einstein_stretch_1_hist = histogram(einstein_stretch_1, rng=256)\n",
        "einstein_stretch_2 = histogram_scale(einstein, 0, 255)\n",
        "einstein_stretch_2_hist = histogram(einstein_stretch_2, rng=256)\n",
        "\n",
        "# plot\n",
        "fig, axs = plt.subplots(nrows=2, ncols=3, figsize=(12, 8), layout='compressed')\n",
        "fig.suptitle('Histogram stretching')\n",
        "\n",
        "axs[0, 0].imshow(einstein, vmin=0, vmax=255, cmap='gray')\n",
        "axs[0, 0].set_title('Original')\n",
        "axs[0, 1].imshow(einstein_stretch_1, vmin=0, vmax=255, cmap='gray')\n",
        "axs[0, 1].set_title('einstein_stretch_1')\n",
        "axs[0, 2].imshow(einstein_stretch_2, vmin=0, vmax=255, cmap='gray')\n",
        "axs[0, 2].set_title('einstein_stretch_2')\n",
        "axs[1, 0].stem(einstein_hist, markerfmt=' ', linefmt='k')\n",
        "axs[1, 0].set_title('Histogram')\n",
        "axs[1, 1].stem(einstein_stretch_1_hist, markerfmt=' ', linefmt='k')\n",
        "axs[1, 1].set_title('Histogram')\n",
        "axs[1, 2].stem(einstein_stretch_2_hist, markerfmt=' ', linefmt='k')\n",
        "axs[1, 2].set_title('Histogram')\n",
        "\n",
        "for i, ax in enumerate(fig.axes):\n",
        "    if i < 3:\n",
        "        ax.set_xticks([])\n",
        "        ax.set_yticks([])\n",
        "    else:\n",
        "        ax.set_xticks([0, 255])\n",
        "\n",
        "plt.show()"
      ]
    },
    {
      "cell_type": "code",
      "execution_count": null,
      "metadata": {},
      "outputs": [],
      "source": [
        "# histogram shrinking\n",
        "lenna_shrink = histogram_scale(lenna, 100, 150)\n",
        "lenna_shrink_r = lenna_shrink[:, :, 0]\n",
        "lenna_shrink_g = lenna_shrink[:, :, 1]\n",
        "lenna_shrink_b = lenna_shrink[:, :, 2]\n",
        "\n",
        "lenna_shrink_r_hist, _ = np.histogram(lenna_shrink_r, bins=256, range=[0, 255])\n",
        "lenna_shrink_g_hist, _ = np.histogram(lenna_shrink_g, bins=256, range=[0, 255])\n",
        "lenna_shrink_b_hist, _ = np.histogram(lenna_shrink_b, bins=256, range=[0, 255])\n",
        "\n",
        "# plot\n",
        "fig, axs = plt.subplots(nrows=2, ncols=2, figsize=(8, 8), layout='compressed')\n",
        "fig.suptitle('Histogram shrinking')\n",
        "\n",
        "axs[0, 0].imshow(lenna, vmin=0, vmax=255)\n",
        "axs[0, 0].set_title('Original lenna')\n",
        "axs[0, 1].imshow(lenna_shrink, vmin=0, vmax=255)\n",
        "axs[0, 1].set_title('Shrinked lenna')\n",
        "axs[1, 0].stem(lenna_r_hist, '',  markerfmt='-', linefmt='r')\n",
        "axs[1, 0].stem(lenna_g_hist, '',  markerfmt='-', linefmt='g')\n",
        "axs[1, 0].stem(lenna_b_hist, '',  markerfmt='-', linefmt='b')\n",
        "axs[1, 0].set_title('Histogram')\n",
        "axs[1, 1].stem(lenna_shrink_r_hist, '',  markerfmt='-', linefmt='r')\n",
        "axs[1, 1].stem(lenna_shrink_g_hist, '',  markerfmt='-', linefmt='g')\n",
        "axs[1, 1].stem(lenna_shrink_b_hist, '',  markerfmt='-', linefmt='b')\n",
        "axs[1, 1].set_title('Histogram')\n",
        "\n",
        "for i, ax in enumerate(fig.axes):\n",
        "    if i < 2:\n",
        "        ax.set_xticks([])\n",
        "        ax.set_yticks([])\n",
        "    else:\n",
        "        ax.set_xticks([0, 255])\n",
        "\n",
        "plt.show()"
      ]
    },
    {
      "cell_type": "code",
      "execution_count": null,
      "metadata": {},
      "outputs": [],
      "source": [
        "# histogram sliding\n",
        "einstein_diff = np.max(einstein) - np.min(einstein)\n",
        "\n",
        "einstein_slide_1 = einstein + (255 - np.max(einstein))\n",
        "einstein_slide_1_hist, _ = np.histogram(einstein_slide_1, bins=256, range=[0, 255])\n",
        "\n",
        "einstein_slide_2 = einstein - np.min(einstein) + 1\n",
        "einstein_slide_2_hist, _ = np.histogram(einstein_slide_2, bins=256, range=[0, 255])\n",
        "\n",
        "# plot\n",
        "fig, axs = plt.subplots(nrows=2, ncols=3, figsize=(12, 8), layout='compressed')\n",
        "fig.suptitle('Histogram sliding')\n",
        "\n",
        "axs[0, 0].imshow(einstein, vmin=0, vmax=255, cmap='gray')\n",
        "axs[0, 0].set_title('Original')\n",
        "axs[0, 1].imshow(einstein_slide_1, vmin=0, vmax=255, cmap='gray')\n",
        "axs[0, 1].set_title('Right slide')\n",
        "axs[0, 2].imshow(einstein_slide_2, vmin=0, vmax=255, cmap='gray')\n",
        "axs[0, 2].set_title('Left slide')\n",
        "axs[1, 0].stem(einstein_hist, markerfmt=' ', linefmt='k')\n",
        "axs[1, 0].set_title('Histogram')\n",
        "axs[1, 1].stem(einstein_slide_1_hist, markerfmt=' ', linefmt='k')\n",
        "axs[1, 1].set_title('Histogram')\n",
        "axs[1, 2].stem(einstein_slide_2_hist, markerfmt=' ', linefmt='k')\n",
        "axs[1, 2].set_title('Histogram')\n",
        "\n",
        "for i, ax in enumerate(fig.axes):\n",
        "    if i < 3:\n",
        "        ax.set_xticks([])\n",
        "        ax.set_yticks([])\n",
        "    else:\n",
        "        ax.set_xticks([0, 255])\n",
        "\n",
        "plt.show()"
      ]
    },
    {
      "cell_type": "markdown",
      "metadata": {},
      "source": [
        "##### Data loss in histogram shrinking"
      ]
    },
    {
      "cell_type": "code",
      "execution_count": null,
      "metadata": {},
      "outputs": [],
      "source": [
        "# histogram stretching : no data loss\n",
        "einstein_stretch_3 = histogram_scale(einstein, lower_range=0, upper_range=255)\n",
        "einstein_stretch_3_hist, _ = np.histogram(einstein_stretch_3, bins=256, range=[0, 255])\n",
        "\n",
        "einstein_shrink_3 = histogram_scale(einstein_stretch_3, lower_range=np.min(einstein), upper_range=np.max(einstein))\n",
        "einstein_shrink_3_hist, _ = np.histogram(einstein_shrink_3, bins=256, range=[0, 255])\n",
        "\n",
        "# plot\n",
        "fig, axs = plt.subplots(nrows=2, ncols=3, figsize=(16, 8), layout='compressed')\n",
        "fig.suptitle('stretching : no data-loss')\n",
        "\n",
        "axs[0, 0].imshow(einstein, cmap='gray', vmin=0, vmax=255)\n",
        "axs[0, 0].set_title('Original')\n",
        "axs[1, 0].stem(einstein_hist, markerfmt='-', linefmt='k')\n",
        "axs[1, 0].set_title('Histogram')\n",
        "\n",
        "axs[0, 1].imshow(einstein_stretch_3, cmap='gray', vmin=0, vmax=255)\n",
        "axs[0, 1].set_title('stretch(Original)')\n",
        "axs[1, 1].stem(einstein_stretch_3_hist, markerfmt='-', linefmt='k')\n",
        "axs[1, 1].set_title('Histogram')\n",
        "\n",
        "axs[0, 2].imshow(einstein_shrink_3, cmap='gray', vmin=0, vmax=255)\n",
        "axs[0, 2].set_title('shrink(stretch(Original))')\n",
        "axs[1, 2].stem(einstein_shrink_3_hist, markerfmt='-', linefmt='k')\n",
        "axs[1, 2].set_title('Histogram')\n",
        "\n",
        "for i, ax in enumerate(fig.axes):\n",
        "    if i < 3:\n",
        "        ax.set_xticks([])\n",
        "        ax.set_yticks([])\n",
        "    else:\n",
        "        ax.set_xticks([0, 255])\n",
        "\n",
        "plt.show()"
      ]
    },
    {
      "cell_type": "code",
      "execution_count": null,
      "metadata": {},
      "outputs": [],
      "source": [
        "# histogram shrinking : data loss\n",
        "einstein_shrink_4 = histogram_scale(einstein, lower_range=105, upper_range=125)\n",
        "einstein_shrink_4_hist, _ = np.histogram(einstein_shrink_4, bins=256, range=[0, 255])\n",
        "\n",
        "einstein_stretch_4 = histogram_scale(einstein_shrink_4, lower_range=np.min(einstein), upper_range=np.max(einstein))\n",
        "einstein_stretch_4_hist, _ = np.histogram(einstein_stretch_4, bins=256, range=[0, 255])\n",
        "\n",
        "# plot\n",
        "fig, axs = plt.subplots(nrows=2, ncols=3, figsize=(16, 8), layout='compressed')\n",
        "fig.suptitle('shrinking : data-loss')\n",
        "\n",
        "axs[0, 0].imshow(einstein, cmap='gray', vmin=0, vmax=255)\n",
        "axs[0, 0].set_title('Original')\n",
        "axs[1, 0].stem(einstein_hist, markerfmt='-', linefmt='k')\n",
        "axs[1, 0].set_title('Histogram')\n",
        "axs[0, 1].imshow(einstein_shrink_4, cmap='gray', vmin=0, vmax=255)\n",
        "axs[0, 1].set_title('shrink(Original)')\n",
        "axs[1, 1].stem(einstein_shrink_4_hist, markerfmt='-', linefmt='k')\n",
        "axs[1, 1].set_title('Histogram')\n",
        "axs[0, 2].imshow(einstein_stretch_4, cmap='gray', vmin=0, vmax=255)\n",
        "axs[0, 2].set_title('stretch(shrink(Original))')\n",
        "axs[1, 2].stem(einstein_stretch_4_hist, markerfmt='-', linefmt='k')\n",
        "axs[1, 2].set_title('Histogram')\n",
        "\n",
        "for i, ax in enumerate(fig.axes):\n",
        "    if i < 3:\n",
        "        ax.set_xticks([])\n",
        "        ax.set_yticks([])\n",
        "    else:\n",
        "        ax.set_xticks([0, 255])\n",
        "\n",
        "plt.show()"
      ]
    },
    {
      "cell_type": "markdown",
      "metadata": {},
      "source": [
        "#### 2. Global Histogram Equalization"
      ]
    },
    {
      "cell_type": "code",
      "execution_count": null,
      "metadata": {},
      "outputs": [],
      "source": [
        "# manual implementation\n",
        "aerial_histeq_1 = histogram_equalization(aerial)\n",
        "aerial_histeq_1_hist, _ = np.histogram(aerial_histeq_1, bins=256, range=[0, 255])\n",
        "\n",
        "# using cv2.equalizeHist\n",
        "aerial_histeq_2 = cv2.equalizeHist(aerial)\n",
        "aerial_histeq_2_hist, _ = np.histogram(aerial_histeq_2, bins=256, range=[0, 255])\n",
        "\n",
        "# plot\n",
        "fig, axs = plt.subplots(nrows=2, ncols=3, figsize=(16, 8), layout='compressed')\n",
        "fig.suptitle(\"Global Histogram Equalization\")\n",
        "\n",
        "axs[0, 0].imshow(aerial, cmap='gray', vmin=0, vmax=255)\n",
        "axs[0, 0].set_title('Original')\n",
        "axs[1, 0].stem(aerial_hist, markerfmt=' ', linefmt='k')\n",
        "axs[1, 0].set_title('Histogram')\n",
        "axs[0, 1].imshow(aerial_histeq_1, cmap='gray', vmin=0, vmax=255)\n",
        "axs[0, 1].set_title('aerial_histeq_1')\n",
        "axs[1, 1].stem(aerial_histeq_1_hist, markerfmt=' ', linefmt='k')\n",
        "axs[1, 1].set_title('Histogram')\n",
        "axs[0, 2].imshow(aerial_histeq_2, cmap='gray', vmin=0, vmax=255)\n",
        "axs[0, 2].set_title('aerial_histeq_2')\n",
        "axs[1, 2].stem(aerial_histeq_2_hist, markerfmt=' ', linefmt='k')\n",
        "axs[1, 2].set_title('Histogram')\n",
        "\n",
        "for i, ax in enumerate(fig.axes):\n",
        "    if i < 3:\n",
        "        ax.set_xticks([])\n",
        "        ax.set_yticks([])\n",
        "    else:\n",
        "        ax.set_xticks([0, 255])\n",
        "\n",
        "plt.show()"
      ]
    },
    {
      "cell_type": "markdown",
      "metadata": {},
      "source": [
        "#### 3. Local Histogram Equalization (Adaptive Histogram Equalization)"
      ]
    },
    {
      "cell_type": "code",
      "execution_count": null,
      "metadata": {},
      "outputs": [],
      "source": [
        "square_hist, _ = np.histogram(square, bins=256, range=(0, 255))\n",
        "\n",
        "square_global = histogram_equalization(square)\n",
        "square_global_hist, _ = np.histogram(square_global, bins=256, range=(0, 255))\n",
        "\n",
        "square_local = local_histogram_equalization(square, windows_size=[32, 32])\n",
        "square_local_hist, _ = np.histogram(square_local, bins=256, range=(0, 255))\n",
        "\n",
        "# plot\n",
        "fig, axs = plt.subplots(nrows=2, ncols=3, figsize=(16, 8), layout='compressed')\n",
        "fig.suptitle(\"Local Histogram Equalization\")\n",
        "\n",
        "axs[0, 0].imshow(square, cmap='gray', vmin=0, vmax=255)\n",
        "axs[0, 0].set_title('Original')\n",
        "axs[1, 0].stem(square_hist, markerfmt=' ', linefmt='k')\n",
        "axs[1, 0].set_title('Histogram')\n",
        "axs[0, 1].imshow(square_global, cmap='gray', vmin=0, vmax=255)\n",
        "axs[0, 1].set_title('im_global')\n",
        "axs[1, 1].stem(square_global_hist, markerfmt=' ', linefmt='k')\n",
        "axs[1, 1].set_title('Histogram')\n",
        "axs[0, 2].imshow(square_local, cmap='gray', vmin=0, vmax=255)\n",
        "axs[0, 2].set_title('im_local')\n",
        "axs[1, 2].stem(square_local_hist, markerfmt=' ', linefmt='k')\n",
        "axs[1, 2].set_title('Histogram')\n",
        "\n",
        "for i, ax in enumerate(fig.axes):\n",
        "    if i < 3:\n",
        "        ax.set_xticks([])\n",
        "        ax.set_yticks([])\n",
        "    else:\n",
        "        ax.set_xticks([0, 255])\n",
        "\n",
        "plt.show()"
      ]
    },
    {
      "cell_type": "markdown",
      "metadata": {},
      "source": [
        "#### 4. Adaptive Contrast Enhancement (ACE)"
      ]
    },
    {
      "cell_type": "code",
      "execution_count": null,
      "metadata": {},
      "outputs": [],
      "source": []
    },
    {
      "cell_type": "markdown",
      "metadata": {},
      "source": [
        "#### 5. Historam Matching (Specification)"
      ]
    },
    {
      "cell_type": "code",
      "execution_count": null,
      "metadata": {},
      "outputs": [],
      "source": []
    }
  ],
  "metadata": {
    "kernelspec": {
      "display_name": "Python 3",
      "language": "python",
      "name": "python3"
    },
    "language_info": {
      "codemirror_mode": {
        "name": "ipython",
        "version": 3
      },
      "file_extension": ".py",
      "mimetype": "text/x-python",
      "name": "python",
      "nbconvert_exporter": "python",
      "pygments_lexer": "ipython3",
      "version": "3.12.3"
    },
    "author_name": "Amirhossein Heydari",
    "author_email": "AmirhosseinHeydari78@gmail.com",
    "author_github": "https://github.com/mr-pylin",
    "origin_repo": "https://github.com/mr-pylin/media-processing-workshop"
  },
  "nbformat": 4,
  "nbformat_minor": 2
}