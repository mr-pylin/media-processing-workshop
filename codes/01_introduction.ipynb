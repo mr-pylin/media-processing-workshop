{
  "cells": [
    {
      "attachments": {},
      "cell_type": "markdown",
      "metadata": {},
      "source": [
        "# Dependencies"
      ]
    },
    {
      "cell_type": "code",
      "execution_count": 1,
      "metadata": {},
      "outputs": [],
      "source": [
        "from pathlib import Path\n",
        "\n",
        "import cv2\n",
        "import matplotlib.pyplot as plt\n",
        "import numpy as np\n",
        "from matplotlib.gridspec import GridSpec\n",
        "from PIL import Image"
      ]
    },
    {
      "attachments": {},
      "cell_type": "markdown",
      "metadata": {},
      "source": [
        "# Image Modes:\n",
        "   - GrayScale image\n",
        "      * colors are shades of gray [black & white]\n",
        "      * also known as a 2D Image [with ONE channel for each pixel]\n",
        "   - RGB image : \n",
        "      * colors are a combination of red, green, and blue\n",
        "      * also known as a 3D Image [with THREE channel for each pixel]\n",
        "   - RGBA image : \n",
        "      * colors are a combination of red, green, and blue\n",
        "      * also known as a 3D Image [with FOUR channels for each pixel]\n",
        "      * Alpha [The fourth channel] specifies the opacity for a color"
      ]
    },
    {
      "cell_type": "code",
      "execution_count": null,
      "metadata": {},
      "outputs": [],
      "source": [
        "# plt.imread Returns np.ndarray\n",
        "image_1 = plt.imread(fname='../assets/images/dip_3rd/CH02_Fig0222(b)(cameraman).tif')\n",
        "image_2 = plt.imread(fname='../assets/images/misc/lenna.jpg')\n",
        "image_3 = plt.imread(fname='../assets/images/dip_3rd/CH06_FigP0606(color_bars).tif')\n",
        "image_4 = plt.imread(fname='../assets/images/misc/lenna_rgb_2.png')\n",
        "\n",
        "# plot\n",
        "fig, axs = plt.subplots(nrows=1, ncols=4, figsize=(16, 5), layout='compressed')\n",
        "fig.suptitle(\"Read/Load Images using matplotlib package\")\n",
        "axs[0].imshow(image_1, cmap='gray', vmin=0, vmax=255)\n",
        "axs[0].set_title('cameraman.tif')\n",
        "axs[1].imshow(image_2, cmap='gray', vmin=0, vmax=255)\n",
        "axs[1].set_title('lenna.jpg')\n",
        "axs[2].imshow(image_3, vmin=0, vmax=255)\n",
        "axs[2].set_title('RGB_cube.tif')\n",
        "axs[3].imshow(image_4, vmin=0, vmax=255)\n",
        "axs[3].set_title('lenna_rgb_2.png')\n",
        "plt.show()"
      ]
    },
    {
      "attachments": {},
      "cell_type": "markdown",
      "metadata": {},
      "source": [
        "## GrayScale images"
      ]
    },
    {
      "cell_type": "code",
      "execution_count": 35,
      "metadata": {},
      "outputs": [
        {
          "name": "stdout",
          "output_type": "stream",
          "text": [
            "type(image_1)  : <class 'numpy.ndarray'>\n",
            "image_1.dtype  : uint8\n",
            "image_1.shape  : (256, 256)\n",
            "image_1.ndim   : 2\n",
            "image_1.size   : 65536 elements\n",
            "image_1.nbytes : 65536 bytes\n"
          ]
        }
      ],
      "source": [
        "# properties\n",
        "type_1   = type(image_1)\n",
        "dtype_1  = image_1.dtype\n",
        "shape_1  = image_1.shape\n",
        "ndim_1   = image_1.ndim\n",
        "size_1   = image_1.size\n",
        "nbytes_1 = image_1.nbytes\n",
        "\n",
        "# log\n",
        "print(f\"type(image_1)  : {type_1}\")\n",
        "print(f\"image_1.dtype  : {dtype_1}\")\n",
        "print(f\"image_1.shape  : {shape_1}\")\n",
        "print(f\"image_1.ndim   : {ndim_1}\")\n",
        "print(f\"image_1.size   : {size_1} elements\")\n",
        "print(f\"image_1.nbytes : {nbytes_1} bytes\")\n",
        "\n",
        "# plot\n",
        "plt.figure(figsize=(4, 4), layout='compressed')\n",
        "im = plt.imshow(image_1, cmap='gray', vmin=0, vmax=255)\n",
        "plt.colorbar(im, location='bottom', label=\"GrayLevels\").set_ticks([0, 255])\n",
        "plt.axis('off')\n",
        "plt.show()"
      ]
    },
    {
      "cell_type": "code",
      "execution_count": 34,
      "metadata": {},
      "outputs": [
        {
          "name": "stdout",
          "output_type": "stream",
          "text": [
            "type(image_2)  : <class 'numpy.ndarray'>\n",
            "image_2.dtype  : uint8\n",
            "image_2.shape  : (512, 512)\n",
            "image_2.ndim   : 2\n",
            "image_2.size   : 262144 elements\n",
            "image_2.nbytes : 262144 bytes\n"
          ]
        }
      ],
      "source": [
        "# properties\n",
        "type_2   = type(image_2)\n",
        "dtype_2  = image_2.dtype\n",
        "shape_2  = image_2.shape\n",
        "ndim_2   = image_2.ndim\n",
        "size_2   = image_2.size\n",
        "nbytes_2 = image_2.nbytes\n",
        "\n",
        "# log\n",
        "print(f\"type(image_2)  : {type_2}\")\n",
        "print(f\"image_2.dtype  : {dtype_2}\")\n",
        "print(f\"image_2.shape  : {shape_2}\")\n",
        "print(f\"image_2.ndim   : {ndim_2}\")\n",
        "print(f\"image_2.size   : {size_2} elements\")\n",
        "print(f\"image_2.nbytes : {nbytes_2} bytes\")\n",
        "\n",
        "# plot\n",
        "plt.figure(figsize=(4, 4), layout='compressed')\n",
        "im = plt.imshow(image_2, cmap='gray', vmin=0, vmax=255)\n",
        "plt.colorbar(im, location='bottom', label=\"GrayLevels\").set_ticks([0, 255])\n",
        "plt.axis('off')\n",
        "plt.show()"
      ]
    },
    {
      "cell_type": "markdown",
      "metadata": {},
      "source": [
        "## RGB images"
      ]
    },
    {
      "cell_type": "code",
      "execution_count": 5,
      "metadata": {},
      "outputs": [
        {
          "name": "stdout",
          "output_type": "stream",
          "text": [
            "type(image_3)  : <class 'numpy.ndarray'>\n",
            "image_3.dtype  : uint8\n",
            "image_3.shape  : (541, 742, 3)\n",
            "image_3.ndim   : 3\n",
            "image_3.size   : 1204266 elements\n",
            "image_3.nbytes : 1204266 bytes\n"
          ]
        }
      ],
      "source": [
        "# properties\n",
        "type_3   = type(image_3)\n",
        "dtype_3  = image_3.dtype\n",
        "shape_3  = image_3.shape\n",
        "ndim_3   = image_3.ndim\n",
        "size_3   = image_3.size\n",
        "nbytes_3 = image_3.nbytes\n",
        "\n",
        "# log\n",
        "print(f\"type(image_3)  : {type_3}\")\n",
        "print(f\"image_3.dtype  : {dtype_3}\")\n",
        "print(f\"image_3.shape  : {shape_3}\")\n",
        "print(f\"image_3.ndim   : {ndim_3}\")\n",
        "print(f\"image_3.size   : {size_3} elements\")\n",
        "print(f\"image_3.nbytes : {nbytes_3} bytes\")"
      ]
    },
    {
      "cell_type": "code",
      "execution_count": 6,
      "metadata": {},
      "outputs": [
        {
          "name": "stdout",
          "output_type": "stream",
          "text": [
            "type(image_3_r)  : <class 'numpy.ndarray'>\n",
            "image_3_r.dtype  : uint8\n",
            "image_3_r.shape  : (541, 742)\n",
            "image_3_r.ndim   : 2\n",
            "image_3_r.size   : 401422 elements\n",
            "image_3_r.nbytes : 401422 bytes\n"
          ]
        }
      ],
      "source": [
        "# separate RGB channels\n",
        "image_3_r = image_3[:, :, 0]\n",
        "image_3_g = image_3[:, :, 1]\n",
        "image_3_b = image_3[:, :, 2]\n",
        "\n",
        "# log\n",
        "print(f\"type(image_3_r)  : {type(image_3_r)}\")\n",
        "print(f\"image_3_r.dtype  : {image_3_r.dtype}\")\n",
        "print(f\"image_3_r.shape  : {image_3_r.shape}\")\n",
        "print(f\"image_3_r.ndim   : {image_3_r.ndim}\")\n",
        "print(f\"image_3_r.size   : {image_3_r.size} elements\")\n",
        "print(f\"image_3_r.nbytes : {image_3_r.nbytes} bytes\")"
      ]
    },
    {
      "cell_type": "code",
      "execution_count": null,
      "metadata": {},
      "outputs": [],
      "source": [
        "# plot\n",
        "fig = plt.figure(figsize=(16, 8), layout='compressed')\n",
        "gs = GridSpec(2, 4, figure=fig)\n",
        "\n",
        "ax1 = fig.add_subplot(gs[:, 0])\n",
        "ax1.imshow(image_3, vmin=0, vmax=255)\n",
        "ax1.set_title('[16,777,216 distinct colors]')\n",
        "\n",
        "ax2 = fig.add_subplot(gs[0, 1])\n",
        "im = ax2.imshow(image_3_r, cmap='Reds', vmin=0, vmax=255)\n",
        "ax2.set_title('R[256 distinct colors]')\n",
        "fig.colorbar(im, ax=ax2, location='top', label=\"Red\").set_ticks([0, 255])\n",
        "\n",
        "ax3 = fig.add_subplot(gs[0, 2])\n",
        "im = ax3.imshow(image_3_g, cmap='Greens', vmin=0, vmax=255)\n",
        "ax3.set_title('G[256 distinct colors]')\n",
        "fig.colorbar(im, ax=ax3, location='top', label=\"Green\").set_ticks([0, 255])\n",
        "\n",
        "ax4 = fig.add_subplot(gs[0, 3])\n",
        "im = ax4.imshow(image_3_b, cmap='Blues', vmin=0, vmax=255)\n",
        "ax4.set_title('B[256 distinct colors]')\n",
        "fig.colorbar(im, ax=ax4, location='top', label=\"Blue\").set_ticks([0, 255])\n",
        "\n",
        "ax5 = fig.add_subplot(gs[1, 1])\n",
        "im = ax5.imshow(image_3_r, cmap='gray', vmin=0, vmax=255)\n",
        "ax5.set_title('R[256 distinct colors]')\n",
        "fig.colorbar(im, ax=ax5, location='bottom', label=\"Red\").set_ticks([0, 255])\n",
        "\n",
        "ax6 = fig.add_subplot(gs[1, 2])\n",
        "im = ax6.imshow(image_3_g, cmap='gray', vmin=0, vmax=255)\n",
        "ax6.set_title('G[256 distinct colors]')\n",
        "fig.colorbar(im, ax=ax6, location='bottom', label=\"Green\").set_ticks([0, 255])\n",
        "\n",
        "ax7 = fig.add_subplot(gs[1, 3])\n",
        "im = ax7.imshow(image_3_b, cmap='gray', vmin=0, vmax=255)\n",
        "ax7.set_title('B[256 distinct colors]')\n",
        "fig.colorbar(im, ax=ax7, location='bottom', label=\"Blue\").set_ticks([0, 255])\n",
        "\n",
        "for ax in fig.axes:\n",
        "    ax.set_xticks([])\n",
        "    ax.set_yticks([])\n",
        "\n",
        "plt.show()"
      ]
    },
    {
      "cell_type": "markdown",
      "metadata": {},
      "source": [
        "## RGBA images"
      ]
    },
    {
      "cell_type": "code",
      "execution_count": 8,
      "metadata": {},
      "outputs": [
        {
          "name": "stdout",
          "output_type": "stream",
          "text": [
            "type(image_4)  : <class 'numpy.ndarray'>\n",
            "image_4.dtype  : float32\n",
            "image_4.shape  : (512, 512, 4)\n",
            "image_4.ndim   : 3\n",
            "image_4.size   : 1048576 elements\n",
            "image_4.nbytes : 4194304 bytes\n"
          ]
        }
      ],
      "source": [
        "# properties\n",
        "type_4   = type(image_4)\n",
        "dtype_4  = image_4.dtype\n",
        "shape_4  = image_4.shape\n",
        "ndim_4   = image_4.ndim\n",
        "size_4   = image_4.size\n",
        "nbytes_4 = image_4.nbytes\n",
        "\n",
        "# log\n",
        "print(f\"type(image_4)  : {type_4}\")\n",
        "print(f\"image_4.dtype  : {dtype_4}\")\n",
        "print(f\"image_4.shape  : {shape_4}\")\n",
        "print(f\"image_4.ndim   : {ndim_4}\")\n",
        "print(f\"image_4.size   : {size_4} elements\")\n",
        "print(f\"image_4.nbytes : {nbytes_4} bytes\")"
      ]
    },
    {
      "cell_type": "code",
      "execution_count": 9,
      "metadata": {},
      "outputs": [
        {
          "name": "stdout",
          "output_type": "stream",
          "text": [
            "type(image_4_r)  : <class 'numpy.ndarray'>\n",
            "image_4_r.dtype  : float32\n",
            "image_4_r.shape  : (512, 512)\n",
            "image_4_r.ndim   : 2\n",
            "image_4_r.size   : 262144 elements\n",
            "image_4_r.nbytes : 1048576 bytes\n"
          ]
        }
      ],
      "source": [
        "# separate RGBA channels\n",
        "image_4_r = image_4[:, :, 0]\n",
        "image_4_g = image_4[:, :, 1]\n",
        "image_4_b = image_4[:, :, 2]\n",
        "image_4_a = image_4[:, :, 3]\n",
        "\n",
        "# log\n",
        "print(f\"type(image_4_r)  : {type(image_4_r)}\")\n",
        "print(f\"image_4_r.dtype  : {image_4_r.dtype}\")\n",
        "print(f\"image_4_r.shape  : {image_4_r.shape}\")\n",
        "print(f\"image_4_r.ndim   : {image_4_r.ndim}\")\n",
        "print(f\"image_4_r.size   : {image_4_r.size} elements\")\n",
        "print(f\"image_4_r.nbytes : {image_4_r.nbytes} bytes\")"
      ]
    },
    {
      "cell_type": "code",
      "execution_count": null,
      "metadata": {},
      "outputs": [],
      "source": [
        "# plot\n",
        "fig = plt.figure(figsize=(10, 6), layout='compressed')\n",
        "gs = GridSpec(2, 4, figure=fig)\n",
        "\n",
        "ax1 = fig.add_subplot(gs[0, :])\n",
        "ax1.imshow(image_4, vmin=0, vmax=1)\n",
        "# ax1.set_title('[16,777,216 distinct colors]')\n",
        "\n",
        "ax2 = fig.add_subplot(gs[1, 0])\n",
        "ax2.imshow(image_4_r, cmap='Reds', vmin=0, vmax=1)\n",
        "ax2.set_title('red channel')\n",
        "\n",
        "ax3 = fig.add_subplot(gs[1, 1])\n",
        "ax3.imshow(image_4_g, cmap='Greens', vmin=0, vmax=1)\n",
        "ax3.set_title('green channel')\n",
        "\n",
        "ax4 = fig.add_subplot(gs[1, 2])\n",
        "ax4.imshow(image_4_b, cmap='Blues', vmin=0, vmax=1)\n",
        "ax4.set_title('blue channel')\n",
        "\n",
        "ax5 = fig.add_subplot(gs[1, 3])\n",
        "ax5.imshow(image_4_a, cmap='gray', vmin=0, vmax=1)\n",
        "ax5.set_title('alpha channel')\n",
        "\n",
        "for ax in fig.axes:\n",
        "    ax.set_xticks([])\n",
        "    ax.set_yticks([])\n",
        "\n",
        "plt.show()"
      ]
    },
    {
      "cell_type": "markdown",
      "metadata": {},
      "source": [
        "# Other Vision Packages\n",
        "   - **Matplotlib**\n",
        "      - Primarily a plotting library that can also read and display images\n",
        "      - Link: [matplotlib.org](https://matplotlib.org/)\n",
        "   - **OpenCV**\n",
        "      - Widely used for computer vision and image processing\n",
        "      - Link: [opencv.org](https://opencv.org/)\n",
        "   - **Pillow (PIL Fork)**\n",
        "      - Easy-to-use for opening, manipulating, and saving images\n",
        "      - Link: [python-pillow.org](https://python-pillow.org/)\n",
        "   - **scikit-image**\n",
        "      - Part of the SciPy ecosystem, designed for image processing\n",
        "      - Link: [scikit-image.org](https://scikit-image.org/)\n",
        "   - **Imageio**\n",
        "      - Provides an easy interface to read and write images\n",
        "      - Link: [imageio.readthedocs.io/en/stable](https://imageio.readthedocs.io/en/stable/)\n",
        "   - **TensorFlow**\n",
        "      - Deep learning library with utilities for reading and preprocessing images\n",
        "      - Link: [tensorflow.org](https://www.tensorflow.org/)\n",
        "   - **PyTorch**\n",
        "      - Deep learning library that includes image processing tools (torchvision)\n",
        "      - Link: [pytorch.org](https://pytorch.org/)\n"
      ]
    },
    {
      "cell_type": "markdown",
      "metadata": {},
      "source": [
        "## Load an Image"
      ]
    },
    {
      "cell_type": "code",
      "execution_count": 11,
      "metadata": {},
      "outputs": [],
      "source": [
        "path_to_image = \"../assets/images/dip_3rd/CH06_Fig0638(a)(lenna_RGB).tif\""
      ]
    },
    {
      "cell_type": "markdown",
      "metadata": {},
      "source": [
        "### Load using Matplotlib\n",
        "   - **Channel Order**: RGB (Red, Green, Blue)\n",
        "   - **Channel Position**: The channels are represented as the last dimension in the array.\n",
        "   - `plt.imread`: [matplotlib.org/stable/api/_as_gen/matplotlib.pyplot.imread.html](https://matplotlib.org/stable/api/_as_gen/matplotlib.pyplot.imread.html)"
      ]
    },
    {
      "cell_type": "code",
      "execution_count": 33,
      "metadata": {},
      "outputs": [
        {
          "name": "stdout",
          "output_type": "stream",
          "text": [
            "type(image_5) : <class 'numpy.ndarray'>\n",
            "image_5.dtype : uint8\n",
            "image_5.shape : (512, 512, 3)\n"
          ]
        }
      ],
      "source": [
        "image_5 = plt.imread(fname=path_to_image)\n",
        "\n",
        "# properties\n",
        "image_5_type = type(image_5)\n",
        "image_5_dtype = image_5.dtype\n",
        "image_5_shape = image_5.shape\n",
        "\n",
        "# log\n",
        "print(f\"type(image_5) : {image_5_type}\")\n",
        "print(f\"image_5.dtype : {image_5_dtype}\")\n",
        "print(f\"image_5.shape : {image_5_shape}\")\n",
        "\n",
        "# plot\n",
        "plt.figure(figsize=(3, 3), layout='compressed')\n",
        "plt.imshow(image_5, vmin=0, vmax=255)\n",
        "plt.title('image_5')\n",
        "plt.axis('off')\n",
        "plt.show()"
      ]
    },
    {
      "cell_type": "markdown",
      "metadata": {},
      "source": [
        "### Load using OpenCV\n",
        "   - **Channel Order**: BGR (Blue, Green, Red)\n",
        "   - **Channel Position**: The channels are represented as the last dimension in the array.\n",
        "   - `cv2.imread`: [docs.opencv.org/4.x/d4/da8/group__imgcodecs.html](https://docs.opencv.org/4.x/d4/da8/group__imgcodecs.html#gacbaa02cffc4ec2422dfa2e24412a99e2)\n",
        "   - List of flags [default: `cv2.IMREAD_COLOR`]: [docs.opencv.org/4.x/d8/d6a/group__imgcodecs__flags.html](https://docs.opencv.org/4.x/d8/d6a/group__imgcodecs__flags.html#ga61d9b0126a3e57d9277ac48327799c80)"
      ]
    },
    {
      "cell_type": "code",
      "execution_count": 32,
      "metadata": {},
      "outputs": [
        {
          "name": "stdout",
          "output_type": "stream",
          "text": [
            "type(image_6) : <class 'numpy.ndarray'>\n",
            "image_6.dtype : uint8\n",
            "image_6.shape : (512, 512, 3)\n"
          ]
        }
      ],
      "source": [
        "image_6 = cv2.imread(filename=path_to_image)\n",
        "\n",
        "# BGR to RGB\n",
        "image_6_transposed_1 = cv2.cvtColor(image_6, code=cv2.COLOR_BGR2RGB)\n",
        "image_6_transposed_2 = image_6[:, :, ::-1]  # equivalent to above\n",
        "\n",
        "# properties\n",
        "image_6_type = type(image_6)\n",
        "image_6_dtype = image_6.dtype\n",
        "image_6_shape = image_6.shape\n",
        "\n",
        "# log\n",
        "print(f\"type(image_6) : {image_6_type}\")\n",
        "print(f\"image_6.dtype : {image_6_dtype}\")\n",
        "print(f\"image_6.shape : {image_6_shape}\")\n",
        "\n",
        "# plot\n",
        "fig, axs = plt.subplots(nrows=1, ncols=3, figsize=(8, 3), layout='compressed')\n",
        "axs[0].imshow(image_6, vmin=0, vmax=255)\n",
        "axs[0].set(title='image_6 [BGR]')\n",
        "axs[0].axis('off')\n",
        "axs[1].imshow(image_6_transposed_1, vmin=0, vmax=255)\n",
        "axs[1].set(title='image_6_transposed_1')\n",
        "axs[1].axis('off')\n",
        "axs[2].imshow(image_6_transposed_2, vmin=0, vmax=255)\n",
        "axs[2].set(title='image_6_transposed_2')\n",
        "axs[2].axis('off')\n",
        "plt.show()"
      ]
    },
    {
      "cell_type": "markdown",
      "metadata": {},
      "source": [
        "### Load using Pillow\n",
        "   - **Channel Order**: RGB (Red, Green, Blue)\n",
        "   - **Channel Position**: The channels are represented as the last dimension in the array.\n",
        "   - `Image.open`: [pillow.readthedocs.io/en/stable/reference/Image.html#PIL.Image.open](https://pillow.readthedocs.io/en/stable/reference/Image.html#PIL.Image.open)"
      ]
    },
    {
      "cell_type": "code",
      "execution_count": 31,
      "metadata": {},
      "outputs": [
        {
          "name": "stdout",
          "output_type": "stream",
          "text": [
            "type(image_7) : <class 'PIL.TiffImagePlugin.TiffImageFile'>\n",
            "image_7.size  : (512, 512)\n",
            "image_7.mode  : RGB\n"
          ]
        }
      ],
      "source": [
        "image_7 = Image.open(fp=path_to_image)\n",
        "\n",
        "# properties\n",
        "image_7_type = type(image_7)\n",
        "image_7_size = image_7.size\n",
        "image_7_mode = image_7.mode\n",
        "\n",
        "# log\n",
        "print(f\"type(image_7) : {image_7_type}\")\n",
        "print(f\"image_7.size  : {image_7_size}\")\n",
        "print(f\"image_7.mode  : {image_7_mode}\")\n",
        "\n",
        "# plot\n",
        "plt.figure(figsize=(3, 3), layout='compressed')\n",
        "plt.imshow(image_7, vmin=0, vmax=255)\n",
        "plt.title('image_7')\n",
        "plt.axis('off')\n",
        "plt.show()"
      ]
    },
    {
      "cell_type": "markdown",
      "metadata": {},
      "source": [
        "## Save an Image"
      ]
    },
    {
      "cell_type": "code",
      "execution_count": 16,
      "metadata": {},
      "outputs": [],
      "source": [
        "output_path = Path('../output/images')\n",
        "\n",
        "# create temp folder if not exist\n",
        "output_path.mkdir(parents=True, exist_ok=True)"
      ]
    },
    {
      "cell_type": "markdown",
      "metadata": {},
      "source": [
        "### Save using Matplotlib\n",
        "   - It uses the Pillow library under the hood to save images!\n",
        "   - `plt.imsave`: [matplotlib.org/stable/api/_as_gen/matplotlib.pyplot.imsave.html](https://matplotlib.org/stable/api/_as_gen/matplotlib.pyplot.imsave.html)\n",
        "   - Image file formats: [pillow.readthedocs.io/en/stable/handbook/image-file-formats.html](https://pillow.readthedocs.io/en/stable/handbook/image-file-formats.html)"
      ]
    },
    {
      "cell_type": "code",
      "execution_count": 17,
      "metadata": {},
      "outputs": [],
      "source": [
        "# save as a png file [with optimize flag]\n",
        "plt.imsave(\n",
        "    fname=f\"{output_path}/png_1.png\",\n",
        "    arr=image_4,\n",
        "    vmin=0,\n",
        "    vmax=255,\n",
        "    format='png',\n",
        "    pil_kwargs={'optimize': True}\n",
        ")"
      ]
    },
    {
      "cell_type": "code",
      "execution_count": 18,
      "metadata": {},
      "outputs": [],
      "source": [
        "# save as a jpeg file [with optimize flag with highest quality]\n",
        "plt.imsave(\n",
        "    fname=f\"{output_path}/jpg_1.jpg\",\n",
        "    arr=image_4,\n",
        "    vmin=0,\n",
        "    vmax=255,\n",
        "    format='jpg',\n",
        "    pil_kwargs={'quality': 95, 'optimize': True}\n",
        ")"
      ]
    },
    {
      "cell_type": "markdown",
      "metadata": {},
      "source": [
        "### Save using OpenCV\n",
        "   - `cv2.imwrite`: [docs.opencv.org/4.x/d4/da8/group__imgcodecs.html](https://docs.opencv.org/4.x/d4/da8/group__imgcodecs.html#ga8ac397bd09e48851665edbe12aa28f25)\n",
        "   - `ImwriteFlags`: [docs.opencv.org/4.x/d8/d6a/group__imgcodecs__flags.html](https://docs.opencv.org/4.x/d8/d6a/group__imgcodecs__flags.html#ga292d81be8d76901bff7988d18d2b42ac)"
      ]
    },
    {
      "cell_type": "code",
      "execution_count": 19,
      "metadata": {},
      "outputs": [],
      "source": [
        "# convert float range [0, 1] to uint8 range [0. 255]\n",
        "uint8_image = (image_4 * 255).astype(np.uint8)"
      ]
    },
    {
      "cell_type": "code",
      "execution_count": 20,
      "metadata": {},
      "outputs": [
        {
          "data": {
            "text/plain": [
              "True"
            ]
          },
          "execution_count": 20,
          "metadata": {},
          "output_type": "execute_result"
        }
      ],
      "source": [
        "# convert RGBA to BGRA\n",
        "bgra_image = cv2.cvtColor(uint8_image, code=cv2.COLOR_RGBA2BGRA)\n",
        "\n",
        "# save as a png file [with the highest compression]\n",
        "cv2.imwrite(\n",
        "    filename=f\"{output_path}/png_2.png\",\n",
        "    img=bgra_image,\n",
        "    params=[cv2.IMWRITE_PNG_COMPRESSION, 9]\n",
        ")"
      ]
    },
    {
      "cell_type": "code",
      "execution_count": 21,
      "metadata": {},
      "outputs": [
        {
          "data": {
            "text/plain": [
              "True"
            ]
          },
          "execution_count": 21,
          "metadata": {},
          "output_type": "execute_result"
        }
      ],
      "source": [
        "# convert RGBA to BGR\n",
        "bgr_image = cv2.cvtColor(uint8_image, code=cv2.COLOR_RGBA2BGR)\n",
        "\n",
        "# save as a jpeg file [with optimize flag with quality 95]\n",
        "cv2.imwrite(\n",
        "    filename=f\"{output_path}/jpg_2.jpg\",\n",
        "    img=bgr_image,\n",
        "    params=[cv2.IMWRITE_JPEG_QUALITY, 95, cv2.IMWRITE_JPEG_OPTIMIZE, 1]\n",
        ")"
      ]
    },
    {
      "cell_type": "markdown",
      "metadata": {},
      "source": [
        "### Save using Pillow\n",
        "   - `Image.save`: [pillow.readthedocs.io/en/stable/reference/Image.html#PIL.Image.Image.save](https://pillow.readthedocs.io/en/stable/reference/Image.html#PIL.Image.Image.save)\n",
        "   - Image file formats: [pillow.readthedocs.io/en/stable/handbook/image-file-formats.html](https://pillow.readthedocs.io/en/stable/handbook/image-file-formats.html)"
      ]
    },
    {
      "cell_type": "code",
      "execution_count": 22,
      "metadata": {},
      "outputs": [
        {
          "name": "stdout",
          "output_type": "stream",
          "text": [
            "type(pil_image) : <class 'PIL.Image.Image'>\n",
            "pil_image.size  : (512, 512)\n",
            "pil_image.mode  : RGBA\n"
          ]
        }
      ],
      "source": [
        "# convert float range [0, 1] to uint8 range [0. 255]\n",
        "uint8_image = (image_4 * 255).astype(np.uint8)\n",
        "\n",
        "# convert <numpy.ndarray> to <Pil.Image.Image>\n",
        "pil_image = Image.fromarray(uint8_image)\n",
        "\n",
        "# log\n",
        "print(f\"type(pil_image) : {type(pil_image)}\")\n",
        "print(f\"pil_image.size  : {pil_image.size}\")\n",
        "print(f\"pil_image.mode  : {pil_image.mode}\")"
      ]
    },
    {
      "cell_type": "code",
      "execution_count": 23,
      "metadata": {},
      "outputs": [],
      "source": [
        "# save as a png file [with optimize flag]\n",
        "pil_image.save(\n",
        "    fp=f\"{output_path}/png_3.png\",\n",
        "    format='png',\n",
        "    optimize=True,\n",
        ")"
      ]
    },
    {
      "cell_type": "code",
      "execution_count": 24,
      "metadata": {},
      "outputs": [],
      "source": [
        "# convert RGBA to RGB\n",
        "rgb_image = pil_image.convert(\"RGB\")\n",
        "\n",
        "# save as a jpeg file [with optimize flag with highest quality]\n",
        "rgb_image.save(\n",
        "    fp=f\"{output_path}/jpg_3.jpg\",\n",
        "    format='jpeg',\n",
        "    quality=95,\n",
        "    optimize=True,\n",
        ")"
      ]
    }
  ],
  "metadata": {
    "kernelspec": {
      "display_name": "Python 3",
      "language": "python",
      "name": "python3"
    },
    "language_info": {
      "codemirror_mode": {
        "name": "ipython",
        "version": 3
      },
      "file_extension": ".py",
      "mimetype": "text/x-python",
      "name": "python",
      "nbconvert_exporter": "python",
      "pygments_lexer": "ipython3",
      "version": "3.12.3"
    },
    "orig_nbformat": 4,
    "author_name": "Amirhossein Heydari",
    "author_email": "AmirhosseinHeydari78@gmail.com",
    "author_github": "https://github.com/mr-pylin",
    "origin_repo": "https://github.com/mr-pylin/media-processing-workshop"
  },
  "nbformat": 4,
  "nbformat_minor": 2
}