{
  "cells": [
    {
      "cell_type": "markdown",
      "metadata": {},
      "source": [
        "# Dependencies"
      ]
    },
    {
      "cell_type": "code",
      "execution_count": 1,
      "metadata": {},
      "outputs": [],
      "source": [
        "import matplotlib.pyplot as plt\n",
        "import numpy as np\n",
        "from PIL import Image\n",
        "\n",
        "# local dependencies\n",
        "from utils.spatial_modification import rotate"
      ]
    },
    {
      "cell_type": "markdown",
      "metadata": {},
      "source": [
        "# Load Images"
      ]
    },
    {
      "cell_type": "code",
      "execution_count": 3,
      "metadata": {},
      "outputs": [],
      "source": [
        "image_1 = plt.imread('../assets/images/dip_3rd/CH02_Fig0222(b)(cameraman).tif')\n",
        "image_2 = plt.imread('../assets/images/dip_3rd/CH06_Fig0638(a)(lenna_RGB).tif')"
      ]
    },
    {
      "cell_type": "code",
      "execution_count": null,
      "metadata": {},
      "outputs": [],
      "source": [
        "# plot\n",
        "fig, axs = plt.subplots(nrows=1, ncols=2, figsize=(6, 3), layout='compressed')\n",
        "axs[0].imshow(image_1, cmap='gray')\n",
        "axs[0].set_title('Cameraman')\n",
        "axs[1].imshow(image_2)\n",
        "axs[1].set_title('Lenna')\n",
        "for ax in fig.axes:\n",
        "    ax.set_xticks([])\n",
        "    ax.set_yticks([])\n",
        "plt.show()"
      ]
    },
    {
      "cell_type": "markdown",
      "metadata": {},
      "source": [
        "# Basic Modifications\n",
        "   - Crop\n",
        "   - Flip\n",
        "   - Circular Shift\n",
        "   - Rotation"
      ]
    },
    {
      "cell_type": "markdown",
      "metadata": {},
      "source": [
        "## 1. Crop / Region of Interest(ROI)"
      ]
    },
    {
      "cell_type": "code",
      "execution_count": null,
      "metadata": {},
      "outputs": [],
      "source": [
        "# crop\n",
        "image_1_crop_1 = image_1[:128, :128]\n",
        "image_1_crop_2 = image_1[64:192, 64:192]\n",
        "image_1_crop_3 = image_1[50:100, 100:150]\n",
        "\n",
        "# plot\n",
        "fig, axs = plt.subplots(nrows=1, ncols=4, figsize=(16, 4), layout='compressed')\n",
        "fig.suptitle('Crop/ROI')\n",
        "axs[0].imshow(image_1, cmap='gray')\n",
        "axs[0].set_title('image_1', fontdict={'family': 'consolas'})\n",
        "axs[1].imshow(image_1_crop_1, cmap='gray')\n",
        "axs[1].set_title('image_1[:128, :128]', fontdict={'family': 'consolas'})\n",
        "axs[2].imshow(image_1_crop_2, cmap='gray')\n",
        "axs[2].set_title('image_1[64:192, 64:192]', fontdict={'family': 'consolas'})\n",
        "axs[3].imshow(image_1_crop_3, cmap='gray')\n",
        "axs[3].set_title('image_1[50:100, 100:150]', fontdict={'family': 'consolas'})\n",
        "plt.show()"
      ]
    },
    {
      "cell_type": "code",
      "execution_count": null,
      "metadata": {},
      "outputs": [],
      "source": [
        "# crop\n",
        "image_2_crop_1 = image_2[:256, :256]\n",
        "image_2_crop_2 = image_2[120:300, 120:300]\n",
        "image_2_crop_3 = image_2[250:300, 240:290]\n",
        "\n",
        "# plot\n",
        "fig, axs = plt.subplots(nrows=1, ncols=4, figsize=(16, 4), layout='compressed')\n",
        "fig.suptitle('Crop/ROI')\n",
        "axs[0].imshow(image_2)\n",
        "axs[0].set_title('image_2', fontdict={'family': 'consolas'})\n",
        "axs[1].imshow(image_2_crop_1)\n",
        "axs[1].set_title('image_2[:256, :256]', fontdict={'family': 'consolas'})\n",
        "axs[2].imshow(image_2_crop_2)\n",
        "axs[2].set_title('image_2[120:300, 120:300]', fontdict={'family': 'consolas'})\n",
        "axs[3].imshow(image_2_crop_3)\n",
        "axs[3].set_title('image_2[250:300, 240:290]', fontdict={'family': 'consolas'})\n",
        "plt.show()"
      ]
    },
    {
      "cell_type": "markdown",
      "metadata": {},
      "source": [
        "## 2. Flip"
      ]
    },
    {
      "cell_type": "code",
      "execution_count": null,
      "metadata": {},
      "outputs": [],
      "source": [
        "# flip\n",
        "image_1_flip_1 = image_1[::-1]       # same as <image_1[256:None:-1, :]>\n",
        "image_1_flip_2 = image_1[:, ::-1]    # same as <image_1[:, 255:None:-1]>\n",
        "image_1_flip_3 = image_1[::-1, ::-1]\n",
        "\n",
        "# plot\n",
        "fig, axs = plt.subplots(nrows=1, ncols=4, figsize=(16, 4), layout='compressed')\n",
        "fig.suptitle('Flip')\n",
        "axs[0].imshow(image_1, cmap='gray')\n",
        "axs[0].set_title('image_1', fontdict={'family': 'consolas'})\n",
        "axs[1].imshow(image_1_flip_1, cmap='gray')\n",
        "axs[1].set_title('image_1[::-1]', fontdict={'family': 'consolas'})\n",
        "axs[2].imshow(image_1_flip_2, cmap='gray')\n",
        "axs[2].set_title('image_1[:, ::-1]', fontdict={'family': 'consolas'})\n",
        "axs[3].imshow(image_1_flip_3, cmap='gray')\n",
        "axs[3].set_title('image_1[::-1, ::-1]', fontdict={'family': 'consolas'})\n",
        "plt.show()"
      ]
    },
    {
      "cell_type": "code",
      "execution_count": null,
      "metadata": {},
      "outputs": [],
      "source": [
        "# flip\n",
        "image_2_flip_1 = image_2[::-1]\n",
        "image_2_flip_2 = image_2[:, ::-1]\n",
        "image_2_flip_3 = image_2[::-1, ::-1]\n",
        "\n",
        "# plot\n",
        "fig, axs = plt.subplots(nrows=1, ncols=4, figsize=(16, 4), layout='compressed')\n",
        "fig.suptitle('Flip')\n",
        "axs[0].imshow(image_2)\n",
        "axs[0].set_title('image_2', fontdict={'family': 'consolas'})\n",
        "axs[1].imshow(image_2_flip_1)\n",
        "axs[1].set_title('image_2[::-1]', fontdict={'family': 'consolas'})\n",
        "axs[2].imshow(image_2_flip_2)\n",
        "axs[2].set_title('image_2[:, ::-1]', fontdict={'family': 'consolas'})\n",
        "axs[3].imshow(image_2_flip_3)\n",
        "axs[3].set_title('image_2[::-1, ::-1]', fontdict={'family': 'consolas'})\n",
        "plt.show()"
      ]
    },
    {
      "cell_type": "markdown",
      "metadata": {},
      "source": [
        "## 3. Circular Shift"
      ]
    },
    {
      "cell_type": "code",
      "execution_count": null,
      "metadata": {},
      "outputs": [],
      "source": [
        "im1_height, im1_width = image_1.shape\n",
        "\n",
        "image_1_cshift_1 = np.zeros_like(image_1)\n",
        "image_1_cshift_1[im1_height // 2:], image_1_cshift_1[:im1_height // 2] = image_1[:im1_height // 2], image_1[im1_height // 2:]\n",
        "\n",
        "image_1_cshift_2 = np.zeros_like(image_1)\n",
        "image_1_cshift_2[:, im1_width // 2:], image_1_cshift_2[:, :im1_width // 2] = image_1[:, :im1_width // 2], image_1[:, im1_width // 2:]\n",
        "\n",
        "image_1_cshift_3 = np.zeros_like(image_1)\n",
        "image_1_cshift_3[im1_height // 2:], image_1_cshift_3[:im1_height // 2] = image_1_cshift_2[:im1_height // 2], image_1_cshift_2[im1_height // 2:]\n",
        "\n",
        "# plot\n",
        "fig, axs = plt.subplots(nrows=1, ncols=4, figsize=(16, 4), layout='compressed')\n",
        "fig.suptitle('Circular shift')\n",
        "axs[0].imshow(image_1, cmap='gray')\n",
        "axs[0].set_title('image_1')\n",
        "axs[1].imshow(image_1_cshift_1, cmap='gray')\n",
        "axs[1].set_title('image_1_cshift_1')\n",
        "axs[2].imshow(image_1_cshift_2, cmap='gray')\n",
        "axs[2].set_title('image_1_cshift_2')\n",
        "axs[3].imshow(image_1_cshift_3, cmap='gray')\n",
        "axs[3].set_title('image_1_cshift_3')\n",
        "plt.show()"
      ]
    },
    {
      "cell_type": "code",
      "execution_count": null,
      "metadata": {},
      "outputs": [],
      "source": [
        "im2_height, im2_width, image_2_depth = image_2.shape\n",
        "\n",
        "image_2_cshift_1 = np.zeros_like(image_2)\n",
        "image_2_cshift_1[im2_height // 2:], image_2_cshift_1[:im2_height // 2] = image_2[:im2_height // 2], image_2[im2_height // 2:]\n",
        "\n",
        "image_2_cshift_2 = np.zeros_like(image_2)\n",
        "image_2_cshift_2[:, im2_width // 2:], image_2_cshift_2[:, :im2_width // 2] = image_2[:, :im2_width // 2], image_2[:, im2_width // 2:]\n",
        "\n",
        "image_2_cshift_3 = np.zeros_like(image_2)\n",
        "image_2_cshift_3[im2_height // 2:], image_2_cshift_3[:im2_height // 2] = image_2_cshift_2[:im2_height // 2], image_2_cshift_2[im2_height // 2:]\n",
        "\n",
        "# plot\n",
        "fig, axs = plt.subplots(nrows=1, ncols=4, figsize=(16, 4), layout='compressed')\n",
        "fig.suptitle('Circular shift')\n",
        "axs[0].imshow(image_2)\n",
        "axs[0].set_title('image_2')\n",
        "axs[1].imshow(image_2_cshift_1)\n",
        "axs[1].set_title('image_2_cshift_1')\n",
        "axs[2].imshow(image_2_cshift_2)\n",
        "axs[2].set_title('image_2_cshift_2')\n",
        "axs[3].imshow(image_2_cshift_3)\n",
        "axs[3].set_title('image_2_cshift_3')\n",
        "plt.show()"
      ]
    },
    {
      "cell_type": "markdown",
      "metadata": {},
      "source": [
        "## 4. Rotation"
      ]
    },
    {
      "cell_type": "markdown",
      "metadata": {},
      "source": [
        "### From Scratch"
      ]
    },
    {
      "cell_type": "code",
      "execution_count": null,
      "metadata": {},
      "outputs": [],
      "source": [
        "# rotate\n",
        "image_1_rotate_45  = rotate(img=image_1, degree=45)\n",
        "image_1_rotate_90  = rotate(img=image_1, degree=90)\n",
        "image_1_rotate_257 = rotate(img=image_1, degree=257)\n",
        "\n",
        "# rotate + expand\n",
        "image_1_rotate_45_expand  = rotate(img=image_1, degree=45 , expand=True)\n",
        "image_1_rotate_90_expand  = rotate(img=image_1, degree=90 , expand=True)\n",
        "image_1_rotate_257_expand = rotate(img=image_1, degree=257, expand=True)\n",
        "\n",
        "# plot\n",
        "fig, axs = plt.subplots(nrows=1, ncols=6, figsize=(18, 4), layout='compressed')\n",
        "fig.suptitle('Rotation')\n",
        "axs[0].imshow(image_1_rotate_45, cmap='gray')\n",
        "axs[0].set_title(\"45 degree\")\n",
        "axs[1].imshow(image_1_rotate_90, cmap='gray')\n",
        "axs[1].set_title(\"90 degree\")\n",
        "axs[2].imshow(image_1_rotate_257, cmap='gray')\n",
        "axs[2].set_title(\"257 degree\")\n",
        "axs[3].imshow(image_1_rotate_45_expand, cmap='gray')\n",
        "axs[3].set_title(\"45 degree + expand\")\n",
        "axs[4].imshow(image_1_rotate_90_expand, cmap='gray')\n",
        "axs[4].set_title(\"90 degree + expand\")\n",
        "axs[5].imshow(image_1_rotate_257_expand, cmap='gray')\n",
        "axs[5].set_title(\"257 degree + expand\")\n",
        "plt.show()"
      ]
    },
    {
      "cell_type": "markdown",
      "metadata": {},
      "source": [
        "### Using Pillow Package"
      ]
    },
    {
      "cell_type": "code",
      "execution_count": null,
      "metadata": {},
      "outputs": [],
      "source": [
        "# convert <np.ndarray> to <PIL.Image.Image>\n",
        "image_2_pil = Image.fromarray(image_2)\n",
        "\n",
        "# rotate\n",
        "image_2_rotate_45  = image_2_pil.rotate(angle=45)\n",
        "image_2_rotate_90  = image_2_pil.rotate(angle=90)\n",
        "image_2_rotate_257 = image_2_pil.rotate(angle=257)\n",
        "\n",
        "# rotate + expand\n",
        "image_2_rotate_45_expand  = image_2_pil.rotate(angle=45 , expand=True)\n",
        "image_2_rotate_90_expand  = image_2_pil.rotate(angle=90 , expand=True)\n",
        "image_2_rotate_257_expand = image_2_pil.rotate(angle=257, expand=True)\n",
        "\n",
        "# plot\n",
        "fig, axs = plt.subplots(nrows=1, ncols=6, figsize=(18, 4), layout='compressed')\n",
        "fig.suptitle('Rotation')\n",
        "axs[0].imshow(image_2_rotate_45)\n",
        "axs[0].set_title(\"45 degree\")\n",
        "axs[1].imshow(image_2_rotate_90)\n",
        "axs[1].set_title(\"90 degree\")\n",
        "axs[2].imshow(image_2_rotate_257)\n",
        "axs[2].set_title(\"257 degree\")\n",
        "axs[3].imshow(image_2_rotate_45_expand)\n",
        "axs[3].set_title(\"45 degree + expand\")\n",
        "axs[4].imshow(image_2_rotate_90_expand)\n",
        "axs[4].set_title(\"90 degree + expand\")\n",
        "axs[5].imshow(image_2_rotate_257_expand)\n",
        "axs[5].set_title(\"257 degree + expand\")\n",
        "plt.show()"
      ]
    }
  ],
  "metadata": {
    "kernelspec": {
      "display_name": "Python 3",
      "language": "python",
      "name": "python3"
    },
    "language_info": {
      "codemirror_mode": {
        "name": "ipython",
        "version": 3
      },
      "file_extension": ".py",
      "mimetype": "text/x-python",
      "name": "python",
      "nbconvert_exporter": "python",
      "pygments_lexer": "ipython3",
      "version": "3.12.3"
    },
    "author_name": "Amirhossein Heydari",
    "author_email": "AmirhosseinHeydari78@gmail.com",
    "author_github": "https://github.com/mr-pylin",
    "origin_repo": "https://github.com/mr-pylin/media-processing-workshop"
  },
  "nbformat": 4,
  "nbformat_minor": 2
}