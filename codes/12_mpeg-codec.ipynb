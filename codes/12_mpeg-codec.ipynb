{
  "cells": [
    {
      "cell_type": "markdown",
      "metadata": {},
      "source": [
        "# Dependencies"
      ]
    },
    {
      "cell_type": "code",
      "execution_count": 4,
      "metadata": {},
      "outputs": [],
      "source": [
        "from pathlib import Path\n",
        "\n",
        "import cv2\n",
        "import matplotlib.animation as animation\n",
        "import matplotlib.pyplot as plt\n",
        "import numpy as np\n",
        "\n",
        "# local dependencies\n",
        "from utils.mpeg import MPEG\n",
        "from utils.quality_assessment import mse"
      ]
    },
    {
      "cell_type": "code",
      "execution_count": 5,
      "metadata": {},
      "outputs": [],
      "source": [
        "output_path = Path('../output/videos')\n",
        "output_path.mkdir(parents=True, exist_ok=True)"
      ]
    },
    {
      "cell_type": "markdown",
      "metadata": {},
      "source": [
        "# Load a Video"
      ]
    },
    {
      "cell_type": "code",
      "execution_count": 6,
      "metadata": {},
      "outputs": [],
      "source": [
        "cap = cv2.VideoCapture(\"https://media.xiph.org/video/derf/y4m/suzie_qcif.y4m\")\n",
        "\n",
        "fps = round(cap.get(cv2.CAP_PROP_FPS))\n",
        "frames = []\n",
        "\n",
        "while (cap.isOpened()):\n",
        "    ret, frame = cap.read()\n",
        "\n",
        "    if ret == True:\n",
        "        frames.append(frame)\n",
        "    else:\n",
        "        break\n",
        "\n",
        "cap.release()"
      ]
    },
    {
      "cell_type": "code",
      "execution_count": 7,
      "metadata": {},
      "outputs": [
        {
          "name": "stdout",
          "output_type": "stream",
          "text": [
            "video.shape: (150, 144, 176, 3)\n",
            "video.dtype: uint8\n",
            "type(video): <class 'numpy.ndarray'>\n",
            "frame per second (fps): 30\n"
          ]
        }
      ],
      "source": [
        "# color space: BGR\n",
        "frames = np.array(frames)\n",
        "\n",
        "# log\n",
        "print(f\"video.shape: {frames.shape}\")\n",
        "print(f\"video.dtype: {frames.dtype}\")\n",
        "print(f\"type(video): {type(frames)}\")\n",
        "print(f\"frame per second (fps): {fps}\")"
      ]
    },
    {
      "cell_type": "markdown",
      "metadata": {},
      "source": [
        "# Moving Picture Experts Group (MPEG)"
      ]
    },
    {
      "cell_type": "code",
      "execution_count": 8,
      "metadata": {},
      "outputs": [],
      "source": [
        "# Encode pattern : IPPPP....\n",
        "i_frame = frames[0]\n",
        "p_frames = frames[1:]\n",
        "\n",
        "# compression rate\n",
        "scale_1 = 1\n",
        "scale_2 = 4\n",
        "scale_3 = 16\n",
        "\n",
        "mpeg_1 = MPEG(frames, scale=scale_1, search_area=4)\n",
        "mpeg_2 = MPEG(frames, scale=scale_2, search_area=4)\n",
        "mpeg_3 = MPEG(frames, scale=scale_3, search_area=4)"
      ]
    },
    {
      "cell_type": "markdown",
      "metadata": {},
      "source": [
        "### Encode I-frame\n",
        "   - Returns quantized 2D DCT Coefficients of the `i-frame` [YCrCb color space]\n",
        "   - `tuple[y_dct, cr_dct, cb_dct]`"
      ]
    },
    {
      "cell_type": "code",
      "execution_count": 9,
      "metadata": {},
      "outputs": [],
      "source": [
        "i_encoded_1 = mpeg_1.i_encode(frame=i_frame)\n",
        "i_encoded_2 = mpeg_2.i_encode(frame=i_frame)\n",
        "i_encoded_3 = mpeg_3.i_encode(frame=i_frame)"
      ]
    },
    {
      "cell_type": "markdown",
      "metadata": {},
      "source": [
        "### Encode P-frame\n",
        "   - Returns `Motion Vectors` & quantized 2D DCT Coefficients of the `Diffs` & `Residuals` for the whole frames\n",
        "   - `tuple[motion_vectors, tuple[diffs_y_dct, diffs_cr_dct, diffs_cb_dct], residuals]`"
      ]
    },
    {
      "cell_type": "code",
      "execution_count": 10,
      "metadata": {},
      "outputs": [],
      "source": [
        "mv_1, diff_encoded_1, residuals_1 = mpeg_1.encode(i=i_encoded_1)\n",
        "mv_2, diff_encoded_2, residuals_2 = mpeg_2.encode(i=i_encoded_2)\n",
        "mv_3, diff_encoded_3, residuals_3 = mpeg_3.encode(i=i_encoded_3)"
      ]
    },
    {
      "cell_type": "markdown",
      "metadata": {},
      "source": [
        "### Decode frames\n",
        "   - Returns `decoded video`"
      ]
    },
    {
      "cell_type": "code",
      "execution_count": 11,
      "metadata": {},
      "outputs": [],
      "source": [
        "# color space of the reconstructed videos: BGR\n",
        "reconstructed_video_1 = mpeg_1.decode(i=i_encoded_1, mv=mv_1, diff=diff_encoded_1)\n",
        "reconstructed_video_2 = mpeg_2.decode(i=i_encoded_2, mv=mv_2, diff=diff_encoded_2)\n",
        "reconstructed_video_3 = mpeg_3.decode(i=i_encoded_3, mv=mv_3, diff=diff_encoded_3)"
      ]
    },
    {
      "cell_type": "code",
      "execution_count": 12,
      "metadata": {},
      "outputs": [],
      "source": [
        "# plot\n",
        "pad = np.zeros(shape=(20, frames.shape[2], frames.shape[3]), dtype=np.uint8)\n",
        "\n",
        "for i in range(len(frames)):\n",
        "\n",
        "    original, reconstruct_1, reconstruct_2, reconstruct_3 = map(\n",
        "        np.copy,\n",
        "        (\n",
        "            np.vstack((pad, frames[i])),\n",
        "            np.vstack((pad, reconstructed_video_1[i])),\n",
        "            np.vstack((pad, reconstructed_video_2[i])),\n",
        "            np.vstack((pad, reconstructed_video_3[i]))\n",
        "        )\n",
        "    )\n",
        "\n",
        "    font = cv2.FONT_HERSHEY_SIMPLEX\n",
        "    cv2.putText(original, 'Original Video', (2, 15), font, .5, (255, 255, 255), 1, cv2.LINE_AA)\n",
        "    cv2.putText(reconstruct_1, f\"scale:{scale_1} , mse:{mse(original, reconstruct_1):.2f}\", (2, 15), font, .5, (255, 255, 255), 1, cv2.LINE_AA)\n",
        "    cv2.putText(reconstruct_2, f\"scale:{scale_2} , mse:{mse(original, reconstruct_2):.2f}\", (2, 15), font, .5, (255, 255, 255), 1, cv2.LINE_AA)\n",
        "    cv2.putText(reconstruct_3, f\"scale:{scale_3} , mse:{mse(original, reconstruct_3):.2f}\", (2, 15), font, .5, (255, 255, 255), 1, cv2.LINE_AA)\n",
        "\n",
        "    concatenated_frame = np.concatenate((original, reconstruct_1, reconstruct_2, reconstruct_3), axis=1)\n",
        "\n",
        "    cv2.imshow('Suzie Video', concatenated_frame)\n",
        "    cv2.waitKey(int(1000 / fps))\n",
        "\n",
        "cv2.destroyAllWindows()"
      ]
    },
    {
      "cell_type": "markdown",
      "metadata": {},
      "source": [
        "## More details on reconstructed_video_1"
      ]
    },
    {
      "cell_type": "markdown",
      "metadata": {},
      "source": [
        "### Reconstructed I-frame"
      ]
    },
    {
      "cell_type": "code",
      "execution_count": null,
      "metadata": {},
      "outputs": [],
      "source": [
        "nrows = 1\n",
        "ncols = 2\n",
        "\n",
        "fig, axs = plt.subplots(nrows=nrows, ncols=ncols, figsize=(ncols * 4, nrows * 4), layout='compressed')\n",
        "fig.suptitle('I-frame')\n",
        "\n",
        "axs[0].imshow(cv2.cvtColor(frames[0], cv2.COLOR_BGR2RGB), cmap='gray')\n",
        "axs[0].set_title(f\"original i-frame\")\n",
        "axs[0].axis('off')\n",
        "\n",
        "axs[1].imshow(cv2.cvtColor(reconstructed_video_1[0], cv2.COLOR_BGR2RGB), cmap='gray')\n",
        "axs[1].set_title(f\"reconstructed i-frame\")\n",
        "axs[1].axis('off')\n",
        "\n",
        "plt.show()"
      ]
    },
    {
      "cell_type": "markdown",
      "metadata": {},
      "source": [
        "### Residuals from frame 10 to 15"
      ]
    },
    {
      "cell_type": "code",
      "execution_count": null,
      "metadata": {},
      "outputs": [],
      "source": [
        "nrows = 2\n",
        "ncols = 3\n",
        "start_frame = 9\n",
        "\n",
        "fig, axs = plt.subplots(nrows=nrows, ncols=ncols, figsize=(ncols * 4, nrows * 4), layout='compressed')\n",
        "fig.suptitle('Residuals')\n",
        "\n",
        "for i in range(2):\n",
        "    for j in range(3):\n",
        "        axs[i, j].imshow(residuals_1[start_frame + i * ncols + j], cmap='gray')\n",
        "        axs[i, j].set_title(f\"frame {start_frame + i * ncols + j + 1}\")\n",
        "        axs[i, j].axis('off')\n",
        "\n",
        "plt.show()"
      ]
    },
    {
      "cell_type": "markdown",
      "metadata": {},
      "source": [
        "### Enhance residuals"
      ]
    },
    {
      "cell_type": "code",
      "execution_count": 15,
      "metadata": {},
      "outputs": [],
      "source": [
        "video_fps = 30\n",
        "num_neighbours = video_fps / 10\n",
        "enhanced_residuals = np.abs(residuals_1)\n",
        "\n",
        "for i in range(len(enhanced_residuals)):\n",
        "    lower_bound = int(i - num_neighbours) if (i - num_neighbours) >= 0 else 0\n",
        "    upper_bound = int(i + num_neighbours + 1)\n",
        "    enhanced_residuals[i] = np.mean(enhanced_residuals[lower_bound: upper_bound], axis=0)\n",
        "\n",
        "enhanced_residuals = (enhanced_residuals - enhanced_residuals.min()) / (enhanced_residuals.max() - enhanced_residuals.min())\n",
        "enhanced_residuals[enhanced_residuals < .1] = 0\n",
        "enhanced_residuals **= .8"
      ]
    },
    {
      "cell_type": "code",
      "execution_count": null,
      "metadata": {},
      "outputs": [],
      "source": [
        "nrows = 2\n",
        "ncols = 6\n",
        "start_frame = 9\n",
        "\n",
        "fig, axs = plt.subplots(nrows=nrows, ncols=ncols, figsize=(ncols * 3, nrows * 3), layout='compressed')\n",
        "fig.suptitle('Enhancing Residuals')\n",
        "\n",
        "for i in range(ncols):\n",
        "    axs[0, i].imshow(residuals_1[start_frame + i], cmap='gray')\n",
        "    axs[0, i].set_title(f\"frame {start_frame + i + 1}\")\n",
        "    axs[1, i].imshow(enhanced_residuals[start_frame + i], cmap='gray')\n",
        "    axs[1, i].set_title(f\"frame {start_frame + i + 1}\")\n",
        "\n",
        "for ax in fig.axes:\n",
        "    ax.axis('off')\n",
        "\n",
        "plt.show()"
      ]
    },
    {
      "cell_type": "markdown",
      "metadata": {},
      "source": [
        "### Motion Vectors from frame 10 to 15\n",
        "   - motion vector: the direction of motion from the `Reference` frame to the `Current` frame\n",
        "   - In array language, if we have motion: [1, 2], in x-y axis we shall plot [2, 1]\n",
        "   - y_axis should be inverted also [array indexing form]\n",
        "   - the scale of quiver function should be the size of the macroblock but for better visualization, the scale is 1"
      ]
    },
    {
      "cell_type": "code",
      "execution_count": null,
      "metadata": {},
      "outputs": [],
      "source": [
        "nrows = 2\n",
        "ncols = 3\n",
        "start_frame = 9\n",
        "\n",
        "fig, axs = plt.subplots(nrows=nrows, ncols=ncols, figsize=(ncols * 4, nrows * 4), layout='compressed')\n",
        "fig.suptitle('Motion Vectors')\n",
        "\n",
        "height, width = mv_1.shape[1:3]\n",
        "\n",
        "# create a grid of x, y coordinates\n",
        "x, y = np.meshgrid(range(width), range(height))\n",
        "\n",
        "for i in range(nrows):\n",
        "    for j in range(ncols):\n",
        "\n",
        "        # plot arrows\n",
        "        axs[i, j].quiver(x, y, mv_1[start_frame + i * ncols + j, :, :, 1], mv_1[start_frame + i * ncols + j, :, :, 0], angles='xy', scale_units='xy', scale=1, color='k')\n",
        "        axs[i, j].set_title(f\"frame {start_frame + i * ncols + j + 1}\")\n",
        "\n",
        "        # invert the y axis\n",
        "        axs[i, j].invert_yaxis()\n",
        "\n",
        "plt.show()"
      ]
    },
    {
      "cell_type": "markdown",
      "metadata": {},
      "source": [
        "### Save the reconstructed frames as a video file"
      ]
    },
    {
      "cell_type": "code",
      "execution_count": null,
      "metadata": {},
      "outputs": [],
      "source": [
        "fig, axs = plt.subplots(nrows=1, ncols=2, figsize=(8, 4), layout='compressed')\n",
        "\n",
        "# updates the figure frame by frame\n",
        "\n",
        "\n",
        "def update(i):\n",
        "\n",
        "    # clear the current frame\n",
        "    for ax in axs:\n",
        "        ax.cla()\n",
        "\n",
        "    axs[0].imshow(cv2.cvtColor(frames[i], cv2.COLOR_BGR2RGB))\n",
        "    axs[0].set_title('Original frame')\n",
        "    axs[0].axis('off')\n",
        "\n",
        "    axs[1].imshow(cv2.cvtColor(reconstructed_video_1[i], cv2.COLOR_BGR2RGB))\n",
        "    axs[1].set_title('Reconstructed frame')\n",
        "    axs[1].axis('off')\n",
        "\n",
        "\n",
        "# create an animation\n",
        "ani = animation.FuncAnimation(fig, update, frames=len(frames))\n",
        "\n",
        "# save the animation as a video file\n",
        "ani.save(filename=f\"{output_path}/output1.mp4\", writer='ffmpeg', fps=fps)"
      ]
    },
    {
      "cell_type": "code",
      "execution_count": null,
      "metadata": {},
      "outputs": [],
      "source": [
        "fig = plt.figure(figsize=(reconstructed_video_1.shape[2] / 100, reconstructed_video_1.shape[1] / 100))\n",
        "ax = fig.add_axes([0, 0, 1, 1])\n",
        "\n",
        "\n",
        "def update(i):\n",
        "    ax.cla()\n",
        "    ax.imshow(cv2.cvtColor(reconstructed_video_1[i], cv2.COLOR_BGR2RGB))\n",
        "    ax.axis('off')\n",
        "\n",
        "\n",
        "ani = animation.FuncAnimation(fig, update, frames=len(frames))\n",
        "ani.save(filename=f\"{output_path}/output2.mp4\", writer='ffmpeg', fps=fps)"
      ]
    }
  ],
  "metadata": {
    "kernelspec": {
      "display_name": "Python 3",
      "language": "python",
      "name": "python3"
    },
    "language_info": {
      "codemirror_mode": {
        "name": "ipython",
        "version": 3
      },
      "file_extension": ".py",
      "mimetype": "text/x-python",
      "name": "python",
      "nbconvert_exporter": "python",
      "pygments_lexer": "ipython3",
      "version": "3.12.3"
    },
    "author_name": "Amirhossein Heydari",
    "author_email": "AmirhosseinHeydari78@gmail.com",
    "author_github": "https://github.com/mr-pylin",
    "origin_repo": "https://github.com/mr-pylin/media-processing-workshop"
  },
  "nbformat": 4,
  "nbformat_minor": 2
}