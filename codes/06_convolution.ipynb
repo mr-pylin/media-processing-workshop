{
  "cells": [
    {
      "cell_type": "markdown",
      "metadata": {},
      "source": [
        "# Dependencies"
      ]
    },
    {
      "cell_type": "code",
      "execution_count": 1,
      "metadata": {},
      "outputs": [],
      "source": [
        "import matplotlib.pyplot as plt\n",
        "import numpy as np\n",
        "import scipy as sp\n",
        "\n",
        "# local dependencies\n",
        "from utils.filters import gaussian as gaussian_filter\n",
        "from utils.convolution import convolve_1d, convolve_2d"
      ]
    },
    {
      "cell_type": "markdown",
      "metadata": {},
      "source": [
        "# Load Images"
      ]
    },
    {
      "cell_type": "code",
      "execution_count": null,
      "metadata": {},
      "outputs": [],
      "source": [
        "einstein = plt.imread('../assets/images/dip_3rd/CH03_Fig0354(a)(einstein_orig).tif')\n",
        "aerial = plt.imread('../assets/images/dip_3rd/CH03_Fig0309(a)(washed_out_aerial_image).tif')\n",
        "lenna = plt.imread('../assets/images/dip_3rd/CH06_Fig0638(a)(lenna_RGB).tif')\n",
        "cm = plt.imread('../assets/images/dip_3rd/CH02_Fig0222(b)(cameraman).tif')\n",
        "\n",
        "# plot\n",
        "fig, axs = plt.subplots(nrows=1, ncols=4, figsize=(16, 4), layout='constrained')\n",
        "\n",
        "axs[0].imshow(einstein, vmin=0, vmax=255, cmap='gray')\n",
        "axs[0].set_title('Einstein')\n",
        "axs[1].imshow(aerial, vmin=0, vmax=255, cmap='gray')\n",
        "axs[1].set_title('Aerial')\n",
        "axs[2].imshow(lenna, vmin=0, vmax=255)\n",
        "axs[2].set_title('Lenna')\n",
        "axs[3].imshow(cm, vmin=0, vmax=255, cmap='gray')\n",
        "axs[3].set_title('Lenna')\n",
        "\n",
        "for ax in fig.axes:\n",
        "    ax.set_xticks([])\n",
        "    ax.set_yticks([])\n",
        "\n",
        "plt.show()"
      ]
    },
    {
      "cell_type": "markdown",
      "metadata": {},
      "source": [
        "# Image Enhancement\n",
        "Image enhancement is the procedure of improving the quality for a specific purpose!\n",
        "\n",
        "   - Spatial Domain\n",
        "      - Intensity Transformation\n",
        "      - Histogram Processing\n",
        "      - Spatial FIltering (Convolution)\n",
        "   - Fraquency Domain\n",
        "      - Fourier Transform\n",
        "      - Cosine Transform"
      ]
    },
    {
      "cell_type": "markdown",
      "metadata": {},
      "source": [
        "## Spatial Filtering (Convolution)"
      ]
    },
    {
      "cell_type": "markdown",
      "metadata": {},
      "source": [
        "### 1D Convolution"
      ]
    },
    {
      "cell_type": "code",
      "execution_count": null,
      "metadata": {},
      "outputs": [],
      "source": [
        "# signal\n",
        "signal_length = 100\n",
        "signal = np.zeros(shape=(signal_length,))\n",
        "signal[:signal_length // 2] = 1\n",
        "\n",
        "# filter\n",
        "filter_length = 50\n",
        "filter = np.zeros(shape=(filter_length,))\n",
        "filter[:filter_length // 2] = 1\n",
        "\n",
        "# convolotion using manually written code in ./utilities/convolution.py module\n",
        "convolution_1 = convolve_1d(signal, filter)\n",
        "\n",
        "# convolotion using np.convolve\n",
        "convolution_2 = np.convolve(signal, filter, mode='full')\n",
        "\n",
        "# plot\n",
        "fig, axs = plt.subplots(nrows=1, ncols=4, figsize=(16, 4), layout='compressed')\n",
        "fig.suptitle(\"1-dimensional Convolution\")\n",
        "\n",
        "axs[0].plot(signal)\n",
        "axs[0].set_title('Signal')\n",
        "axs[1].plot(filter)\n",
        "axs[1].set_title('Filter')\n",
        "axs[2].plot(convolution_1)\n",
        "axs[2].set_title('Manual convolution')\n",
        "axs[3].plot(convolution_2)\n",
        "axs[3].set_title('NumPy convolution')\n",
        "\n",
        "plt.show()"
      ]
    },
    {
      "cell_type": "code",
      "execution_count": null,
      "metadata": {},
      "outputs": [],
      "source": [
        "# convolve(image, filter) == convolve(filter, image)\n",
        "convolution_3 = convolve_1d(filter, signal)\n",
        "\n",
        "# plot\n",
        "fig, axs = plt.subplots(nrows=1, ncols=2, figsize=(10, 4), layout='compressed')\n",
        "fig.suptitle(\"convolve(image, filter) == convolve(filter, image)\")\n",
        "\n",
        "axs[0].plot(convolution_1)\n",
        "axs[0].set_title('convolve(signal, filter)')\n",
        "axs[1].plot(convolution_3)\n",
        "axs[1].set_title('convolve(filter, signal)')\n",
        "\n",
        "plt.show()"
      ]
    },
    {
      "cell_type": "markdown",
      "metadata": {},
      "source": [
        "### 2D Convolution"
      ]
    },
    {
      "cell_type": "code",
      "execution_count": null,
      "metadata": {},
      "outputs": [],
      "source": [
        "# create a gaussian noise\n",
        "gaussian_noise = np.random.normal(loc=0, scale=15, size=cm.shape)\n",
        "\n",
        "# add noise to the image\n",
        "noisy_cm = np.clip(cm + gaussian_noise, 0, 255).astype(np.uint8)\n",
        "\n",
        "# plot\n",
        "fig, axs = plt.subplots(nrows=1, ncols=3, figsize=(12, 4), layout='compressed')\n",
        "fig.suptitle(\"2-dimensional Convolution\")\n",
        "\n",
        "axs[0].imshow(cm, cmap='gray')\n",
        "axs[0].set_title('Original image')\n",
        "axs[0].axis('off')\n",
        "axs[1].imshow(gaussian_noise, cmap='gray')\n",
        "axs[1].set_title('Gaussian noise')\n",
        "axs[1].axis('off')\n",
        "axs[2].imshow(noisy_cm, cmap='gray')\n",
        "axs[2].set_title('Noisy image')\n",
        "axs[2].axis('off')\n",
        "\n",
        "plt.show()"
      ]
    },
    {
      "cell_type": "code",
      "execution_count": 8,
      "metadata": {},
      "outputs": [],
      "source": [
        "# 5x5 ideal smoothing filter (averaging filter)\n",
        "length = 5\n",
        "avg_filter = np.full(shape=(length, length), fill_value=1 / length ** 2)\n",
        "\n",
        "# convolotion using manually written code in ./utilities/convolution.py module\n",
        "denoised_cm_1 = convolve_2d(noisy_cm, avg_filter, mode='same', boundary='fill', fill_value=0)\n",
        "\n",
        "# convolotion using sp.signal.convolve2d\n",
        "denoised_cm_2 = sp.signal.convolve2d(noisy_cm, avg_filter, mode='same', boundary='fill', fillvalue=0)"
      ]
    },
    {
      "cell_type": "code",
      "execution_count": null,
      "metadata": {},
      "outputs": [],
      "source": [
        "# plot\n",
        "fig, axs = plt.subplots(nrows=1, ncols=3, figsize=(12, 4), layout='compressed')\n",
        "fig.suptitle(\"Denoising with gaussian filter\")\n",
        "\n",
        "axs[0].imshow(noisy_cm, cmap='gray')\n",
        "axs[0].set_title('noisy_cm')\n",
        "axs[0].axis('off')\n",
        "axs[1].imshow(denoised_cm_1, cmap='gray')\n",
        "axs[1].set_title('denoised_cm_1')\n",
        "axs[1].axis('off')\n",
        "axs[2].imshow(denoised_cm_2, cmap='gray')\n",
        "axs[2].set_title('denoised_cm_2')\n",
        "axs[2].axis('off')\n",
        "\n",
        "plt.show()"
      ]
    },
    {
      "cell_type": "code",
      "execution_count": null,
      "metadata": {},
      "outputs": [],
      "source": [
        "# using scipy package\n",
        "filter_3x3 = np.full(shape=(3, 3), fill_value=1 / 3 ** 2)\n",
        "filter_5x5 = np.full(shape=(5, 5), fill_value=1 / 5 ** 2)\n",
        "filter_13x13 = np.full(shape=(13, 13), fill_value=1 / 13 ** 2)\n",
        "\n",
        "convolve_2d_3x3 = sp.signal.convolve2d(noisy_cm, filter_3x3, mode='same', boundary='fill', fillvalue=0)\n",
        "convolve_2d_5x5 = sp.signal.convolve2d(noisy_cm, filter_5x5, mode='same', boundary='fill', fillvalue=0)\n",
        "convolve_2d_13x13 = sp.signal.convolve2d(noisy_cm, filter_13x13, mode='same', boundary='fill', fillvalue=0)\n",
        "\n",
        "# plot\n",
        "fig, axs = plt.subplots(nrows=1, ncols=3, figsize=(12, 4), layout='compressed')\n",
        "fig.suptitle(\"Denoising with gaussian filter\")\n",
        "\n",
        "axs[0].imshow(convolve_2d_3x3, cmap='gray')\n",
        "axs[0].set_title('3x3 kernel')\n",
        "axs[0].axis('off')\n",
        "axs[1].imshow(convolve_2d_5x5, cmap='gray')\n",
        "axs[1].set_title('5x5 kernel')\n",
        "axs[1].axis('off')\n",
        "axs[2].imshow(convolve_2d_13x13, cmap='gray')\n",
        "axs[2].set_title('13x13 kernel')\n",
        "axs[2].axis('off')\n",
        "\n",
        "plt.show()"
      ]
    },
    {
      "cell_type": "code",
      "execution_count": null,
      "metadata": {},
      "outputs": [],
      "source": [
        "# different boundries\n",
        "filter_9x9 = np.full(shape=(9, 9), fill_value=1 / 9 ** 2)\n",
        "\n",
        "convolve_2d_9x9_1 = sp.signal.convolve2d(noisy_cm, filter_9x9, mode='same', boundary='fill')\n",
        "convolve_2d_9x9_2 = sp.signal.convolve2d(noisy_cm, filter_9x9, mode='same', boundary='circular')\n",
        "convolve_2d_9x9_3 = sp.signal.convolve2d(noisy_cm, filter_9x9, mode='same', boundary='symmetric')\n",
        "\n",
        "# plot\n",
        "fig, axs = plt.subplots(nrows=1, ncols=3, figsize=(12, 4), layout='compressed')\n",
        "fig.suptitle(\"Convolution with different boundary\")\n",
        "\n",
        "axs[0].imshow(convolve_2d_9x9_1, cmap='gray')\n",
        "axs[0].set_title(\"9x9: zero padding\")\n",
        "axs[0].axis('off')\n",
        "axs[1].imshow(convolve_2d_9x9_2, cmap='gray')\n",
        "axs[1].set_title(\"9x9: circular padding\")\n",
        "axs[1].axis('off')\n",
        "axs[2].imshow(convolve_2d_9x9_3, cmap='gray')\n",
        "axs[2].set_title(\"9x9: symmetrical padding\")\n",
        "axs[2].axis('off')\n",
        "\n",
        "plt.show()"
      ]
    },
    {
      "cell_type": "markdown",
      "metadata": {},
      "source": [
        "#### Convolution on RGB image"
      ]
    },
    {
      "cell_type": "code",
      "execution_count": null,
      "metadata": {},
      "outputs": [],
      "source": [
        "# create a gaussian noise\n",
        "gaussian_noise_2 = np.random.normal(loc=0, scale=20, size=lenna.shape)\n",
        "\n",
        "# add noise to the image\n",
        "noisy_lenna = (lenna + gaussian_noise_2).clip(0, 255).astype(np.uint8)\n",
        "\n",
        "# plot\n",
        "fig, axs = plt.subplots(nrows=1, ncols=3, figsize=(16, 6), layout='compressed')\n",
        "fig.suptitle(\"Add noise to RGB image\")\n",
        "\n",
        "axs[0].imshow(lenna)\n",
        "axs[0].set_title('Original image')\n",
        "axs[0].axis('off')\n",
        "axs[1].imshow(((gaussian_noise_2 - gaussian_noise_2.min()) / (gaussian_noise_2.max() - gaussian_noise_2.min())))\n",
        "axs[1].set_title('Gaussian noise')\n",
        "axs[1].axis('off')\n",
        "axs[2].imshow(noisy_lenna)\n",
        "axs[2].set_title('Noisy image')\n",
        "axs[2].axis('off')\n",
        "\n",
        "plt.show()"
      ]
    },
    {
      "cell_type": "code",
      "execution_count": null,
      "metadata": {},
      "outputs": [],
      "source": [
        "# 5x5 Gaussian filter\n",
        "sigma = 2  # standard deviation (std)\n",
        "kernel_size = (5, 5)\n",
        "g_filter = gaussian_filter(kernel_size, sigma, norm=True)\n",
        "\n",
        "# convolution\n",
        "denoised_lenna_2 = np.zeros_like(noisy_lenna)\n",
        "\n",
        "for i in range(lenna.shape[2]):\n",
        "    denoised_lenna_2[:, :, i] = sp.signal.convolve2d(noisy_lenna[:, :, i], g_filter, mode='same', boundary='symmetric')\n",
        "\n",
        "# plot\n",
        "fig, axs = plt.subplots(nrows=1, ncols=3, figsize=(16, 6), layout='compressed')\n",
        "fig.suptitle(\"Denoising with gaussian filter\")\n",
        "\n",
        "axs[0].imshow(lenna)\n",
        "axs[0].set_title('Original image')\n",
        "axs[0].axis('off')\n",
        "axs[1].imshow(noisy_lenna)\n",
        "axs[1].set_title('Noisy image')\n",
        "axs[1].axis('off')\n",
        "axs[2].imshow(denoised_lenna_2)\n",
        "axs[2].set_title('Denoised image')\n",
        "axs[2].axis('off')\n",
        "\n",
        "plt.show()"
      ]
    }
  ],
  "metadata": {
    "kernelspec": {
      "display_name": "Python 3",
      "language": "python",
      "name": "python3"
    },
    "language_info": {
      "codemirror_mode": {
        "name": "ipython",
        "version": 3
      },
      "file_extension": ".py",
      "mimetype": "text/x-python",
      "name": "python",
      "nbconvert_exporter": "python",
      "pygments_lexer": "ipython3",
      "version": "3.12.3"
    },
    "author_name": "Amirhossein Heydari",
    "author_email": "AmirhosseinHeydari78@gmail.com",
    "author_github": "https://github.com/mr-pylin",
    "origin_repo": "https://github.com/mr-pylin/media-processing-workshop"
  },
  "nbformat": 4,
  "nbformat_minor": 2
}