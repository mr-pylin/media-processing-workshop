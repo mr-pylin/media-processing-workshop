{
  "cells": [
    {
      "cell_type": "markdown",
      "metadata": {},
      "source": [
        "# Dependencies"
      ]
    },
    {
      "cell_type": "code",
      "execution_count": 3,
      "metadata": {},
      "outputs": [],
      "source": [
        "import matplotlib.pyplot as plt\n",
        "import numpy as np"
      ]
    },
    {
      "cell_type": "markdown",
      "metadata": {},
      "source": [
        "# Load Images"
      ]
    },
    {
      "cell_type": "code",
      "execution_count": null,
      "metadata": {},
      "outputs": [],
      "source": [
        "einstein = plt.imread('../assets/images/dip_3rd/CH03_Fig0354(a)(einstein_orig).tif')\n",
        "aerial = plt.imread('../assets/images/dip_3rd/CH03_Fig0309(a)(washed_out_aerial_image).tif')\n",
        "lenna = plt.imread('../assets/images/dip_3rd/CH06_Fig0638(a)(lenna_RGB).tif')\n",
        "\n",
        "# plot\n",
        "fig, axs = plt.subplots(nrows=1, ncols=3, figsize=(12, 4), layout='constrained')\n",
        "\n",
        "axs[0].imshow(einstein, vmin=0, vmax=255, cmap='gray')\n",
        "axs[0].set_title('Einstein')\n",
        "axs[1].imshow(aerial, vmin=0, vmax=255, cmap='gray')\n",
        "axs[1].set_title('City')\n",
        "axs[2].imshow(lenna, vmin=0, vmax=255)\n",
        "axs[2].set_title('Lenna')\n",
        "\n",
        "for ax in fig.axes:\n",
        "    ax.set_xticks([])\n",
        "    ax.set_yticks([])\n",
        "\n",
        "plt.show()"
      ]
    },
    {
      "cell_type": "markdown",
      "metadata": {},
      "source": [
        "# Image Enhancement\n",
        "Image enhancement is the procedure of improving the quality for a specific purpose!\n",
        "\n",
        "   - Spatial Domain\n",
        "      - Intensity Transformation\n",
        "      - Histogram Processing\n",
        "      - Spatial FIltering (Convolution)\n",
        "   - Fraquency Domain\n",
        "      - Fourier Transform\n",
        "      - Cosine Transform"
      ]
    },
    {
      "cell_type": "markdown",
      "metadata": {},
      "source": [
        "## Spatial Domain"
      ]
    },
    {
      "cell_type": "markdown",
      "metadata": {},
      "source": [
        "### Intensity Transformation\n",
        "   - Negative\n",
        "   - Logarithm\n",
        "   - Power-Law (Gamma correction)\n",
        "   - Piecewise-Linear"
      ]
    },
    {
      "cell_type": "markdown",
      "metadata": {},
      "source": [
        "#### 1. Negative Transform"
      ]
    },
    {
      "cell_type": "code",
      "execution_count": null,
      "metadata": {},
      "outputs": [],
      "source": [
        "einstein_bpp = np.iinfo(einstein.dtype).bits\n",
        "aerial_bpp = np.iinfo(aerial.dtype).bits\n",
        "lenna_bpp = np.iinfo(lenna.dtype).bits\n",
        "\n",
        "einstein_negative = (2 ** einstein_bpp - 1) - einstein\n",
        "aerial_negative = (2 ** aerial_bpp - 1) - aerial\n",
        "lenna_negative = (2 ** lenna_bpp - 1) - lenna\n",
        "\n",
        "# plot\n",
        "fig, axs = plt.subplots(nrows=2, ncols=3, figsize=(8, 6), layout='constrained')\n",
        "fig.suptitle('Negative')\n",
        "\n",
        "axs[0, 0].imshow(einstein, vmin=0, vmax=255, cmap='gray')\n",
        "axs[0, 0].set_title('Original')\n",
        "axs[0, 1].imshow(aerial, vmin=0, vmax=255, cmap='gray')\n",
        "axs[0, 1].set_title('Original')\n",
        "axs[0, 2].imshow(lenna, vmin=0, vmax=255)\n",
        "axs[0, 2].set_title('Original')\n",
        "axs[1, 0].imshow(einstein_negative, vmin=0, vmax=255, cmap='gray')\n",
        "axs[1, 0].set_title('Negative')\n",
        "axs[1, 1].imshow(aerial_negative, vmin=0, vmax=255, cmap='gray')\n",
        "axs[1, 1].set_title('Negative')\n",
        "axs[1, 2].imshow(lenna_negative, vmin=0, vmax=255)\n",
        "axs[1, 2].set_title('Negative')\n",
        "\n",
        "for ax in fig.axes:\n",
        "    ax.set_xticks([])\n",
        "    ax.set_yticks([])\n",
        "\n",
        "plt.show()"
      ]
    },
    {
      "cell_type": "markdown",
      "metadata": {},
      "source": [
        "#### 2. Logarithm Transform\n",
        "It is used to lower the dynamic range. In some cases, especially when working in frequency domain we need to lower the range to be able to see the magnitude spectrum."
      ]
    },
    {
      "cell_type": "code",
      "execution_count": null,
      "metadata": {},
      "outputs": [],
      "source": [
        "einstein_log = 20 * np.log(einstein.astype(np.float64) + 1).astype(np.uint8)\n",
        "aerial_log = 20 * np.log(aerial.astype(np.float64) + 1).astype(np.uint8)\n",
        "lenna_log = 20 * np.log(lenna.astype(np.float64) + 1).astype(np.uint8)\n",
        "\n",
        "# plot\n",
        "fig, axs = plt.subplots(nrows=2, ncols=3, figsize=(8, 6), layout='constrained')\n",
        "fig.suptitle('Logarithm Transform')\n",
        "\n",
        "axs[0, 0].imshow(einstein, vmin=0, vmax=255, cmap='gray')\n",
        "axs[0, 0].set_title('Original')\n",
        "axs[0, 1].imshow(aerial, vmin=0, vmax=255, cmap='gray')\n",
        "axs[0, 1].set_title('Original')\n",
        "axs[0, 2].imshow(lenna, vmin=0, vmax=255)\n",
        "axs[0, 2].set_title('Original')\n",
        "axs[1, 0].imshow(einstein_log, vmin=0, vmax=255, cmap='gray')\n",
        "axs[1, 0].set_title('Logarithm')\n",
        "axs[1, 1].imshow(aerial_log, vmin=0, vmax=255, cmap='gray')\n",
        "axs[1, 1].set_title('Logarithm')\n",
        "axs[1, 2].imshow(lenna_log, vmin=0, vmax=255)\n",
        "axs[1, 2].set_title('Logarithm')\n",
        "\n",
        "for ax in fig.axes:\n",
        "    ax.set_xticks([])\n",
        "    ax.set_yticks([])\n",
        "\n",
        "plt.show()"
      ]
    },
    {
      "cell_type": "markdown",
      "metadata": {},
      "source": [
        "#### 3. Power-Law Transform\n",
        "   - 0 < power < 1\n",
        "      - Increase dynamic range of dark areas and decrease dynamic range of light areas\n",
        "      - We get High contrast in the dark areas\n",
        "      - Details in the light areas will be decreased\n",
        "   - power > 1\n",
        "      - Decrease dynamic range of dark areas and Increase dynamic range of light areas\n",
        "      - We get High contrast in the light areas\n",
        "      - Details in the dark areas will be decreased\n",
        "   - power = 1 : Original Image"
      ]
    },
    {
      "cell_type": "code",
      "execution_count": 7,
      "metadata": {},
      "outputs": [],
      "source": [
        "# normalize images to range [0, 1]\n",
        "einstein_norm = einstein / np.max(einstein)\n",
        "aerial_norm = aerial / np.max(aerial)\n",
        "lenna_norm = lenna / np.max(lenna)"
      ]
    },
    {
      "cell_type": "code",
      "execution_count": 8,
      "metadata": {},
      "outputs": [],
      "source": [
        "# Power-Law\n",
        "einstein_power_1 = einstein_norm ** 0.5\n",
        "einstein_power_2 = einstein_norm ** 2\n",
        "\n",
        "aerial_power_1 = aerial_norm ** .5\n",
        "aerial_power_2 = aerial_norm ** 3\n",
        "\n",
        "lenna_power_1 = lenna_norm ** .5\n",
        "lenna_power_2 = lenna_norm ** 2"
      ]
    },
    {
      "cell_type": "code",
      "execution_count": 9,
      "metadata": {},
      "outputs": [],
      "source": [
        "# denormalize images to range [0, 255]\n",
        "einstein_power_1 = (einstein_power_1 * 255).astype(np.uint8)\n",
        "einstein_power_2 = (einstein_power_2 * 255).astype(np.uint8)\n",
        "aerial_power_1 = (aerial_power_1 * 255).astype(np.uint8)\n",
        "aerial_power_2 = (aerial_power_2 * 255).astype(np.uint8)\n",
        "lenna_power_1 = (lenna_power_1 * 255).astype(np.uint8)\n",
        "lenna_power_2 = (lenna_power_2 * 255).astype(np.uint8)"
      ]
    },
    {
      "cell_type": "code",
      "execution_count": null,
      "metadata": {},
      "outputs": [],
      "source": [
        "# plot\n",
        "fig, axs = plt.subplots(nrows=3, ncols=3, figsize=(10, 10), layout='constrained')\n",
        "fig.suptitle('Power-Law Transform')\n",
        "\n",
        "axs[0, 0].imshow(einstein, vmin=0, vmax=255, cmap='gray')\n",
        "axs[0, 0].set_title('Original')\n",
        "axs[0, 1].imshow(einstein_power_1, vmin=0, vmax=255, cmap='gray')\n",
        "axs[0, 1].set_title('p=0.5')\n",
        "axs[0, 2].imshow(einstein_power_2, vmin=0, vmax=255, cmap='gray')\n",
        "axs[0, 2].set_title('p=2')\n",
        "axs[1, 0].imshow(aerial, vmin=0, vmax=255, cmap='gray')\n",
        "axs[1, 0].set_title('Original')\n",
        "axs[1, 1].imshow(aerial_power_1, vmin=0, vmax=255, cmap='gray')\n",
        "axs[1, 1].set_title('p=0.5')\n",
        "axs[1, 2].imshow(aerial_power_2, vmin=0, vmax=255, cmap='gray')\n",
        "axs[1, 2].set_title('p=3')\n",
        "axs[2, 0].imshow(lenna, vmin=0, vmax=255)\n",
        "axs[2, 0].set_title('Original')\n",
        "axs[2, 1].imshow(lenna_power_1, vmin=0, vmax=255)\n",
        "axs[2, 1].set_title('p=0.5')\n",
        "axs[2, 2].imshow(lenna_power_2, vmin=0, vmax=255)\n",
        "axs[2, 2].set_title('p=2')\n",
        "\n",
        "for ax in fig.axes:\n",
        "    ax.set_xticks([])\n",
        "    ax.set_yticks([])\n",
        "\n",
        "plt.show()"
      ]
    },
    {
      "cell_type": "markdown",
      "metadata": {},
      "source": [
        "#### 4. Piecewise-Linear Transform"
      ]
    },
    {
      "cell_type": "code",
      "execution_count": 11,
      "metadata": {},
      "outputs": [],
      "source": [
        "# image binarization (quantization)\n",
        "einstein_bin = einstein.copy()\n",
        "einstein_bin[einstein < 140] = 0\n",
        "einstein_bin[einstein >= 140] = 255"
      ]
    },
    {
      "cell_type": "code",
      "execution_count": 12,
      "metadata": {},
      "outputs": [],
      "source": [
        "# contrast stretching\n",
        "einstein_stretch = einstein.copy()\n",
        "einstein_stretch[einstein < 50] = 0\n",
        "einstein_stretch[einstein > 200] = 255\n",
        "\n",
        "roi = np.bitwise_and(einstein_stretch >= 50, einstein_stretch <= 200)\n",
        "roi_min = np.min(einstein_stretch[roi])\n",
        "roi_max = np.max(einstein_stretch[roi])\n",
        "\n",
        "einstein_stretch[roi] = ((einstein_stretch[roi] - roi_min) / (roi_max - roi_min)) * 255"
      ]
    },
    {
      "cell_type": "code",
      "execution_count": 13,
      "metadata": {},
      "outputs": [],
      "source": [
        "# advanced power-law\n",
        "einstein_pow = einstein.copy()\n",
        "einstein_pow = (einstein_pow - einstein_pow.min()) / (einstein_pow.max() - einstein_pow.min())\n",
        "\n",
        "arr_ct_4_copy = einstein_pow.copy()\n",
        "einstein_pow[arr_ct_4_copy < .5] = einstein_pow[arr_ct_4_copy < .5] ** 1.5\n",
        "einstein_pow[arr_ct_4_copy >= .5] = einstein_pow[arr_ct_4_copy >= .5] ** .5\n",
        "\n",
        "# Denormalize to the range (0, 255)\n",
        "einstein_pow = (einstein_pow * 255).astype(np.uint8)"
      ]
    },
    {
      "cell_type": "code",
      "execution_count": null,
      "metadata": {},
      "outputs": [],
      "source": [
        "# plot\n",
        "fig, axs = plt.subplots(nrows=1, ncols=4, figsize=(12, 5), layout='constrained')\n",
        "fig.suptitle(\"Piecewise-Linear Transform\")\n",
        "\n",
        "axs[0].imshow(einstein, vmin=0, vmax=255, cmap='gray')\n",
        "axs[0].set_title('Original')\n",
        "axs[1].imshow(einstein_bin, vmin=0, vmax=255, cmap='gray')\n",
        "axs[1].set_title(\"Image binarization\")\n",
        "axs[2].imshow(einstein_stretch, vmin=0, vmax=255, cmap='gray')\n",
        "axs[2].set_title(\"Contrast stretching\")\n",
        "axs[3].imshow(einstein_pow, vmin=0, vmax=255, cmap='gray')\n",
        "axs[3].set_title(\"Power-law transform\")\n",
        "\n",
        "for ax in fig.axes:\n",
        "    ax.set_xticks([])\n",
        "    ax.set_yticks([])\n",
        "\n",
        "plt.show()"
      ]
    }
  ],
  "metadata": {
    "kernelspec": {
      "display_name": "Python 3",
      "language": "python",
      "name": "python3"
    },
    "language_info": {
      "codemirror_mode": {
        "name": "ipython",
        "version": 3
      },
      "file_extension": ".py",
      "mimetype": "text/x-python",
      "name": "python",
      "nbconvert_exporter": "python",
      "pygments_lexer": "ipython3",
      "version": "3.12.3"
    },
    "author_name": "Amirhossein Heydari",
    "author_email": "AmirhosseinHeydari78@gmail.com",
    "author_github": "https://github.com/mr-pylin",
    "origin_repo": "https://github.com/mr-pylin/media-processing-workshop"
  },
  "nbformat": 4,
  "nbformat_minor": 2
}