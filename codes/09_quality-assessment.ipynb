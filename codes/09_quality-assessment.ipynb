{
  "cells": [
    {
      "cell_type": "markdown",
      "metadata": {},
      "source": [
        "# Dependencies"
      ]
    },
    {
      "cell_type": "code",
      "execution_count": 1,
      "metadata": {},
      "outputs": [],
      "source": [
        "import matplotlib.pyplot as plt\n",
        "import numpy as np\n",
        "from scipy.signal import convolve2d\n",
        "\n",
        "# local dependencies\n",
        "from utils.filters import gaussian\n",
        "from utils.quality_assessment import (\n",
        "    mse,\n",
        "    snr,\n",
        "    psnr,\n",
        "    ssim,\n",
        "    rmse,\n",
        "    mae,\n",
        "    mssim,\n",
        "    vif,\n",
        "    fsim,\n",
        "    ms_ssim\n",
        ")"
      ]
    },
    {
      "cell_type": "markdown",
      "metadata": {},
      "source": [
        "# Make a noisy image"
      ]
    },
    {
      "cell_type": "code",
      "execution_count": null,
      "metadata": {},
      "outputs": [],
      "source": [
        "# load an image\n",
        "cm = plt.imread('../assets/images/dip_3rd/CH02_Fig0222(b)(cameraman).tif')\n",
        "\n",
        "# create a guassian noise\n",
        "noise = np.random.normal(loc=0, scale=10, size=cm.shape)\n",
        "\n",
        "# add noise to the image\n",
        "noisy_image = (cm + noise).clip(0, 255).astype(np.uint8)\n",
        "\n",
        "# plot\n",
        "fig, axs = plt.subplots(nrows=1, ncols=3, figsize=(12, 4), layout='compressed')\n",
        "\n",
        "axs[0].imshow(cm, cmap='gray', vmin=0, vmax=255)\n",
        "axs[0].set_title('Original image')\n",
        "axs[1].imshow(noise, cmap='gray')\n",
        "axs[1].set_title('Gaussian noise')\n",
        "axs[2].imshow(noisy_image, cmap='gray', vmin=0, vmax=255)\n",
        "axs[2].set_title('Noisy image')\n",
        "\n",
        "for ax in fig.axes:\n",
        "    ax.axis('off')\n",
        "\n",
        "plt.show()"
      ]
    },
    {
      "cell_type": "markdown",
      "metadata": {},
      "source": [
        "# Denoise using different fitlers"
      ]
    },
    {
      "cell_type": "code",
      "execution_count": null,
      "metadata": {},
      "outputs": [],
      "source": [
        "mask_1 = (1 / 9) * np.ones(shape=(3, 3))\n",
        "mask_2 = gaussian(size=(3, 3), sigma=.75, norm=True)\n",
        "\n",
        "# plot\n",
        "fig, axs = plt.subplots(nrows=1, ncols=2, figsize=(8, 4), layout='compressed')\n",
        "\n",
        "ax1 = axs[0].imshow(mask_1, cmap='gray', vmin=0, vmax=mask_1.max())\n",
        "axs[0].set(title='mask_1', xticks=range(3), yticks=range(3))\n",
        "fig.colorbar(ax1, ax=axs[0], location='bottom', label=\"values\")\n",
        "ax2 = axs[1].imshow(mask_2, cmap='gray', vmin=mask_2.min(), vmax=mask_2.max())\n",
        "fig.colorbar(ax2, ax=axs[1], location='bottom', label=\"values\")\n",
        "axs[1].set(title='mask_2', xticks=range(3), yticks=range(3))\n",
        "\n",
        "\n",
        "plt.show()"
      ]
    },
    {
      "cell_type": "code",
      "execution_count": null,
      "metadata": {},
      "outputs": [],
      "source": [
        "denoised_1 = convolve2d(noisy_image, mask_1, mode='same', boundary='symmetric')\n",
        "denoised_2 = convolve2d(noisy_image, mask_2, mode='same', boundary='symmetric')\n",
        "\n",
        "# plot\n",
        "fig, axs = plt.subplots(nrows=1, ncols=3, figsize=(12, 4), layout='compressed')\n",
        "fig.suptitle(\"Which one has better quality?\")\n",
        "\n",
        "axs[0].imshow(cm, cmap='gray', vmin=0, vmax=255)\n",
        "axs[0].set_title('Original image')\n",
        "axs[1].imshow(denoised_1, cmap='gray', vmin=0, vmax=255)\n",
        "axs[1].set_title('denoised_1')\n",
        "axs[2].imshow(denoised_2, cmap='gray', vmin=0, vmax=255)\n",
        "axs[2].set_title('denoised_2')\n",
        "\n",
        "for ax in fig.axes:\n",
        "    ax.axis('off')\n",
        "\n",
        "plt.show()"
      ]
    },
    {
      "cell_type": "markdown",
      "metadata": {},
      "source": [
        "# Image quality assessment techniques\n",
        "   - Mean Squared Error (MSE)\n",
        "   - Signal-to-Noise Ratio (SNR)\n",
        "   - Peak Signal-to-Noise Ratio (PSNR)\n",
        "   - Structural Similarity Index (SSIM)\n",
        "   - Root Mean Square Error (RMSE)\n",
        "   - Mean Absolute Error (MAE)\n",
        "   - Mean Structural Similarity Index (MSSIM)\n",
        "   - Visual Information Fidelity (VIF)\n",
        "   - Feature Similarity Index (FSIM)\n",
        "   - Multi-Scale Structural Similarity Index (MS-SSIM)"
      ]
    },
    {
      "cell_type": "markdown",
      "metadata": {},
      "source": [
        "#"
      ]
    },
    {
      "cell_type": "markdown",
      "metadata": {},
      "source": [
        "## 1. Mean Squared Error (MSE)"
      ]
    },
    {
      "cell_type": "code",
      "execution_count": null,
      "metadata": {},
      "outputs": [],
      "source": [
        "mse_1 = mse(cm, denoised_1)\n",
        "mse_2 = mse(cm, denoised_2)\n",
        "\n",
        "# plot\n",
        "fig, axs = plt.subplots(nrows=1, ncols=3, figsize=(12, 4), layout='compressed')\n",
        "fig.suptitle(\"Mean Squared Error (MSE) : lower value is better\")\n",
        "\n",
        "axs[0].imshow(cm, cmap='gray', vmin=0, vmax=255)\n",
        "axs[0].set_title('Original image')\n",
        "axs[1].imshow(denoised_1, cmap='gray', vmin=0, vmax=255)\n",
        "axs[1].set_title(f\"denoised_1 [mse: {mse_1:.3f}]\")\n",
        "axs[2].imshow(denoised_2, cmap='gray', vmin=0, vmax=255)\n",
        "axs[2].set_title(f\"denoised_2 [mse: {mse_2:.3f}]\")\n",
        "\n",
        "for ax in fig.axes:\n",
        "    ax.axis('off')\n",
        "\n",
        "plt.show()"
      ]
    },
    {
      "cell_type": "markdown",
      "metadata": {},
      "source": [
        "## 2. Signal-to-Noise Ratio (SNR)"
      ]
    },
    {
      "cell_type": "code",
      "execution_count": null,
      "metadata": {},
      "outputs": [],
      "source": [
        "snr_1 = snr(cm, denoised_1)\n",
        "snr_2 = snr(cm, denoised_2)\n",
        "\n",
        "# plot\n",
        "fig, axs = plt.subplots(nrows=1, ncols=3, figsize=(12, 4), layout='compressed')\n",
        "fig.suptitle(\"Signal-to-Noise Ratio (SNR) : higher value is better\")\n",
        "\n",
        "axs[0].imshow(cm, cmap='gray', vmin=0, vmax=255)\n",
        "axs[0].set_title('Original image')\n",
        "axs[1].imshow(denoised_1, cmap='gray', vmin=0, vmax=255)\n",
        "axs[1].set_title(f\"denoised_1 [snr: {snr_1:.3f}]\")\n",
        "axs[2].imshow(denoised_2, cmap='gray', vmin=0, vmax=255)\n",
        "axs[2].set_title(f\"denoised_2 [snr: {snr_2:.3f}]\")\n",
        "\n",
        "for ax in fig.axes:\n",
        "    ax.axis('off')\n",
        "\n",
        "plt.show()"
      ]
    },
    {
      "cell_type": "markdown",
      "metadata": {},
      "source": [
        "## 3. Peak Signal-to-Noise Ratio (PSNR)"
      ]
    },
    {
      "cell_type": "code",
      "execution_count": null,
      "metadata": {},
      "outputs": [],
      "source": [
        "psnr_1 = psnr(cm, denoised_1)\n",
        "psnr_2 = psnr(cm, denoised_2)\n",
        "\n",
        "# plot\n",
        "fig, axs = plt.subplots(nrows=1, ncols=3, figsize=(12, 4), layout='compressed')\n",
        "fig.suptitle(\"Peak Signal-to-Noise Ratio (PSNR) : higher value is better\")\n",
        "\n",
        "axs[0].imshow(cm, cmap='gray', vmin=0, vmax=255)\n",
        "axs[0].set_title('Original image')\n",
        "axs[1].imshow(denoised_1, cmap='gray', vmin=0, vmax=255)\n",
        "axs[1].set_title(f\"denoised_1 [psnr: {psnr_1:.3f}]\")\n",
        "axs[2].imshow(denoised_2, cmap='gray', vmin=0, vmax=255)\n",
        "axs[2].set_title(f\"denoised_2 [psnr: {psnr_2:.3f}]\")\n",
        "\n",
        "for ax in fig.axes:\n",
        "    ax.axis('off')\n",
        "\n",
        "plt.show()"
      ]
    },
    {
      "cell_type": "markdown",
      "metadata": {},
      "source": [
        "## 4. Structural Similarity Index (SSIM)"
      ]
    },
    {
      "cell_type": "code",
      "execution_count": null,
      "metadata": {},
      "outputs": [],
      "source": [
        "ssim_1 = ssim(cm, denoised_1)\n",
        "ssim_2 = ssim(cm, denoised_2)\n",
        "\n",
        "# plot\n",
        "fig, axs = plt.subplots(nrows=1, ncols=3, figsize=(12, 4), layout='compressed')\n",
        "fig.suptitle(\"Structural Similarity Index (SSIM) : higher value is better\")\n",
        "\n",
        "axs[0].imshow(cm, cmap='gray', vmin=0, vmax=255)\n",
        "axs[0].set_title('Original image')\n",
        "axs[1].imshow(denoised_1, cmap='gray', vmin=0, vmax=255)\n",
        "axs[1].set_title(f\"denoised_1 [ssim: {ssim_1:.4f}]\")\n",
        "axs[2].imshow(denoised_2, cmap='gray', vmin=0, vmax=255)\n",
        "axs[2].set_title(f\"denoised_2 [ssim: {ssim_2:.4f}]\")\n",
        "\n",
        "for ax in fig.axes:\n",
        "    ax.axis('off')\n",
        "\n",
        "plt.show()"
      ]
    },
    {
      "cell_type": "markdown",
      "metadata": {},
      "source": [
        "## 5. Root Mean Square Error (RMSE)"
      ]
    },
    {
      "cell_type": "code",
      "execution_count": null,
      "metadata": {},
      "outputs": [],
      "source": [
        "rmse_1 = rmse(cm, denoised_1)\n",
        "rmse_2 = rmse(cm, denoised_2)\n",
        "\n",
        "# plot\n",
        "fig, axs = plt.subplots(nrows=1, ncols=3, figsize=(12, 4), layout='compressed')\n",
        "fig.suptitle(\"Root Mean Square Error (RMSE) : lower value is better\")\n",
        "\n",
        "axs[0].imshow(cm, cmap='gray', vmin=0, vmax=255)\n",
        "axs[0].set_title('Original image')\n",
        "axs[1].imshow(denoised_1, cmap='gray', vmin=0, vmax=255)\n",
        "axs[1].set_title(f\"denoised_1 [rmse: {rmse_1:.3f}]\")\n",
        "axs[2].imshow(denoised_2, cmap='gray', vmin=0, vmax=255)\n",
        "axs[2].set_title(f\"denoised_2 [rmse: {rmse_2:.3f}]\")\n",
        "\n",
        "for ax in fig.axes:\n",
        "    ax.axis('off')\n",
        "\n",
        "plt.show()"
      ]
    },
    {
      "cell_type": "markdown",
      "metadata": {},
      "source": [
        "## 6. Mean Absolute Error (MAE)"
      ]
    },
    {
      "cell_type": "code",
      "execution_count": null,
      "metadata": {},
      "outputs": [],
      "source": [
        "mae_1 = mae(cm, denoised_1)\n",
        "mae_2 = mae(cm, denoised_2)\n",
        "\n",
        "# plot\n",
        "fig, axs = plt.subplots(nrows=1, ncols=3, figsize=(12, 4), layout='compressed')\n",
        "fig.suptitle(\"Mean Absolute Error (MAE) : lower value is better\")\n",
        "\n",
        "axs[0].imshow(cm, cmap='gray', vmin=0, vmax=255)\n",
        "axs[0].set_title('Original image')\n",
        "axs[1].imshow(denoised_1, cmap='gray', vmin=0, vmax=255)\n",
        "axs[1].set_title(f\"denoised_1 [mae: {mae_1:.3f}]\")\n",
        "axs[2].imshow(denoised_2, cmap='gray', vmin=0, vmax=255)\n",
        "axs[2].set_title(f\"denoised_2 [mae: {mae_2:.3f}]\")\n",
        "\n",
        "for ax in fig.axes:\n",
        "    ax.axis('off')\n",
        "\n",
        "plt.show()"
      ]
    },
    {
      "cell_type": "markdown",
      "metadata": {},
      "source": [
        "## 7. Mean Structural Similarity Index (MSSIM)"
      ]
    },
    {
      "cell_type": "code",
      "execution_count": null,
      "metadata": {},
      "outputs": [],
      "source": [
        "mssim_1 = mssim(cm, denoised_1)\n",
        "mssim_2 = mssim(cm, denoised_2)\n",
        "\n",
        "# plot\n",
        "fig, axs = plt.subplots(nrows=1, ncols=3, figsize=(12, 4), layout='compressed')\n",
        "fig.suptitle(\"Mean Structural Similarity Index (MSSIM) : higher value is better\")\n",
        "\n",
        "axs[0].imshow(cm, cmap='gray', vmin=0, vmax=255)\n",
        "axs[0].set_title('Original image')\n",
        "axs[1].imshow(denoised_1, cmap='gray', vmin=0, vmax=255)\n",
        "axs[1].set_title(f\"denoised_1 [mssim: {mssim_1:.3f}]\")\n",
        "axs[2].imshow(denoised_2, cmap='gray', vmin=0, vmax=255)\n",
        "axs[2].set_title(f\"denoised_2 [mssim: {mssim_2:.3f}]\")\n",
        "\n",
        "for ax in fig.axes:\n",
        "    ax.axis('off')\n",
        "\n",
        "plt.show()"
      ]
    },
    {
      "cell_type": "markdown",
      "metadata": {},
      "source": [
        "## 8. Visual Information Fidelity (VIF)"
      ]
    },
    {
      "cell_type": "code",
      "execution_count": null,
      "metadata": {},
      "outputs": [],
      "source": [
        "vif_1 = vif(cm, denoised_1)\n",
        "vif_2 = vif(cm, denoised_2)\n",
        "\n",
        "# plot\n",
        "fig, axs = plt.subplots(nrows=1, ncols=3, figsize=(12, 4), layout='compressed')\n",
        "fig.suptitle(\"Visual Information Fidelity (VIF) : higher value is better\")\n",
        "\n",
        "axs[0].imshow(cm, cmap='gray', vmin=0, vmax=255)\n",
        "axs[0].set_title('Original image')\n",
        "axs[1].imshow(denoised_1, cmap='gray', vmin=0, vmax=255)\n",
        "axs[1].set_title(f\"denoised_1 [vif: {vif_1:.3f}]\")\n",
        "axs[2].imshow(denoised_2, cmap='gray', vmin=0, vmax=255)\n",
        "axs[2].set_title(f\"denoised_2 [vif: {vif_2:.3f}]\")\n",
        "\n",
        "for ax in fig.axes:\n",
        "    ax.axis('off')\n",
        "\n",
        "plt.show()"
      ]
    },
    {
      "cell_type": "markdown",
      "metadata": {},
      "source": [
        "## 9. Feature Similarity Index (FSIM)"
      ]
    },
    {
      "cell_type": "code",
      "execution_count": null,
      "metadata": {},
      "outputs": [],
      "source": [
        "fsim_1 = fsim(cm, denoised_1)\n",
        "fsim_2 = fsim(cm, denoised_2)\n",
        "\n",
        "# plot\n",
        "fig, axs = plt.subplots(nrows=1, ncols=3, figsize=(12, 4), layout='compressed')\n",
        "fig.suptitle(\"Feature Similarity Index (FSIM) : higher value is better\")\n",
        "\n",
        "axs[0].imshow(cm, cmap='gray', vmin=0, vmax=255)\n",
        "axs[0].set_title('Original image')\n",
        "axs[1].imshow(denoised_1, cmap='gray', vmin=0, vmax=255)\n",
        "axs[1].set_title(f\"denoised_1 [fsim: {fsim_1:.3f}]\")\n",
        "axs[2].imshow(denoised_2, cmap='gray', vmin=0, vmax=255)\n",
        "axs[2].set_title(f\"denoised_2 [fsim: {fsim_2:.3f}]\")\n",
        "\n",
        "for ax in fig.axes:\n",
        "    ax.axis('off')\n",
        "\n",
        "plt.show()"
      ]
    },
    {
      "cell_type": "markdown",
      "metadata": {},
      "source": [
        "## 10. Multi-Scale Structural Similarity Index (MS-SSIM)"
      ]
    },
    {
      "cell_type": "code",
      "execution_count": null,
      "metadata": {},
      "outputs": [],
      "source": [
        "ms_ssim_1 = ms_ssim(cm, denoised_1)\n",
        "ms_ssim_2 = ms_ssim(cm, denoised_2)\n",
        "\n",
        "# plot\n",
        "fig, axs = plt.subplots(nrows=1, ncols=3, figsize=(12, 4), layout='compressed')\n",
        "fig.suptitle(\"Multi-Scale Structural Similarity Index (MS-SSIM) : higher value is better\")\n",
        "\n",
        "axs[0].imshow(cm, cmap='gray', vmin=0, vmax=255)\n",
        "axs[0].set_title('Original image')\n",
        "axs[1].imshow(denoised_1, cmap='gray', vmin=0, vmax=255)\n",
        "axs[1].set_title(f\"denoised_1 [ms_ssim: {ms_ssim_1:.8f}]\")\n",
        "axs[2].imshow(denoised_2, cmap='gray', vmin=0, vmax=255)\n",
        "axs[2].set_title(f\"denoised_2 [ms_ssim: {ms_ssim_2:.8f}]\")\n",
        "\n",
        "for ax in fig.axes:\n",
        "    ax.axis('off')\n",
        "\n",
        "plt.show()"
      ]
    }
  ],
  "metadata": {
    "kernelspec": {
      "display_name": "Python 3",
      "language": "python",
      "name": "python3"
    },
    "language_info": {
      "codemirror_mode": {
        "name": "ipython",
        "version": 3
      },
      "file_extension": ".py",
      "mimetype": "text/x-python",
      "name": "python",
      "nbconvert_exporter": "python",
      "pygments_lexer": "ipython3",
      "version": "3.12.3"
    },
    "author_name": "Amirhossein Heydari",
    "author_email": "AmirhosseinHeydari78@gmail.com",
    "author_github": "https://github.com/mr-pylin",
    "origin_repo": "https://github.com/mr-pylin/media-processing-workshop"
  },
  "nbformat": 4,
  "nbformat_minor": 2
}