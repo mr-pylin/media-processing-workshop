{
  "cells": [
    {
      "cell_type": "markdown",
      "metadata": {},
      "source": [
        "# Dependencies"
      ]
    },
    {
      "cell_type": "code",
      "execution_count": 1,
      "metadata": {},
      "outputs": [],
      "source": [
        "import matplotlib.pyplot as plt\n",
        "import numpy as np\n",
        "from matplotlib.gridspec import GridSpec\n",
        "from PIL import Image\n",
        "\n",
        "# local dependencies\n",
        "from utils.spatial_modification import (\n",
        "    bilinear_interpolation,\n",
        "    nearest_neighbor_interpolation,\n",
        "    fourier_transform_interpolation\n",
        ")"
      ]
    },
    {
      "cell_type": "markdown",
      "metadata": {},
      "source": [
        "# Load Images"
      ]
    },
    {
      "cell_type": "code",
      "execution_count": 2,
      "metadata": {},
      "outputs": [],
      "source": [
        "image_1 = plt.imread('../assets/images/dip_3rd/CH02_Fig0222(b)(cameraman).tif')\n",
        "image_2 = plt.imread('../assets/images/dip_3rd/CH06_Fig0638(a)(lenna_RGB).tif')\n",
        "\n",
        "# convert <np.ndarray> to <PIL.Image.Image>\n",
        "image_1_pil = Image.fromarray(image_1)\n",
        "image_2_pil = Image.fromarray(image_2)"
      ]
    },
    {
      "cell_type": "code",
      "execution_count": null,
      "metadata": {},
      "outputs": [],
      "source": [
        "# plot\n",
        "fig, axs = plt.subplots(nrows=1, ncols=2, figsize=(6, 3), layout='compressed')\n",
        "axs[0].imshow(image_1, cmap='gray')\n",
        "axs[0].set_title('cameraman')\n",
        "axs[1].imshow(image_2)\n",
        "axs[1].set_title('lenna')\n",
        "for ax in fig.axes:\n",
        "    ax.set_xticks([])\n",
        "    ax.set_yticks([])\n",
        "plt.show()"
      ]
    },
    {
      "cell_type": "markdown",
      "metadata": {},
      "source": [
        "# Image Interpolation\n",
        "It refers to the \u201cguess\u201d of intensity values at missing locations When resizing an image [Mostly in Down Scaling]\n",
        "\n",
        "| Interpolation Method | Downscaling Quality | Upscaling Quality | Performance   |\n",
        "| -------------------- | ------------------- | ----------------- | ------------- |\n",
        "| Nearest Neighbor     |                     |                   | \u2b50\u2b50\u2b50\u2b50\u2b50 |\n",
        "| Box                  | \u2b50                 |                   | \u2b50\u2b50\u2b50\u2b50    |\n",
        "| Bilinear             | \u2b50                 | \u2b50                | \u2b50\u2b50\u2b50      |\n",
        "| Hamming              | \u2b50\u2b50               |                   | \u2b50\u2b50\u2b50      |\n",
        "| Bicubic              | \u2b50\u2b50\u2b50            | \u2b50\u2b50\u2b50           | \u2b50\u2b50        |\n",
        "| Lanczos              | \u2b50\u2b50\u2b50\u2b50          | \u2b50\u2b50\u2b50\u2b50        | \u2b50           |\n",
        "| Fourier Transform    | \u2b50\u2b50\u2b50\u2b50          | \u2b50\u2b50\u2b50\u2b50        | \u2b50           |\n",
        "\n",
        "Reference [except Fouriet Transform]: [pillow.readthedocs.io/en/stable/handbook/concepts.html#filters-comparison-table](https://pillow.readthedocs.io/en/stable/handbook/concepts.html#filters-comparison-table)"
      ]
    },
    {
      "cell_type": "markdown",
      "metadata": {},
      "source": [
        "## Nearest Neighbor Interpolation"
      ]
    },
    {
      "cell_type": "markdown",
      "metadata": {},
      "source": [
        "### From Scratch"
      ]
    },
    {
      "cell_type": "code",
      "execution_count": 4,
      "metadata": {},
      "outputs": [],
      "source": [
        "im1_nni_1 = nearest_neighbor_interpolation(image_1, new_height=128, new_width=128)\n",
        "im1_nni_2 = nearest_neighbor_interpolation(image_1, new_height=32 , new_width=32)\n",
        "im1_nni_3 = nearest_neighbor_interpolation(image_1, new_height=555, new_width=555)\n",
        "im1_nni_4 = nearest_neighbor_interpolation(image_1, new_height=256, new_width=128)\n",
        "im1_nni_5 = nearest_neighbor_interpolation(image_1, new_height=128, new_width=256)\n",
        "im1_nni_6 = nearest_neighbor_interpolation(image_1, new_height=64 , new_width=512)"
      ]
    },
    {
      "cell_type": "code",
      "execution_count": null,
      "metadata": {},
      "outputs": [],
      "source": [
        "# plot\n",
        "fig = plt.figure(figsize=(16, 8), layout='compressed')\n",
        "fig.suptitle(\"Nearest Neighbor Interpolation\")\n",
        "gs = GridSpec(nrows=2, ncols=4, figure=fig)\n",
        "\n",
        "ax1 = fig.add_subplot(gs[:, 0])\n",
        "ax2 = fig.add_subplot(gs[0, 1])\n",
        "ax3 = fig.add_subplot(gs[0, 2])\n",
        "ax4 = fig.add_subplot(gs[0, 3])\n",
        "ax5 = fig.add_subplot(gs[1, 1])\n",
        "ax6 = fig.add_subplot(gs[1, 2])\n",
        "ax7 = fig.add_subplot(gs[1, 3])\n",
        "\n",
        "ax1.imshow(image_1, cmap='gray', vmin=0, vmax=255)\n",
        "ax1.set_title(f\"Original {image_1.shape}\")\n",
        "ax2.imshow(im1_nni_1, cmap='gray', vmin=0, vmax=255)\n",
        "ax2.set_title(f\"{im1_nni_1.shape} [down scaled]\")\n",
        "ax3.imshow(im1_nni_2, cmap='gray', vmin=0, vmax=255)\n",
        "ax3.set_title(f\"{im1_nni_2.shape} [down scaled]\")\n",
        "ax4.imshow(im1_nni_3, cmap='gray', vmin=0, vmax=255)\n",
        "ax4.set_title(f\"{im1_nni_3.shape} [up Scaled]\")\n",
        "ax5.imshow(im1_nni_4, cmap='gray', vmin=0, vmax=255)\n",
        "ax5.set_title(f\"{im1_nni_4.shape}\")\n",
        "ax6.imshow(im1_nni_5, cmap='gray', vmin=0, vmax=255)\n",
        "ax6.set_title(f\"{im1_nni_5.shape}\")\n",
        "ax7.imshow(im1_nni_6, cmap='gray', vmin=0, vmax=255)\n",
        "ax7.set_title(f\"{im1_nni_6.shape}\")\n",
        "\n",
        "plt.show()"
      ]
    },
    {
      "cell_type": "markdown",
      "metadata": {},
      "source": [
        "### Using Pillow Package"
      ]
    },
    {
      "cell_type": "code",
      "execution_count": 6,
      "metadata": {},
      "outputs": [],
      "source": [
        "im2_nni_1 = image_2_pil.resize(size=(128, 128), resample=Image.Resampling.NEAREST)\n",
        "im2_nni_2 = image_2_pil.resize(size=(32,  32) , resample=Image.Resampling.NEAREST)\n",
        "im2_nni_3 = image_2_pil.resize(size=(555, 555), resample=Image.Resampling.NEAREST)\n",
        "im2_nni_4 = image_2_pil.resize(size=(256, 128), resample=Image.Resampling.NEAREST)\n",
        "im2_nni_5 = image_2_pil.resize(size=(128, 256), resample=Image.Resampling.NEAREST)\n",
        "im2_nni_6 = image_2_pil.resize(size=(64, 512) , resample=Image.Resampling.NEAREST)"
      ]
    },
    {
      "cell_type": "code",
      "execution_count": null,
      "metadata": {},
      "outputs": [],
      "source": [
        "# plot\n",
        "fig = plt.figure(figsize=(16, 8), layout='compressed')\n",
        "fig.suptitle(\"Nearest Neighbor Interpolation\")\n",
        "gs = GridSpec(nrows=2, ncols=4, figure=fig)\n",
        "\n",
        "ax1 = fig.add_subplot(gs[:, 0])\n",
        "ax2 = fig.add_subplot(gs[0, 1])\n",
        "ax3 = fig.add_subplot(gs[0, 2])\n",
        "ax4 = fig.add_subplot(gs[0, 3])\n",
        "ax5 = fig.add_subplot(gs[1, 1])\n",
        "ax6 = fig.add_subplot(gs[1, 2])\n",
        "ax7 = fig.add_subplot(gs[1, 3])\n",
        "\n",
        "ax1.imshow(image_2, cmap='gray', vmin=0, vmax=255)\n",
        "ax1.set_title(f\"Original {image_2.shape}\")\n",
        "ax2.imshow(im2_nni_1, vmin=0, vmax=255)\n",
        "ax2.set_title(f\"{im2_nni_1.size} [down scaled]\")\n",
        "ax3.imshow(im2_nni_2, vmin=0, vmax=255)\n",
        "ax3.set_title(f\"{im2_nni_2.size} [down scaled]\")\n",
        "ax4.imshow(im2_nni_3, vmin=0, vmax=255)\n",
        "ax4.set_title(f\"{im2_nni_3.size} [up Scaled]\")\n",
        "ax5.imshow(im2_nni_4, vmin=0, vmax=255)\n",
        "ax5.set_title(f\"{im2_nni_4.size}\")\n",
        "ax6.imshow(im2_nni_5, vmin=0, vmax=255)\n",
        "ax6.set_title(f\"{im2_nni_5.size}\")\n",
        "ax7.imshow(im2_nni_6, vmin=0, vmax=255)\n",
        "ax7.set_title(f\"{im2_nni_6.size}\")\n",
        "\n",
        "plt.show()"
      ]
    },
    {
      "cell_type": "markdown",
      "metadata": {},
      "source": [
        "## Bilinear Interpolation"
      ]
    },
    {
      "cell_type": "markdown",
      "metadata": {},
      "source": [
        "### From Scratch"
      ]
    },
    {
      "cell_type": "code",
      "execution_count": 8,
      "metadata": {},
      "outputs": [],
      "source": [
        "im1_bli_1 = bilinear_interpolation(image_1, new_height=128, new_width=128)\n",
        "im1_bli_2 = bilinear_interpolation(image_1, new_height=32 , new_width=32)\n",
        "im1_bli_3 = bilinear_interpolation(image_1, new_height=555, new_width=555)\n",
        "im1_bli_4 = bilinear_interpolation(image_1, new_height=256, new_width=128)\n",
        "im1_bli_5 = bilinear_interpolation(image_1, new_height=128, new_width=256)\n",
        "im1_bli_6 = bilinear_interpolation(image_1, new_height=64 , new_width=512)"
      ]
    },
    {
      "cell_type": "code",
      "execution_count": null,
      "metadata": {},
      "outputs": [],
      "source": [
        "# plot\n",
        "fig = plt.figure(figsize=(16, 8), layout='compressed')\n",
        "fig.suptitle(\"Bilinear Interpolation\")\n",
        "gs = GridSpec(nrows=2, ncols=4, figure=fig)\n",
        "\n",
        "ax1 = fig.add_subplot(gs[:, 0])\n",
        "ax2 = fig.add_subplot(gs[0, 1])\n",
        "ax3 = fig.add_subplot(gs[0, 2])\n",
        "ax4 = fig.add_subplot(gs[0, 3])\n",
        "ax5 = fig.add_subplot(gs[1, 1])\n",
        "ax6 = fig.add_subplot(gs[1, 2])\n",
        "ax7 = fig.add_subplot(gs[1, 3])\n",
        "\n",
        "ax1.imshow(image_1, cmap='gray', vmin=0, vmax=255)\n",
        "ax1.set_title(f\"Original {image_1.shape}\")\n",
        "ax2.imshow(im1_bli_1, cmap='gray', vmin=0, vmax=255)\n",
        "ax2.set_title(f\"{im1_bli_1.shape} [down scaled]\")\n",
        "ax3.imshow(im1_bli_2, cmap='gray', vmin=0, vmax=255)\n",
        "ax3.set_title(f\"{im1_bli_2.shape} [down scaled]\")\n",
        "ax4.imshow(im1_bli_3, cmap='gray', vmin=0, vmax=255)\n",
        "ax4.set_title(f\"{im1_bli_3.shape} [up Scaled]\")\n",
        "ax5.imshow(im1_bli_4, cmap='gray', vmin=0, vmax=255)\n",
        "ax5.set_title(f\"{im1_bli_4.shape}\")\n",
        "ax6.imshow(im1_bli_5, cmap='gray', vmin=0, vmax=255)\n",
        "ax6.set_title(f\"{im1_bli_5.shape}\")\n",
        "ax7.imshow(im1_bli_6, cmap='gray', vmin=0, vmax=255)\n",
        "ax7.set_title(f\"{im1_bli_6.shape}\")\n",
        "\n",
        "plt.show()"
      ]
    },
    {
      "cell_type": "markdown",
      "metadata": {},
      "source": [
        "### Using Pillow Package"
      ]
    },
    {
      "cell_type": "code",
      "execution_count": 10,
      "metadata": {},
      "outputs": [],
      "source": [
        "im2_bli_1 = image_2_pil.resize(size=(128, 128), resample=Image.Resampling.BILINEAR)\n",
        "im2_bli_2 = image_2_pil.resize(size=(32,  32) , resample=Image.Resampling.BILINEAR)\n",
        "im2_bli_3 = image_2_pil.resize(size=(555, 555), resample=Image.Resampling.BILINEAR)\n",
        "im2_bli_4 = image_2_pil.resize(size=(256, 128), resample=Image.Resampling.BILINEAR)\n",
        "im2_bli_5 = image_2_pil.resize(size=(128, 256), resample=Image.Resampling.BILINEAR)\n",
        "im2_bli_6 = image_2_pil.resize(size=(64, 512) , resample=Image.Resampling.BILINEAR)"
      ]
    },
    {
      "cell_type": "code",
      "execution_count": null,
      "metadata": {},
      "outputs": [],
      "source": [
        "# plot\n",
        "fig = plt.figure(figsize=(16, 8), layout='compressed')\n",
        "fig.suptitle(\"Bilinear Interpolation\")\n",
        "gs = GridSpec(nrows=2, ncols=4, figure=fig)\n",
        "\n",
        "ax1 = fig.add_subplot(gs[:, 0])\n",
        "ax2 = fig.add_subplot(gs[0, 1])\n",
        "ax3 = fig.add_subplot(gs[0, 2])\n",
        "ax4 = fig.add_subplot(gs[0, 3])\n",
        "ax5 = fig.add_subplot(gs[1, 1])\n",
        "ax6 = fig.add_subplot(gs[1, 2])\n",
        "ax7 = fig.add_subplot(gs[1, 3])\n",
        "\n",
        "ax1.imshow(image_2, cmap='gray', vmin=0, vmax=255)\n",
        "ax1.set_title(f\"Original {image_2.shape}\")\n",
        "ax2.imshow(im2_bli_1, vmin=0, vmax=255)\n",
        "ax2.set_title(f\"{im2_bli_1.size} [down scaled]\")\n",
        "ax3.imshow(im2_bli_2, vmin=0, vmax=255)\n",
        "ax3.set_title(f\"{im2_bli_2.size} [down scaled]\")\n",
        "ax4.imshow(im2_bli_3, vmin=0, vmax=255)\n",
        "ax4.set_title(f\"{im2_bli_3.size} [up Scaled]\")\n",
        "ax5.imshow(im2_bli_4, vmin=0, vmax=255)\n",
        "ax5.set_title(f\"{im2_bli_4.size}\")\n",
        "ax6.imshow(im2_bli_5, vmin=0, vmax=255)\n",
        "ax6.set_title(f\"{im2_bli_5.size}\")\n",
        "ax7.imshow(im2_bli_6, vmin=0, vmax=255)\n",
        "ax7.set_title(f\"{im2_bli_6.size}\")\n",
        "\n",
        "plt.show()"
      ]
    },
    {
      "cell_type": "markdown",
      "metadata": {},
      "source": [
        "## Fourier Transform Interpolation"
      ]
    },
    {
      "cell_type": "code",
      "execution_count": 12,
      "metadata": {},
      "outputs": [],
      "source": [
        "im1_fti_1 = fourier_transform_interpolation(image_1, new_height=128, new_width=128)\n",
        "im1_fti_2 = fourier_transform_interpolation(image_1, new_height=32 , new_width=32)\n",
        "im1_fti_3 = fourier_transform_interpolation(image_1, new_height=555, new_width=555)\n",
        "im1_fti_4 = fourier_transform_interpolation(image_1, new_height=256, new_width=128)\n",
        "im1_fti_5 = fourier_transform_interpolation(image_1, new_height=128, new_width=256)\n",
        "im1_fti_6 = fourier_transform_interpolation(image_1, new_height=64 , new_width=512)"
      ]
    },
    {
      "cell_type": "code",
      "execution_count": null,
      "metadata": {},
      "outputs": [],
      "source": [
        "# plot\n",
        "fig = plt.figure(figsize=(16, 8), layout='compressed')\n",
        "fig.suptitle(\"Bilinear Interpolation\")\n",
        "gs = GridSpec(nrows=2, ncols=4, figure=fig)\n",
        "\n",
        "ax1 = fig.add_subplot(gs[:, 0])\n",
        "ax2 = fig.add_subplot(gs[0, 1])\n",
        "ax3 = fig.add_subplot(gs[0, 2])\n",
        "ax4 = fig.add_subplot(gs[0, 3])\n",
        "ax5 = fig.add_subplot(gs[1, 1])\n",
        "ax6 = fig.add_subplot(gs[1, 2])\n",
        "ax7 = fig.add_subplot(gs[1, 3])\n",
        "\n",
        "ax1.imshow(image_1, cmap='gray', vmin=0, vmax=255)\n",
        "ax1.set_title(f\"Original {image_1.shape}\")\n",
        "ax2.imshow(im1_fti_1, cmap='gray', vmin=0, vmax=255)\n",
        "ax2.set_title(f\"{im1_fti_1.shape} [down scaled]\")\n",
        "ax3.imshow(im1_fti_2, cmap='gray', vmin=0, vmax=255)\n",
        "ax3.set_title(f\"{im1_fti_2.shape} [down scaled]\")\n",
        "ax4.imshow(im1_fti_3, cmap='gray', vmin=0, vmax=255)\n",
        "ax4.set_title(f\"{im1_fti_3.shape} [up Scaled]\")\n",
        "ax5.imshow(im1_fti_4, cmap='gray', vmin=0, vmax=255)\n",
        "ax5.set_title(f\"{im1_fti_4.shape}\")\n",
        "ax6.imshow(im1_fti_5, cmap='gray', vmin=0, vmax=255)\n",
        "ax6.set_title(f\"{im1_fti_5.shape}\")\n",
        "ax7.imshow(im1_fti_6, cmap='gray', vmin=0, vmax=255)\n",
        "ax7.set_title(f\"{im1_fti_6.shape}\")\n",
        "\n",
        "plt.show()"
      ]
    },
    {
      "cell_type": "markdown",
      "metadata": {},
      "source": [
        "## Interpolations Comparison"
      ]
    },
    {
      "cell_type": "code",
      "execution_count": 14,
      "metadata": {},
      "outputs": [],
      "source": [
        "# convert <np.ndarray> to <PIL.Image.Image>\n",
        "im1_pil_1 = Image.fromarray(image_1)\n",
        "im1_pil_2 = Image.fromarray(image_1[40:90, 100:150])"
      ]
    },
    {
      "cell_type": "code",
      "execution_count": null,
      "metadata": {},
      "outputs": [],
      "source": [
        "# several interpolations [down scale]\n",
        "im1_nni_downscale = im1_pil_1.resize((100, 100), Image.Resampling.NEAREST)\n",
        "im1_bli_downscale = im1_pil_1.resize((100, 100), Image.Resampling.BILINEAR)\n",
        "im1_bci_downscale = im1_pil_1.resize((100, 100), Image.Resampling.BICUBIC)\n",
        "im1_li_downscale  = im1_pil_1.resize((100, 100), Image.Resampling.LANCZOS)\n",
        "\n",
        "# plot\n",
        "fig = plt.figure(figsize=(16, 8), layout='compressed')\n",
        "fig.suptitle('Down Scale Comparison')\n",
        "gs = GridSpec(nrows=2, ncols=4, figure=fig)\n",
        "\n",
        "ax1 = fig.add_subplot(gs[:, 0])\n",
        "ax2 = fig.add_subplot(gs[0, 1])\n",
        "ax3 = fig.add_subplot(gs[0, 2])\n",
        "ax4 = fig.add_subplot(gs[1, 1])\n",
        "ax5 = fig.add_subplot(gs[1, 2])\n",
        "\n",
        "ax1.imshow(im1_pil_1, cmap='gray', vmin=0, vmax=255)\n",
        "ax1.set_title('Original')\n",
        "ax2.imshow(im1_nni_downscale, cmap='gray', vmin=0, vmax=255)\n",
        "ax2.set_title('nearest')\n",
        "ax3.imshow(im1_bli_downscale, cmap='gray', vmin=0, vmax=255)\n",
        "ax3.set_title('bilinear')\n",
        "ax4.imshow(im1_bci_downscale, cmap='gray', vmin=0, vmax=255)\n",
        "ax4.set_title('bicubic')\n",
        "ax5.imshow(im1_li_downscale, cmap='gray', vmin=0, vmax=255)\n",
        "ax5.set_title('lanczos')\n",
        "\n",
        "plt.show()"
      ]
    },
    {
      "cell_type": "code",
      "execution_count": null,
      "metadata": {},
      "outputs": [],
      "source": [
        "# several interpolations [up scale]\n",
        "im1_nni_upscale = im1_pil_2.resize((256, 256), Image.Resampling.NEAREST)\n",
        "im1_bli_upscale = im1_pil_2.resize((256, 256), Image.Resampling.BILINEAR)\n",
        "im1_bci_upscale = im1_pil_2.resize((256, 256), Image.Resampling.BICUBIC)\n",
        "im1_li_upscale  = im1_pil_2.resize((256, 256), Image.Resampling.LANCZOS)\n",
        "\n",
        "# plot\n",
        "fig = plt.figure(figsize=(16, 8), layout='compressed')\n",
        "fig.suptitle('Up Scale Comparison')\n",
        "gs = GridSpec(nrows=2, ncols=4, figure=fig)\n",
        "\n",
        "ax1 = fig.add_subplot(gs[:, 0])\n",
        "ax2 = fig.add_subplot(gs[0, 1])\n",
        "ax3 = fig.add_subplot(gs[0, 2])\n",
        "ax4 = fig.add_subplot(gs[1, 1])\n",
        "ax5 = fig.add_subplot(gs[1, 2])\n",
        "\n",
        "ax1.imshow(im1_pil_2, cmap='gray', vmin=0, vmax=255)\n",
        "ax1.set_title('Original')\n",
        "ax2.imshow(im1_nni_upscale, cmap='gray', vmin=0, vmax=255)\n",
        "ax2.set_title('nearest')\n",
        "ax3.imshow(im1_bli_upscale, cmap='gray', vmin=0, vmax=255)\n",
        "ax3.set_title('bilinear')\n",
        "ax4.imshow(im1_bci_upscale, cmap='gray', vmin=0, vmax=255)\n",
        "ax4.set_title('bicubic')\n",
        "ax5.imshow(im1_li_upscale, cmap='gray', vmin=0, vmax=255)\n",
        "ax5.set_title('lanczos')\n",
        "\n",
        "plt.show()"
      ]
    }
  ],
  "metadata": {
    "kernelspec": {
      "display_name": "Python 3",
      "language": "python",
      "name": "python3"
    },
    "language_info": {
      "codemirror_mode": {
        "name": "ipython",
        "version": 3
      },
      "file_extension": ".py",
      "mimetype": "text/x-python",
      "name": "python",
      "nbconvert_exporter": "python",
      "pygments_lexer": "ipython3",
      "version": "3.12.3"
    },
    "author_name": "Amirhossein Heydari",
    "author_email": "AmirhosseinHeydari78@gmail.com",
    "author_github": "https://github.com/mr-pylin",
    "origin_repo": "https://github.com/mr-pylin/media-processing-workshop"
  },
  "nbformat": 4,
  "nbformat_minor": 2
}