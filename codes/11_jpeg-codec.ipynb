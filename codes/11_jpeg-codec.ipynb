{
  "cells": [
    {
      "cell_type": "markdown",
      "metadata": {},
      "source": [
        "# Dependencies"
      ]
    },
    {
      "cell_type": "code",
      "execution_count": 11,
      "metadata": {},
      "outputs": [],
      "source": [
        "import matplotlib.pyplot as plt\n",
        "\n",
        "# local dependencies\n",
        "from utils.jpeg import JPEG\n",
        "from utils.quality_assessment import mse"
      ]
    },
    {
      "cell_type": "markdown",
      "metadata": {},
      "source": [
        "# Load Images"
      ]
    },
    {
      "cell_type": "code",
      "execution_count": 13,
      "metadata": {},
      "outputs": [],
      "source": [
        "cm = plt.imread(fname='../assets/images/dip_3rd/CH02_Fig0222(b)(cameraman).tif')\n",
        "lenna = plt.imread(fname='../assets/images/dip_3rd/CH06_Fig0638(a)(lenna_RGB).tif')"
      ]
    },
    {
      "cell_type": "code",
      "execution_count": null,
      "metadata": {},
      "outputs": [],
      "source": [
        "# plot\n",
        "fig, axs = plt.subplots(nrows=1, ncols=2, figsize=(8, 4), layout='compressed')\n",
        "\n",
        "axs[0].imshow(cm, cmap='gray')\n",
        "axs[0].set_title('cameraman')\n",
        "axs[0].axis('off')\n",
        "axs[1].imshow(lenna)\n",
        "axs[1].set_title('lenna')\n",
        "axs[1].axis('off')\n",
        "\n",
        "plt.show()"
      ]
    },
    {
      "cell_type": "markdown",
      "metadata": {},
      "source": [
        "# Joint Photographic Experts Group (JPEG)"
      ]
    },
    {
      "cell_type": "markdown",
      "metadata": {},
      "source": [
        "### Example: cameraman"
      ]
    },
    {
      "cell_type": "code",
      "execution_count": 15,
      "metadata": {},
      "outputs": [],
      "source": [
        "jpeg_1 = JPEG(image=cm, scale=1)  # the highest quality\n",
        "jpeg_2 = JPEG(image=cm, scale=8)\n",
        "jpeg_3 = JPEG(image=cm, scale=32)"
      ]
    },
    {
      "cell_type": "code",
      "execution_count": 16,
      "metadata": {},
      "outputs": [],
      "source": [
        "dc_1, ac_1 = jpeg_1.encode()\n",
        "dc_2, ac_2 = jpeg_2.encode()\n",
        "dc_3, ac_3 = jpeg_3.encode()"
      ]
    },
    {
      "cell_type": "code",
      "execution_count": 17,
      "metadata": {},
      "outputs": [],
      "source": [
        "reconstructed_cm_1 = jpeg_1.decode(dc_1, ac_1)\n",
        "reconstructed_cm_2 = jpeg_2.decode(dc_2, ac_2)\n",
        "reconstructed_cm_3 = jpeg_3.decode(dc_3, ac_3)"
      ]
    },
    {
      "cell_type": "code",
      "execution_count": null,
      "metadata": {},
      "outputs": [],
      "source": [
        "# plot\n",
        "fig, axs = plt.subplots(nrows=1, ncols=4, figsize=(16, 4), layout='compressed')\n",
        "\n",
        "axs[0].imshow(cm, cmap='gray')\n",
        "axs[0].set_title('original')\n",
        "axs[0].axis('off')\n",
        "axs[1].imshow(reconstructed_cm_1, cmap='gray')\n",
        "axs[1].set_title(f\"scale: {1}, mse: {mse(cm, reconstructed_cm_1):.3f}\")\n",
        "axs[1].axis('off')\n",
        "axs[2].imshow(reconstructed_cm_2, cmap='gray')\n",
        "axs[2].set_title(f\"scale: {8}, mse: {mse(cm, reconstructed_cm_2):.3f}\")\n",
        "axs[2].axis('off')\n",
        "axs[3].imshow(reconstructed_cm_3, cmap='gray')\n",
        "axs[3].set_title(f\"scale: {32}, mse: {mse(cm, reconstructed_cm_3):.3f}\")\n",
        "axs[3].axis('off')\n",
        "\n",
        "plt.show()"
      ]
    },
    {
      "cell_type": "markdown",
      "metadata": {},
      "source": [
        "### Example: lenna"
      ]
    },
    {
      "cell_type": "code",
      "execution_count": 19,
      "metadata": {},
      "outputs": [],
      "source": [
        "jpeg_1 = JPEG(image=lenna, scale=1)  # the highest quality\n",
        "jpeg_2 = JPEG(image=lenna, scale=16)\n",
        "jpeg_3 = JPEG(image=lenna, scale=64)"
      ]
    },
    {
      "cell_type": "code",
      "execution_count": 20,
      "metadata": {},
      "outputs": [],
      "source": [
        "dc_1, ac_1 = jpeg_1.encode()\n",
        "dc_2, ac_2 = jpeg_2.encode()\n",
        "dc_3, ac_3 = jpeg_3.encode()"
      ]
    },
    {
      "cell_type": "code",
      "execution_count": 21,
      "metadata": {},
      "outputs": [],
      "source": [
        "reconstructed_lenna_1 = jpeg_1.decode(dc_1, ac_1)\n",
        "reconstructed_lenna_2 = jpeg_2.decode(dc_2, ac_2)\n",
        "reconstructed_lenna_3 = jpeg_3.decode(dc_3, ac_3)"
      ]
    },
    {
      "cell_type": "code",
      "execution_count": null,
      "metadata": {},
      "outputs": [],
      "source": [
        "# plot\n",
        "fig, axs = plt.subplots(nrows=1, ncols=4, figsize=(16, 4), layout='compressed')\n",
        "\n",
        "axs[0].imshow(lenna)\n",
        "axs[0].set_title('original')\n",
        "axs[0].axis('off')\n",
        "axs[1].imshow(reconstructed_lenna_1)\n",
        "axs[1].set_title(f\"scale: {1}, mse: {mse(lenna, reconstructed_lenna_1):.3f}\")\n",
        "axs[1].axis('off')\n",
        "axs[2].imshow(reconstructed_lenna_2)\n",
        "axs[2].set_title(f\"scale: {1}, mse: {mse(lenna, reconstructed_lenna_2):.3f}\")\n",
        "axs[2].axis('off')\n",
        "axs[3].imshow(reconstructed_lenna_3)\n",
        "axs[3].set_title(f\"scale: {1}, mse: {mse(lenna, reconstructed_lenna_3):.3f}\")\n",
        "axs[3].axis('off')\n",
        "\n",
        "plt.show()"
      ]
    }
  ],
  "metadata": {
    "kernelspec": {
      "display_name": "Python 3",
      "language": "python",
      "name": "python3"
    },
    "language_info": {
      "codemirror_mode": {
        "name": "ipython",
        "version": 3
      },
      "file_extension": ".py",
      "mimetype": "text/x-python",
      "name": "python",
      "nbconvert_exporter": "python",
      "pygments_lexer": "ipython3",
      "version": "3.12.3"
    },
    "author_name": "Amirhossein Heydari",
    "author_email": "AmirhosseinHeydari78@gmail.com",
    "author_github": "https://github.com/mr-pylin",
    "origin_repo": "https://github.com/mr-pylin/media-processing-workshop"
  },
  "nbformat": 4,
  "nbformat_minor": 2
}